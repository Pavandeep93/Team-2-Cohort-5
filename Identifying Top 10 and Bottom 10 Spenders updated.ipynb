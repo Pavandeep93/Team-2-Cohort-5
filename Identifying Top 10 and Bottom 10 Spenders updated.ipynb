{
 "cells": [
  {
   "cell_type": "code",
   "execution_count": 2,
   "metadata": {},
   "outputs": [
    {
     "data": {
      "application/vnd.plotly.v1+json": {
       "config": {
        "plotlyServerURL": "https://plot.ly"
       },
       "data": [
        {
         "alignmentgroup": "True",
         "hovertemplate": "<b>%{y}</b><br>Spend: %{x:.2f} USD",
         "legendgroup": "",
         "marker": {
          "color": [
           730.0734285714285,
           669.0481428571428,
           652.6310833333333,
           482.73155555555553,
           475.11949999999996,
           472.01797142857146,
           461.74899999999997,
           461.524652173913,
           461.3480625,
           451.1292222222222
          ],
          "coloraxis": "coloraxis",
          "pattern": {
           "shape": ""
          }
         },
         "name": "",
         "offsetgroup": "",
         "orientation": "h",
         "showlegend": false,
         "textposition": "auto",
         "type": "bar",
         "x": [
          730.0734285714285,
          669.0481428571428,
          652.6310833333333,
          482.73155555555553,
          475.11949999999996,
          472.01797142857146,
          461.74899999999997,
          461.524652173913,
          461.3480625,
          451.1292222222222
         ],
         "xaxis": "x",
         "y": [
          "USA",
          "MLT",
          "CHE",
          "FRA",
          "SVN",
          "ITA",
          "JPN",
          "SVK",
          "BGR",
          "LTU"
         ],
         "yaxis": "y"
        }
       ],
       "layout": {
        "barmode": "relative",
        "coloraxis": {
         "colorbar": {
          "title": {
           "text": "Average Spend Per Capita (USD)"
          }
         },
         "colorscale": [
          [
           0,
           "#1b3d1b"
          ],
          [
           0.25,
           "#2e6b2e"
          ],
          [
           0.5,
           "#4c8c4c"
          ],
          [
           0.75,
           "#6ea06e"
          ],
          [
           1,
           "#8fb88f"
          ]
         ]
        },
        "legend": {
         "tracegroupgap": 0
        },
        "template": {
         "data": {
          "bar": [
           {
            "error_x": {
             "color": "#2a3f5f"
            },
            "error_y": {
             "color": "#2a3f5f"
            },
            "marker": {
             "line": {
              "color": "#E5ECF6",
              "width": 0.5
             },
             "pattern": {
              "fillmode": "overlay",
              "size": 10,
              "solidity": 0.2
             }
            },
            "type": "bar"
           }
          ],
          "barpolar": [
           {
            "marker": {
             "line": {
              "color": "#E5ECF6",
              "width": 0.5
             },
             "pattern": {
              "fillmode": "overlay",
              "size": 10,
              "solidity": 0.2
             }
            },
            "type": "barpolar"
           }
          ],
          "carpet": [
           {
            "aaxis": {
             "endlinecolor": "#2a3f5f",
             "gridcolor": "white",
             "linecolor": "white",
             "minorgridcolor": "white",
             "startlinecolor": "#2a3f5f"
            },
            "baxis": {
             "endlinecolor": "#2a3f5f",
             "gridcolor": "white",
             "linecolor": "white",
             "minorgridcolor": "white",
             "startlinecolor": "#2a3f5f"
            },
            "type": "carpet"
           }
          ],
          "choropleth": [
           {
            "colorbar": {
             "outlinewidth": 0,
             "ticks": ""
            },
            "type": "choropleth"
           }
          ],
          "contour": [
           {
            "colorbar": {
             "outlinewidth": 0,
             "ticks": ""
            },
            "colorscale": [
             [
              0,
              "#0d0887"
             ],
             [
              0.1111111111111111,
              "#46039f"
             ],
             [
              0.2222222222222222,
              "#7201a8"
             ],
             [
              0.3333333333333333,
              "#9c179e"
             ],
             [
              0.4444444444444444,
              "#bd3786"
             ],
             [
              0.5555555555555556,
              "#d8576b"
             ],
             [
              0.6666666666666666,
              "#ed7953"
             ],
             [
              0.7777777777777778,
              "#fb9f3a"
             ],
             [
              0.8888888888888888,
              "#fdca26"
             ],
             [
              1,
              "#f0f921"
             ]
            ],
            "type": "contour"
           }
          ],
          "contourcarpet": [
           {
            "colorbar": {
             "outlinewidth": 0,
             "ticks": ""
            },
            "type": "contourcarpet"
           }
          ],
          "heatmap": [
           {
            "colorbar": {
             "outlinewidth": 0,
             "ticks": ""
            },
            "colorscale": [
             [
              0,
              "#0d0887"
             ],
             [
              0.1111111111111111,
              "#46039f"
             ],
             [
              0.2222222222222222,
              "#7201a8"
             ],
             [
              0.3333333333333333,
              "#9c179e"
             ],
             [
              0.4444444444444444,
              "#bd3786"
             ],
             [
              0.5555555555555556,
              "#d8576b"
             ],
             [
              0.6666666666666666,
              "#ed7953"
             ],
             [
              0.7777777777777778,
              "#fb9f3a"
             ],
             [
              0.8888888888888888,
              "#fdca26"
             ],
             [
              1,
              "#f0f921"
             ]
            ],
            "type": "heatmap"
           }
          ],
          "heatmapgl": [
           {
            "colorbar": {
             "outlinewidth": 0,
             "ticks": ""
            },
            "colorscale": [
             [
              0,
              "#0d0887"
             ],
             [
              0.1111111111111111,
              "#46039f"
             ],
             [
              0.2222222222222222,
              "#7201a8"
             ],
             [
              0.3333333333333333,
              "#9c179e"
             ],
             [
              0.4444444444444444,
              "#bd3786"
             ],
             [
              0.5555555555555556,
              "#d8576b"
             ],
             [
              0.6666666666666666,
              "#ed7953"
             ],
             [
              0.7777777777777778,
              "#fb9f3a"
             ],
             [
              0.8888888888888888,
              "#fdca26"
             ],
             [
              1,
              "#f0f921"
             ]
            ],
            "type": "heatmapgl"
           }
          ],
          "histogram": [
           {
            "marker": {
             "pattern": {
              "fillmode": "overlay",
              "size": 10,
              "solidity": 0.2
             }
            },
            "type": "histogram"
           }
          ],
          "histogram2d": [
           {
            "colorbar": {
             "outlinewidth": 0,
             "ticks": ""
            },
            "colorscale": [
             [
              0,
              "#0d0887"
             ],
             [
              0.1111111111111111,
              "#46039f"
             ],
             [
              0.2222222222222222,
              "#7201a8"
             ],
             [
              0.3333333333333333,
              "#9c179e"
             ],
             [
              0.4444444444444444,
              "#bd3786"
             ],
             [
              0.5555555555555556,
              "#d8576b"
             ],
             [
              0.6666666666666666,
              "#ed7953"
             ],
             [
              0.7777777777777778,
              "#fb9f3a"
             ],
             [
              0.8888888888888888,
              "#fdca26"
             ],
             [
              1,
              "#f0f921"
             ]
            ],
            "type": "histogram2d"
           }
          ],
          "histogram2dcontour": [
           {
            "colorbar": {
             "outlinewidth": 0,
             "ticks": ""
            },
            "colorscale": [
             [
              0,
              "#0d0887"
             ],
             [
              0.1111111111111111,
              "#46039f"
             ],
             [
              0.2222222222222222,
              "#7201a8"
             ],
             [
              0.3333333333333333,
              "#9c179e"
             ],
             [
              0.4444444444444444,
              "#bd3786"
             ],
             [
              0.5555555555555556,
              "#d8576b"
             ],
             [
              0.6666666666666666,
              "#ed7953"
             ],
             [
              0.7777777777777778,
              "#fb9f3a"
             ],
             [
              0.8888888888888888,
              "#fdca26"
             ],
             [
              1,
              "#f0f921"
             ]
            ],
            "type": "histogram2dcontour"
           }
          ],
          "mesh3d": [
           {
            "colorbar": {
             "outlinewidth": 0,
             "ticks": ""
            },
            "type": "mesh3d"
           }
          ],
          "parcoords": [
           {
            "line": {
             "colorbar": {
              "outlinewidth": 0,
              "ticks": ""
             }
            },
            "type": "parcoords"
           }
          ],
          "pie": [
           {
            "automargin": true,
            "type": "pie"
           }
          ],
          "scatter": [
           {
            "fillpattern": {
             "fillmode": "overlay",
             "size": 10,
             "solidity": 0.2
            },
            "type": "scatter"
           }
          ],
          "scatter3d": [
           {
            "line": {
             "colorbar": {
              "outlinewidth": 0,
              "ticks": ""
             }
            },
            "marker": {
             "colorbar": {
              "outlinewidth": 0,
              "ticks": ""
             }
            },
            "type": "scatter3d"
           }
          ],
          "scattercarpet": [
           {
            "marker": {
             "colorbar": {
              "outlinewidth": 0,
              "ticks": ""
             }
            },
            "type": "scattercarpet"
           }
          ],
          "scattergeo": [
           {
            "marker": {
             "colorbar": {
              "outlinewidth": 0,
              "ticks": ""
             }
            },
            "type": "scattergeo"
           }
          ],
          "scattergl": [
           {
            "marker": {
             "colorbar": {
              "outlinewidth": 0,
              "ticks": ""
             }
            },
            "type": "scattergl"
           }
          ],
          "scattermapbox": [
           {
            "marker": {
             "colorbar": {
              "outlinewidth": 0,
              "ticks": ""
             }
            },
            "type": "scattermapbox"
           }
          ],
          "scatterpolar": [
           {
            "marker": {
             "colorbar": {
              "outlinewidth": 0,
              "ticks": ""
             }
            },
            "type": "scatterpolar"
           }
          ],
          "scatterpolargl": [
           {
            "marker": {
             "colorbar": {
              "outlinewidth": 0,
              "ticks": ""
             }
            },
            "type": "scatterpolargl"
           }
          ],
          "scatterternary": [
           {
            "marker": {
             "colorbar": {
              "outlinewidth": 0,
              "ticks": ""
             }
            },
            "type": "scatterternary"
           }
          ],
          "surface": [
           {
            "colorbar": {
             "outlinewidth": 0,
             "ticks": ""
            },
            "colorscale": [
             [
              0,
              "#0d0887"
             ],
             [
              0.1111111111111111,
              "#46039f"
             ],
             [
              0.2222222222222222,
              "#7201a8"
             ],
             [
              0.3333333333333333,
              "#9c179e"
             ],
             [
              0.4444444444444444,
              "#bd3786"
             ],
             [
              0.5555555555555556,
              "#d8576b"
             ],
             [
              0.6666666666666666,
              "#ed7953"
             ],
             [
              0.7777777777777778,
              "#fb9f3a"
             ],
             [
              0.8888888888888888,
              "#fdca26"
             ],
             [
              1,
              "#f0f921"
             ]
            ],
            "type": "surface"
           }
          ],
          "table": [
           {
            "cells": {
             "fill": {
              "color": "#EBF0F8"
             },
             "line": {
              "color": "white"
             }
            },
            "header": {
             "fill": {
              "color": "#C8D4E3"
             },
             "line": {
              "color": "white"
             }
            },
            "type": "table"
           }
          ]
         },
         "layout": {
          "annotationdefaults": {
           "arrowcolor": "#2a3f5f",
           "arrowhead": 0,
           "arrowwidth": 1
          },
          "autotypenumbers": "strict",
          "coloraxis": {
           "colorbar": {
            "outlinewidth": 0,
            "ticks": ""
           }
          },
          "colorscale": {
           "diverging": [
            [
             0,
             "#8e0152"
            ],
            [
             0.1,
             "#c51b7d"
            ],
            [
             0.2,
             "#de77ae"
            ],
            [
             0.3,
             "#f1b6da"
            ],
            [
             0.4,
             "#fde0ef"
            ],
            [
             0.5,
             "#f7f7f7"
            ],
            [
             0.6,
             "#e6f5d0"
            ],
            [
             0.7,
             "#b8e186"
            ],
            [
             0.8,
             "#7fbc41"
            ],
            [
             0.9,
             "#4d9221"
            ],
            [
             1,
             "#276419"
            ]
           ],
           "sequential": [
            [
             0,
             "#0d0887"
            ],
            [
             0.1111111111111111,
             "#46039f"
            ],
            [
             0.2222222222222222,
             "#7201a8"
            ],
            [
             0.3333333333333333,
             "#9c179e"
            ],
            [
             0.4444444444444444,
             "#bd3786"
            ],
            [
             0.5555555555555556,
             "#d8576b"
            ],
            [
             0.6666666666666666,
             "#ed7953"
            ],
            [
             0.7777777777777778,
             "#fb9f3a"
            ],
            [
             0.8888888888888888,
             "#fdca26"
            ],
            [
             1,
             "#f0f921"
            ]
           ],
           "sequentialminus": [
            [
             0,
             "#0d0887"
            ],
            [
             0.1111111111111111,
             "#46039f"
            ],
            [
             0.2222222222222222,
             "#7201a8"
            ],
            [
             0.3333333333333333,
             "#9c179e"
            ],
            [
             0.4444444444444444,
             "#bd3786"
            ],
            [
             0.5555555555555556,
             "#d8576b"
            ],
            [
             0.6666666666666666,
             "#ed7953"
            ],
            [
             0.7777777777777778,
             "#fb9f3a"
            ],
            [
             0.8888888888888888,
             "#fdca26"
            ],
            [
             1,
             "#f0f921"
            ]
           ]
          },
          "colorway": [
           "#636efa",
           "#EF553B",
           "#00cc96",
           "#ab63fa",
           "#FFA15A",
           "#19d3f3",
           "#FF6692",
           "#B6E880",
           "#FF97FF",
           "#FECB52"
          ],
          "font": {
           "color": "#2a3f5f"
          },
          "geo": {
           "bgcolor": "white",
           "lakecolor": "white",
           "landcolor": "#E5ECF6",
           "showlakes": true,
           "showland": true,
           "subunitcolor": "white"
          },
          "hoverlabel": {
           "align": "left"
          },
          "hovermode": "closest",
          "mapbox": {
           "style": "light"
          },
          "paper_bgcolor": "white",
          "plot_bgcolor": "#E5ECF6",
          "polar": {
           "angularaxis": {
            "gridcolor": "white",
            "linecolor": "white",
            "ticks": ""
           },
           "bgcolor": "#E5ECF6",
           "radialaxis": {
            "gridcolor": "white",
            "linecolor": "white",
            "ticks": ""
           }
          },
          "scene": {
           "xaxis": {
            "backgroundcolor": "#E5ECF6",
            "gridcolor": "white",
            "gridwidth": 2,
            "linecolor": "white",
            "showbackground": true,
            "ticks": "",
            "zerolinecolor": "white"
           },
           "yaxis": {
            "backgroundcolor": "#E5ECF6",
            "gridcolor": "white",
            "gridwidth": 2,
            "linecolor": "white",
            "showbackground": true,
            "ticks": "",
            "zerolinecolor": "white"
           },
           "zaxis": {
            "backgroundcolor": "#E5ECF6",
            "gridcolor": "white",
            "gridwidth": 2,
            "linecolor": "white",
            "showbackground": true,
            "ticks": "",
            "zerolinecolor": "white"
           }
          },
          "shapedefaults": {
           "line": {
            "color": "#2a3f5f"
           }
          },
          "ternary": {
           "aaxis": {
            "gridcolor": "white",
            "linecolor": "white",
            "ticks": ""
           },
           "baxis": {
            "gridcolor": "white",
            "linecolor": "white",
            "ticks": ""
           },
           "bgcolor": "#E5ECF6",
           "caxis": {
            "gridcolor": "white",
            "linecolor": "white",
            "ticks": ""
           }
          },
          "title": {
           "x": 0.05
          },
          "xaxis": {
           "automargin": true,
           "gridcolor": "white",
           "linecolor": "white",
           "ticks": "",
           "title": {
            "standoff": 15
           },
           "zerolinecolor": "white",
           "zerolinewidth": 2
          },
          "yaxis": {
           "automargin": true,
           "gridcolor": "white",
           "linecolor": "white",
           "ticks": "",
           "title": {
            "standoff": 15
           },
           "zerolinecolor": "white",
           "zerolinewidth": 2
          }
         }
        },
        "title": {
         "text": "Top 10 Highest Spending Countries (USD per Capita)"
        },
        "xaxis": {
         "anchor": "y",
         "domain": [
          0,
          1
         ],
         "title": {
          "text": "Average Spend Per Capita (USD)"
         }
        },
        "yaxis": {
         "anchor": "x",
         "domain": [
          0,
          1
         ],
         "title": {
          "text": "Country"
         }
        }
       }
      }
     },
     "metadata": {},
     "output_type": "display_data"
    },
    {
     "data": {
      "application/vnd.plotly.v1+json": {
       "config": {
        "plotlyServerURL": "https://plot.ly"
       },
       "data": [
        {
         "alignmentgroup": "True",
         "hovertemplate": "<b>%{y}</b><br>Spend: %{x:.2f} USD",
         "legendgroup": "",
         "marker": {
          "color": [
           246.499431372549,
           230.7111304347826,
           229.15624528301888,
           221.53053846153847,
           218.33055813953487,
           179.93477777777778,
           161.4760909090909,
           161.38400000000001,
           140.74025,
           35.171727272727274
          ],
          "coloraxis": "coloraxis",
          "pattern": {
           "shape": ""
          }
         },
         "name": "",
         "offsetgroup": "",
         "orientation": "h",
         "showlegend": false,
         "textposition": "auto",
         "type": "bar",
         "x": [
          246.499431372549,
          230.7111304347826,
          229.15624528301888,
          221.53053846153847,
          218.33055813953487,
          179.93477777777778,
          161.4760909090909,
          161.38400000000001,
          140.74025,
          35.171727272727274
         ],
         "xaxis": "x",
         "y": [
          "NLD",
          "MEX",
          "KOR",
          "NOR",
          "DNK",
          "GBR",
          "CRI",
          "COL",
          "NZL",
          "TUR"
         ],
         "yaxis": "y"
        }
       ],
       "layout": {
        "barmode": "relative",
        "coloraxis": {
         "colorbar": {
          "title": {
           "text": "Average Spend Per Capita (USD)"
          }
         },
         "colorscale": [
          [
           0,
           "#1b3d1b"
          ],
          [
           0.25,
           "#2e6b2e"
          ],
          [
           0.5,
           "#4c8c4c"
          ],
          [
           0.75,
           "#6ea06e"
          ],
          [
           1,
           "#8fb88f"
          ]
         ]
        },
        "legend": {
         "tracegroupgap": 0
        },
        "template": {
         "data": {
          "bar": [
           {
            "error_x": {
             "color": "#2a3f5f"
            },
            "error_y": {
             "color": "#2a3f5f"
            },
            "marker": {
             "line": {
              "color": "#E5ECF6",
              "width": 0.5
             },
             "pattern": {
              "fillmode": "overlay",
              "size": 10,
              "solidity": 0.2
             }
            },
            "type": "bar"
           }
          ],
          "barpolar": [
           {
            "marker": {
             "line": {
              "color": "#E5ECF6",
              "width": 0.5
             },
             "pattern": {
              "fillmode": "overlay",
              "size": 10,
              "solidity": 0.2
             }
            },
            "type": "barpolar"
           }
          ],
          "carpet": [
           {
            "aaxis": {
             "endlinecolor": "#2a3f5f",
             "gridcolor": "white",
             "linecolor": "white",
             "minorgridcolor": "white",
             "startlinecolor": "#2a3f5f"
            },
            "baxis": {
             "endlinecolor": "#2a3f5f",
             "gridcolor": "white",
             "linecolor": "white",
             "minorgridcolor": "white",
             "startlinecolor": "#2a3f5f"
            },
            "type": "carpet"
           }
          ],
          "choropleth": [
           {
            "colorbar": {
             "outlinewidth": 0,
             "ticks": ""
            },
            "type": "choropleth"
           }
          ],
          "contour": [
           {
            "colorbar": {
             "outlinewidth": 0,
             "ticks": ""
            },
            "colorscale": [
             [
              0,
              "#0d0887"
             ],
             [
              0.1111111111111111,
              "#46039f"
             ],
             [
              0.2222222222222222,
              "#7201a8"
             ],
             [
              0.3333333333333333,
              "#9c179e"
             ],
             [
              0.4444444444444444,
              "#bd3786"
             ],
             [
              0.5555555555555556,
              "#d8576b"
             ],
             [
              0.6666666666666666,
              "#ed7953"
             ],
             [
              0.7777777777777778,
              "#fb9f3a"
             ],
             [
              0.8888888888888888,
              "#fdca26"
             ],
             [
              1,
              "#f0f921"
             ]
            ],
            "type": "contour"
           }
          ],
          "contourcarpet": [
           {
            "colorbar": {
             "outlinewidth": 0,
             "ticks": ""
            },
            "type": "contourcarpet"
           }
          ],
          "heatmap": [
           {
            "colorbar": {
             "outlinewidth": 0,
             "ticks": ""
            },
            "colorscale": [
             [
              0,
              "#0d0887"
             ],
             [
              0.1111111111111111,
              "#46039f"
             ],
             [
              0.2222222222222222,
              "#7201a8"
             ],
             [
              0.3333333333333333,
              "#9c179e"
             ],
             [
              0.4444444444444444,
              "#bd3786"
             ],
             [
              0.5555555555555556,
              "#d8576b"
             ],
             [
              0.6666666666666666,
              "#ed7953"
             ],
             [
              0.7777777777777778,
              "#fb9f3a"
             ],
             [
              0.8888888888888888,
              "#fdca26"
             ],
             [
              1,
              "#f0f921"
             ]
            ],
            "type": "heatmap"
           }
          ],
          "heatmapgl": [
           {
            "colorbar": {
             "outlinewidth": 0,
             "ticks": ""
            },
            "colorscale": [
             [
              0,
              "#0d0887"
             ],
             [
              0.1111111111111111,
              "#46039f"
             ],
             [
              0.2222222222222222,
              "#7201a8"
             ],
             [
              0.3333333333333333,
              "#9c179e"
             ],
             [
              0.4444444444444444,
              "#bd3786"
             ],
             [
              0.5555555555555556,
              "#d8576b"
             ],
             [
              0.6666666666666666,
              "#ed7953"
             ],
             [
              0.7777777777777778,
              "#fb9f3a"
             ],
             [
              0.8888888888888888,
              "#fdca26"
             ],
             [
              1,
              "#f0f921"
             ]
            ],
            "type": "heatmapgl"
           }
          ],
          "histogram": [
           {
            "marker": {
             "pattern": {
              "fillmode": "overlay",
              "size": 10,
              "solidity": 0.2
             }
            },
            "type": "histogram"
           }
          ],
          "histogram2d": [
           {
            "colorbar": {
             "outlinewidth": 0,
             "ticks": ""
            },
            "colorscale": [
             [
              0,
              "#0d0887"
             ],
             [
              0.1111111111111111,
              "#46039f"
             ],
             [
              0.2222222222222222,
              "#7201a8"
             ],
             [
              0.3333333333333333,
              "#9c179e"
             ],
             [
              0.4444444444444444,
              "#bd3786"
             ],
             [
              0.5555555555555556,
              "#d8576b"
             ],
             [
              0.6666666666666666,
              "#ed7953"
             ],
             [
              0.7777777777777778,
              "#fb9f3a"
             ],
             [
              0.8888888888888888,
              "#fdca26"
             ],
             [
              1,
              "#f0f921"
             ]
            ],
            "type": "histogram2d"
           }
          ],
          "histogram2dcontour": [
           {
            "colorbar": {
             "outlinewidth": 0,
             "ticks": ""
            },
            "colorscale": [
             [
              0,
              "#0d0887"
             ],
             [
              0.1111111111111111,
              "#46039f"
             ],
             [
              0.2222222222222222,
              "#7201a8"
             ],
             [
              0.3333333333333333,
              "#9c179e"
             ],
             [
              0.4444444444444444,
              "#bd3786"
             ],
             [
              0.5555555555555556,
              "#d8576b"
             ],
             [
              0.6666666666666666,
              "#ed7953"
             ],
             [
              0.7777777777777778,
              "#fb9f3a"
             ],
             [
              0.8888888888888888,
              "#fdca26"
             ],
             [
              1,
              "#f0f921"
             ]
            ],
            "type": "histogram2dcontour"
           }
          ],
          "mesh3d": [
           {
            "colorbar": {
             "outlinewidth": 0,
             "ticks": ""
            },
            "type": "mesh3d"
           }
          ],
          "parcoords": [
           {
            "line": {
             "colorbar": {
              "outlinewidth": 0,
              "ticks": ""
             }
            },
            "type": "parcoords"
           }
          ],
          "pie": [
           {
            "automargin": true,
            "type": "pie"
           }
          ],
          "scatter": [
           {
            "fillpattern": {
             "fillmode": "overlay",
             "size": 10,
             "solidity": 0.2
            },
            "type": "scatter"
           }
          ],
          "scatter3d": [
           {
            "line": {
             "colorbar": {
              "outlinewidth": 0,
              "ticks": ""
             }
            },
            "marker": {
             "colorbar": {
              "outlinewidth": 0,
              "ticks": ""
             }
            },
            "type": "scatter3d"
           }
          ],
          "scattercarpet": [
           {
            "marker": {
             "colorbar": {
              "outlinewidth": 0,
              "ticks": ""
             }
            },
            "type": "scattercarpet"
           }
          ],
          "scattergeo": [
           {
            "marker": {
             "colorbar": {
              "outlinewidth": 0,
              "ticks": ""
             }
            },
            "type": "scattergeo"
           }
          ],
          "scattergl": [
           {
            "marker": {
             "colorbar": {
              "outlinewidth": 0,
              "ticks": ""
             }
            },
            "type": "scattergl"
           }
          ],
          "scattermapbox": [
           {
            "marker": {
             "colorbar": {
              "outlinewidth": 0,
              "ticks": ""
             }
            },
            "type": "scattermapbox"
           }
          ],
          "scatterpolar": [
           {
            "marker": {
             "colorbar": {
              "outlinewidth": 0,
              "ticks": ""
             }
            },
            "type": "scatterpolar"
           }
          ],
          "scatterpolargl": [
           {
            "marker": {
             "colorbar": {
              "outlinewidth": 0,
              "ticks": ""
             }
            },
            "type": "scatterpolargl"
           }
          ],
          "scatterternary": [
           {
            "marker": {
             "colorbar": {
              "outlinewidth": 0,
              "ticks": ""
             }
            },
            "type": "scatterternary"
           }
          ],
          "surface": [
           {
            "colorbar": {
             "outlinewidth": 0,
             "ticks": ""
            },
            "colorscale": [
             [
              0,
              "#0d0887"
             ],
             [
              0.1111111111111111,
              "#46039f"
             ],
             [
              0.2222222222222222,
              "#7201a8"
             ],
             [
              0.3333333333333333,
              "#9c179e"
             ],
             [
              0.4444444444444444,
              "#bd3786"
             ],
             [
              0.5555555555555556,
              "#d8576b"
             ],
             [
              0.6666666666666666,
              "#ed7953"
             ],
             [
              0.7777777777777778,
              "#fb9f3a"
             ],
             [
              0.8888888888888888,
              "#fdca26"
             ],
             [
              1,
              "#f0f921"
             ]
            ],
            "type": "surface"
           }
          ],
          "table": [
           {
            "cells": {
             "fill": {
              "color": "#EBF0F8"
             },
             "line": {
              "color": "white"
             }
            },
            "header": {
             "fill": {
              "color": "#C8D4E3"
             },
             "line": {
              "color": "white"
             }
            },
            "type": "table"
           }
          ]
         },
         "layout": {
          "annotationdefaults": {
           "arrowcolor": "#2a3f5f",
           "arrowhead": 0,
           "arrowwidth": 1
          },
          "autotypenumbers": "strict",
          "coloraxis": {
           "colorbar": {
            "outlinewidth": 0,
            "ticks": ""
           }
          },
          "colorscale": {
           "diverging": [
            [
             0,
             "#8e0152"
            ],
            [
             0.1,
             "#c51b7d"
            ],
            [
             0.2,
             "#de77ae"
            ],
            [
             0.3,
             "#f1b6da"
            ],
            [
             0.4,
             "#fde0ef"
            ],
            [
             0.5,
             "#f7f7f7"
            ],
            [
             0.6,
             "#e6f5d0"
            ],
            [
             0.7,
             "#b8e186"
            ],
            [
             0.8,
             "#7fbc41"
            ],
            [
             0.9,
             "#4d9221"
            ],
            [
             1,
             "#276419"
            ]
           ],
           "sequential": [
            [
             0,
             "#0d0887"
            ],
            [
             0.1111111111111111,
             "#46039f"
            ],
            [
             0.2222222222222222,
             "#7201a8"
            ],
            [
             0.3333333333333333,
             "#9c179e"
            ],
            [
             0.4444444444444444,
             "#bd3786"
            ],
            [
             0.5555555555555556,
             "#d8576b"
            ],
            [
             0.6666666666666666,
             "#ed7953"
            ],
            [
             0.7777777777777778,
             "#fb9f3a"
            ],
            [
             0.8888888888888888,
             "#fdca26"
            ],
            [
             1,
             "#f0f921"
            ]
           ],
           "sequentialminus": [
            [
             0,
             "#0d0887"
            ],
            [
             0.1111111111111111,
             "#46039f"
            ],
            [
             0.2222222222222222,
             "#7201a8"
            ],
            [
             0.3333333333333333,
             "#9c179e"
            ],
            [
             0.4444444444444444,
             "#bd3786"
            ],
            [
             0.5555555555555556,
             "#d8576b"
            ],
            [
             0.6666666666666666,
             "#ed7953"
            ],
            [
             0.7777777777777778,
             "#fb9f3a"
            ],
            [
             0.8888888888888888,
             "#fdca26"
            ],
            [
             1,
             "#f0f921"
            ]
           ]
          },
          "colorway": [
           "#636efa",
           "#EF553B",
           "#00cc96",
           "#ab63fa",
           "#FFA15A",
           "#19d3f3",
           "#FF6692",
           "#B6E880",
           "#FF97FF",
           "#FECB52"
          ],
          "font": {
           "color": "#2a3f5f"
          },
          "geo": {
           "bgcolor": "white",
           "lakecolor": "white",
           "landcolor": "#E5ECF6",
           "showlakes": true,
           "showland": true,
           "subunitcolor": "white"
          },
          "hoverlabel": {
           "align": "left"
          },
          "hovermode": "closest",
          "mapbox": {
           "style": "light"
          },
          "paper_bgcolor": "white",
          "plot_bgcolor": "#E5ECF6",
          "polar": {
           "angularaxis": {
            "gridcolor": "white",
            "linecolor": "white",
            "ticks": ""
           },
           "bgcolor": "#E5ECF6",
           "radialaxis": {
            "gridcolor": "white",
            "linecolor": "white",
            "ticks": ""
           }
          },
          "scene": {
           "xaxis": {
            "backgroundcolor": "#E5ECF6",
            "gridcolor": "white",
            "gridwidth": 2,
            "linecolor": "white",
            "showbackground": true,
            "ticks": "",
            "zerolinecolor": "white"
           },
           "yaxis": {
            "backgroundcolor": "#E5ECF6",
            "gridcolor": "white",
            "gridwidth": 2,
            "linecolor": "white",
            "showbackground": true,
            "ticks": "",
            "zerolinecolor": "white"
           },
           "zaxis": {
            "backgroundcolor": "#E5ECF6",
            "gridcolor": "white",
            "gridwidth": 2,
            "linecolor": "white",
            "showbackground": true,
            "ticks": "",
            "zerolinecolor": "white"
           }
          },
          "shapedefaults": {
           "line": {
            "color": "#2a3f5f"
           }
          },
          "ternary": {
           "aaxis": {
            "gridcolor": "white",
            "linecolor": "white",
            "ticks": ""
           },
           "baxis": {
            "gridcolor": "white",
            "linecolor": "white",
            "ticks": ""
           },
           "bgcolor": "#E5ECF6",
           "caxis": {
            "gridcolor": "white",
            "linecolor": "white",
            "ticks": ""
           }
          },
          "title": {
           "x": 0.05
          },
          "xaxis": {
           "automargin": true,
           "gridcolor": "white",
           "linecolor": "white",
           "ticks": "",
           "title": {
            "standoff": 15
           },
           "zerolinecolor": "white",
           "zerolinewidth": 2
          },
          "yaxis": {
           "automargin": true,
           "gridcolor": "white",
           "linecolor": "white",
           "ticks": "",
           "title": {
            "standoff": 15
           },
           "zerolinecolor": "white",
           "zerolinewidth": 2
          }
         }
        },
        "title": {
         "text": "Bottom 10 Lowest Spending Countries (USD per Capita)"
        },
        "xaxis": {
         "anchor": "y",
         "domain": [
          0,
          1
         ],
         "title": {
          "text": "Average Spend Per Capita (USD)"
         }
        },
        "yaxis": {
         "anchor": "x",
         "domain": [
          0,
          1
         ],
         "title": {
          "text": "Country"
         }
        }
       }
      }
     },
     "metadata": {},
     "output_type": "display_data"
    },
    {
     "name": "stdout",
     "output_type": "stream",
     "text": [
      "Intercept: -24.71452145800521\n",
      "Coefficient: 295.8200311469281\n"
     ]
    },
    {
     "data": {
      "application/vnd.plotly.v1+json": {
       "config": {
        "plotlyServerURL": "https://plot.ly"
       },
       "data": [
        {
         "hovertemplate": "GDP per Capita=%{x}<br>Health Spend per Capita (USD)=%{marker.color}<extra></extra>",
         "legendgroup": "",
         "marker": {
          "color": [
           33.99,
           34.184,
           37.956,
           45.338,
           44.363,
           44.34,
           45.407,
           48.127,
           47.307,
           54.875,
           62.73,
           65.245,
           72.629,
           76.085,
           81.784,
           86.545,
           90.907,
           100.971,
           111.925,
           122.156,
           134.997,
           148.927,
           164.472,
           181.941,
           196.205,
           215.33,
           232.169,
           259.041,
           287.245,
           338.103,
           367.853,
           381.433,
           406.438,
           441.202,
           437.125,
           457.715,
           486.408,
           516.333,
           530.969,
           561.659,
           583.222,
           589.993,
           586.402,
           569.455,
           594.233,
           650.539,
           622.908,
           619.256,
           617.729,
           680.868,
           150.163,
           158.596,
           168.787,
           180.292,
           190.767,
           199.061,
           212.567,
           253.988,
           287.561,
           322.489,
           357.062,
           368.742,
           407.91,
           435.142,
           453.933,
           460.159,
           482.397,
           511.897,
           538.527,
           505.931,
           520.448,
           534.067,
           553.478,
           566.622,
           589.981,
           607.648,
           621.653,
           642.378,
           659.52,
           665.852,
           711.325,
           764.767,
           42.05,
           46.626,
           51.474,
           61.827,
           68.928,
           73.393,
           72.63,
           81.649,
           89.427,
           97.873,
           102.927,
           107.311,
           114.228,
           122.594,
           121.765,
           135.801,
           148.417,
           161.07,
           183.216,
           195.372,
           202.058,
           221.636,
           248.41,
           276.285,
           283.138,
           301.872,
           302.676,
           317.541,
           504.999,
           528.023,
           526.39,
           524.904,
           549.591,
           526.611,
           526.238,
           540.994,
           551.654,
           541.621,
           556.791,
           561.59,
           591.141,
           603.742,
           592.17,
           601.265,
           613.639,
           615.681,
           649.344,
           231.652,
           233.474,
           243.791,
           267.287,
           275.732,
           308.211,
           474.182,
           432.714,
           491.214,
           516.436,
           587.206,
           625.801,
           625.647,
           616.927,
           692.585,
           758.71,
           248.338,
           244.67,
           250.063,
           261.617,
           272.831,
           32.684,
           36.13,
           37.076,
           40.128,
           42.13,
           45.427,
           48.668,
           51.69,
           55.495,
           62.866,
           70.739,
           84.104,
           90.358,
           97.554,
           107.828,
           122.028,
           137.551,
           150.106,
           166.34,
           184.661,
           202.518,
           219.057,
           241.917,
           258.297,
           267.114,
           285.008,
           291.519,
           319.143,
           345.516,
           369.052,
           406.817,
           444.045,
           480.949,
           520.034,
           561.774,
           594.446,
           625.283,
           657.556,
           674.417,
           692.029,
           755.74,
           755.06,
           756.825,
           754.272,
           754.336,
           774.778,
           838.504,
           849.457,
           850.075,
           827.573,
           836.93,
           865.337,
           914.325,
           530.899,
           539.795,
           566.963,
           595.626,
           611.906,
           636.994,
           676.592,
           687.401,
           703.786,
           716.538,
           761.87,
           803.203,
           320.69,
           298.149,
           328.995,
           144.302,
           154.548,
           159.429,
           171.109,
           177.532,
           175.759,
           175.023,
           167.223,
           193.603,
           201.037,
           192.399,
           110.724,
           143.799,
           141.242,
           133.065,
           142.363,
           312.892,
           316.318,
           325.949,
           333.753,
           360.638,
           379.08,
           369.053,
           333.517,
           322.562,
           320.284,
           331.247,
           340.102,
           383.794,
           426.097,
           440.257,
           474.21,
           431.324,
           440.737,
           578.65,
           118.867,
           94.247,
           114.227,
           147.174,
           204.86,
           228.554,
           237.604,
           236.938,
           222.991,
           229.864,
           253.005,
           289.845,
           317.795,
           351.182,
           375.84,
           391.508,
           366.301,
           368.845,
           381.104,
           453.587,
           431.282,
           435.792,
           453.465,
           454.121,
           465.57,
           468.988,
           496.858,
           509.941,
           510.498,
           516.51,
           579.669,
           574.76,
           42.897,
           48.392,
           53.476,
           58.791,
           67.371,
           76.314,
           84.135,
           89.661,
           101.799,
           111.144,
           126.192,
           141.852,
           146.128,
           156.959,
           170.747,
           185.72,
           199.065,
           215.973,
           236.538,
           236.529,
           253.628,
           310.196,
           280.891,
           292.926,
           309.583,
           333.769,
           335.385,
           357.933,
           377.398,
           407.469,
           441.874,
           483.022,
           493.455,
           475.303,
           518.404,
           533.928,
           574.357,
           606.585,
           632.661,
           663.249,
           652.43,
           670.593,
           693.51,
           739.786,
           761.448,
           819.478,
           850.084,
           891.861,
           880.199,
           947.679,
           1042.46,
           50.227,
           53.591,
           59.177,
           64.287,
           67.987,
           75.963,
           84.952,
           86.179,
           96.266,
           95.463,
           109.862,
           120.869,
           126.264,
           143.142,
           154.562,
           160.002,
           166.166,
           175.836,
           198.446,
           197.474,
           212.719,
           222.095,
           255.15,
           251.656,
           260.561,
           258.681,
           286.756,
           316.624,
           314.596,
           305.733,
           336.878,
           327.597,
           320.08,
           308.592,
           310.753,
           316.719,
           321.823,
           332.76,
           341.553,
           353.819,
           372.045,
           372.623,
           401.686,
           72.028,
           77.447,
           86.325,
           86.813,
           82.612,
           93.576,
           92.704,
           100.816,
           117.334,
           134.069,
           152.479,
           222.776,
           239.197,
           262.641,
           282.031,
           303.135,
           334.654,
           358.995,
           408.498,
           431.589,
           438.984,
           441.063,
           450.565,
           449.583,
           467.136,
           472.568,
           466.75,
           446.39,
           431.254,
           449.956,
           446.084,
           461.926,
           499.864,
           510.509,
           521.52,
           520.4,
           560.405,
           594.795,
           101.901,
           123.756,
           139.139,
           169.659,
           179.993,
           208.687,
           205.453,
           199.165,
           226.421,
           242.689,
           261.29,
           278.947,
           278.915,
           305.288,
           316.199,
           327.705,
           340.315,
           385.885,
           386.474,
           410.725,
           407.201,
           421.946,
           451.763,
           20.985,
           24.95,
           28.063,
           29.563,
           32.696,
           36.768,
           40.974,
           44.422,
           48.256,
           52.02,
           55.273,
           60.427,
           63.251,
           70.139,
           75.603,
           81.96,
           87.041,
           95.322,
           102.523,
           111.299,
           124.446,
           139.657,
           148.99,
           155.151,
           167.29,
           192.792,
           210.958,
           224.894,
           223.195,
           250.551,
           282.198,
           306.595,
           344.581,
           354.069,
           388.045,
           405.017,
           389.562,
           425.837,
           457.118,
           445,
           446.764,
           448.472,
           460.321,
           472.552,
           467.218,
           484.533,
           515.993,
           515.952,
           536.801,
           541.881,
           567.335,
           591.864,
           46.908,
           75.415,
           108.14,
           165.96,
           252.162,
           275.805,
           290.913,
           315.667,
           325.216,
           323.389,
           330.285,
           345.815,
           368.527,
           398.617,
           454.16,
           498.362,
           541.758,
           536.658,
           559.044,
           573.536,
           581.556,
           594.425,
           606.492,
           609.668,
           621.644,
           622.837,
           619.827,
           676.497,
           680.255,
           673.38,
           695.401,
           705.241,
           698.524,
           696.842,
           743.835,
           765.575,
           19.614,
           21.457,
           23.051,
           24.357,
           29.428,
           28.643,
           32.064,
           35.612,
           40.438,
           44.467,
           52.095,
           58.075,
           64.976,
           71.72,
           79.042,
           82.486,
           87.199,
           91.868,
           100.894,
           109.306,
           113.364,
           123.888,
           140.457,
           154.532,
           168.843,
           176.424,
           193.853,
           449.818,
           456.257,
           458.246,
           471.393,
           474.684,
           471.311,
           481.75,
           528.752,
           517.288,
           95.012,
           104.155,
           115.601,
           135.989,
           158.029,
           173.091,
           190.818,
           194.263,
           206.003,
           217.478,
           192.313,
           209.652,
           281.854,
           324.459,
           389.24,
           503.399,
           519.224,
           547.175,
           615.122,
           651.201,
           734.77,
           748.159,
           749.826,
           709.328,
           622.251,
           572.577,
           567.977,
           578.16,
           631.254,
           647.113,
           632.89,
           666.093,
           750.761,
           740.123,
           449.42,
           465.814,
           349.071,
           318.187,
           320.895,
           362.974,
           380.543,
           385.931,
           413.623,
           450.481,
           469.013,
           177.438,
           180.992,
           198.823,
           220.826,
           183.099,
           188.948,
           192.992,
           295.567,
           337.883,
           376.61,
           402.121,
           457.642,
           483.381,
           452.144,
           476.311,
           490.503,
           554.391,
           614.461,
           575.517,
           551.813,
           561.219,
           563.595,
           589.379,
           554.629,
           563.842,
           574.811,
           621.505,
           632.293,
           37.2,
           38.899,
           41.409,
           48.617,
           52.105,
           55.666,
           51.754,
           54.485,
           54.89,
           59.536,
           63.928,
           68.507,
           73.839,
           79.803,
           91.092,
           96.086,
           100.722,
           109.326,
           118.811,
           125.914,
           136.152,
           152.74,
           161.814,
           184.401,
           209.317,
           259.398,
           308.097,
           357.489,
           389.095,
           439.097,
           478.63,
           527.657,
           553.508,
           581.225,
           583.463,
           600.152,
           588.288,
           616.252,
           568.401,
           542.059,
           548.009,
           578.508,
           589.555,
           593.089,
           572.237,
           611.829,
           625.365,
           28.437,
           38.402,
           43.415,
           42.803,
           46.62,
           58.281,
           56.601,
           65.76,
           80.924,
           92.839,
           120.025,
           128.115,
           149.004,
           179.242,
           164.259,
           182.192,
           206.045,
           225.963,
           234.682,
           239.008,
           220.216,
           212.391,
           221.745,
           216.987,
           235.052,
           249.758,
           269.332,
           312.746,
           338.45,
           370.923,
           424.768,
           427.571,
           470.918,
           484.45,
           509.515,
           482.889,
           492.809,
           494.023,
           537.29,
           554.651,
           531.339,
           517.476,
           509.66,
           486.27,
           466.895,
           472.054,
           455.666,
           450.201,
           455.714,
           478.53,
           529.272,
           604.981,
           632.479,
           232.584,
           252.131,
           247.078,
           267.541,
           268.492,
           279.705,
           294.604,
           290.03,
           287.708,
           309.568,
           329.683,
           333.69,
           364.146,
           360.875,
           451.622,
           242.881,
           261.488,
           273.02,
           290.283,
           301.412,
           284.56,
           284.259,
           286.138,
           305.288,
           333.384,
           358.5,
           381.619,
           429.62,
           471.653,
           501.305,
           489.341,
           514.622,
           510.092,
           535.788,
           539.188,
           562.602,
           557.06,
           582.095,
           574.551,
           510.916,
           519.224,
           516.479,
           551.703,
           577.766,
           594.489,
           625.637,
           651.265,
           662.612,
           691.708,
           748.081,
           113.323,
           145.151,
           147.09,
           162.442,
           185.826,
           199.967,
           227.937,
           233.282,
           266.744,
           275.869,
           296.49,
           299.07,
           297.368,
           302.192,
           298.214,
           281.881,
           302.756,
           340.098,
           366.913,
           384.942,
           428.518,
           448.278,
           489.158,
           506.852,
           537.234,
           557.041,
           623.452,
           648.83,
           707.419,
           749.96,
           812.268,
           813.859,
           891.136,
           797.703,
           806.324,
           810.493,
           954.452,
           835.93,
           3.976,
           3.628,
           3.754,
           3.853,
           3.826,
           6.505,
           7.968,
           8.546,
           11.123,
           16.948,
           19.307,
           23.16,
           25.939,
           29.488,
           31.634,
           35.477,
           39.33,
           44.306,
           52.782,
           67.744,
           75.144,
           79.721,
           85.532,
           93.46,
           101.429,
           115.405,
           130.478,
           135.67,
           128.674,
           147.512,
           175.568,
           221.635,
           236.974,
           269.091,
           286.454,
           308.164,
           351.33,
           381.905,
           399.108,
           427.538,
           464.663,
           477.438,
           484.619,
           473.375,
           480.067,
           519.359,
           554.942,
           574.407,
           618.331,
           641.797,
           722.445,
           740.501,
           803.251,
           267.716,
           304.161,
           313.348,
           329.984,
           351.979,
           352.772,
           366.467,
           386.597,
           453.815,
           468.395,
           495.942,
           515.108,
           570.369,
           535.543,
           528.595,
           602.343,
           622.44,
           654.752,
           60.128,
           63.006,
           74.606,
           83.703,
           93.153,
           102.724,
           103.473,
           106.374,
           115.811,
           128.669,
           144.592,
           164.381,
           183.43,
           207.18,
           220.448,
           232.561,
           227.52,
           252.509,
           255.563,
           287.122,
           298.88,
           338.318,
           376.489,
           407.024,
           462.209,
           483.735,
           497.269,
           498.272,
           525.621,
           542.908,
           555.407,
           563.008,
           543.835,
           428.823,
           554.233,
           565.568,
           550.605,
           548.094,
           565.786,
           570.39,
           596.77,
           570.325,
           610.829,
           683.994,
           706.372,
           188.585,
           189.344,
           217.575,
           299.618,
           240.268,
           245.2,
           277.587,
           281.155,
           295.051,
           323.219,
           346.969,
           388.369,
           456.477,
           459.41,
           492.906,
           479.593,
           509.939,
           523.942,
           90.205,
           103.114,
           112.922,
           129.947,
           247.284,
           269.151,
           274.714,
           285.489,
           295.376,
           298.247,
           295.992,
           227.703,
           206.052,
           227.68,
           226.219,
           227.957,
           240.501,
           250.617,
           252.536,
           254.189,
           247.519,
           263.922,
           279.02,
           516.201,
           575.784,
           570.587,
           622.204,
           633.735,
           817.212,
           947.614,
           36.08,
           38.209,
           41.167,
           44.807,
           46.871,
           49.722,
           54.18,
           58.294,
           63.144,
           67.711,
           74.904,
           77.52,
           87.005,
           93.786,
           103.232,
           113.058,
           120.049,
           126.614,
           142.348,
           152.244,
           174.608,
           190.046,
           192.769,
           203.723,
           211.859,
           216.569,
           258.031,
           283.513,
           318.355,
           339.924,
           376.751,
           376.391,
           390.264,
           399.59,
           408.591,
           444.177,
           436.684,
           425.964,
           423.464,
           426.645,
           390.837,
           377.565,
           370.976,
           380.966,
           392.751,
           398.395,
           404.562,
           411.939,
           426.507,
           456.017,
           472.093,
           13.208,
           14.239,
           14.915,
           16.755,
           19.766,
           23.276,
           25.372,
           26.816,
           27.906,
           30.409,
           67.039,
           73.48,
           80.154,
           86.599,
           91.848,
           96.851,
           101.53,
           107.108,
           83.498,
           90.746,
           104.245,
           115.539,
           123.026,
           162.161,
           155.02,
           168.364,
           186.204,
           211.798,
           227.099,
           241.838,
           285.304,
           293.627,
           340.848,
           340.564,
           367.833,
           361.461,
           366.17,
           369.924,
           366.041,
           355.65,
           365.574,
           397.13,
           402.861,
           416.312,
           427.469,
           439.572,
           446.702,
           476.049,
           474.604,
           453.009,
           472.666,
           513.409,
           25.961,
           43.188,
           59.362,
           61.063,
           68.07,
           75.853,
           80.094,
           80.634,
           96.564,
           112.83,
           125.741,
           136.465,
           140.639,
           150.424,
           159.495,
           174.078,
           197.089,
           193.03,
           195.076,
           203.749,
           223.715,
           234.745,
           275.817,
           264.084,
           228.42,
           246.776,
           259.635,
           248.394,
           260.35,
           278.92,
           300.86,
           322.516,
           346.358,
           361.408,
           351.322,
           362.625,
           362.176,
           385.842,
           411.073,
           419.371,
           438.06,
           439.759,
           451.159,
           479.358,
           6.345,
           32.726,
           43.584,
           47.875,
           53.603,
           56.307,
           59.903,
           62.09,
           64.674,
           96.461,
           106.653,
           125.428,
           133.84,
           140.35,
           159.532,
           181.97,
           200.361,
           215.912,
           224.556,
           245.113,
           267.414,
           282.889,
           288.408,
           354.319,
           379.443,
           409.288,
           423.655,
           460.771,
           478.311,
           495.923,
           505.755,
           512.518,
           501.813,
           495.787,
           450.09,
           413.738,
           402.222,
           403.211,
           418.613,
           434.328,
           436.34,
           459.974,
           476.286,
           524.715,
           558.506,
           89.719,
           142.581,
           153.445,
           161.701,
           181.785,
           215.627,
           209.121,
           242.137,
           320.393,
           323.816,
           406.056,
           369.803,
           363.502,
           388.742,
           367.124,
           409.492,
           475.315,
           508.626,
           569.563,
           229.096,
           239.524,
           263.001,
           326.289,
           352.728,
           376.255,
           396.543,
           417.939,
           465.38,
           508.8,
           532.417,
           587.244,
           567.145,
           556.726,
           571.491,
           543.317,
           553.2,
           542.415,
           521.065,
           512.545,
           516.996,
           504.235,
           530.716,
           383.621,
           378.946,
           394.479,
           404.794,
           420.082,
           414.8,
           438.139,
           447.479,
           458.749,
           464.769,
           489.476,
           501.439,
           463.397,
           470.778,
           500.273,
           521.07,
           546.854,
           559.466,
           599.589,
           644.19,
           20.855,
           23.808,
           28.143,
           33.528,
           37.792,
           42.964,
           45.505,
           49.96,
           52.146,
           57.024,
           62.649,
           67.801,
           74.714,
           78.556,
           80.359,
           85.978,
           91.642,
           100.65,
           98.83,
           121.532,
           128.534,
           135.518,
           155.381,
           170.571,
           187.679,
           206.178,
           241.058,
           222.756,
           258.376,
           286.758,
           318.668,
           356.468,
           394.618,
           386.867,
           398.142,
           398.239,
           427.008,
           448.046,
           474.447,
           474.24,
           466.014,
           467.145,
           484.705,
           475.572,
           487.696,
           504.915,
           524.404,
           512.816,
           537.282,
           517.451,
           554.039,
           576.078,
           9.685,
           10.331,
           10.565,
           10.054,
           9.674,
           11.917,
           13.239,
           33.578,
           56.802,
           100.909,
           120.135,
           171.834,
           189.545,
           209.722,
           235.469,
           251.462,
           257.468,
           265.437,
           276.718,
           300.923,
           330.937,
           363.952,
           402.545,
           463.851,
           521.677,
           584.779,
           652.646,
           723.841,
           779.91,
           826.029,
           894.044,
           933.087,
           952.447,
           984.105,
           986.63,
           1004.205,
           1013.8,
           1020.541,
           1118.634,
           1189.437,
           1192.301,
           1200.769,
           1229.266,
           1277.032,
           1315.218,
           1432.309
          ],
          "coloraxis": "coloraxis",
          "symbol": "circle"
         },
         "mode": "markers",
         "name": "",
         "showlegend": false,
         "type": "scattergl",
         "x": [
          0.726,
          0.685,
          0.681,
          0.754,
          0.682,
          0.63,
          0.612,
          0.591,
          0.523,
          0.539,
          0.547,
          0.564,
          0.58,
          0.569,
          0.579,
          0.599,
          0.582,
          0.595,
          0.623,
          0.677,
          0.74,
          0.779,
          0.82,
          0.86,
          0.883,
          0.925,
          0.951,
          1.018,
          1.074,
          1.192,
          1.233,
          1.211,
          1.242,
          1.266,
          1.213,
          1.219,
          1.224,
          1.271,
          1.327,
          1.316,
          1.307,
          1.328,
          1.255,
          1.229,
          1.267,
          1.303,
          1.243,
          1.2,
          1.231,
          1.278,
          0.782,
          0.778,
          0.799,
          0.838,
          0.85,
          0.851,
          0.874,
          1.007,
          1.084,
          1.168,
          1.172,
          1.196,
          1.236,
          1.299,
          1.292,
          1.274,
          1.265,
          1.286,
          1.306,
          1.265,
          1.249,
          1.232,
          1.23,
          1.223,
          1.259,
          1.274,
          1.239,
          1.255,
          1.237,
          1.241,
          1.381,
          1.383,
          1.084,
          1.115,
          1.132,
          1.206,
          1.19,
          1.214,
          1.087,
          1.139,
          1.141,
          1.112,
          1.074,
          1.058,
          1.051,
          1.09,
          1.023,
          1.079,
          1.108,
          1.142,
          1.18,
          1.153,
          1.109,
          1.163,
          1.244,
          1.354,
          1.32,
          1.358,
          1.338,
          1.343,
          1.594,
          1.596,
          1.564,
          1.5,
          1.518,
          1.425,
          1.463,
          1.412,
          1.41,
          1.341,
          1.326,
          1.297,
          1.325,
          1.3,
          1.243,
          1.22,
          1.221,
          1.251,
          1.191,
          2.664,
          2.454,
          2.362,
          2.402,
          2.173,
          2.219,
          2.846,
          2.494,
          2.68,
          2.657,
          2.739,
          2.77,
          2.595,
          2.436,
          2.766,
          2.618,
          1.626,
          1.674,
          1.702,
          1.723,
          1.751,
          0.749,
          0.751,
          0.706,
          0.671,
          0.606,
          0.605,
          0.582,
          0.577,
          0.573,
          0.577,
          0.584,
          0.633,
          0.68,
          0.701,
          0.717,
          0.76,
          0.839,
          0.856,
          0.881,
          0.929,
          0.996,
          1.098,
          1.186,
          1.229,
          1.203,
          1.225,
          1.215,
          1.269,
          1.342,
          1.349,
          1.369,
          1.459,
          1.544,
          1.608,
          1.631,
          1.632,
          1.675,
          1.674,
          1.683,
          1.88,
          1.946,
          1.858,
          1.835,
          1.774,
          1.706,
          1.796,
          1.834,
          1.791,
          1.737,
          1.744,
          1.856,
          1.7,
          1.614,
          1.045,
          1.037,
          1.053,
          1.062,
          1.066,
          1.097,
          1.136,
          1.165,
          1.148,
          1.182,
          1.273,
          1.25,
          1.307,
          1.2,
          1.148,
          1.094,
          1.125,
          1.159,
          1.17,
          1.196,
          1.212,
          1.118,
          1.037,
          1.13,
          1.104,
          0.996,
          0.54,
          0.685,
          0.655,
          0.644,
          0.645,
          1.259,
          1.197,
          1.187,
          1.151,
          1.121,
          1.118,
          1.153,
          1.045,
          1.026,
          1.052,
          1.138,
          1.162,
          1.25,
          1.239,
          1.207,
          1.238,
          1.095,
          1.187,
          1.413,
          0.899,
          0.827,
          0.98,
          1.189,
          1.548,
          1.612,
          1.545,
          1.525,
          1.403,
          1.393,
          1.406,
          1.465,
          1.549,
          1.644,
          1.63,
          1.63,
          1.447,
          1.33,
          1.323,
          1.605,
          1.481,
          1.479,
          1.514,
          1.432,
          1.379,
          1.326,
          1.322,
          1.267,
          1.219,
          1.2,
          1.404,
          1.267,
          0.971,
          1.004,
          1.032,
          1.044,
          1.094,
          1.149,
          1.144,
          1.104,
          1.123,
          1.096,
          1.125,
          1.174,
          1.151,
          1.168,
          1.19,
          1.213,
          1.203,
          1.237,
          1.267,
          1.195,
          1.181,
          1.382,
          1.237,
          1.236,
          1.256,
          1.322,
          1.306,
          1.357,
          1.372,
          1.392,
          1.457,
          1.518,
          1.542,
          1.422,
          1.558,
          1.524,
          1.539,
          1.572,
          1.71,
          1.664,
          1.54,
          1.534,
          1.54,
          1.583,
          1.608,
          1.624,
          1.612,
          1.628,
          1.607,
          1.732,
          1.793,
          0.53,
          0.527,
          0.534,
          0.539,
          0.528,
          0.546,
          0.563,
          0.555,
          0.6,
          0.566,
          0.613,
          0.647,
          0.646,
          0.72,
          0.731,
          0.725,
          0.718,
          0.72,
          0.783,
          0.755,
          0.735,
          0.759,
          0.819,
          0.823,
          0.804,
          0.78,
          0.799,
          0.829,
          0.792,
          0.813,
          0.836,
          0.798,
          0.76,
          0.704,
          0.697,
          0.693,
          0.673,
          0.657,
          0.65,
          0.67,
          0.69,
          0.633,
          0.607,
          1.08,
          1.093,
          1.15,
          1.101,
          0.99,
          1.058,
          0.981,
          0.978,
          1.036,
          1.081,
          1.129,
          1.39,
          1.43,
          1.479,
          1.493,
          1.528,
          1.493,
          1.486,
          1.54,
          1.62,
          1.584,
          1.541,
          1.473,
          1.433,
          1.465,
          1.569,
          1.555,
          1.497,
          1.447,
          1.475,
          1.418,
          1.395,
          1.42,
          1.376,
          1.369,
          1.349,
          1.621,
          1.563,
          1.133,
          1.177,
          1.22,
          1.277,
          1.249,
          1.312,
          1.168,
          1.002,
          0.991,
          1.074,
          1.309,
          1.294,
          1.156,
          1.175,
          1.163,
          1.145,
          1.165,
          1.234,
          1.158,
          1.163,
          1.132,
          1.171,
          1.101,
          0.69,
          0.763,
          0.775,
          0.719,
          0.691,
          0.728,
          0.764,
          0.786,
          0.778,
          0.718,
          0.664,
          0.658,
          0.637,
          0.662,
          0.662,
          0.677,
          0.681,
          0.694,
          0.668,
          0.662,
          0.715,
          0.86,
          0.951,
          0.991,
          1,
          1.053,
          1.112,
          1.087,
          0.999,
          1.058,
          1.066,
          1.121,
          1.194,
          1.234,
          1.262,
          1.304,
          1.172,
          1.146,
          1.176,
          1.242,
          1.192,
          1.15,
          1.165,
          1.178,
          1.155,
          1.171,
          1.179,
          1.117,
          1.121,
          1.134,
          1.184,
          1.155,
          1.27,
          1.277,
          1.108,
          1.272,
          1.382,
          1.455,
          1.488,
          1.594,
          1.582,
          1.521,
          1.505,
          1.509,
          1.533,
          1.584,
          1.62,
          1.682,
          1.723,
          1.77,
          1.792,
          1.795,
          1.753,
          1.709,
          1.708,
          1.773,
          1.725,
          1.674,
          1.629,
          1.698,
          1.696,
          1.651,
          1.621,
          1.6,
          1.536,
          1.497,
          1.655,
          1.543,
          0.628,
          0.642,
          0.638,
          0.603,
          0.695,
          0.627,
          0.649,
          0.662,
          0.665,
          0.646,
          0.685,
          0.707,
          0.742,
          0.76,
          0.794,
          0.771,
          0.772,
          0.749,
          0.746,
          0.744,
          0.737,
          0.806,
          0.896,
          0.932,
          0.969,
          0.896,
          0.916,
          1.214,
          1.201,
          1.183,
          1.164,
          1.128,
          1.095,
          1.093,
          1.286,
          1.17,
          0.844,
          0.851,
          0.907,
          1.012,
          1.154,
          1.257,
          1.335,
          1.3,
          1.315,
          1.298,
          1.097,
          1.171,
          1.439,
          1.524,
          1.643,
          2.076,
          2,
          2.136,
          2.206,
          2.255,
          2.433,
          2.573,
          2.761,
          2.848,
          2.588,
          2.314,
          2.229,
          2.239,
          2.362,
          2.339,
          2.22,
          2.324,
          2.87,
          2.481,
          2.23,
          2.255,
          1.629,
          1.459,
          1.41,
          1.457,
          1.437,
          1.384,
          1.377,
          1.613,
          1.458,
          1.912,
          1.975,
          2.121,
          2.241,
          1.796,
          1.812,
          1.742,
          2.026,
          2.061,
          2.241,
          2.258,
          2.497,
          2.488,
          2.278,
          2.262,
          2.373,
          2.478,
          2.619,
          2.414,
          2.192,
          2.122,
          2.043,
          2.06,
          1.871,
          1.761,
          1.723,
          1.87,
          1.697,
          0.974,
          0.958,
          0.904,
          0.918,
          0.897,
          0.879,
          0.747,
          0.734,
          0.706,
          0.717,
          0.721,
          0.745,
          0.745,
          0.738,
          0.749,
          0.717,
          0.728,
          0.752,
          0.763,
          0.759,
          0.735,
          0.764,
          0.734,
          0.744,
          0.78,
          0.836,
          0.923,
          0.986,
          1.057,
          1.13,
          1.182,
          1.238,
          1.277,
          1.456,
          1.593,
          1.559,
          1.49,
          1.502,
          1.362,
          1.232,
          0.933,
          0.949,
          0.897,
          0.836,
          0.772,
          0.809,
          0.717,
          0.798,
          0.882,
          0.891,
          0.759,
          0.72,
          0.916,
          0.786,
          0.763,
          0.818,
          0.862,
          0.981,
          0.939,
          1.017,
          1.261,
          1.114,
          1.177,
          1.191,
          1.135,
          1.171,
          1.196,
          1.041,
          0.974,
          1.042,
          1.011,
          1.038,
          1.084,
          1.13,
          1.203,
          1.227,
          1.274,
          1.422,
          1.36,
          1.449,
          1.517,
          1.457,
          1.317,
          1.242,
          1.159,
          1.241,
          1.398,
          1.361,
          1.281,
          1.227,
          1.136,
          1.067,
          1.02,
          0.938,
          0.905,
          0.901,
          0.951,
          1.099,
          1.153,
          1.02,
          0.895,
          0.911,
          0.917,
          0.969,
          0.938,
          0.919,
          0.924,
          0.902,
          0.906,
          0.941,
          0.927,
          0.912,
          0.957,
          0.955,
          1.211,
          1.534,
          1.545,
          1.498,
          1.512,
          1.524,
          1.438,
          1.39,
          1.338,
          1.387,
          1.455,
          1.496,
          1.549,
          1.601,
          1.696,
          1.72,
          1.674,
          1.714,
          1.699,
          1.698,
          1.627,
          1.637,
          1.698,
          1.672,
          1.627,
          1.461,
          1.497,
          1.508,
          1.582,
          1.54,
          1.528,
          1.554,
          1.581,
          1.699,
          1.606,
          1.57,
          1.295,
          1.214,
          1.142,
          1.188,
          1.271,
          1.238,
          1.293,
          1.213,
          1.297,
          1.302,
          1.383,
          1.361,
          1.299,
          1.265,
          1.226,
          1.168,
          1.246,
          1.295,
          1.365,
          1.37,
          1.462,
          1.466,
          1.516,
          1.521,
          1.554,
          1.61,
          1.88,
          1.855,
          1.983,
          2.016,
          2.013,
          2.017,
          2.121,
          1.979,
          1.947,
          1.911,
          2.271,
          1.991,
          0.539,
          0.448,
          0.418,
          0.357,
          0.308,
          0.475,
          0.489,
          0.451,
          0.501,
          0.659,
          0.724,
          0.768,
          0.76,
          0.736,
          0.692,
          0.704,
          0.676,
          0.658,
          0.675,
          0.789,
          0.766,
          0.731,
          0.733,
          0.74,
          0.736,
          0.756,
          0.805,
          0.799,
          0.809,
          0.856,
          0.944,
          1.139,
          1.114,
          1.223,
          1.217,
          1.254,
          1.36,
          1.361,
          1.385,
          1.468,
          1.464,
          1.459,
          1.435,
          1.389,
          1.393,
          1.388,
          1.441,
          1.452,
          1.51,
          1.594,
          1.68,
          1.65,
          1.709,
          1.869,
          1.94,
          1.811,
          1.641,
          1.645,
          1.964,
          1.821,
          1.689,
          1.816,
          1.726,
          1.724,
          1.744,
          1.805,
          1.552,
          1.44,
          1.57,
          1.618,
          1.535,
          0.71,
          0.719,
          0.754,
          0.751,
          0.749,
          0.774,
          0.729,
          0.707,
          0.713,
          0.755,
          0.762,
          0.819,
          0.813,
          0.802,
          0.793,
          0.764,
          0.646,
          0.664,
          0.642,
          0.67,
          0.67,
          0.672,
          0.654,
          0.699,
          0.735,
          0.763,
          0.758,
          0.727,
          0.677,
          0.657,
          0.637,
          0.685,
          0.644,
          0.528,
          0.663,
          0.639,
          0.612,
          0.594,
          0.588,
          0.587,
          0.595,
          0.58,
          0.62,
          0.618,
          0.599,
          1.469,
          1.315,
          1.322,
          1.522,
          1.2,
          1.485,
          1.573,
          1.494,
          1.381,
          1.422,
          1.473,
          1.563,
          1.735,
          1.635,
          1.639,
          1.566,
          1.657,
          1.518,
          0.832,
          0.887,
          0.959,
          1.098,
          2.087,
          2.087,
          2.078,
          1.964,
          1.956,
          1.889,
          1.989,
          1.462,
          1.247,
          1.325,
          1.311,
          1.279,
          1.295,
          1.262,
          1.253,
          1.219,
          1.207,
          1.339,
          1.343,
          1.574,
          1.593,
          1.482,
          1.487,
          1.439,
          1.8,
          2.36,
          0.653,
          0.629,
          0.601,
          0.609,
          0.581,
          0.568,
          0.564,
          0.559,
          0.548,
          0.553,
          0.591,
          0.584,
          0.606,
          0.628,
          0.661,
          0.701,
          0.698,
          0.682,
          0.711,
          0.727,
          0.811,
          0.861,
          0.839,
          0.847,
          0.839,
          0.808,
          0.907,
          0.935,
          0.927,
          0.95,
          0.988,
          1.03,
          1.017,
          1.014,
          0.969,
          0.986,
          0.925,
          0.96,
          0.961,
          0.956,
          0.861,
          0.812,
          0.794,
          0.798,
          0.793,
          0.767,
          0.739,
          0.74,
          0.772,
          0.764,
          0.716,
          0.342,
          0.338,
          0.332,
          0.338,
          0.346,
          0.369,
          0.366,
          0.353,
          0.338,
          0.322,
          0.596,
          0.59,
          0.614,
          0.621,
          0.599,
          0.584,
          0.622,
          0.635,
          0.485,
          0.498,
          0.542,
          0.573,
          0.593,
          0.745,
          0.677,
          0.692,
          0.694,
          0.746,
          0.808,
          0.809,
          0.787,
          0.8,
          0.903,
          0.908,
          0.885,
          0.802,
          0.728,
          0.688,
          0.629,
          0.687,
          0.678,
          0.699,
          0.674,
          0.673,
          0.695,
          0.773,
          0.797,
          0.781,
          0.728,
          0.73,
          0.808,
          0.723,
          0.572,
          0.644,
          0.684,
          0.62,
          0.658,
          0.671,
          0.66,
          0.65,
          0.73,
          0.819,
          0.865,
          0.895,
          0.916,
          0.999,
          1.028,
          1.03,
          1.099,
          1.027,
          1.002,
          1.019,
          0.851,
          0.885,
          0.977,
          0.866,
          1.79,
          1.88,
          1.819,
          1.728,
          1.672,
          1.559,
          1.569,
          1.619,
          1.574,
          1.518,
          1.394,
          1.406,
          1.357,
          1.359,
          1.379,
          1.338,
          1.313,
          1.273,
          1.282,
          1.224,
          0.322,
          0.846,
          1.021,
          1.026,
          1.005,
          0.978,
          0.965,
          0.969,
          1.019,
          1.393,
          1.365,
          1.462,
          1.397,
          1.344,
          1.396,
          1.497,
          1.568,
          1.691,
          1.673,
          1.748,
          1.835,
          1.833,
          1.783,
          1.855,
          1.915,
          1.955,
          2.011,
          2.106,
          2.114,
          2.07,
          2.034,
          2.006,
          2.023,
          1.928,
          1.782,
          1.65,
          1.511,
          1.485,
          1.48,
          1.449,
          1.397,
          1.381,
          1.406,
          1.65,
          1.624,
          1.101,
          1.48,
          1.564,
          1.419,
          1.334,
          1.298,
          1.311,
          1.395,
          1.721,
          1.641,
          2.05,
          1.775,
          1.652,
          1.579,
          1.347,
          1.362,
          1.473,
          1.544,
          1.548,
          1.926,
          1.839,
          1.848,
          2.07,
          2.192,
          2.212,
          2.193,
          2.132,
          2.108,
          2.098,
          2.339,
          2.238,
          2.096,
          2,
          1.989,
          1.861,
          1.817,
          1.854,
          1.783,
          1.701,
          1.691,
          1.691,
          1.631,
          1.772,
          1.718,
          1.686,
          1.704,
          1.654,
          1.508,
          1.498,
          1.687,
          1.694,
          1.669,
          1.755,
          1.756,
          1.576,
          1.555,
          1.549,
          1.506,
          1.486,
          1.476,
          1.628,
          1.572,
          0.416,
          0.455,
          0.506,
          0.554,
          0.555,
          0.552,
          0.547,
          0.576,
          0.565,
          0.548,
          0.539,
          0.549,
          0.578,
          0.579,
          0.547,
          0.556,
          0.557,
          0.578,
          0.532,
          0.608,
          0.617,
          0.654,
          0.75,
          0.858,
          0.9,
          0.931,
          1.055,
          0.94,
          1.042,
          1.072,
          1.063,
          1.174,
          1.228,
          1.202,
          1.167,
          1.155,
          1.142,
          1.111,
          1.14,
          1.205,
          1.13,
          1.091,
          1.112,
          1.096,
          1.097,
          1.09,
          1.11,
          1.06,
          1.085,
          1.04,
          1.095,
          1.04,
          0.276,
          0.277,
          0.261,
          0.231,
          0.207,
          0.227,
          0.253,
          0.539,
          0.829,
          1.218,
          1.279,
          0.857,
          0.885,
          0.918,
          0.986,
          1.033,
          1.013,
          1.006,
          0.999,
          1.049,
          1.104,
          1.157,
          1.225,
          1.344,
          1.436,
          1.575,
          1.718,
          1.833,
          1.869,
          1.872,
          1.931,
          1.942,
          1.961,
          2.085,
          2.028,
          2.006,
          1.958,
          1.915,
          2.029,
          2.095,
          2.06,
          2.004,
          1.957,
          1.961,
          2.07,
          2.039
         ],
         "xaxis": "x",
         "y": [
          33.99,
          34.184,
          37.956,
          45.338,
          44.363,
          44.34,
          45.407,
          48.127,
          47.307,
          54.875,
          62.73,
          65.245,
          72.629,
          76.085,
          81.784,
          86.545,
          90.907,
          100.971,
          111.925,
          122.156,
          134.997,
          148.927,
          164.472,
          181.941,
          196.205,
          215.33,
          232.169,
          259.041,
          287.245,
          338.103,
          367.853,
          381.433,
          406.438,
          441.202,
          437.125,
          457.715,
          486.408,
          516.333,
          530.969,
          561.659,
          583.222,
          589.993,
          586.402,
          569.455,
          594.233,
          650.539,
          622.908,
          619.256,
          617.729,
          680.868,
          150.163,
          158.596,
          168.787,
          180.292,
          190.767,
          199.061,
          212.567,
          253.988,
          287.561,
          322.489,
          357.062,
          368.742,
          407.91,
          435.142,
          453.933,
          460.159,
          482.397,
          511.897,
          538.527,
          505.931,
          520.448,
          534.067,
          553.478,
          566.622,
          589.981,
          607.648,
          621.653,
          642.378,
          659.52,
          665.852,
          711.325,
          764.767,
          42.05,
          46.626,
          51.474,
          61.827,
          68.928,
          73.393,
          72.63,
          81.649,
          89.427,
          97.873,
          102.927,
          107.311,
          114.228,
          122.594,
          121.765,
          135.801,
          148.417,
          161.07,
          183.216,
          195.372,
          202.058,
          221.636,
          248.41,
          276.285,
          283.138,
          301.872,
          302.676,
          317.541,
          504.999,
          528.023,
          526.39,
          524.904,
          549.591,
          526.611,
          526.238,
          540.994,
          551.654,
          541.621,
          556.791,
          561.59,
          591.141,
          603.742,
          592.17,
          601.265,
          613.639,
          615.681,
          649.344,
          231.652,
          233.474,
          243.791,
          267.287,
          275.732,
          308.211,
          474.182,
          432.714,
          491.214,
          516.436,
          587.206,
          625.801,
          625.647,
          616.927,
          692.585,
          758.71,
          248.338,
          244.67,
          250.063,
          261.617,
          272.831,
          32.684,
          36.13,
          37.076,
          40.128,
          42.13,
          45.427,
          48.668,
          51.69,
          55.495,
          62.866,
          70.739,
          84.104,
          90.358,
          97.554,
          107.828,
          122.028,
          137.551,
          150.106,
          166.34,
          184.661,
          202.518,
          219.057,
          241.917,
          258.297,
          267.114,
          285.008,
          291.519,
          319.143,
          345.516,
          369.052,
          406.817,
          444.045,
          480.949,
          520.034,
          561.774,
          594.446,
          625.283,
          657.556,
          674.417,
          692.029,
          755.74,
          755.06,
          756.825,
          754.272,
          754.336,
          774.778,
          838.504,
          849.457,
          850.075,
          827.573,
          836.93,
          865.337,
          914.325,
          530.899,
          539.795,
          566.963,
          595.626,
          611.906,
          636.994,
          676.592,
          687.401,
          703.786,
          716.538,
          761.87,
          803.203,
          320.69,
          298.149,
          328.995,
          144.302,
          154.548,
          159.429,
          171.109,
          177.532,
          175.759,
          175.023,
          167.223,
          193.603,
          201.037,
          192.399,
          110.724,
          143.799,
          141.242,
          133.065,
          142.363,
          312.892,
          316.318,
          325.949,
          333.753,
          360.638,
          379.08,
          369.053,
          333.517,
          322.562,
          320.284,
          331.247,
          340.102,
          383.794,
          426.097,
          440.257,
          474.21,
          431.324,
          440.737,
          578.65,
          118.867,
          94.247,
          114.227,
          147.174,
          204.86,
          228.554,
          237.604,
          236.938,
          222.991,
          229.864,
          253.005,
          289.845,
          317.795,
          351.182,
          375.84,
          391.508,
          366.301,
          368.845,
          381.104,
          453.587,
          431.282,
          435.792,
          453.465,
          454.121,
          465.57,
          468.988,
          496.858,
          509.941,
          510.498,
          516.51,
          579.669,
          574.76,
          42.897,
          48.392,
          53.476,
          58.791,
          67.371,
          76.314,
          84.135,
          89.661,
          101.799,
          111.144,
          126.192,
          141.852,
          146.128,
          156.959,
          170.747,
          185.72,
          199.065,
          215.973,
          236.538,
          236.529,
          253.628,
          310.196,
          280.891,
          292.926,
          309.583,
          333.769,
          335.385,
          357.933,
          377.398,
          407.469,
          441.874,
          483.022,
          493.455,
          475.303,
          518.404,
          533.928,
          574.357,
          606.585,
          632.661,
          663.249,
          652.43,
          670.593,
          693.51,
          739.786,
          761.448,
          819.478,
          850.084,
          891.861,
          880.199,
          947.679,
          1042.46,
          50.227,
          53.591,
          59.177,
          64.287,
          67.987,
          75.963,
          84.952,
          86.179,
          96.266,
          95.463,
          109.862,
          120.869,
          126.264,
          143.142,
          154.562,
          160.002,
          166.166,
          175.836,
          198.446,
          197.474,
          212.719,
          222.095,
          255.15,
          251.656,
          260.561,
          258.681,
          286.756,
          316.624,
          314.596,
          305.733,
          336.878,
          327.597,
          320.08,
          308.592,
          310.753,
          316.719,
          321.823,
          332.76,
          341.553,
          353.819,
          372.045,
          372.623,
          401.686,
          72.028,
          77.447,
          86.325,
          86.813,
          82.612,
          93.576,
          92.704,
          100.816,
          117.334,
          134.069,
          152.479,
          222.776,
          239.197,
          262.641,
          282.031,
          303.135,
          334.654,
          358.995,
          408.498,
          431.589,
          438.984,
          441.063,
          450.565,
          449.583,
          467.136,
          472.568,
          466.75,
          446.39,
          431.254,
          449.956,
          446.084,
          461.926,
          499.864,
          510.509,
          521.52,
          520.4,
          560.405,
          594.795,
          101.901,
          123.756,
          139.139,
          169.659,
          179.993,
          208.687,
          205.453,
          199.165,
          226.421,
          242.689,
          261.29,
          278.947,
          278.915,
          305.288,
          316.199,
          327.705,
          340.315,
          385.885,
          386.474,
          410.725,
          407.201,
          421.946,
          451.763,
          20.985,
          24.95,
          28.063,
          29.563,
          32.696,
          36.768,
          40.974,
          44.422,
          48.256,
          52.02,
          55.273,
          60.427,
          63.251,
          70.139,
          75.603,
          81.96,
          87.041,
          95.322,
          102.523,
          111.299,
          124.446,
          139.657,
          148.99,
          155.151,
          167.29,
          192.792,
          210.958,
          224.894,
          223.195,
          250.551,
          282.198,
          306.595,
          344.581,
          354.069,
          388.045,
          405.017,
          389.562,
          425.837,
          457.118,
          445,
          446.764,
          448.472,
          460.321,
          472.552,
          467.218,
          484.533,
          515.993,
          515.952,
          536.801,
          541.881,
          567.335,
          591.864,
          46.908,
          75.415,
          108.14,
          165.96,
          252.162,
          275.805,
          290.913,
          315.667,
          325.216,
          323.389,
          330.285,
          345.815,
          368.527,
          398.617,
          454.16,
          498.362,
          541.758,
          536.658,
          559.044,
          573.536,
          581.556,
          594.425,
          606.492,
          609.668,
          621.644,
          622.837,
          619.827,
          676.497,
          680.255,
          673.38,
          695.401,
          705.241,
          698.524,
          696.842,
          743.835,
          765.575,
          19.614,
          21.457,
          23.051,
          24.357,
          29.428,
          28.643,
          32.064,
          35.612,
          40.438,
          44.467,
          52.095,
          58.075,
          64.976,
          71.72,
          79.042,
          82.486,
          87.199,
          91.868,
          100.894,
          109.306,
          113.364,
          123.888,
          140.457,
          154.532,
          168.843,
          176.424,
          193.853,
          449.818,
          456.257,
          458.246,
          471.393,
          474.684,
          471.311,
          481.75,
          528.752,
          517.288,
          95.012,
          104.155,
          115.601,
          135.989,
          158.029,
          173.091,
          190.818,
          194.263,
          206.003,
          217.478,
          192.313,
          209.652,
          281.854,
          324.459,
          389.24,
          503.399,
          519.224,
          547.175,
          615.122,
          651.201,
          734.77,
          748.159,
          749.826,
          709.328,
          622.251,
          572.577,
          567.977,
          578.16,
          631.254,
          647.113,
          632.89,
          666.093,
          750.761,
          740.123,
          449.42,
          465.814,
          349.071,
          318.187,
          320.895,
          362.974,
          380.543,
          385.931,
          413.623,
          450.481,
          469.013,
          177.438,
          180.992,
          198.823,
          220.826,
          183.099,
          188.948,
          192.992,
          295.567,
          337.883,
          376.61,
          402.121,
          457.642,
          483.381,
          452.144,
          476.311,
          490.503,
          554.391,
          614.461,
          575.517,
          551.813,
          561.219,
          563.595,
          589.379,
          554.629,
          563.842,
          574.811,
          621.505,
          632.293,
          37.2,
          38.899,
          41.409,
          48.617,
          52.105,
          55.666,
          51.754,
          54.485,
          54.89,
          59.536,
          63.928,
          68.507,
          73.839,
          79.803,
          91.092,
          96.086,
          100.722,
          109.326,
          118.811,
          125.914,
          136.152,
          152.74,
          161.814,
          184.401,
          209.317,
          259.398,
          308.097,
          357.489,
          389.095,
          439.097,
          478.63,
          527.657,
          553.508,
          581.225,
          583.463,
          600.152,
          588.288,
          616.252,
          568.401,
          542.059,
          548.009,
          578.508,
          589.555,
          593.089,
          572.237,
          611.829,
          625.365,
          28.437,
          38.402,
          43.415,
          42.803,
          46.62,
          58.281,
          56.601,
          65.76,
          80.924,
          92.839,
          120.025,
          128.115,
          149.004,
          179.242,
          164.259,
          182.192,
          206.045,
          225.963,
          234.682,
          239.008,
          220.216,
          212.391,
          221.745,
          216.987,
          235.052,
          249.758,
          269.332,
          312.746,
          338.45,
          370.923,
          424.768,
          427.571,
          470.918,
          484.45,
          509.515,
          482.889,
          492.809,
          494.023,
          537.29,
          554.651,
          531.339,
          517.476,
          509.66,
          486.27,
          466.895,
          472.054,
          455.666,
          450.201,
          455.714,
          478.53,
          529.272,
          604.981,
          632.479,
          232.584,
          252.131,
          247.078,
          267.541,
          268.492,
          279.705,
          294.604,
          290.03,
          287.708,
          309.568,
          329.683,
          333.69,
          364.146,
          360.875,
          451.622,
          242.881,
          261.488,
          273.02,
          290.283,
          301.412,
          284.56,
          284.259,
          286.138,
          305.288,
          333.384,
          358.5,
          381.619,
          429.62,
          471.653,
          501.305,
          489.341,
          514.622,
          510.092,
          535.788,
          539.188,
          562.602,
          557.06,
          582.095,
          574.551,
          510.916,
          519.224,
          516.479,
          551.703,
          577.766,
          594.489,
          625.637,
          651.265,
          662.612,
          691.708,
          748.081,
          113.323,
          145.151,
          147.09,
          162.442,
          185.826,
          199.967,
          227.937,
          233.282,
          266.744,
          275.869,
          296.49,
          299.07,
          297.368,
          302.192,
          298.214,
          281.881,
          302.756,
          340.098,
          366.913,
          384.942,
          428.518,
          448.278,
          489.158,
          506.852,
          537.234,
          557.041,
          623.452,
          648.83,
          707.419,
          749.96,
          812.268,
          813.859,
          891.136,
          797.703,
          806.324,
          810.493,
          954.452,
          835.93,
          3.976,
          3.628,
          3.754,
          3.853,
          3.826,
          6.505,
          7.968,
          8.546,
          11.123,
          16.948,
          19.307,
          23.16,
          25.939,
          29.488,
          31.634,
          35.477,
          39.33,
          44.306,
          52.782,
          67.744,
          75.144,
          79.721,
          85.532,
          93.46,
          101.429,
          115.405,
          130.478,
          135.67,
          128.674,
          147.512,
          175.568,
          221.635,
          236.974,
          269.091,
          286.454,
          308.164,
          351.33,
          381.905,
          399.108,
          427.538,
          464.663,
          477.438,
          484.619,
          473.375,
          480.067,
          519.359,
          554.942,
          574.407,
          618.331,
          641.797,
          722.445,
          740.501,
          803.251,
          267.716,
          304.161,
          313.348,
          329.984,
          351.979,
          352.772,
          366.467,
          386.597,
          453.815,
          468.395,
          495.942,
          515.108,
          570.369,
          535.543,
          528.595,
          602.343,
          622.44,
          654.752,
          60.128,
          63.006,
          74.606,
          83.703,
          93.153,
          102.724,
          103.473,
          106.374,
          115.811,
          128.669,
          144.592,
          164.381,
          183.43,
          207.18,
          220.448,
          232.561,
          227.52,
          252.509,
          255.563,
          287.122,
          298.88,
          338.318,
          376.489,
          407.024,
          462.209,
          483.735,
          497.269,
          498.272,
          525.621,
          542.908,
          555.407,
          563.008,
          543.835,
          428.823,
          554.233,
          565.568,
          550.605,
          548.094,
          565.786,
          570.39,
          596.77,
          570.325,
          610.829,
          683.994,
          706.372,
          188.585,
          189.344,
          217.575,
          299.618,
          240.268,
          245.2,
          277.587,
          281.155,
          295.051,
          323.219,
          346.969,
          388.369,
          456.477,
          459.41,
          492.906,
          479.593,
          509.939,
          523.942,
          90.205,
          103.114,
          112.922,
          129.947,
          247.284,
          269.151,
          274.714,
          285.489,
          295.376,
          298.247,
          295.992,
          227.703,
          206.052,
          227.68,
          226.219,
          227.957,
          240.501,
          250.617,
          252.536,
          254.189,
          247.519,
          263.922,
          279.02,
          516.201,
          575.784,
          570.587,
          622.204,
          633.735,
          817.212,
          947.614,
          36.08,
          38.209,
          41.167,
          44.807,
          46.871,
          49.722,
          54.18,
          58.294,
          63.144,
          67.711,
          74.904,
          77.52,
          87.005,
          93.786,
          103.232,
          113.058,
          120.049,
          126.614,
          142.348,
          152.244,
          174.608,
          190.046,
          192.769,
          203.723,
          211.859,
          216.569,
          258.031,
          283.513,
          318.355,
          339.924,
          376.751,
          376.391,
          390.264,
          399.59,
          408.591,
          444.177,
          436.684,
          425.964,
          423.464,
          426.645,
          390.837,
          377.565,
          370.976,
          380.966,
          392.751,
          398.395,
          404.562,
          411.939,
          426.507,
          456.017,
          472.093,
          13.208,
          14.239,
          14.915,
          16.755,
          19.766,
          23.276,
          25.372,
          26.816,
          27.906,
          30.409,
          67.039,
          73.48,
          80.154,
          86.599,
          91.848,
          96.851,
          101.53,
          107.108,
          83.498,
          90.746,
          104.245,
          115.539,
          123.026,
          162.161,
          155.02,
          168.364,
          186.204,
          211.798,
          227.099,
          241.838,
          285.304,
          293.627,
          340.848,
          340.564,
          367.833,
          361.461,
          366.17,
          369.924,
          366.041,
          355.65,
          365.574,
          397.13,
          402.861,
          416.312,
          427.469,
          439.572,
          446.702,
          476.049,
          474.604,
          453.009,
          472.666,
          513.409,
          25.961,
          43.188,
          59.362,
          61.063,
          68.07,
          75.853,
          80.094,
          80.634,
          96.564,
          112.83,
          125.741,
          136.465,
          140.639,
          150.424,
          159.495,
          174.078,
          197.089,
          193.03,
          195.076,
          203.749,
          223.715,
          234.745,
          275.817,
          264.084,
          228.42,
          246.776,
          259.635,
          248.394,
          260.35,
          278.92,
          300.86,
          322.516,
          346.358,
          361.408,
          351.322,
          362.625,
          362.176,
          385.842,
          411.073,
          419.371,
          438.06,
          439.759,
          451.159,
          479.358,
          6.345,
          32.726,
          43.584,
          47.875,
          53.603,
          56.307,
          59.903,
          62.09,
          64.674,
          96.461,
          106.653,
          125.428,
          133.84,
          140.35,
          159.532,
          181.97,
          200.361,
          215.912,
          224.556,
          245.113,
          267.414,
          282.889,
          288.408,
          354.319,
          379.443,
          409.288,
          423.655,
          460.771,
          478.311,
          495.923,
          505.755,
          512.518,
          501.813,
          495.787,
          450.09,
          413.738,
          402.222,
          403.211,
          418.613,
          434.328,
          436.34,
          459.974,
          476.286,
          524.715,
          558.506,
          89.719,
          142.581,
          153.445,
          161.701,
          181.785,
          215.627,
          209.121,
          242.137,
          320.393,
          323.816,
          406.056,
          369.803,
          363.502,
          388.742,
          367.124,
          409.492,
          475.315,
          508.626,
          569.563,
          229.096,
          239.524,
          263.001,
          326.289,
          352.728,
          376.255,
          396.543,
          417.939,
          465.38,
          508.8,
          532.417,
          587.244,
          567.145,
          556.726,
          571.491,
          543.317,
          553.2,
          542.415,
          521.065,
          512.545,
          516.996,
          504.235,
          530.716,
          383.621,
          378.946,
          394.479,
          404.794,
          420.082,
          414.8,
          438.139,
          447.479,
          458.749,
          464.769,
          489.476,
          501.439,
          463.397,
          470.778,
          500.273,
          521.07,
          546.854,
          559.466,
          599.589,
          644.19,
          20.855,
          23.808,
          28.143,
          33.528,
          37.792,
          42.964,
          45.505,
          49.96,
          52.146,
          57.024,
          62.649,
          67.801,
          74.714,
          78.556,
          80.359,
          85.978,
          91.642,
          100.65,
          98.83,
          121.532,
          128.534,
          135.518,
          155.381,
          170.571,
          187.679,
          206.178,
          241.058,
          222.756,
          258.376,
          286.758,
          318.668,
          356.468,
          394.618,
          386.867,
          398.142,
          398.239,
          427.008,
          448.046,
          474.447,
          474.24,
          466.014,
          467.145,
          484.705,
          475.572,
          487.696,
          504.915,
          524.404,
          512.816,
          537.282,
          517.451,
          554.039,
          576.078,
          9.685,
          10.331,
          10.565,
          10.054,
          9.674,
          11.917,
          13.239,
          33.578,
          56.802,
          100.909,
          120.135,
          171.834,
          189.545,
          209.722,
          235.469,
          251.462,
          257.468,
          265.437,
          276.718,
          300.923,
          330.937,
          363.952,
          402.545,
          463.851,
          521.677,
          584.779,
          652.646,
          723.841,
          779.91,
          826.029,
          894.044,
          933.087,
          952.447,
          984.105,
          986.63,
          1004.205,
          1013.8,
          1020.541,
          1118.634,
          1189.437,
          1192.301,
          1200.769,
          1229.266,
          1277.032,
          1315.218,
          1432.309
         ],
         "yaxis": "y"
        },
        {
         "hovertemplate": "<b>OLS trendline</b><br>USD_CAP = 303.274 * PC_GDP + -30.3582<br>R<sup>2</sup>=0.413566<br><br>GDP per Capita=%{x}<br>Health Spend per Capita (USD)=%{y} <b>(trend)</b><extra></extra>",
         "legendgroup": "",
         "marker": {
          "symbol": "circle"
         },
         "mode": "lines",
         "name": "",
         "showlegend": false,
         "type": "scattergl",
         "x": [
          0.207,
          0.227,
          0.231,
          0.253,
          0.261,
          0.276,
          0.277,
          0.308,
          0.322,
          0.322,
          0.332,
          0.338,
          0.338,
          0.338,
          0.342,
          0.346,
          0.353,
          0.357,
          0.366,
          0.369,
          0.416,
          0.418,
          0.448,
          0.451,
          0.455,
          0.475,
          0.485,
          0.489,
          0.498,
          0.501,
          0.506,
          0.523,
          0.527,
          0.528,
          0.528,
          0.53,
          0.532,
          0.534,
          0.539,
          0.539,
          0.539,
          0.539,
          0.539,
          0.54,
          0.542,
          0.546,
          0.547,
          0.547,
          0.547,
          0.548,
          0.548,
          0.549,
          0.552,
          0.553,
          0.554,
          0.555,
          0.555,
          0.556,
          0.557,
          0.559,
          0.563,
          0.564,
          0.564,
          0.565,
          0.566,
          0.568,
          0.569,
          0.572,
          0.573,
          0.573,
          0.576,
          0.577,
          0.577,
          0.578,
          0.578,
          0.579,
          0.579,
          0.58,
          0.58,
          0.581,
          0.582,
          0.582,
          0.584,
          0.584,
          0.584,
          0.587,
          0.588,
          0.59,
          0.591,
          0.591,
          0.593,
          0.594,
          0.595,
          0.595,
          0.596,
          0.599,
          0.599,
          0.599,
          0.6,
          0.601,
          0.603,
          0.605,
          0.606,
          0.606,
          0.607,
          0.608,
          0.609,
          0.612,
          0.612,
          0.613,
          0.614,
          0.617,
          0.618,
          0.62,
          0.62,
          0.621,
          0.622,
          0.623,
          0.627,
          0.628,
          0.628,
          0.629,
          0.629,
          0.63,
          0.633,
          0.633,
          0.635,
          0.637,
          0.637,
          0.638,
          0.639,
          0.642,
          0.642,
          0.644,
          0.644,
          0.644,
          0.645,
          0.646,
          0.646,
          0.646,
          0.647,
          0.649,
          0.65,
          0.65,
          0.653,
          0.654,
          0.654,
          0.655,
          0.657,
          0.657,
          0.658,
          0.658,
          0.658,
          0.659,
          0.66,
          0.661,
          0.662,
          0.662,
          0.662,
          0.662,
          0.663,
          0.664,
          0.664,
          0.665,
          0.668,
          0.67,
          0.67,
          0.67,
          0.671,
          0.671,
          0.672,
          0.673,
          0.673,
          0.674,
          0.675,
          0.676,
          0.677,
          0.677,
          0.677,
          0.677,
          0.678,
          0.68,
          0.681,
          0.681,
          0.682,
          0.682,
          0.684,
          0.685,
          0.685,
          0.685,
          0.685,
          0.687,
          0.688,
          0.69,
          0.69,
          0.691,
          0.692,
          0.692,
          0.693,
          0.694,
          0.694,
          0.695,
          0.695,
          0.697,
          0.698,
          0.699,
          0.699,
          0.701,
          0.701,
          0.704,
          0.704,
          0.706,
          0.706,
          0.707,
          0.707,
          0.71,
          0.711,
          0.713,
          0.715,
          0.716,
          0.717,
          0.717,
          0.717,
          0.717,
          0.718,
          0.718,
          0.719,
          0.719,
          0.72,
          0.72,
          0.72,
          0.721,
          0.723,
          0.724,
          0.725,
          0.726,
          0.727,
          0.727,
          0.728,
          0.728,
          0.728,
          0.728,
          0.729,
          0.73,
          0.73,
          0.731,
          0.731,
          0.733,
          0.734,
          0.734,
          0.735,
          0.735,
          0.735,
          0.736,
          0.736,
          0.737,
          0.738,
          0.739,
          0.74,
          0.74,
          0.74,
          0.742,
          0.744,
          0.744,
          0.745,
          0.745,
          0.745,
          0.746,
          0.746,
          0.747,
          0.749,
          0.749,
          0.749,
          0.749,
          0.75,
          0.751,
          0.751,
          0.752,
          0.754,
          0.754,
          0.755,
          0.755,
          0.756,
          0.758,
          0.759,
          0.759,
          0.759,
          0.76,
          0.76,
          0.76,
          0.76,
          0.762,
          0.763,
          0.763,
          0.763,
          0.763,
          0.764,
          0.764,
          0.764,
          0.764,
          0.766,
          0.767,
          0.768,
          0.771,
          0.772,
          0.772,
          0.772,
          0.773,
          0.774,
          0.775,
          0.778,
          0.778,
          0.779,
          0.78,
          0.78,
          0.781,
          0.782,
          0.783,
          0.786,
          0.786,
          0.787,
          0.789,
          0.792,
          0.793,
          0.793,
          0.794,
          0.794,
          0.797,
          0.798,
          0.798,
          0.798,
          0.799,
          0.799,
          0.799,
          0.8,
          0.802,
          0.802,
          0.804,
          0.805,
          0.806,
          0.808,
          0.808,
          0.808,
          0.809,
          0.809,
          0.809,
          0.811,
          0.812,
          0.813,
          0.813,
          0.818,
          0.819,
          0.819,
          0.819,
          0.82,
          0.823,
          0.827,
          0.829,
          0.829,
          0.832,
          0.836,
          0.836,
          0.836,
          0.838,
          0.839,
          0.839,
          0.839,
          0.844,
          0.846,
          0.847,
          0.85,
          0.851,
          0.851,
          0.851,
          0.856,
          0.856,
          0.857,
          0.858,
          0.86,
          0.86,
          0.861,
          0.861,
          0.862,
          0.865,
          0.866,
          0.874,
          0.879,
          0.881,
          0.882,
          0.883,
          0.885,
          0.885,
          0.885,
          0.887,
          0.891,
          0.895,
          0.895,
          0.896,
          0.896,
          0.897,
          0.897,
          0.899,
          0.9,
          0.901,
          0.902,
          0.903,
          0.904,
          0.905,
          0.906,
          0.907,
          0.907,
          0.908,
          0.911,
          0.912,
          0.916,
          0.916,
          0.916,
          0.917,
          0.918,
          0.918,
          0.919,
          0.923,
          0.924,
          0.925,
          0.925,
          0.927,
          0.927,
          0.929,
          0.931,
          0.932,
          0.933,
          0.935,
          0.938,
          0.938,
          0.939,
          0.94,
          0.941,
          0.944,
          0.949,
          0.95,
          0.951,
          0.951,
          0.951,
          0.955,
          0.956,
          0.957,
          0.958,
          0.959,
          0.96,
          0.961,
          0.965,
          0.969,
          0.969,
          0.969,
          0.969,
          0.971,
          0.974,
          0.974,
          0.977,
          0.978,
          0.978,
          0.98,
          0.981,
          0.981,
          0.986,
          0.986,
          0.986,
          0.988,
          0.99,
          0.991,
          0.991,
          0.996,
          0.996,
          0.999,
          0.999,
          0.999,
          1,
          1.002,
          1.002,
          1.004,
          1.005,
          1.006,
          1.007,
          1.011,
          1.012,
          1.013,
          1.014,
          1.017,
          1.017,
          1.018,
          1.019,
          1.019,
          1.02,
          1.02,
          1.021,
          1.023,
          1.026,
          1.026,
          1.027,
          1.028,
          1.03,
          1.03,
          1.032,
          1.033,
          1.036,
          1.037,
          1.037,
          1.038,
          1.04,
          1.04,
          1.041,
          1.042,
          1.042,
          1.044,
          1.045,
          1.045,
          1.049,
          1.051,
          1.052,
          1.053,
          1.053,
          1.055,
          1.057,
          1.058,
          1.058,
          1.058,
          1.06,
          1.062,
          1.063,
          1.066,
          1.066,
          1.067,
          1.072,
          1.074,
          1.074,
          1.074,
          1.079,
          1.08,
          1.081,
          1.084,
          1.084,
          1.084,
          1.085,
          1.087,
          1.087,
          1.09,
          1.09,
          1.091,
          1.093,
          1.093,
          1.094,
          1.094,
          1.095,
          1.095,
          1.095,
          1.096,
          1.096,
          1.097,
          1.097,
          1.097,
          1.098,
          1.098,
          1.099,
          1.099,
          1.101,
          1.101,
          1.101,
          1.104,
          1.104,
          1.104,
          1.108,
          1.108,
          1.109,
          1.11,
          1.111,
          1.112,
          1.112,
          1.112,
          1.114,
          1.114,
          1.115,
          1.117,
          1.118,
          1.118,
          1.121,
          1.121,
          1.121,
          1.123,
          1.125,
          1.125,
          1.128,
          1.129,
          1.13,
          1.13,
          1.13,
          1.13,
          1.132,
          1.132,
          1.133,
          1.134,
          1.135,
          1.136,
          1.136,
          1.138,
          1.139,
          1.139,
          1.14,
          1.141,
          1.142,
          1.142,
          1.142,
          1.144,
          1.145,
          1.146,
          1.148,
          1.148,
          1.149,
          1.15,
          1.15,
          1.151,
          1.151,
          1.153,
          1.153,
          1.153,
          1.154,
          1.155,
          1.155,
          1.155,
          1.156,
          1.157,
          1.158,
          1.159,
          1.159,
          1.162,
          1.163,
          1.163,
          1.163,
          1.164,
          1.165,
          1.165,
          1.165,
          1.167,
          1.168,
          1.168,
          1.168,
          1.168,
          1.17,
          1.17,
          1.171,
          1.171,
          1.171,
          1.171,
          1.172,
          1.172,
          1.174,
          1.174,
          1.175,
          1.176,
          1.177,
          1.177,
          1.178,
          1.179,
          1.18,
          1.181,
          1.182,
          1.182,
          1.183,
          1.184,
          1.186,
          1.187,
          1.187,
          1.188,
          1.189,
          1.19,
          1.19,
          1.191,
          1.191,
          1.192,
          1.192,
          1.194,
          1.195,
          1.196,
          1.196,
          1.196,
          1.197,
          1.2,
          1.2,
          1.2,
          1.2,
          1.201,
          1.202,
          1.203,
          1.203,
          1.203,
          1.205,
          1.206,
          1.207,
          1.207,
          1.211,
          1.211,
          1.212,
          1.213,
          1.213,
          1.213,
          1.214,
          1.214,
          1.214,
          1.215,
          1.217,
          1.218,
          1.219,
          1.219,
          1.219,
          1.22,
          1.22,
          1.221,
          1.223,
          1.223,
          1.224,
          1.224,
          1.225,
          1.225,
          1.226,
          1.227,
          1.227,
          1.228,
          1.229,
          1.229,
          1.23,
          1.231,
          1.232,
          1.232,
          1.233,
          1.234,
          1.234,
          1.236,
          1.236,
          1.237,
          1.237,
          1.237,
          1.238,
          1.238,
          1.238,
          1.239,
          1.239,
          1.241,
          1.241,
          1.242,
          1.242,
          1.242,
          1.243,
          1.243,
          1.244,
          1.246,
          1.247,
          1.249,
          1.249,
          1.25,
          1.25,
          1.251,
          1.253,
          1.254,
          1.255,
          1.255,
          1.256,
          1.257,
          1.259,
          1.259,
          1.261,
          1.262,
          1.262,
          1.265,
          1.265,
          1.265,
          1.266,
          1.267,
          1.267,
          1.267,
          1.267,
          1.269,
          1.27,
          1.271,
          1.271,
          1.272,
          1.273,
          1.273,
          1.274,
          1.274,
          1.274,
          1.277,
          1.277,
          1.277,
          1.278,
          1.279,
          1.279,
          1.281,
          1.282,
          1.286,
          1.286,
          1.292,
          1.293,
          1.294,
          1.295,
          1.295,
          1.295,
          1.297,
          1.297,
          1.298,
          1.298,
          1.299,
          1.299,
          1.3,
          1.3,
          1.302,
          1.303,
          1.304,
          1.306,
          1.306,
          1.307,
          1.307,
          1.309,
          1.311,
          1.311,
          1.312,
          1.313,
          1.315,
          1.315,
          1.316,
          1.317,
          1.32,
          1.322,
          1.322,
          1.322,
          1.323,
          1.325,
          1.325,
          1.326,
          1.326,
          1.327,
          1.328,
          1.33,
          1.334,
          1.335,
          1.338,
          1.338,
          1.338,
          1.339,
          1.341,
          1.342,
          1.343,
          1.343,
          1.344,
          1.344,
          1.347,
          1.349,
          1.349,
          1.354,
          1.357,
          1.357,
          1.358,
          1.359,
          1.36,
          1.36,
          1.361,
          1.361,
          1.361,
          1.362,
          1.362,
          1.365,
          1.365,
          1.369,
          1.369,
          1.37,
          1.372,
          1.376,
          1.377,
          1.379,
          1.379,
          1.381,
          1.381,
          1.381,
          1.382,
          1.382,
          1.383,
          1.383,
          1.384,
          1.385,
          1.387,
          1.388,
          1.389,
          1.39,
          1.39,
          1.392,
          1.393,
          1.393,
          1.393,
          1.394,
          1.395,
          1.395,
          1.396,
          1.397,
          1.397,
          1.398,
          1.403,
          1.404,
          1.406,
          1.406,
          1.406,
          1.41,
          1.41,
          1.412,
          1.413,
          1.418,
          1.419,
          1.42,
          1.422,
          1.422,
          1.422,
          1.425,
          1.43,
          1.432,
          1.433,
          1.435,
          1.436,
          1.437,
          1.438,
          1.439,
          1.439,
          1.44,
          1.441,
          1.447,
          1.447,
          1.449,
          1.449,
          1.452,
          1.455,
          1.455,
          1.456,
          1.457,
          1.457,
          1.457,
          1.458,
          1.459,
          1.459,
          1.459,
          1.461,
          1.462,
          1.462,
          1.462,
          1.463,
          1.464,
          1.465,
          1.465,
          1.466,
          1.468,
          1.469,
          1.473,
          1.473,
          1.473,
          1.475,
          1.476,
          1.479,
          1.479,
          1.48,
          1.48,
          1.481,
          1.482,
          1.485,
          1.485,
          1.486,
          1.486,
          1.487,
          1.488,
          1.49,
          1.493,
          1.493,
          1.494,
          1.496,
          1.497,
          1.497,
          1.497,
          1.497,
          1.498,
          1.498,
          1.5,
          1.502,
          1.505,
          1.506,
          1.508,
          1.508,
          1.509,
          1.51,
          1.511,
          1.512,
          1.514,
          1.516,
          1.517,
          1.518,
          1.518,
          1.518,
          1.518,
          1.521,
          1.521,
          1.522,
          1.524,
          1.524,
          1.524,
          1.525,
          1.528,
          1.528,
          1.533,
          1.534,
          1.534,
          1.535,
          1.536,
          1.539,
          1.54,
          1.54,
          1.54,
          1.54,
          1.541,
          1.542,
          1.543,
          1.544,
          1.544,
          1.545,
          1.545,
          1.548,
          1.548,
          1.549,
          1.549,
          1.549,
          1.552,
          1.554,
          1.554,
          1.555,
          1.555,
          1.558,
          1.559,
          1.559,
          1.563,
          1.563,
          1.564,
          1.564,
          1.566,
          1.568,
          1.569,
          1.569,
          1.57,
          1.57,
          1.572,
          1.572,
          1.573,
          1.574,
          1.574,
          1.575,
          1.576,
          1.579,
          1.581,
          1.582,
          1.582,
          1.583,
          1.584,
          1.584,
          1.593,
          1.593,
          1.594,
          1.594,
          1.594,
          1.596,
          1.6,
          1.601,
          1.605,
          1.606,
          1.607,
          1.608,
          1.608,
          1.61,
          1.612,
          1.612,
          1.613,
          1.614,
          1.618,
          1.619,
          1.62,
          1.62,
          1.621,
          1.621,
          1.624,
          1.624,
          1.626,
          1.627,
          1.627,
          1.628,
          1.628,
          1.629,
          1.629,
          1.63,
          1.63,
          1.631,
          1.631,
          1.632,
          1.635,
          1.637,
          1.639,
          1.641,
          1.641,
          1.643,
          1.644,
          1.645,
          1.65,
          1.65,
          1.65,
          1.651,
          1.652,
          1.654,
          1.655,
          1.657,
          1.664,
          1.669,
          1.672,
          1.672,
          1.673,
          1.674,
          1.674,
          1.674,
          1.674,
          1.675,
          1.68,
          1.682,
          1.683,
          1.686,
          1.687,
          1.689,
          1.691,
          1.691,
          1.691,
          1.694,
          1.696,
          1.696,
          1.697,
          1.698,
          1.698,
          1.698,
          1.699,
          1.699,
          1.7,
          1.701,
          1.702,
          1.704,
          1.706,
          1.708,
          1.709,
          1.709,
          1.71,
          1.714,
          1.718,
          1.718,
          1.72,
          1.721,
          1.723,
          1.723,
          1.723,
          1.724,
          1.725,
          1.726,
          1.728,
          1.732,
          1.735,
          1.737,
          1.742,
          1.744,
          1.744,
          1.748,
          1.751,
          1.753,
          1.755,
          1.756,
          1.761,
          1.77,
          1.772,
          1.773,
          1.774,
          1.775,
          1.782,
          1.783,
          1.783,
          1.79,
          1.791,
          1.792,
          1.793,
          1.795,
          1.796,
          1.796,
          1.8,
          1.805,
          1.811,
          1.812,
          1.816,
          1.817,
          1.819,
          1.821,
          1.833,
          1.833,
          1.834,
          1.835,
          1.835,
          1.839,
          1.848,
          1.854,
          1.855,
          1.855,
          1.856,
          1.858,
          1.861,
          1.869,
          1.869,
          1.87,
          1.871,
          1.872,
          1.88,
          1.88,
          1.88,
          1.889,
          1.911,
          1.912,
          1.915,
          1.915,
          1.926,
          1.928,
          1.931,
          1.94,
          1.942,
          1.946,
          1.947,
          1.955,
          1.956,
          1.957,
          1.958,
          1.961,
          1.961,
          1.964,
          1.964,
          1.975,
          1.979,
          1.983,
          1.989,
          1.989,
          1.991,
          2,
          2,
          2.004,
          2.006,
          2.006,
          2.011,
          2.013,
          2.016,
          2.017,
          2.023,
          2.026,
          2.028,
          2.029,
          2.034,
          2.039,
          2.043,
          2.05,
          2.06,
          2.06,
          2.061,
          2.07,
          2.07,
          2.07,
          2.076,
          2.078,
          2.085,
          2.087,
          2.087,
          2.095,
          2.096,
          2.098,
          2.106,
          2.108,
          2.114,
          2.121,
          2.121,
          2.122,
          2.132,
          2.136,
          2.173,
          2.192,
          2.192,
          2.193,
          2.206,
          2.212,
          2.219,
          2.22,
          2.229,
          2.23,
          2.238,
          2.239,
          2.241,
          2.241,
          2.255,
          2.255,
          2.258,
          2.262,
          2.271,
          2.278,
          2.314,
          2.324,
          2.339,
          2.339,
          2.36,
          2.362,
          2.362,
          2.373,
          2.402,
          2.414,
          2.433,
          2.436,
          2.454,
          2.478,
          2.481,
          2.488,
          2.494,
          2.497,
          2.573,
          2.588,
          2.595,
          2.618,
          2.619,
          2.657,
          2.664,
          2.68,
          2.739,
          2.761,
          2.766,
          2.77,
          2.846,
          2.848,
          2.87
         ],
         "xaxis": "x",
         "y": [
          32.41945522769448,
          38.48493054643032,
          39.698025610177496,
          46.37004846078692,
          48.796238588281255,
          53.345345077333135,
          53.64861884326993,
          63.05010558731047,
          67.29593831042557,
          67.29593831042557,
          70.3286759697935,
          72.14831856541424,
          72.14831856541424,
          72.14831856541424,
          73.36141362916142,
          74.57450869290857,
          76.69742505446611,
          77.91052011821328,
          80.63998401164442,
          81.5498053094548,
          95.80367230848401,
          96.4102198403576,
          105.50843281846136,
          106.41825411627175,
          107.63134918001893,
          113.69682449875475,
          116.72956215812266,
          117.94265722186984,
          120.67212111530097,
          121.58194241311134,
          123.09831124279532,
          128.25396526372077,
          129.46706032746795,
          129.77033409340473,
          129.77033409340473,
          130.37688162527832,
          130.9834291571519,
          131.5899766890255,
          133.10634551870945,
          133.10634551870945,
          133.10634551870945,
          133.10634551870945,
          133.10634551870945,
          133.40961928464625,
          134.01616681651984,
          135.229261880267,
          135.5325356462038,
          135.5325356462038,
          135.5325356462038,
          135.83580941214058,
          135.83580941214058,
          136.13908317807739,
          137.04890447588775,
          137.35217824182456,
          137.65545200776134,
          137.95872577369815,
          137.95872577369815,
          138.26199953963493,
          138.5652733055717,
          139.1718208374453,
          140.38491590119244,
          140.68818966712922,
          140.68818966712922,
          140.99146343306603,
          141.2947371990028,
          141.9012847308764,
          142.2045584968132,
          143.11437979462357,
          143.41765356056035,
          143.41765356056035,
          144.32747485837075,
          144.63074862430753,
          144.63074862430753,
          144.93402239024434,
          144.93402239024434,
          145.23729615618112,
          145.23729615618112,
          145.5405699221179,
          145.5405699221179,
          145.8438436880547,
          146.14711745399148,
          146.14711745399148,
          146.75366498586507,
          146.75366498586507,
          146.75366498586507,
          147.66348628367547,
          147.96676004961225,
          148.57330758148584,
          148.87658134742261,
          148.87658134742261,
          149.4831288792962,
          149.786402645233,
          150.0896764111698,
          150.0896764111698,
          150.3929501771066,
          151.30277147491697,
          151.30277147491697,
          151.30277147491697,
          151.60604524085375,
          151.90931900679055,
          152.51586653866414,
          153.12241407053773,
          153.4256878364745,
          153.4256878364745,
          153.7289616024113,
          154.0322353683481,
          154.33550913428488,
          155.24533043209527,
          155.24533043209527,
          155.54860419803205,
          155.85187796396886,
          156.76169926177923,
          157.064973027716,
          157.6715205595896,
          157.6715205595896,
          157.9747943255264,
          158.27806809146318,
          158.5813418574,
          159.79443692114714,
          160.09771068708395,
          160.09771068708395,
          160.40098445302073,
          160.40098445302073,
          160.70425821895753,
          161.6140795167679,
          161.6140795167679,
          162.2206270486415,
          162.82717458051508,
          162.82717458051508,
          163.13044834645186,
          163.43372211238866,
          164.34354341019903,
          164.34354341019903,
          164.95009094207262,
          164.95009094207262,
          164.95009094207262,
          165.2533647080094,
          165.5566384739462,
          165.5566384739462,
          165.5566384739462,
          165.859912239883,
          166.46645977175658,
          166.76973353769338,
          166.76973353769338,
          167.67955483550375,
          167.98282860144053,
          167.98282860144053,
          168.28610236737734,
          168.89264989925093,
          168.89264989925093,
          169.1959236651877,
          169.1959236651877,
          169.1959236651877,
          169.49919743112451,
          169.8024711970613,
          170.1057449629981,
          170.40901872893488,
          170.40901872893488,
          170.40901872893488,
          170.40901872893488,
          170.71229249487166,
          171.01556626080847,
          171.01556626080847,
          171.31884002674525,
          172.22866132455565,
          172.83520885642923,
          172.83520885642923,
          172.83520885642923,
          173.138482622366,
          173.138482622366,
          173.4417563883028,
          173.7450301542396,
          173.7450301542396,
          174.04830392017638,
          174.3515776861132,
          174.65485145204997,
          174.95812521798678,
          174.95812521798678,
          174.95812521798678,
          174.95812521798678,
          175.26139898392356,
          175.86794651579714,
          176.17122028173392,
          176.17122028173392,
          176.47449404767073,
          176.47449404767073,
          177.08104157954432,
          177.3843153454811,
          177.3843153454811,
          177.3843153454811,
          177.3843153454811,
          177.9908628773547,
          178.29413664329144,
          178.90068417516503,
          178.90068417516503,
          179.20395794110183,
          179.5072317070386,
          179.5072317070386,
          179.81050547297542,
          180.1137792389122,
          180.1137792389122,
          180.41705300484898,
          180.41705300484898,
          181.02360053672257,
          181.32687430265938,
          181.63014806859616,
          181.63014806859616,
          182.23669560046974,
          182.23669560046974,
          183.14651689828014,
          183.14651689828014,
          183.7530644301537,
          183.7530644301537,
          184.0563381960905,
          184.0563381960905,
          184.96615949390088,
          185.26943325983768,
          185.87598079171127,
          186.48252832358483,
          186.78580208952164,
          187.08907585545842,
          187.08907585545842,
          187.08907585545842,
          187.08907585545842,
          187.39234962139523,
          187.39234962139523,
          187.695623387332,
          187.695623387332,
          187.9988971532688,
          187.9988971532688,
          187.9988971532688,
          188.3021709192056,
          188.90871845107918,
          189.21199221701596,
          189.51526598295277,
          189.81853974888955,
          190.12181351482636,
          190.12181351482636,
          190.42508728076314,
          190.42508728076314,
          190.42508728076314,
          190.42508728076314,
          190.72836104669994,
          191.03163481263672,
          191.03163481263672,
          191.33490857857353,
          191.33490857857353,
          191.9414561104471,
          192.2447298763839,
          192.2447298763839,
          192.54800364232068,
          192.54800364232068,
          192.54800364232068,
          192.8512774082575,
          192.8512774082575,
          193.15455117419427,
          193.45782494013108,
          193.76109870606786,
          194.06437247200466,
          194.06437247200466,
          194.06437247200466,
          194.67092000387822,
          195.2774675357518,
          195.2774675357518,
          195.58074130168862,
          195.58074130168862,
          195.58074130168862,
          195.8840150676254,
          195.8840150676254,
          196.1872888335622,
          196.7938363654358,
          196.7938363654358,
          196.7938363654358,
          196.7938363654358,
          197.09711013137257,
          197.40038389730935,
          197.40038389730935,
          197.70365766324616,
          198.31020519511975,
          198.31020519511975,
          198.61347896105653,
          198.61347896105653,
          198.91675272699334,
          199.52330025886693,
          199.8265740248037,
          199.8265740248037,
          199.8265740248037,
          200.12984779074048,
          200.12984779074048,
          200.12984779074048,
          200.12984779074048,
          200.73639532261407,
          201.03966908855088,
          201.03966908855088,
          201.03966908855088,
          201.03966908855088,
          201.34294285448766,
          201.34294285448766,
          201.34294285448766,
          201.34294285448766,
          201.94949038636125,
          202.25276415229806,
          202.55603791823484,
          203.4658592160452,
          203.769132981982,
          203.769132981982,
          203.769132981982,
          204.0724067479188,
          204.3756805138556,
          204.67895427979238,
          205.58877557760275,
          205.58877557760275,
          205.89204934353955,
          206.19532310947633,
          206.19532310947633,
          206.49859687541314,
          206.80187064134992,
          207.10514440728673,
          208.0149657050971,
          208.0149657050971,
          208.31823947103388,
          208.92478700290746,
          209.83460830071786,
          210.13788206665464,
          210.13788206665464,
          210.44115583259145,
          210.44115583259145,
          211.35097713040182,
          211.6542508963386,
          211.6542508963386,
          211.6542508963386,
          211.9575246622754,
          211.9575246622754,
          211.9575246622754,
          212.26079842821218,
          212.86734596008577,
          212.86734596008577,
          213.47389349195936,
          213.77716725789617,
          214.08044102383295,
          214.68698855570653,
          214.68698855570653,
          214.68698855570653,
          214.9902623216433,
          214.9902623216433,
          214.9902623216433,
          215.5968098535169,
          215.9000836194537,
          216.20335738539046,
          216.20335738539046,
          217.71972621507442,
          218.02299998101122,
          218.02299998101122,
          218.02299998101122,
          218.326273746948,
          219.23609504475837,
          220.44919010850555,
          221.05573764037914,
          221.05573764037914,
          221.9655589381895,
          223.17865400193668,
          223.17865400193668,
          223.17865400193668,
          223.78520153381027,
          224.08847529974705,
          224.08847529974705,
          224.08847529974705,
          225.60484412943103,
          226.2113916613046,
          226.5146654272414,
          227.42448672505176,
          227.72776049098857,
          227.72776049098857,
          227.72776049098857,
          229.24412932067256,
          229.24412932067256,
          229.5474030866093,
          229.85067685254612,
          230.45722438441967,
          230.45722438441967,
          230.76049815035648,
          230.76049815035648,
          231.0637719162933,
          231.97359321410366,
          232.27686698004047,
          234.70305710753482,
          236.21942593721874,
          236.82597346909236,
          237.1292472350291,
          237.43252100096592,
          238.03906853283948,
          238.03906853283948,
          238.03906853283948,
          238.6456160647131,
          239.85871112846027,
          241.07180619220745,
          241.07180619220745,
          241.3750799581442,
          241.3750799581442,
          241.678353724081,
          241.678353724081,
          242.28490125595462,
          242.58817502189137,
          242.89144878782818,
          243.194722553765,
          243.49799631970174,
          243.80127008563855,
          244.10454385157536,
          244.40781761751217,
          244.71109138344892,
          244.71109138344892,
          245.01436514938572,
          245.9241864471961,
          246.2274602131329,
          247.44055527688008,
          247.44055527688008,
          247.44055527688008,
          247.74382904281688,
          248.04710280875364,
          248.04710280875364,
          248.35037657469044,
          249.56347163843762,
          249.86674540437443,
          250.17001917031118,
          250.17001917031118,
          250.7765667021848,
          250.7765667021848,
          251.38311423405835,
          251.98966176593197,
          252.29293553186872,
          252.59620929780553,
          253.20275682967915,
          254.11257812748946,
          254.11257812748946,
          254.41585189342626,
          254.71912565936307,
          255.02239942529982,
          255.93222072311025,
          257.44858955279415,
          257.751863318731,
          258.05513708466776,
          258.05513708466776,
          258.05513708466776,
          259.2682321484149,
          259.57150591435175,
          259.8747796802885,
          260.17805344622536,
          260.4813272121621,
          260.78460097809887,
          261.08787474403573,
          262.30096980778285,
          263.5140648715301,
          263.5140648715301,
          263.5140648715301,
          263.5140648715301,
          264.1206124034036,
          265.03043370121395,
          265.03043370121395,
          265.9402549990243,
          266.2435287649612,
          266.2435287649612,
          266.8500762968348,
          267.15335006277155,
          267.15335006277155,
          268.66971889245553,
          268.66971889245553,
          268.66971889245553,
          269.27626642432904,
          269.88281395620265,
          270.1860877221394,
          270.1860877221394,
          271.7024565518234,
          271.7024565518234,
          272.61227784963376,
          272.61227784963376,
          272.61227784963376,
          272.9155516155706,
          273.5220991474441,
          273.5220991474441,
          274.12864667931774,
          274.4319204452545,
          274.73519421119136,
          275.0384679771281,
          276.2515630408752,
          276.5548368068121,
          276.85811057274884,
          277.1613843386857,
          278.0712056364961,
          278.0712056364961,
          278.3744794024328,
          278.6777531683696,
          278.6777531683696,
          278.98102693430644,
          278.98102693430644,
          279.2843007002432,
          279.8908482321168,
          280.8006695299272,
          280.8006695299272,
          281.1039432958639,
          281.4072170618008,
          282.0137645936744,
          282.0137645936744,
          282.6203121255479,
          282.92358589148466,
          283.83340718929514,
          284.1366809552319,
          284.1366809552319,
          284.43995472116865,
          285.04650225304226,
          285.04650225304226,
          285.349776018979,
          285.6530497849159,
          285.6530497849159,
          286.2595973167895,
          286.56287108272625,
          286.56287108272625,
          287.77596614647337,
          288.382513678347,
          288.68578744428385,
          288.9890612102206,
          288.9890612102206,
          289.5956087420941,
          290.2021562739677,
          290.5054300399046,
          290.5054300399046,
          290.5054300399046,
          291.1119775717781,
          291.7185251036517,
          292.02179886958845,
          292.93162016739893,
          292.93162016739893,
          293.2348939333357,
          294.75126276301967,
          295.35781029489317,
          295.35781029489317,
          295.35781029489317,
          296.87417912457715,
          297.177452890514,
          297.48072665645077,
          298.39054795426114,
          298.39054795426114,
          298.39054795426114,
          298.6938217201979,
          299.3003692520715,
          299.3003692520715,
          300.2101905498819,
          300.2101905498819,
          300.5134643158186,
          301.12001184769224,
          301.12001184769224,
          301.4232856136291,
          301.4232856136291,
          301.72655937956586,
          301.72655937956586,
          301.72655937956586,
          302.0298331455026,
          302.0298331455026,
          302.3331069114395,
          302.3331069114395,
          302.3331069114395,
          302.6363806773762,
          302.6363806773762,
          302.939654443313,
          302.939654443313,
          303.5462019751866,
          303.5462019751866,
          303.5462019751866,
          304.45602327299696,
          304.45602327299696,
          304.45602327299696,
          305.6691183367442,
          305.6691183367442,
          305.97239210268094,
          306.2756658686178,
          306.57893963455456,
          306.8822134004913,
          306.8822134004913,
          306.8822134004913,
          307.4887609323649,
          307.4887609323649,
          307.7920346983017,
          308.3985822301753,
          308.70185599611204,
          308.70185599611204,
          309.6116772939224,
          309.6116772939224,
          309.6116772939224,
          310.218224825796,
          310.82477235766964,
          310.82477235766964,
          311.7345936554799,
          312.03786742141676,
          312.3411411873535,
          312.3411411873535,
          312.3411411873535,
          312.3411411873535,
          312.94768871922713,
          312.94768871922713,
          313.250962485164,
          313.55423625110075,
          313.8575100170375,
          314.16078378297425,
          314.16078378297425,
          314.76733131484787,
          315.07060508078473,
          315.07060508078473,
          315.3738788467215,
          315.67715261265823,
          315.980426378595,
          315.980426378595,
          315.980426378595,
          316.5869739104686,
          316.89024767640547,
          317.1935214423422,
          317.80006897421583,
          317.80006897421583,
          318.1033427401526,
          318.40661650608934,
          318.40661650608934,
          318.7098902720262,
          318.7098902720262,
          319.3164378038998,
          319.3164378038998,
          319.3164378038998,
          319.61971156983657,
          319.9229853357733,
          319.9229853357733,
          319.9229853357733,
          320.2262591017102,
          320.52953286764694,
          320.8328066335837,
          321.13608039952055,
          321.13608039952055,
          322.0459016973309,
          322.34917546326767,
          322.34917546326767,
          322.34917546326767,
          322.6524492292044,
          322.9557229951413,
          322.9557229951413,
          322.9557229951413,
          323.5622705270149,
          323.86554429295165,
          323.86554429295165,
          323.86554429295165,
          323.86554429295165,
          324.47209182482527,
          324.47209182482527,
          324.775365590762,
          324.775365590762,
          324.775365590762,
          324.775365590762,
          325.0786393566988,
          325.0786393566988,
          325.6851868885724,
          325.6851868885724,
          325.98846065450925,
          326.291734420446,
          326.59500818638276,
          326.59500818638276,
          326.8982819523195,
          327.2015557182564,
          327.5048294841931,
          327.80810325013,
          328.11137701606674,
          328.11137701606674,
          328.4146507820036,
          328.71792454794036,
          329.32447207981386,
          329.6277458457507,
          329.6277458457507,
          329.9310196116875,
          330.23429337762434,
          330.5375671435611,
          330.5375671435611,
          330.84084090949784,
          330.84084090949784,
          331.1441146754347,
          331.1441146754347,
          331.7506622073082,
          332.0539359732451,
          332.3572097391818,
          332.3572097391818,
          332.3572097391818,
          332.6604835051187,
          333.57030480292894,
          333.57030480292894,
          333.57030480292894,
          333.57030480292894,
          333.8735785688658,
          334.17685233480256,
          334.4801261007394,
          334.4801261007394,
          334.4801261007394,
          335.08667363261304,
          335.3899473985498,
          335.69322116448654,
          335.69322116448654,
          336.9063162282338,
          336.9063162282338,
          337.2095899941705,
          337.5128637601073,
          337.5128637601073,
          337.5128637601073,
          337.81613752604403,
          337.81613752604403,
          337.81613752604403,
          338.1194112919809,
          338.7259588238545,
          339.02923258979126,
          339.3325063557281,
          339.3325063557281,
          339.3325063557281,
          339.6357801216649,
          339.6357801216649,
          339.93905388760163,
          340.54560141947525,
          340.54560141947525,
          340.848875185412,
          340.848875185412,
          341.15214895134886,
          341.15214895134886,
          341.4554227172856,
          341.75869648322237,
          341.75869648322237,
          342.06197024915923,
          342.365244015096,
          342.365244015096,
          342.66851778103273,
          342.9717915469696,
          343.27506531290635,
          343.27506531290635,
          343.5783390788432,
          343.88161284477997,
          343.88161284477997,
          344.48816037665347,
          344.48816037665347,
          344.79143414259033,
          344.79143414259033,
          344.79143414259033,
          345.0947079085271,
          345.0947079085271,
          345.0947079085271,
          345.39798167446395,
          345.39798167446395,
          346.00452920633757,
          346.00452920633757,
          346.3078029722743,
          346.3078029722743,
          346.3078029722743,
          346.61107673821107,
          346.61107673821107,
          346.9143505041478,
          347.52089803602144,
          347.8241718019583,
          348.4307193338318,
          348.4307193338318,
          348.73399309976867,
          348.73399309976867,
          349.0372668657054,
          349.6438143975789,
          349.9470881635158,
          350.25036192945254,
          350.25036192945254,
          350.5536356953894,
          350.85690946132615,
          351.46345699319966,
          351.46345699319966,
          352.0700045250733,
          352.37327829101014,
          352.37327829101014,
          353.2830995888205,
          353.2830995888205,
          353.2830995888205,
          353.58637335475726,
          353.889647120694,
          353.889647120694,
          353.889647120694,
          353.889647120694,
          354.4961946525676,
          354.7994684185045,
          355.10274218444124,
          355.10274218444124,
          355.406015950378,
          355.70928971631486,
          355.70928971631486,
          356.0125634822516,
          356.0125634822516,
          356.0125634822516,
          356.922384780062,
          356.922384780062,
          356.922384780062,
          357.22565854599884,
          357.5289323119356,
          357.5289323119356,
          358.1354798438091,
          358.43875360974596,
          359.6518486734932,
          359.6518486734932,
          361.4714912691139,
          361.7747650350507,
          362.07803880098743,
          362.3813125669242,
          362.3813125669242,
          362.3813125669242,
          362.9878600987978,
          362.9878600987978,
          363.29113386473466,
          363.29113386473466,
          363.5944076306714,
          363.5944076306714,
          363.8976813966083,
          363.8976813966083,
          364.5042289284818,
          364.80750269441853,
          365.1107764603554,
          365.717323992229,
          365.717323992229,
          366.02059775816576,
          366.02059775816576,
          366.6271452900394,
          367.2336928219129,
          367.2336928219129,
          367.53696658784975,
          367.8402403537865,
          368.4467878856601,
          368.4467878856601,
          368.75006165159687,
          369.0533354175336,
          369.9631567153441,
          370.5697042472177,
          370.5697042472177,
          370.5697042472177,
          370.87297801315447,
          371.47952554502797,
          371.47952554502797,
          371.78279931096483,
          371.78279931096483,
          372.0860730769016,
          372.38934684283845,
          372.99589437471195,
          374.2089894384592,
          374.51226320439594,
          375.4220845022063,
          375.4220845022063,
          375.4220845022063,
          375.72535826814305,
          376.33190580001667,
          376.63517956595354,
          376.9384533318903,
          376.9384533318903,
          377.24172709782704,
          377.24172709782704,
          378.1515483956374,
          378.758095927511,
          378.758095927511,
          380.274464757195,
          381.1842860550054,
          381.1842860550054,
          381.48755982094224,
          381.790833586879,
          382.09410735281574,
          382.09410735281574,
          382.3973811187525,
          382.3973811187525,
          382.3973811187525,
          382.70065488468936,
          382.70065488468936,
          383.6104761824997,
          383.6104761824997,
          384.82357124624684,
          384.82357124624684,
          385.1268450121837,
          385.7333925440573,
          386.94648760780433,
          387.2497613737412,
          387.8563089056148,
          387.8563089056148,
          388.4628564374884,
          388.4628564374884,
          388.4628564374884,
          388.7661302034252,
          388.7661302034252,
          389.06940396936193,
          389.06940396936193,
          389.3726777352987,
          389.67595150123555,
          390.28249903310916,
          390.5857727990459,
          390.88904656498266,
          391.1923203309194,
          391.1923203309194,
          391.79886786279303,
          392.1021416287299,
          392.1021416287299,
          392.1021416287299,
          392.40541539466665,
          392.7086891606035,
          392.7086891606035,
          393.01196292654026,
          393.315236692477,
          393.315236692477,
          393.61851045841377,
          395.13487928809775,
          395.4381530540346,
          396.0447005859081,
          396.0447005859081,
          396.0447005859081,
          397.25779564965535,
          397.25779564965535,
          397.86434318152885,
          398.1676169474657,
          399.6839857771497,
          399.98725954308645,
          400.2905333090232,
          400.8970808408968,
          400.8970808408968,
          400.8970808408968,
          401.8069021387072,
          403.32327096839117,
          403.9298185002648,
          404.23309226620154,
          404.83963979807515,
          405.1429135640119,
          405.44618732994877,
          405.7494610958855,
          406.0527348618224,
          406.0527348618224,
          406.35600862775914,
          406.6592823936959,
          408.4789249893166,
          408.4789249893166,
          409.08547252119024,
          409.08547252119024,
          409.9952938190006,
          410.905115116811,
          410.905115116811,
          411.2083888827477,
          411.5116626486846,
          411.5116626486846,
          411.5116626486846,
          411.81493641462134,
          412.1182101805582,
          412.1182101805582,
          412.1182101805582,
          412.7247577124317,
          413.0280314783686,
          413.0280314783686,
          413.0280314783686,
          413.3313052443053,
          413.6345790102421,
          413.93785277617894,
          413.93785277617894,
          414.2411265421157,
          414.8476740739893,
          415.15094783992606,
          416.3640429036733,
          416.3640429036733,
          416.3640429036733,
          416.9705904355469,
          417.27386420148366,
          418.18368549929403,
          418.18368549929403,
          418.4869592652308,
          418.4869592652308,
          418.79023303116765,
          419.0935067971044,
          420.00332809491476,
          420.00332809491476,
          420.3066018608515,
          420.3066018608515,
          420.6098756267884,
          420.91314939272513,
          421.51969692459875,
          422.4295182224091,
          422.4295182224091,
          422.73279198834587,
          423.3393395202195,
          423.64261328615623,
          423.64261328615623,
          423.64261328615623,
          423.64261328615623,
          423.9458870520931,
          423.9458870520931,
          424.5524345839666,
          425.1589821158402,
          426.0688034136506,
          426.37207717958734,
          426.97862471146095,
          426.97862471146095,
          427.2818984773977,
          427.58517224333457,
          427.8884460092713,
          428.1917197752082,
          428.7982673070817,
          429.4048148389553,
          429.70808860489205,
          430.0113623708289,
          430.0113623708289,
          430.0113623708289,
          430.0113623708289,
          430.9211836686393,
          430.9211836686393,
          431.22445743457604,
          431.83100496644965,
          431.83100496644965,
          431.83100496644965,
          432.1342787323864,
          433.0441000301968,
          433.0441000301968,
          434.56046885988076,
          434.8637426258176,
          434.8637426258176,
          435.1670163917544,
          435.4702901576911,
          436.3801114555015,
          436.68338522143836,
          436.68338522143836,
          436.68338522143836,
          436.68338522143836,
          436.9866589873751,
          437.28993275331186,
          437.5932065192486,
          437.8964802851855,
          437.8964802851855,
          438.1997540511222,
          438.1997540511222,
          439.1095753489327,
          439.1095753489327,
          439.41284911486946,
          439.41284911486946,
          439.41284911486946,
          440.3226704126798,
          440.92921794455344,
          440.92921794455344,
          441.2324917104902,
          441.2324917104902,
          442.14231300830056,
          442.4455867742373,
          442.4455867742373,
          443.65868183798455,
          443.65868183798455,
          443.9619556039213,
          443.9619556039213,
          444.5685031357949,
          445.17505066766853,
          445.4783244336053,
          445.4783244336053,
          445.78159819954215,
          445.78159819954215,
          446.38814573141565,
          446.38814573141565,
          446.6914194973524,
          446.99469326328926,
          446.99469326328926,
          447.297967029226,
          447.6012407951629,
          448.51106209297325,
          449.11760962484675,
          449.4208833907836,
          449.4208833907836,
          449.72415715672037,
          450.02743092265723,
          450.02743092265723,
          452.75689481608833,
          452.75689481608833,
          453.0601685820251,
          453.0601685820251,
          453.0601685820251,
          453.6667161138987,
          454.8798111776458,
          455.18308494358257,
          456.3961800073298,
          456.69945377326667,
          457.0027275392034,
          457.30600130514017,
          457.30600130514017,
          457.9125488370138,
          458.5190963688874,
          458.5190963688874,
          458.82237013482415,
          459.1256439007609,
          460.33873896450814,
          460.6420127304449,
          460.94528649638175,
          460.94528649638175,
          461.2485602623185,
          461.2485602623185,
          462.1583815601289,
          462.1583815601289,
          462.7649290920024,
          463.06820285793924,
          463.06820285793924,
          463.371476623876,
          463.371476623876,
          463.67475038981286,
          463.67475038981286,
          463.9780241557496,
          463.9780241557496,
          464.28129792168636,
          464.28129792168636,
          464.5845716876231,
          465.4943929854336,
          466.1009405173071,
          466.7074880491807,
          467.3140355810543,
          467.3140355810543,
          467.92058311292794,
          468.2238568788647,
          468.52713064480145,
          470.04349947448543,
          470.04349947448543,
          470.04349947448543,
          470.3467732404223,
          470.65004700635905,
          471.25659453823255,
          471.5598683041694,
          472.16641583604303,
          474.2893321976005,
          475.8057010272845,
          476.71552232509487,
          476.71552232509487,
          477.0187960910316,
          477.3220698569685,
          477.3220698569685,
          477.3220698569685,
          477.3220698569685,
          477.62534362290523,
          479.1417124525892,
          479.7482599844627,
          480.0515337503996,
          480.96135504820995,
          481.2646288141468,
          481.87117634602043,
          482.47772387789394,
          482.47772387789394,
          482.47772387789394,
          483.3875451757043,
          483.9940927075779,
          483.9940927075779,
          484.29736647351467,
          484.6006402394514,
          484.6006402394514,
          484.6006402394514,
          484.9039140053883,
          484.9039140053883,
          485.20718777132504,
          485.5104615372619,
          485.81373530319865,
          486.42028283507227,
          487.0268303669458,
          487.6333778988194,
          487.93665166475625,
          487.93665166475625,
          488.239925430693,
          489.4530204944401,
          490.66611555818736,
          490.66611555818736,
          491.27266309006086,
          491.5759368559977,
          492.18248438787134,
          492.18248438787134,
          492.18248438787134,
          492.4857581538081,
          492.78903191974496,
          493.0923056856817,
          493.6988532175552,
          494.91194828130244,
          495.8217695791128,
          496.4283171109864,
          497.9446859406703,
          498.5512334725439,
          498.5512334725439,
          499.76432853629115,
          500.6741498341014,
          501.280697365975,
          501.88724489784863,
          502.1905186637854,
          503.70688749346937,
          506.43635138690047,
          507.0428989187741,
          507.34617268471084,
          507.6494464506477,
          507.95272021658445,
          510.07563657814205,
          510.3789103440788,
          510.3789103440788,
          512.5018267056364,
          512.8051004715732,
          513.1083742375099,
          513.4116480034467,
          514.0181955353203,
          514.3214693012571,
          514.3214693012571,
          515.5345643650043,
          517.0509331946882,
          518.870575790309,
          519.1738495562458,
          520.386944619993,
          520.6902183859297,
          521.2967659178033,
          521.903313449677,
          525.5425986409184,
          525.5425986409184,
          525.8458724068553,
          526.149146172792,
          526.149146172792,
          527.3622412365391,
          530.0917051299704,
          531.9113477255911,
          532.2146214915279,
          532.2146214915279,
          532.5178952574647,
          533.1244427893382,
          534.0342640871486,
          536.4604542146429,
          536.4604542146429,
          536.7637279805798,
          537.0670017465166,
          537.3702755124533,
          539.7964656399477,
          539.7964656399477,
          539.7964656399477,
          542.5259295333788,
          549.1979523839882,
          549.501226149925,
          550.4110474477354,
          550.4110474477354,
          553.74705887304,
          554.3536064049136,
          555.263427702724,
          557.9928915961551,
          558.5994391280287,
          559.8125341917759,
          560.1158079577127,
          562.5419980852071,
          562.8452718511438,
          563.1485456170807,
          563.4518193830174,
          564.3616406808278,
          564.3616406808278,
          565.2714619786382,
          565.2714619786382,
          568.6074734039429,
          569.8205684676901,
          571.0336635314372,
          572.853306127058,
          572.853306127058,
          573.4598536589316,
          576.1893175523627,
          576.1893175523627,
          577.4024126161098,
          578.0089601479834,
          578.0089601479834,
          579.5253289776674,
          580.1318765095409,
          581.0416978073514,
          581.3449715732881,
          583.164614168909,
          584.0744354667193,
          584.6809829985929,
          584.9842567645296,
          586.5006255942136,
          588.0169944238976,
          589.2300894876448,
          591.3530058492022,
          594.3857435085703,
          594.3857435085703,
          594.689017274507,
          597.4184811679381,
          597.4184811679381,
          597.4184811679381,
          599.2381237635589,
          599.8446712954325,
          601.96758765699,
          602.5741351888637,
          602.5741351888637,
          605.000325316358,
          605.3035990822948,
          605.9101466141683,
          608.3363367416626,
          608.9428842735363,
          610.762526869157,
          612.8854432307145,
          612.8854432307145,
          613.1887169966512,
          616.2214546560193,
          617.4345497197664,
          628.6556790594277,
          634.4178806122268,
          634.4178806122268,
          634.7211543781635,
          638.6637133353419,
          640.4833559309627,
          642.6062722925201,
          642.9095460584571,
          645.639009951888,
          645.9422837178249,
          648.3684738453192,
          648.6717476112559,
          649.2782951431296,
          649.2782951431296,
          653.5241278662446,
          653.5241278662446,
          654.4339491640551,
          655.6470442278022,
          658.3765081212333,
          660.4994244827909,
          671.4172800565154,
          674.4500177158833,
          678.9991242049352,
          678.9991242049352,
          685.3678732896078,
          685.9744208214814,
          685.9744208214814,
          689.3104322467861,
          698.1053714589532,
          701.7446566501947,
          707.5068582029936,
          708.416679500804,
          713.8756072876663,
          721.1541776701494,
          722.0639989679596,
          724.1869153295172,
          726.006557925138,
          726.9163792229483,
          749.9651854341446,
          754.5142919231964,
          756.637208284754,
          763.6125049013002,
          763.9157786672371,
          775.4401817728351,
          777.5630981343927,
          782.4154783893814,
          800.308630579652,
          806.9806534302616,
          808.4970222599454,
          809.7101173236925,
          832.7589235348888,
          833.3654710667623,
          840.0374939173719
         ],
         "yaxis": "y"
        }
       ],
       "layout": {
        "coloraxis": {
         "colorbar": {
          "title": {
           "text": "Health Spend per Capita (USD)"
          }
         },
         "colorscale": [
          [
           0,
           "#1b3d1b"
          ],
          [
           0.25,
           "#2e6b2e"
          ],
          [
           0.5,
           "#4c8c4c"
          ],
          [
           0.75,
           "#6ea06e"
          ],
          [
           1,
           "#8fb88f"
          ]
         ]
        },
        "legend": {
         "tracegroupgap": 0
        },
        "template": {
         "data": {
          "bar": [
           {
            "error_x": {
             "color": "#2a3f5f"
            },
            "error_y": {
             "color": "#2a3f5f"
            },
            "marker": {
             "line": {
              "color": "#E5ECF6",
              "width": 0.5
             },
             "pattern": {
              "fillmode": "overlay",
              "size": 10,
              "solidity": 0.2
             }
            },
            "type": "bar"
           }
          ],
          "barpolar": [
           {
            "marker": {
             "line": {
              "color": "#E5ECF6",
              "width": 0.5
             },
             "pattern": {
              "fillmode": "overlay",
              "size": 10,
              "solidity": 0.2
             }
            },
            "type": "barpolar"
           }
          ],
          "carpet": [
           {
            "aaxis": {
             "endlinecolor": "#2a3f5f",
             "gridcolor": "white",
             "linecolor": "white",
             "minorgridcolor": "white",
             "startlinecolor": "#2a3f5f"
            },
            "baxis": {
             "endlinecolor": "#2a3f5f",
             "gridcolor": "white",
             "linecolor": "white",
             "minorgridcolor": "white",
             "startlinecolor": "#2a3f5f"
            },
            "type": "carpet"
           }
          ],
          "choropleth": [
           {
            "colorbar": {
             "outlinewidth": 0,
             "ticks": ""
            },
            "type": "choropleth"
           }
          ],
          "contour": [
           {
            "colorbar": {
             "outlinewidth": 0,
             "ticks": ""
            },
            "colorscale": [
             [
              0,
              "#0d0887"
             ],
             [
              0.1111111111111111,
              "#46039f"
             ],
             [
              0.2222222222222222,
              "#7201a8"
             ],
             [
              0.3333333333333333,
              "#9c179e"
             ],
             [
              0.4444444444444444,
              "#bd3786"
             ],
             [
              0.5555555555555556,
              "#d8576b"
             ],
             [
              0.6666666666666666,
              "#ed7953"
             ],
             [
              0.7777777777777778,
              "#fb9f3a"
             ],
             [
              0.8888888888888888,
              "#fdca26"
             ],
             [
              1,
              "#f0f921"
             ]
            ],
            "type": "contour"
           }
          ],
          "contourcarpet": [
           {
            "colorbar": {
             "outlinewidth": 0,
             "ticks": ""
            },
            "type": "contourcarpet"
           }
          ],
          "heatmap": [
           {
            "colorbar": {
             "outlinewidth": 0,
             "ticks": ""
            },
            "colorscale": [
             [
              0,
              "#0d0887"
             ],
             [
              0.1111111111111111,
              "#46039f"
             ],
             [
              0.2222222222222222,
              "#7201a8"
             ],
             [
              0.3333333333333333,
              "#9c179e"
             ],
             [
              0.4444444444444444,
              "#bd3786"
             ],
             [
              0.5555555555555556,
              "#d8576b"
             ],
             [
              0.6666666666666666,
              "#ed7953"
             ],
             [
              0.7777777777777778,
              "#fb9f3a"
             ],
             [
              0.8888888888888888,
              "#fdca26"
             ],
             [
              1,
              "#f0f921"
             ]
            ],
            "type": "heatmap"
           }
          ],
          "heatmapgl": [
           {
            "colorbar": {
             "outlinewidth": 0,
             "ticks": ""
            },
            "colorscale": [
             [
              0,
              "#0d0887"
             ],
             [
              0.1111111111111111,
              "#46039f"
             ],
             [
              0.2222222222222222,
              "#7201a8"
             ],
             [
              0.3333333333333333,
              "#9c179e"
             ],
             [
              0.4444444444444444,
              "#bd3786"
             ],
             [
              0.5555555555555556,
              "#d8576b"
             ],
             [
              0.6666666666666666,
              "#ed7953"
             ],
             [
              0.7777777777777778,
              "#fb9f3a"
             ],
             [
              0.8888888888888888,
              "#fdca26"
             ],
             [
              1,
              "#f0f921"
             ]
            ],
            "type": "heatmapgl"
           }
          ],
          "histogram": [
           {
            "marker": {
             "pattern": {
              "fillmode": "overlay",
              "size": 10,
              "solidity": 0.2
             }
            },
            "type": "histogram"
           }
          ],
          "histogram2d": [
           {
            "colorbar": {
             "outlinewidth": 0,
             "ticks": ""
            },
            "colorscale": [
             [
              0,
              "#0d0887"
             ],
             [
              0.1111111111111111,
              "#46039f"
             ],
             [
              0.2222222222222222,
              "#7201a8"
             ],
             [
              0.3333333333333333,
              "#9c179e"
             ],
             [
              0.4444444444444444,
              "#bd3786"
             ],
             [
              0.5555555555555556,
              "#d8576b"
             ],
             [
              0.6666666666666666,
              "#ed7953"
             ],
             [
              0.7777777777777778,
              "#fb9f3a"
             ],
             [
              0.8888888888888888,
              "#fdca26"
             ],
             [
              1,
              "#f0f921"
             ]
            ],
            "type": "histogram2d"
           }
          ],
          "histogram2dcontour": [
           {
            "colorbar": {
             "outlinewidth": 0,
             "ticks": ""
            },
            "colorscale": [
             [
              0,
              "#0d0887"
             ],
             [
              0.1111111111111111,
              "#46039f"
             ],
             [
              0.2222222222222222,
              "#7201a8"
             ],
             [
              0.3333333333333333,
              "#9c179e"
             ],
             [
              0.4444444444444444,
              "#bd3786"
             ],
             [
              0.5555555555555556,
              "#d8576b"
             ],
             [
              0.6666666666666666,
              "#ed7953"
             ],
             [
              0.7777777777777778,
              "#fb9f3a"
             ],
             [
              0.8888888888888888,
              "#fdca26"
             ],
             [
              1,
              "#f0f921"
             ]
            ],
            "type": "histogram2dcontour"
           }
          ],
          "mesh3d": [
           {
            "colorbar": {
             "outlinewidth": 0,
             "ticks": ""
            },
            "type": "mesh3d"
           }
          ],
          "parcoords": [
           {
            "line": {
             "colorbar": {
              "outlinewidth": 0,
              "ticks": ""
             }
            },
            "type": "parcoords"
           }
          ],
          "pie": [
           {
            "automargin": true,
            "type": "pie"
           }
          ],
          "scatter": [
           {
            "fillpattern": {
             "fillmode": "overlay",
             "size": 10,
             "solidity": 0.2
            },
            "type": "scatter"
           }
          ],
          "scatter3d": [
           {
            "line": {
             "colorbar": {
              "outlinewidth": 0,
              "ticks": ""
             }
            },
            "marker": {
             "colorbar": {
              "outlinewidth": 0,
              "ticks": ""
             }
            },
            "type": "scatter3d"
           }
          ],
          "scattercarpet": [
           {
            "marker": {
             "colorbar": {
              "outlinewidth": 0,
              "ticks": ""
             }
            },
            "type": "scattercarpet"
           }
          ],
          "scattergeo": [
           {
            "marker": {
             "colorbar": {
              "outlinewidth": 0,
              "ticks": ""
             }
            },
            "type": "scattergeo"
           }
          ],
          "scattergl": [
           {
            "marker": {
             "colorbar": {
              "outlinewidth": 0,
              "ticks": ""
             }
            },
            "type": "scattergl"
           }
          ],
          "scattermapbox": [
           {
            "marker": {
             "colorbar": {
              "outlinewidth": 0,
              "ticks": ""
             }
            },
            "type": "scattermapbox"
           }
          ],
          "scatterpolar": [
           {
            "marker": {
             "colorbar": {
              "outlinewidth": 0,
              "ticks": ""
             }
            },
            "type": "scatterpolar"
           }
          ],
          "scatterpolargl": [
           {
            "marker": {
             "colorbar": {
              "outlinewidth": 0,
              "ticks": ""
             }
            },
            "type": "scatterpolargl"
           }
          ],
          "scatterternary": [
           {
            "marker": {
             "colorbar": {
              "outlinewidth": 0,
              "ticks": ""
             }
            },
            "type": "scatterternary"
           }
          ],
          "surface": [
           {
            "colorbar": {
             "outlinewidth": 0,
             "ticks": ""
            },
            "colorscale": [
             [
              0,
              "#0d0887"
             ],
             [
              0.1111111111111111,
              "#46039f"
             ],
             [
              0.2222222222222222,
              "#7201a8"
             ],
             [
              0.3333333333333333,
              "#9c179e"
             ],
             [
              0.4444444444444444,
              "#bd3786"
             ],
             [
              0.5555555555555556,
              "#d8576b"
             ],
             [
              0.6666666666666666,
              "#ed7953"
             ],
             [
              0.7777777777777778,
              "#fb9f3a"
             ],
             [
              0.8888888888888888,
              "#fdca26"
             ],
             [
              1,
              "#f0f921"
             ]
            ],
            "type": "surface"
           }
          ],
          "table": [
           {
            "cells": {
             "fill": {
              "color": "#EBF0F8"
             },
             "line": {
              "color": "white"
             }
            },
            "header": {
             "fill": {
              "color": "#C8D4E3"
             },
             "line": {
              "color": "white"
             }
            },
            "type": "table"
           }
          ]
         },
         "layout": {
          "annotationdefaults": {
           "arrowcolor": "#2a3f5f",
           "arrowhead": 0,
           "arrowwidth": 1
          },
          "autotypenumbers": "strict",
          "coloraxis": {
           "colorbar": {
            "outlinewidth": 0,
            "ticks": ""
           }
          },
          "colorscale": {
           "diverging": [
            [
             0,
             "#8e0152"
            ],
            [
             0.1,
             "#c51b7d"
            ],
            [
             0.2,
             "#de77ae"
            ],
            [
             0.3,
             "#f1b6da"
            ],
            [
             0.4,
             "#fde0ef"
            ],
            [
             0.5,
             "#f7f7f7"
            ],
            [
             0.6,
             "#e6f5d0"
            ],
            [
             0.7,
             "#b8e186"
            ],
            [
             0.8,
             "#7fbc41"
            ],
            [
             0.9,
             "#4d9221"
            ],
            [
             1,
             "#276419"
            ]
           ],
           "sequential": [
            [
             0,
             "#0d0887"
            ],
            [
             0.1111111111111111,
             "#46039f"
            ],
            [
             0.2222222222222222,
             "#7201a8"
            ],
            [
             0.3333333333333333,
             "#9c179e"
            ],
            [
             0.4444444444444444,
             "#bd3786"
            ],
            [
             0.5555555555555556,
             "#d8576b"
            ],
            [
             0.6666666666666666,
             "#ed7953"
            ],
            [
             0.7777777777777778,
             "#fb9f3a"
            ],
            [
             0.8888888888888888,
             "#fdca26"
            ],
            [
             1,
             "#f0f921"
            ]
           ],
           "sequentialminus": [
            [
             0,
             "#0d0887"
            ],
            [
             0.1111111111111111,
             "#46039f"
            ],
            [
             0.2222222222222222,
             "#7201a8"
            ],
            [
             0.3333333333333333,
             "#9c179e"
            ],
            [
             0.4444444444444444,
             "#bd3786"
            ],
            [
             0.5555555555555556,
             "#d8576b"
            ],
            [
             0.6666666666666666,
             "#ed7953"
            ],
            [
             0.7777777777777778,
             "#fb9f3a"
            ],
            [
             0.8888888888888888,
             "#fdca26"
            ],
            [
             1,
             "#f0f921"
            ]
           ]
          },
          "colorway": [
           "#636efa",
           "#EF553B",
           "#00cc96",
           "#ab63fa",
           "#FFA15A",
           "#19d3f3",
           "#FF6692",
           "#B6E880",
           "#FF97FF",
           "#FECB52"
          ],
          "font": {
           "color": "#2a3f5f"
          },
          "geo": {
           "bgcolor": "white",
           "lakecolor": "white",
           "landcolor": "#E5ECF6",
           "showlakes": true,
           "showland": true,
           "subunitcolor": "white"
          },
          "hoverlabel": {
           "align": "left"
          },
          "hovermode": "closest",
          "mapbox": {
           "style": "light"
          },
          "paper_bgcolor": "white",
          "plot_bgcolor": "#E5ECF6",
          "polar": {
           "angularaxis": {
            "gridcolor": "white",
            "linecolor": "white",
            "ticks": ""
           },
           "bgcolor": "#E5ECF6",
           "radialaxis": {
            "gridcolor": "white",
            "linecolor": "white",
            "ticks": ""
           }
          },
          "scene": {
           "xaxis": {
            "backgroundcolor": "#E5ECF6",
            "gridcolor": "white",
            "gridwidth": 2,
            "linecolor": "white",
            "showbackground": true,
            "ticks": "",
            "zerolinecolor": "white"
           },
           "yaxis": {
            "backgroundcolor": "#E5ECF6",
            "gridcolor": "white",
            "gridwidth": 2,
            "linecolor": "white",
            "showbackground": true,
            "ticks": "",
            "zerolinecolor": "white"
           },
           "zaxis": {
            "backgroundcolor": "#E5ECF6",
            "gridcolor": "white",
            "gridwidth": 2,
            "linecolor": "white",
            "showbackground": true,
            "ticks": "",
            "zerolinecolor": "white"
           }
          },
          "shapedefaults": {
           "line": {
            "color": "#2a3f5f"
           }
          },
          "ternary": {
           "aaxis": {
            "gridcolor": "white",
            "linecolor": "white",
            "ticks": ""
           },
           "baxis": {
            "gridcolor": "white",
            "linecolor": "white",
            "ticks": ""
           },
           "bgcolor": "#E5ECF6",
           "caxis": {
            "gridcolor": "white",
            "linecolor": "white",
            "ticks": ""
           }
          },
          "title": {
           "x": 0.05
          },
          "xaxis": {
           "automargin": true,
           "gridcolor": "white",
           "linecolor": "white",
           "ticks": "",
           "title": {
            "standoff": 15
           },
           "zerolinecolor": "white",
           "zerolinewidth": 2
          },
          "yaxis": {
           "automargin": true,
           "gridcolor": "white",
           "linecolor": "white",
           "ticks": "",
           "title": {
            "standoff": 15
           },
           "zerolinecolor": "white",
           "zerolinewidth": 2
          }
         }
        },
        "title": {
         "text": "Linear Regression: GDP per Capita vs Health Spend per Capita"
        },
        "xaxis": {
         "anchor": "y",
         "domain": [
          0,
          1
         ],
         "title": {
          "text": "GDP per Capita"
         }
        },
        "yaxis": {
         "anchor": "x",
         "domain": [
          0,
          1
         ],
         "title": {
          "text": "Health Spend per Capita (USD)"
         }
        }
       }
      }
     },
     "metadata": {},
     "output_type": "display_data"
    }
   ],
   "source": [
    "import pandas as pd\n",
    "import matplotlib.pyplot as plt\n",
    "import seaborn as sns\n",
    "import plotly.express as px\n",
    "\n",
    "# Load dataset\n",
    "file_path = r\"C:\\Users\\kaurp\\Team_2_Pharmaceutical_Drug_Spending_by_Countries\\flat-ui__data-Tue Mar 11 2025.csv\"\n",
    "data = pd.read_csv(file_path)\n",
    "\n",
    "# Calculate Average Spend Per Capita by Location\n",
    "avg_spend = data.groupby('LOCATION')['USD_CAP'].mean().reset_index()\n",
    "avg_spend = avg_spend.sort_values(by='USD_CAP', ascending=False)\n",
    "\n",
    "# Top 10 and Bottom 10 Countries\n",
    "top_10 = avg_spend.head(10)\n",
    "bottom_10 = avg_spend.tail(10)\n",
    "\n",
    "#Interactive Bar Chart - Top 10**\n",
    "fig_top = px.bar(\n",
    "    top_10, \n",
    "    x='USD_CAP', \n",
    "    y='LOCATION', \n",
    "    orientation='h', \n",
    "    title='Top 10 Highest Spending Countries (USD per Capita)',\n",
    "    labels={'USD_CAP': 'Average Spend Per Capita (USD)', 'LOCATION': 'Country'},\n",
    "    color='USD_CAP',\n",
    "    color_continuous_scale=['#1b3d1b', '#2e6b2e', '#4c8c4c', '#6ea06e', '#8fb88f']\n",
    ")\n",
    "fig_top.update_traces(\n",
    "    hovertemplate=\"<b>%{y}</b><br>Spend: %{x:.2f} USD\"\n",
    ")\n",
    "fig_top.show()\n",
    "\n",
    "#Interactive Bar Chart - Bottom 10**\n",
    "fig_bottom = px.bar(\n",
    "    bottom_10, \n",
    "    x='USD_CAP', \n",
    "    y='LOCATION', \n",
    "    orientation='h', \n",
    "    title='Bottom 10 Lowest Spending Countries (USD per Capita)',\n",
    "    labels={'USD_CAP': 'Average Spend Per Capita (USD)', 'LOCATION': 'Country'},\n",
    "    color='USD_CAP',\n",
    "    color_continuous_scale= ['#1b3d1b', '#2e6b2e', '#4c8c4c', '#6ea06e', '#8fb88f']\n",
    ")\n",
    "fig_bottom.update_traces(\n",
    "    hovertemplate=\"<b>%{y}</b><br>Spend: %{x:.2f} USD\"\n",
    ")\n",
    "fig_bottom.show()\n",
    "\n",
    "# Example: Linear Regression\n",
    "from sklearn.linear_model import LinearRegression\n",
    "from sklearn.model_selection import train_test_split\n",
    "\n",
    "# Prepare Data\n",
    "X = data[['PC_GDP']].dropna()  # Predictor\n",
    "y = data['USD_CAP'].dropna()  # Target\n",
    "X_train, X_test, y_train, y_test = train_test_split(X, y, test_size=0.2, random_state=42)\n",
    "\n",
    "# Model\n",
    "model = LinearRegression()\n",
    "model.fit(X_train, y_train)\n",
    "\n",
    "# Coefficients\n",
    "print(\"Intercept:\", model.intercept_)\n",
    "print(\"Coefficient:\", model.coef_[0])\n",
    "\n",
    "# Interactive Regression Plot\n",
    "data['Predicted'] = model.predict(X)\n",
    "\n",
    "fig_regression = px.scatter(\n",
    "    data, \n",
    "    x='PC_GDP', \n",
    "    y='USD_CAP', \n",
    "    trendline='ols', \n",
    "    title='Linear Regression: GDP per Capita vs Health Spend per Capita',\n",
    "    labels={'PC_GDP': 'GDP per Capita', 'USD_CAP': 'Health Spend per Capita (USD)'},\n",
    "    color='USD_CAP',\n",
    "    color_continuous_scale=['#1b3d1b', '#2e6b2e', '#4c8c4c', '#6ea06e', '#8fb88f']\n",
    ")\n",
    "fig_regression.show()"
   ]
  },
  {
   "cell_type": "markdown",
   "metadata": {},
   "source": [
    "# Pharmaceutical Spenders Per Capita: Graph 1 & 2\n",
    "Data Aggregation: The data shows the top 10 countries based on USD per capita pharmaceutical spending (not total spending). The values are averaged across the selected years ( 2010-2019).\n",
    "Visualization: A horizontal bar chart is used to show the spending values for each country. The x-axis represents the average spending per capita in USD, while the y-axis displays the country names. The graph includes interactive hover features that reveal precise spending values.\n",
    "\n",
    "# Top 10 Pharmaceutical Spenders Per Capita: Graph 1\n",
    "Key Observations: The USA leads significantly, with the highest per capita spending\n",
    "Other high spenders include: \n",
    "     Malta (MLT) → A comparatively smaller economy country with high per capita spending.\n",
    "     Switzerland (CHE) → Known for its robust healthcare system.\n",
    "     France (FRA) and Italy (ITA) → Major European economies with steady healthcare investments.\n",
    "     Slovenia (SVN) and Bulgaria (BGR) → Appear in the top 10, indicating high per capita spending, both from eastern europe.\n",
    "\n",
    "# Bottom 10 Pharmaceutical Spenders Per Capita: Graph 2\n",
    "Key Observations: The bottom 10 spenders show remarkably low pharmaceutical expenditure per capita, with some countries spending less than a fraction of the top spenders. This reflects limited healthcare investment or restricted access to costly treatments.\n",
    "The spending gradually increases from the lowest spender to the 10th lowest, but the difference between them is relatively small.\n",
    "\n",
    "# Linear Regression – GDP per Capita vs Health Spending per capita: Graph 3\n",
    "Data Preparation: The dataset uses GDP per capita (PC_GDP) as the independent variable and pharmaceutical spending per capita (USD_CAP) as the dependent variable and split into training and testing sets (80/20 split) for regression modeling.\n",
    "Linear Regression Model: A regression line is fitted to the data, showing the relationship between GDP and pharmaceutical spending.The scatter plot displays individual data points, while the regression line highlights the overall trend and interactive features allow for detailed exploration of country-specific data points.\n",
    "\n",
    "Key Observations: It shows a positive relationship between GDP per capita and pharmaceutical spending—higher GDP generally leads to higher spending.\n",
    "Outliers Present: A few countries deviate significantly from the trend, indicating outliers with either disproportionately high or low spending relative to their GDP"
   ]
  },
  {
   "cell_type": "code",
   "execution_count": 3,
   "metadata": {},
   "outputs": [
    {
     "data": {
      "application/vnd.plotly.v1+json": {
       "config": {
        "plotlyServerURL": "https://plot.ly"
       },
       "data": [
        {
         "alignmentgroup": "True",
         "hovertemplate": "USD_CAP=%{marker.color}<br>LOCATION=%{y}<extra></extra>",
         "legendgroup": "",
         "marker": {
          "color": [
           73.398,
           70.36075,
           68.5877,
           61.161500000000004,
           55.4082,
           46.16625,
           45.2294,
           43.646,
           42.334666666666664,
           39.1725
          ],
          "coloraxis": "coloraxis",
          "pattern": {
           "shape": ""
          }
         },
         "name": "",
         "offsetgroup": "",
         "orientation": "h",
         "showlegend": false,
         "textposition": "auto",
         "type": "bar",
         "x": [
          73.398,
          70.36075,
          68.5877,
          61.161500000000004,
          55.4082,
          46.16625,
          45.2294,
          43.646,
          42.334666666666664,
          39.1725
         ],
         "xaxis": "x",
         "y": [
          "DEU",
          "LUX",
          "BEL",
          "FRA",
          "ISL",
          "NLD",
          "CAN",
          "IRL",
          "AUS",
          "SWE"
         ],
         "yaxis": "y"
        }
       ],
       "layout": {
        "barmode": "relative",
        "coloraxis": {
         "colorbar": {
          "title": {
           "text": "USD_CAP"
          }
         },
         "colorscale": [
          [
           0,
           "#1b3d1b"
          ],
          [
           0.25,
           "#2e6b2e"
          ],
          [
           0.5,
           "#4c8c4c"
          ],
          [
           0.75,
           "#6ea06e"
          ],
          [
           1,
           "#8fb88f"
          ]
         ]
        },
        "legend": {
         "tracegroupgap": 0
        },
        "margin": {
         "t": 60
        },
        "template": {
         "data": {
          "bar": [
           {
            "error_x": {
             "color": "#2a3f5f"
            },
            "error_y": {
             "color": "#2a3f5f"
            },
            "marker": {
             "line": {
              "color": "#E5ECF6",
              "width": 0.5
             },
             "pattern": {
              "fillmode": "overlay",
              "size": 10,
              "solidity": 0.2
             }
            },
            "type": "bar"
           }
          ],
          "barpolar": [
           {
            "marker": {
             "line": {
              "color": "#E5ECF6",
              "width": 0.5
             },
             "pattern": {
              "fillmode": "overlay",
              "size": 10,
              "solidity": 0.2
             }
            },
            "type": "barpolar"
           }
          ],
          "carpet": [
           {
            "aaxis": {
             "endlinecolor": "#2a3f5f",
             "gridcolor": "white",
             "linecolor": "white",
             "minorgridcolor": "white",
             "startlinecolor": "#2a3f5f"
            },
            "baxis": {
             "endlinecolor": "#2a3f5f",
             "gridcolor": "white",
             "linecolor": "white",
             "minorgridcolor": "white",
             "startlinecolor": "#2a3f5f"
            },
            "type": "carpet"
           }
          ],
          "choropleth": [
           {
            "colorbar": {
             "outlinewidth": 0,
             "ticks": ""
            },
            "type": "choropleth"
           }
          ],
          "contour": [
           {
            "colorbar": {
             "outlinewidth": 0,
             "ticks": ""
            },
            "colorscale": [
             [
              0,
              "#0d0887"
             ],
             [
              0.1111111111111111,
              "#46039f"
             ],
             [
              0.2222222222222222,
              "#7201a8"
             ],
             [
              0.3333333333333333,
              "#9c179e"
             ],
             [
              0.4444444444444444,
              "#bd3786"
             ],
             [
              0.5555555555555556,
              "#d8576b"
             ],
             [
              0.6666666666666666,
              "#ed7953"
             ],
             [
              0.7777777777777778,
              "#fb9f3a"
             ],
             [
              0.8888888888888888,
              "#fdca26"
             ],
             [
              1,
              "#f0f921"
             ]
            ],
            "type": "contour"
           }
          ],
          "contourcarpet": [
           {
            "colorbar": {
             "outlinewidth": 0,
             "ticks": ""
            },
            "type": "contourcarpet"
           }
          ],
          "heatmap": [
           {
            "colorbar": {
             "outlinewidth": 0,
             "ticks": ""
            },
            "colorscale": [
             [
              0,
              "#0d0887"
             ],
             [
              0.1111111111111111,
              "#46039f"
             ],
             [
              0.2222222222222222,
              "#7201a8"
             ],
             [
              0.3333333333333333,
              "#9c179e"
             ],
             [
              0.4444444444444444,
              "#bd3786"
             ],
             [
              0.5555555555555556,
              "#d8576b"
             ],
             [
              0.6666666666666666,
              "#ed7953"
             ],
             [
              0.7777777777777778,
              "#fb9f3a"
             ],
             [
              0.8888888888888888,
              "#fdca26"
             ],
             [
              1,
              "#f0f921"
             ]
            ],
            "type": "heatmap"
           }
          ],
          "heatmapgl": [
           {
            "colorbar": {
             "outlinewidth": 0,
             "ticks": ""
            },
            "colorscale": [
             [
              0,
              "#0d0887"
             ],
             [
              0.1111111111111111,
              "#46039f"
             ],
             [
              0.2222222222222222,
              "#7201a8"
             ],
             [
              0.3333333333333333,
              "#9c179e"
             ],
             [
              0.4444444444444444,
              "#bd3786"
             ],
             [
              0.5555555555555556,
              "#d8576b"
             ],
             [
              0.6666666666666666,
              "#ed7953"
             ],
             [
              0.7777777777777778,
              "#fb9f3a"
             ],
             [
              0.8888888888888888,
              "#fdca26"
             ],
             [
              1,
              "#f0f921"
             ]
            ],
            "type": "heatmapgl"
           }
          ],
          "histogram": [
           {
            "marker": {
             "pattern": {
              "fillmode": "overlay",
              "size": 10,
              "solidity": 0.2
             }
            },
            "type": "histogram"
           }
          ],
          "histogram2d": [
           {
            "colorbar": {
             "outlinewidth": 0,
             "ticks": ""
            },
            "colorscale": [
             [
              0,
              "#0d0887"
             ],
             [
              0.1111111111111111,
              "#46039f"
             ],
             [
              0.2222222222222222,
              "#7201a8"
             ],
             [
              0.3333333333333333,
              "#9c179e"
             ],
             [
              0.4444444444444444,
              "#bd3786"
             ],
             [
              0.5555555555555556,
              "#d8576b"
             ],
             [
              0.6666666666666666,
              "#ed7953"
             ],
             [
              0.7777777777777778,
              "#fb9f3a"
             ],
             [
              0.8888888888888888,
              "#fdca26"
             ],
             [
              1,
              "#f0f921"
             ]
            ],
            "type": "histogram2d"
           }
          ],
          "histogram2dcontour": [
           {
            "colorbar": {
             "outlinewidth": 0,
             "ticks": ""
            },
            "colorscale": [
             [
              0,
              "#0d0887"
             ],
             [
              0.1111111111111111,
              "#46039f"
             ],
             [
              0.2222222222222222,
              "#7201a8"
             ],
             [
              0.3333333333333333,
              "#9c179e"
             ],
             [
              0.4444444444444444,
              "#bd3786"
             ],
             [
              0.5555555555555556,
              "#d8576b"
             ],
             [
              0.6666666666666666,
              "#ed7953"
             ],
             [
              0.7777777777777778,
              "#fb9f3a"
             ],
             [
              0.8888888888888888,
              "#fdca26"
             ],
             [
              1,
              "#f0f921"
             ]
            ],
            "type": "histogram2dcontour"
           }
          ],
          "mesh3d": [
           {
            "colorbar": {
             "outlinewidth": 0,
             "ticks": ""
            },
            "type": "mesh3d"
           }
          ],
          "parcoords": [
           {
            "line": {
             "colorbar": {
              "outlinewidth": 0,
              "ticks": ""
             }
            },
            "type": "parcoords"
           }
          ],
          "pie": [
           {
            "automargin": true,
            "type": "pie"
           }
          ],
          "scatter": [
           {
            "fillpattern": {
             "fillmode": "overlay",
             "size": 10,
             "solidity": 0.2
            },
            "type": "scatter"
           }
          ],
          "scatter3d": [
           {
            "line": {
             "colorbar": {
              "outlinewidth": 0,
              "ticks": ""
             }
            },
            "marker": {
             "colorbar": {
              "outlinewidth": 0,
              "ticks": ""
             }
            },
            "type": "scatter3d"
           }
          ],
          "scattercarpet": [
           {
            "marker": {
             "colorbar": {
              "outlinewidth": 0,
              "ticks": ""
             }
            },
            "type": "scattercarpet"
           }
          ],
          "scattergeo": [
           {
            "marker": {
             "colorbar": {
              "outlinewidth": 0,
              "ticks": ""
             }
            },
            "type": "scattergeo"
           }
          ],
          "scattergl": [
           {
            "marker": {
             "colorbar": {
              "outlinewidth": 0,
              "ticks": ""
             }
            },
            "type": "scattergl"
           }
          ],
          "scattermapbox": [
           {
            "marker": {
             "colorbar": {
              "outlinewidth": 0,
              "ticks": ""
             }
            },
            "type": "scattermapbox"
           }
          ],
          "scatterpolar": [
           {
            "marker": {
             "colorbar": {
              "outlinewidth": 0,
              "ticks": ""
             }
            },
            "type": "scatterpolar"
           }
          ],
          "scatterpolargl": [
           {
            "marker": {
             "colorbar": {
              "outlinewidth": 0,
              "ticks": ""
             }
            },
            "type": "scatterpolargl"
           }
          ],
          "scatterternary": [
           {
            "marker": {
             "colorbar": {
              "outlinewidth": 0,
              "ticks": ""
             }
            },
            "type": "scatterternary"
           }
          ],
          "surface": [
           {
            "colorbar": {
             "outlinewidth": 0,
             "ticks": ""
            },
            "colorscale": [
             [
              0,
              "#0d0887"
             ],
             [
              0.1111111111111111,
              "#46039f"
             ],
             [
              0.2222222222222222,
              "#7201a8"
             ],
             [
              0.3333333333333333,
              "#9c179e"
             ],
             [
              0.4444444444444444,
              "#bd3786"
             ],
             [
              0.5555555555555556,
              "#d8576b"
             ],
             [
              0.6666666666666666,
              "#ed7953"
             ],
             [
              0.7777777777777778,
              "#fb9f3a"
             ],
             [
              0.8888888888888888,
              "#fdca26"
             ],
             [
              1,
              "#f0f921"
             ]
            ],
            "type": "surface"
           }
          ],
          "table": [
           {
            "cells": {
             "fill": {
              "color": "#EBF0F8"
             },
             "line": {
              "color": "white"
             }
            },
            "header": {
             "fill": {
              "color": "#C8D4E3"
             },
             "line": {
              "color": "white"
             }
            },
            "type": "table"
           }
          ]
         },
         "layout": {
          "annotationdefaults": {
           "arrowcolor": "#2a3f5f",
           "arrowhead": 0,
           "arrowwidth": 1
          },
          "autotypenumbers": "strict",
          "coloraxis": {
           "colorbar": {
            "outlinewidth": 0,
            "ticks": ""
           }
          },
          "colorscale": {
           "diverging": [
            [
             0,
             "#8e0152"
            ],
            [
             0.1,
             "#c51b7d"
            ],
            [
             0.2,
             "#de77ae"
            ],
            [
             0.3,
             "#f1b6da"
            ],
            [
             0.4,
             "#fde0ef"
            ],
            [
             0.5,
             "#f7f7f7"
            ],
            [
             0.6,
             "#e6f5d0"
            ],
            [
             0.7,
             "#b8e186"
            ],
            [
             0.8,
             "#7fbc41"
            ],
            [
             0.9,
             "#4d9221"
            ],
            [
             1,
             "#276419"
            ]
           ],
           "sequential": [
            [
             0,
             "#0d0887"
            ],
            [
             0.1111111111111111,
             "#46039f"
            ],
            [
             0.2222222222222222,
             "#7201a8"
            ],
            [
             0.3333333333333333,
             "#9c179e"
            ],
            [
             0.4444444444444444,
             "#bd3786"
            ],
            [
             0.5555555555555556,
             "#d8576b"
            ],
            [
             0.6666666666666666,
             "#ed7953"
            ],
            [
             0.7777777777777778,
             "#fb9f3a"
            ],
            [
             0.8888888888888888,
             "#fdca26"
            ],
            [
             1,
             "#f0f921"
            ]
           ],
           "sequentialminus": [
            [
             0,
             "#0d0887"
            ],
            [
             0.1111111111111111,
             "#46039f"
            ],
            [
             0.2222222222222222,
             "#7201a8"
            ],
            [
             0.3333333333333333,
             "#9c179e"
            ],
            [
             0.4444444444444444,
             "#bd3786"
            ],
            [
             0.5555555555555556,
             "#d8576b"
            ],
            [
             0.6666666666666666,
             "#ed7953"
            ],
            [
             0.7777777777777778,
             "#fb9f3a"
            ],
            [
             0.8888888888888888,
             "#fdca26"
            ],
            [
             1,
             "#f0f921"
            ]
           ]
          },
          "colorway": [
           "#636efa",
           "#EF553B",
           "#00cc96",
           "#ab63fa",
           "#FFA15A",
           "#19d3f3",
           "#FF6692",
           "#B6E880",
           "#FF97FF",
           "#FECB52"
          ],
          "font": {
           "color": "#2a3f5f"
          },
          "geo": {
           "bgcolor": "white",
           "lakecolor": "white",
           "landcolor": "#E5ECF6",
           "showlakes": true,
           "showland": true,
           "subunitcolor": "white"
          },
          "hoverlabel": {
           "align": "left"
          },
          "hovermode": "closest",
          "mapbox": {
           "style": "light"
          },
          "paper_bgcolor": "white",
          "plot_bgcolor": "#E5ECF6",
          "polar": {
           "angularaxis": {
            "gridcolor": "white",
            "linecolor": "white",
            "ticks": ""
           },
           "bgcolor": "#E5ECF6",
           "radialaxis": {
            "gridcolor": "white",
            "linecolor": "white",
            "ticks": ""
           }
          },
          "scene": {
           "xaxis": {
            "backgroundcolor": "#E5ECF6",
            "gridcolor": "white",
            "gridwidth": 2,
            "linecolor": "white",
            "showbackground": true,
            "ticks": "",
            "zerolinecolor": "white"
           },
           "yaxis": {
            "backgroundcolor": "#E5ECF6",
            "gridcolor": "white",
            "gridwidth": 2,
            "linecolor": "white",
            "showbackground": true,
            "ticks": "",
            "zerolinecolor": "white"
           },
           "zaxis": {
            "backgroundcolor": "#E5ECF6",
            "gridcolor": "white",
            "gridwidth": 2,
            "linecolor": "white",
            "showbackground": true,
            "ticks": "",
            "zerolinecolor": "white"
           }
          },
          "shapedefaults": {
           "line": {
            "color": "#2a3f5f"
           }
          },
          "ternary": {
           "aaxis": {
            "gridcolor": "white",
            "linecolor": "white",
            "ticks": ""
           },
           "baxis": {
            "gridcolor": "white",
            "linecolor": "white",
            "ticks": ""
           },
           "bgcolor": "#E5ECF6",
           "caxis": {
            "gridcolor": "white",
            "linecolor": "white",
            "ticks": ""
           }
          },
          "title": {
           "x": 0.05
          },
          "xaxis": {
           "automargin": true,
           "gridcolor": "white",
           "linecolor": "white",
           "ticks": "",
           "title": {
            "standoff": 15
           },
           "zerolinecolor": "white",
           "zerolinewidth": 2
          },
          "yaxis": {
           "automargin": true,
           "gridcolor": "white",
           "linecolor": "white",
           "ticks": "",
           "title": {
            "standoff": 15
           },
           "zerolinecolor": "white",
           "zerolinewidth": 2
          }
         }
        },
        "title": {
         "text": "Top 10 Countries (First 10 Years)"
        },
        "xaxis": {
         "anchor": "y",
         "domain": [
          0,
          1
         ],
         "title": {
          "text": "Average Spend Per Capita (USD)"
         }
        },
        "yaxis": {
         "anchor": "x",
         "domain": [
          0,
          1
         ],
         "title": {
          "text": "Country"
         }
        }
       }
      }
     },
     "metadata": {},
     "output_type": "display_data"
    },
    {
     "data": {
      "application/vnd.plotly.v1+json": {
       "config": {
        "plotlyServerURL": "https://plot.ly"
       },
       "data": [
        {
         "alignmentgroup": "True",
         "hovertemplate": "USD_CAP=%{marker.color}<br>LOCATION=%{y}<extra></extra>",
         "legendgroup": "",
         "marker": {
          "color": [
           7.0127,
           21.266199999999998,
           29.913100000000004,
           32.6325,
           34.5745,
           35.8697,
           39.1725,
           42.334666666666664,
           43.646,
           45.2294
          ],
          "coloraxis": "coloraxis",
          "pattern": {
           "shape": ""
          }
         },
         "name": "",
         "offsetgroup": "",
         "orientation": "h",
         "showlegend": false,
         "textposition": "auto",
         "type": "bar",
         "x": [
          7.0127,
          21.266199999999998,
          29.913100000000004,
          32.6325,
          34.5745,
          35.8697,
          39.1725,
          42.334666666666664,
          43.646,
          45.2294
         ],
         "xaxis": "x",
         "y": [
          "KOR",
          "NOR",
          "GBR",
          "PRT",
          "NZL",
          "FIN",
          "SWE",
          "AUS",
          "IRL",
          "CAN"
         ],
         "yaxis": "y"
        }
       ],
       "layout": {
        "barmode": "relative",
        "coloraxis": {
         "colorbar": {
          "title": {
           "text": "USD_CAP"
          }
         },
         "colorscale": [
          [
           0,
           "#1b3d1b"
          ],
          [
           0.25,
           "#2e6b2e"
          ],
          [
           0.5,
           "#4c8c4c"
          ],
          [
           0.75,
           "#6ea06e"
          ],
          [
           1,
           "#8fb88f"
          ]
         ]
        },
        "legend": {
         "tracegroupgap": 0
        },
        "margin": {
         "t": 60
        },
        "template": {
         "data": {
          "bar": [
           {
            "error_x": {
             "color": "#2a3f5f"
            },
            "error_y": {
             "color": "#2a3f5f"
            },
            "marker": {
             "line": {
              "color": "#E5ECF6",
              "width": 0.5
             },
             "pattern": {
              "fillmode": "overlay",
              "size": 10,
              "solidity": 0.2
             }
            },
            "type": "bar"
           }
          ],
          "barpolar": [
           {
            "marker": {
             "line": {
              "color": "#E5ECF6",
              "width": 0.5
             },
             "pattern": {
              "fillmode": "overlay",
              "size": 10,
              "solidity": 0.2
             }
            },
            "type": "barpolar"
           }
          ],
          "carpet": [
           {
            "aaxis": {
             "endlinecolor": "#2a3f5f",
             "gridcolor": "white",
             "linecolor": "white",
             "minorgridcolor": "white",
             "startlinecolor": "#2a3f5f"
            },
            "baxis": {
             "endlinecolor": "#2a3f5f",
             "gridcolor": "white",
             "linecolor": "white",
             "minorgridcolor": "white",
             "startlinecolor": "#2a3f5f"
            },
            "type": "carpet"
           }
          ],
          "choropleth": [
           {
            "colorbar": {
             "outlinewidth": 0,
             "ticks": ""
            },
            "type": "choropleth"
           }
          ],
          "contour": [
           {
            "colorbar": {
             "outlinewidth": 0,
             "ticks": ""
            },
            "colorscale": [
             [
              0,
              "#0d0887"
             ],
             [
              0.1111111111111111,
              "#46039f"
             ],
             [
              0.2222222222222222,
              "#7201a8"
             ],
             [
              0.3333333333333333,
              "#9c179e"
             ],
             [
              0.4444444444444444,
              "#bd3786"
             ],
             [
              0.5555555555555556,
              "#d8576b"
             ],
             [
              0.6666666666666666,
              "#ed7953"
             ],
             [
              0.7777777777777778,
              "#fb9f3a"
             ],
             [
              0.8888888888888888,
              "#fdca26"
             ],
             [
              1,
              "#f0f921"
             ]
            ],
            "type": "contour"
           }
          ],
          "contourcarpet": [
           {
            "colorbar": {
             "outlinewidth": 0,
             "ticks": ""
            },
            "type": "contourcarpet"
           }
          ],
          "heatmap": [
           {
            "colorbar": {
             "outlinewidth": 0,
             "ticks": ""
            },
            "colorscale": [
             [
              0,
              "#0d0887"
             ],
             [
              0.1111111111111111,
              "#46039f"
             ],
             [
              0.2222222222222222,
              "#7201a8"
             ],
             [
              0.3333333333333333,
              "#9c179e"
             ],
             [
              0.4444444444444444,
              "#bd3786"
             ],
             [
              0.5555555555555556,
              "#d8576b"
             ],
             [
              0.6666666666666666,
              "#ed7953"
             ],
             [
              0.7777777777777778,
              "#fb9f3a"
             ],
             [
              0.8888888888888888,
              "#fdca26"
             ],
             [
              1,
              "#f0f921"
             ]
            ],
            "type": "heatmap"
           }
          ],
          "heatmapgl": [
           {
            "colorbar": {
             "outlinewidth": 0,
             "ticks": ""
            },
            "colorscale": [
             [
              0,
              "#0d0887"
             ],
             [
              0.1111111111111111,
              "#46039f"
             ],
             [
              0.2222222222222222,
              "#7201a8"
             ],
             [
              0.3333333333333333,
              "#9c179e"
             ],
             [
              0.4444444444444444,
              "#bd3786"
             ],
             [
              0.5555555555555556,
              "#d8576b"
             ],
             [
              0.6666666666666666,
              "#ed7953"
             ],
             [
              0.7777777777777778,
              "#fb9f3a"
             ],
             [
              0.8888888888888888,
              "#fdca26"
             ],
             [
              1,
              "#f0f921"
             ]
            ],
            "type": "heatmapgl"
           }
          ],
          "histogram": [
           {
            "marker": {
             "pattern": {
              "fillmode": "overlay",
              "size": 10,
              "solidity": 0.2
             }
            },
            "type": "histogram"
           }
          ],
          "histogram2d": [
           {
            "colorbar": {
             "outlinewidth": 0,
             "ticks": ""
            },
            "colorscale": [
             [
              0,
              "#0d0887"
             ],
             [
              0.1111111111111111,
              "#46039f"
             ],
             [
              0.2222222222222222,
              "#7201a8"
             ],
             [
              0.3333333333333333,
              "#9c179e"
             ],
             [
              0.4444444444444444,
              "#bd3786"
             ],
             [
              0.5555555555555556,
              "#d8576b"
             ],
             [
              0.6666666666666666,
              "#ed7953"
             ],
             [
              0.7777777777777778,
              "#fb9f3a"
             ],
             [
              0.8888888888888888,
              "#fdca26"
             ],
             [
              1,
              "#f0f921"
             ]
            ],
            "type": "histogram2d"
           }
          ],
          "histogram2dcontour": [
           {
            "colorbar": {
             "outlinewidth": 0,
             "ticks": ""
            },
            "colorscale": [
             [
              0,
              "#0d0887"
             ],
             [
              0.1111111111111111,
              "#46039f"
             ],
             [
              0.2222222222222222,
              "#7201a8"
             ],
             [
              0.3333333333333333,
              "#9c179e"
             ],
             [
              0.4444444444444444,
              "#bd3786"
             ],
             [
              0.5555555555555556,
              "#d8576b"
             ],
             [
              0.6666666666666666,
              "#ed7953"
             ],
             [
              0.7777777777777778,
              "#fb9f3a"
             ],
             [
              0.8888888888888888,
              "#fdca26"
             ],
             [
              1,
              "#f0f921"
             ]
            ],
            "type": "histogram2dcontour"
           }
          ],
          "mesh3d": [
           {
            "colorbar": {
             "outlinewidth": 0,
             "ticks": ""
            },
            "type": "mesh3d"
           }
          ],
          "parcoords": [
           {
            "line": {
             "colorbar": {
              "outlinewidth": 0,
              "ticks": ""
             }
            },
            "type": "parcoords"
           }
          ],
          "pie": [
           {
            "automargin": true,
            "type": "pie"
           }
          ],
          "scatter": [
           {
            "fillpattern": {
             "fillmode": "overlay",
             "size": 10,
             "solidity": 0.2
            },
            "type": "scatter"
           }
          ],
          "scatter3d": [
           {
            "line": {
             "colorbar": {
              "outlinewidth": 0,
              "ticks": ""
             }
            },
            "marker": {
             "colorbar": {
              "outlinewidth": 0,
              "ticks": ""
             }
            },
            "type": "scatter3d"
           }
          ],
          "scattercarpet": [
           {
            "marker": {
             "colorbar": {
              "outlinewidth": 0,
              "ticks": ""
             }
            },
            "type": "scattercarpet"
           }
          ],
          "scattergeo": [
           {
            "marker": {
             "colorbar": {
              "outlinewidth": 0,
              "ticks": ""
             }
            },
            "type": "scattergeo"
           }
          ],
          "scattergl": [
           {
            "marker": {
             "colorbar": {
              "outlinewidth": 0,
              "ticks": ""
             }
            },
            "type": "scattergl"
           }
          ],
          "scattermapbox": [
           {
            "marker": {
             "colorbar": {
              "outlinewidth": 0,
              "ticks": ""
             }
            },
            "type": "scattermapbox"
           }
          ],
          "scatterpolar": [
           {
            "marker": {
             "colorbar": {
              "outlinewidth": 0,
              "ticks": ""
             }
            },
            "type": "scatterpolar"
           }
          ],
          "scatterpolargl": [
           {
            "marker": {
             "colorbar": {
              "outlinewidth": 0,
              "ticks": ""
             }
            },
            "type": "scatterpolargl"
           }
          ],
          "scatterternary": [
           {
            "marker": {
             "colorbar": {
              "outlinewidth": 0,
              "ticks": ""
             }
            },
            "type": "scatterternary"
           }
          ],
          "surface": [
           {
            "colorbar": {
             "outlinewidth": 0,
             "ticks": ""
            },
            "colorscale": [
             [
              0,
              "#0d0887"
             ],
             [
              0.1111111111111111,
              "#46039f"
             ],
             [
              0.2222222222222222,
              "#7201a8"
             ],
             [
              0.3333333333333333,
              "#9c179e"
             ],
             [
              0.4444444444444444,
              "#bd3786"
             ],
             [
              0.5555555555555556,
              "#d8576b"
             ],
             [
              0.6666666666666666,
              "#ed7953"
             ],
             [
              0.7777777777777778,
              "#fb9f3a"
             ],
             [
              0.8888888888888888,
              "#fdca26"
             ],
             [
              1,
              "#f0f921"
             ]
            ],
            "type": "surface"
           }
          ],
          "table": [
           {
            "cells": {
             "fill": {
              "color": "#EBF0F8"
             },
             "line": {
              "color": "white"
             }
            },
            "header": {
             "fill": {
              "color": "#C8D4E3"
             },
             "line": {
              "color": "white"
             }
            },
            "type": "table"
           }
          ]
         },
         "layout": {
          "annotationdefaults": {
           "arrowcolor": "#2a3f5f",
           "arrowhead": 0,
           "arrowwidth": 1
          },
          "autotypenumbers": "strict",
          "coloraxis": {
           "colorbar": {
            "outlinewidth": 0,
            "ticks": ""
           }
          },
          "colorscale": {
           "diverging": [
            [
             0,
             "#8e0152"
            ],
            [
             0.1,
             "#c51b7d"
            ],
            [
             0.2,
             "#de77ae"
            ],
            [
             0.3,
             "#f1b6da"
            ],
            [
             0.4,
             "#fde0ef"
            ],
            [
             0.5,
             "#f7f7f7"
            ],
            [
             0.6,
             "#e6f5d0"
            ],
            [
             0.7,
             "#b8e186"
            ],
            [
             0.8,
             "#7fbc41"
            ],
            [
             0.9,
             "#4d9221"
            ],
            [
             1,
             "#276419"
            ]
           ],
           "sequential": [
            [
             0,
             "#0d0887"
            ],
            [
             0.1111111111111111,
             "#46039f"
            ],
            [
             0.2222222222222222,
             "#7201a8"
            ],
            [
             0.3333333333333333,
             "#9c179e"
            ],
            [
             0.4444444444444444,
             "#bd3786"
            ],
            [
             0.5555555555555556,
             "#d8576b"
            ],
            [
             0.6666666666666666,
             "#ed7953"
            ],
            [
             0.7777777777777778,
             "#fb9f3a"
            ],
            [
             0.8888888888888888,
             "#fdca26"
            ],
            [
             1,
             "#f0f921"
            ]
           ],
           "sequentialminus": [
            [
             0,
             "#0d0887"
            ],
            [
             0.1111111111111111,
             "#46039f"
            ],
            [
             0.2222222222222222,
             "#7201a8"
            ],
            [
             0.3333333333333333,
             "#9c179e"
            ],
            [
             0.4444444444444444,
             "#bd3786"
            ],
            [
             0.5555555555555556,
             "#d8576b"
            ],
            [
             0.6666666666666666,
             "#ed7953"
            ],
            [
             0.7777777777777778,
             "#fb9f3a"
            ],
            [
             0.8888888888888888,
             "#fdca26"
            ],
            [
             1,
             "#f0f921"
            ]
           ]
          },
          "colorway": [
           "#636efa",
           "#EF553B",
           "#00cc96",
           "#ab63fa",
           "#FFA15A",
           "#19d3f3",
           "#FF6692",
           "#B6E880",
           "#FF97FF",
           "#FECB52"
          ],
          "font": {
           "color": "#2a3f5f"
          },
          "geo": {
           "bgcolor": "white",
           "lakecolor": "white",
           "landcolor": "#E5ECF6",
           "showlakes": true,
           "showland": true,
           "subunitcolor": "white"
          },
          "hoverlabel": {
           "align": "left"
          },
          "hovermode": "closest",
          "mapbox": {
           "style": "light"
          },
          "paper_bgcolor": "white",
          "plot_bgcolor": "#E5ECF6",
          "polar": {
           "angularaxis": {
            "gridcolor": "white",
            "linecolor": "white",
            "ticks": ""
           },
           "bgcolor": "#E5ECF6",
           "radialaxis": {
            "gridcolor": "white",
            "linecolor": "white",
            "ticks": ""
           }
          },
          "scene": {
           "xaxis": {
            "backgroundcolor": "#E5ECF6",
            "gridcolor": "white",
            "gridwidth": 2,
            "linecolor": "white",
            "showbackground": true,
            "ticks": "",
            "zerolinecolor": "white"
           },
           "yaxis": {
            "backgroundcolor": "#E5ECF6",
            "gridcolor": "white",
            "gridwidth": 2,
            "linecolor": "white",
            "showbackground": true,
            "ticks": "",
            "zerolinecolor": "white"
           },
           "zaxis": {
            "backgroundcolor": "#E5ECF6",
            "gridcolor": "white",
            "gridwidth": 2,
            "linecolor": "white",
            "showbackground": true,
            "ticks": "",
            "zerolinecolor": "white"
           }
          },
          "shapedefaults": {
           "line": {
            "color": "#2a3f5f"
           }
          },
          "ternary": {
           "aaxis": {
            "gridcolor": "white",
            "linecolor": "white",
            "ticks": ""
           },
           "baxis": {
            "gridcolor": "white",
            "linecolor": "white",
            "ticks": ""
           },
           "bgcolor": "#E5ECF6",
           "caxis": {
            "gridcolor": "white",
            "linecolor": "white",
            "ticks": ""
           }
          },
          "title": {
           "x": 0.05
          },
          "xaxis": {
           "automargin": true,
           "gridcolor": "white",
           "linecolor": "white",
           "ticks": "",
           "title": {
            "standoff": 15
           },
           "zerolinecolor": "white",
           "zerolinewidth": 2
          },
          "yaxis": {
           "automargin": true,
           "gridcolor": "white",
           "linecolor": "white",
           "ticks": "",
           "title": {
            "standoff": 15
           },
           "zerolinecolor": "white",
           "zerolinewidth": 2
          }
         }
        },
        "title": {
         "text": "Bottom 10 Countries (First 10 Years)"
        },
        "xaxis": {
         "anchor": "y",
         "domain": [
          0,
          1
         ],
         "title": {
          "text": "Average Spend Per Capita (USD)"
         }
        },
        "yaxis": {
         "anchor": "x",
         "domain": [
          0,
          1
         ],
         "title": {
          "text": "Country"
         }
        }
       }
      }
     },
     "metadata": {},
     "output_type": "display_data"
    },
    {
     "data": {
      "application/vnd.plotly.v1+json": {
       "config": {
        "plotlyServerURL": "https://plot.ly"
       },
       "data": [
        {
         "alignmentgroup": "True",
         "hovertemplate": "USD_CAP=%{marker.color}<br>LOCATION=%{y}<extra></extra>",
         "legendgroup": "",
         "marker": {
          "color": [
           905.1401458333335,
           847.3894444444444,
           840.270625,
           826.5586999999999,
           703.95,
           688.2128888888889,
           669.0481428571428,
           647.7495555555556,
           642.9942222222222,
           617.67375
          ],
          "coloraxis": "coloraxis",
          "pattern": {
           "shape": ""
          }
         },
         "name": "",
         "offsetgroup": "",
         "orientation": "h",
         "showlegend": false,
         "textposition": "auto",
         "type": "bar",
         "x": [
          905.1401458333335,
          847.3894444444444,
          840.270625,
          826.5586999999999,
          703.95,
          688.2128888888889,
          669.0481428571428,
          647.7495555555556,
          642.9942222222222,
          617.67375
         ],
         "xaxis": "x",
         "y": [
          "USA",
          "DEU",
          "JPN",
          "CAN",
          "FRA",
          "CHE",
          "MLT",
          "AUT",
          "GRC",
          "AUS"
         ],
         "yaxis": "y"
        }
       ],
       "layout": {
        "barmode": "relative",
        "coloraxis": {
         "colorbar": {
          "title": {
           "text": "USD_CAP"
          }
         },
         "colorscale": [
          [
           0,
           "#1b3d1b"
          ],
          [
           0.25,
           "#2e6b2e"
          ],
          [
           0.5,
           "#4c8c4c"
          ],
          [
           0.75,
           "#6ea06e"
          ],
          [
           1,
           "#8fb88f"
          ]
         ]
        },
        "legend": {
         "tracegroupgap": 0
        },
        "margin": {
         "t": 60
        },
        "template": {
         "data": {
          "bar": [
           {
            "error_x": {
             "color": "#2a3f5f"
            },
            "error_y": {
             "color": "#2a3f5f"
            },
            "marker": {
             "line": {
              "color": "#E5ECF6",
              "width": 0.5
             },
             "pattern": {
              "fillmode": "overlay",
              "size": 10,
              "solidity": 0.2
             }
            },
            "type": "bar"
           }
          ],
          "barpolar": [
           {
            "marker": {
             "line": {
              "color": "#E5ECF6",
              "width": 0.5
             },
             "pattern": {
              "fillmode": "overlay",
              "size": 10,
              "solidity": 0.2
             }
            },
            "type": "barpolar"
           }
          ],
          "carpet": [
           {
            "aaxis": {
             "endlinecolor": "#2a3f5f",
             "gridcolor": "white",
             "linecolor": "white",
             "minorgridcolor": "white",
             "startlinecolor": "#2a3f5f"
            },
            "baxis": {
             "endlinecolor": "#2a3f5f",
             "gridcolor": "white",
             "linecolor": "white",
             "minorgridcolor": "white",
             "startlinecolor": "#2a3f5f"
            },
            "type": "carpet"
           }
          ],
          "choropleth": [
           {
            "colorbar": {
             "outlinewidth": 0,
             "ticks": ""
            },
            "type": "choropleth"
           }
          ],
          "contour": [
           {
            "colorbar": {
             "outlinewidth": 0,
             "ticks": ""
            },
            "colorscale": [
             [
              0,
              "#0d0887"
             ],
             [
              0.1111111111111111,
              "#46039f"
             ],
             [
              0.2222222222222222,
              "#7201a8"
             ],
             [
              0.3333333333333333,
              "#9c179e"
             ],
             [
              0.4444444444444444,
              "#bd3786"
             ],
             [
              0.5555555555555556,
              "#d8576b"
             ],
             [
              0.6666666666666666,
              "#ed7953"
             ],
             [
              0.7777777777777778,
              "#fb9f3a"
             ],
             [
              0.8888888888888888,
              "#fdca26"
             ],
             [
              1,
              "#f0f921"
             ]
            ],
            "type": "contour"
           }
          ],
          "contourcarpet": [
           {
            "colorbar": {
             "outlinewidth": 0,
             "ticks": ""
            },
            "type": "contourcarpet"
           }
          ],
          "heatmap": [
           {
            "colorbar": {
             "outlinewidth": 0,
             "ticks": ""
            },
            "colorscale": [
             [
              0,
              "#0d0887"
             ],
             [
              0.1111111111111111,
              "#46039f"
             ],
             [
              0.2222222222222222,
              "#7201a8"
             ],
             [
              0.3333333333333333,
              "#9c179e"
             ],
             [
              0.4444444444444444,
              "#bd3786"
             ],
             [
              0.5555555555555556,
              "#d8576b"
             ],
             [
              0.6666666666666666,
              "#ed7953"
             ],
             [
              0.7777777777777778,
              "#fb9f3a"
             ],
             [
              0.8888888888888888,
              "#fdca26"
             ],
             [
              1,
              "#f0f921"
             ]
            ],
            "type": "heatmap"
           }
          ],
          "heatmapgl": [
           {
            "colorbar": {
             "outlinewidth": 0,
             "ticks": ""
            },
            "colorscale": [
             [
              0,
              "#0d0887"
             ],
             [
              0.1111111111111111,
              "#46039f"
             ],
             [
              0.2222222222222222,
              "#7201a8"
             ],
             [
              0.3333333333333333,
              "#9c179e"
             ],
             [
              0.4444444444444444,
              "#bd3786"
             ],
             [
              0.5555555555555556,
              "#d8576b"
             ],
             [
              0.6666666666666666,
              "#ed7953"
             ],
             [
              0.7777777777777778,
              "#fb9f3a"
             ],
             [
              0.8888888888888888,
              "#fdca26"
             ],
             [
              1,
              "#f0f921"
             ]
            ],
            "type": "heatmapgl"
           }
          ],
          "histogram": [
           {
            "marker": {
             "pattern": {
              "fillmode": "overlay",
              "size": 10,
              "solidity": 0.2
             }
            },
            "type": "histogram"
           }
          ],
          "histogram2d": [
           {
            "colorbar": {
             "outlinewidth": 0,
             "ticks": ""
            },
            "colorscale": [
             [
              0,
              "#0d0887"
             ],
             [
              0.1111111111111111,
              "#46039f"
             ],
             [
              0.2222222222222222,
              "#7201a8"
             ],
             [
              0.3333333333333333,
              "#9c179e"
             ],
             [
              0.4444444444444444,
              "#bd3786"
             ],
             [
              0.5555555555555556,
              "#d8576b"
             ],
             [
              0.6666666666666666,
              "#ed7953"
             ],
             [
              0.7777777777777778,
              "#fb9f3a"
             ],
             [
              0.8888888888888888,
              "#fdca26"
             ],
             [
              1,
              "#f0f921"
             ]
            ],
            "type": "histogram2d"
           }
          ],
          "histogram2dcontour": [
           {
            "colorbar": {
             "outlinewidth": 0,
             "ticks": ""
            },
            "colorscale": [
             [
              0,
              "#0d0887"
             ],
             [
              0.1111111111111111,
              "#46039f"
             ],
             [
              0.2222222222222222,
              "#7201a8"
             ],
             [
              0.3333333333333333,
              "#9c179e"
             ],
             [
              0.4444444444444444,
              "#bd3786"
             ],
             [
              0.5555555555555556,
              "#d8576b"
             ],
             [
              0.6666666666666666,
              "#ed7953"
             ],
             [
              0.7777777777777778,
              "#fb9f3a"
             ],
             [
              0.8888888888888888,
              "#fdca26"
             ],
             [
              1,
              "#f0f921"
             ]
            ],
            "type": "histogram2dcontour"
           }
          ],
          "mesh3d": [
           {
            "colorbar": {
             "outlinewidth": 0,
             "ticks": ""
            },
            "type": "mesh3d"
           }
          ],
          "parcoords": [
           {
            "line": {
             "colorbar": {
              "outlinewidth": 0,
              "ticks": ""
             }
            },
            "type": "parcoords"
           }
          ],
          "pie": [
           {
            "automargin": true,
            "type": "pie"
           }
          ],
          "scatter": [
           {
            "fillpattern": {
             "fillmode": "overlay",
             "size": 10,
             "solidity": 0.2
            },
            "type": "scatter"
           }
          ],
          "scatter3d": [
           {
            "line": {
             "colorbar": {
              "outlinewidth": 0,
              "ticks": ""
             }
            },
            "marker": {
             "colorbar": {
              "outlinewidth": 0,
              "ticks": ""
             }
            },
            "type": "scatter3d"
           }
          ],
          "scattercarpet": [
           {
            "marker": {
             "colorbar": {
              "outlinewidth": 0,
              "ticks": ""
             }
            },
            "type": "scattercarpet"
           }
          ],
          "scattergeo": [
           {
            "marker": {
             "colorbar": {
              "outlinewidth": 0,
              "ticks": ""
             }
            },
            "type": "scattergeo"
           }
          ],
          "scattergl": [
           {
            "marker": {
             "colorbar": {
              "outlinewidth": 0,
              "ticks": ""
             }
            },
            "type": "scattergl"
           }
          ],
          "scattermapbox": [
           {
            "marker": {
             "colorbar": {
              "outlinewidth": 0,
              "ticks": ""
             }
            },
            "type": "scattermapbox"
           }
          ],
          "scatterpolar": [
           {
            "marker": {
             "colorbar": {
              "outlinewidth": 0,
              "ticks": ""
             }
            },
            "type": "scatterpolar"
           }
          ],
          "scatterpolargl": [
           {
            "marker": {
             "colorbar": {
              "outlinewidth": 0,
              "ticks": ""
             }
            },
            "type": "scatterpolargl"
           }
          ],
          "scatterternary": [
           {
            "marker": {
             "colorbar": {
              "outlinewidth": 0,
              "ticks": ""
             }
            },
            "type": "scatterternary"
           }
          ],
          "surface": [
           {
            "colorbar": {
             "outlinewidth": 0,
             "ticks": ""
            },
            "colorscale": [
             [
              0,
              "#0d0887"
             ],
             [
              0.1111111111111111,
              "#46039f"
             ],
             [
              0.2222222222222222,
              "#7201a8"
             ],
             [
              0.3333333333333333,
              "#9c179e"
             ],
             [
              0.4444444444444444,
              "#bd3786"
             ],
             [
              0.5555555555555556,
              "#d8576b"
             ],
             [
              0.6666666666666666,
              "#ed7953"
             ],
             [
              0.7777777777777778,
              "#fb9f3a"
             ],
             [
              0.8888888888888888,
              "#fdca26"
             ],
             [
              1,
              "#f0f921"
             ]
            ],
            "type": "surface"
           }
          ],
          "table": [
           {
            "cells": {
             "fill": {
              "color": "#EBF0F8"
             },
             "line": {
              "color": "white"
             }
            },
            "header": {
             "fill": {
              "color": "#C8D4E3"
             },
             "line": {
              "color": "white"
             }
            },
            "type": "table"
           }
          ]
         },
         "layout": {
          "annotationdefaults": {
           "arrowcolor": "#2a3f5f",
           "arrowhead": 0,
           "arrowwidth": 1
          },
          "autotypenumbers": "strict",
          "coloraxis": {
           "colorbar": {
            "outlinewidth": 0,
            "ticks": ""
           }
          },
          "colorscale": {
           "diverging": [
            [
             0,
             "#8e0152"
            ],
            [
             0.1,
             "#c51b7d"
            ],
            [
             0.2,
             "#de77ae"
            ],
            [
             0.3,
             "#f1b6da"
            ],
            [
             0.4,
             "#fde0ef"
            ],
            [
             0.5,
             "#f7f7f7"
            ],
            [
             0.6,
             "#e6f5d0"
            ],
            [
             0.7,
             "#b8e186"
            ],
            [
             0.8,
             "#7fbc41"
            ],
            [
             0.9,
             "#4d9221"
            ],
            [
             1,
             "#276419"
            ]
           ],
           "sequential": [
            [
             0,
             "#0d0887"
            ],
            [
             0.1111111111111111,
             "#46039f"
            ],
            [
             0.2222222222222222,
             "#7201a8"
            ],
            [
             0.3333333333333333,
             "#9c179e"
            ],
            [
             0.4444444444444444,
             "#bd3786"
            ],
            [
             0.5555555555555556,
             "#d8576b"
            ],
            [
             0.6666666666666666,
             "#ed7953"
            ],
            [
             0.7777777777777778,
             "#fb9f3a"
            ],
            [
             0.8888888888888888,
             "#fdca26"
            ],
            [
             1,
             "#f0f921"
            ]
           ],
           "sequentialminus": [
            [
             0,
             "#0d0887"
            ],
            [
             0.1111111111111111,
             "#46039f"
            ],
            [
             0.2222222222222222,
             "#7201a8"
            ],
            [
             0.3333333333333333,
             "#9c179e"
            ],
            [
             0.4444444444444444,
             "#bd3786"
            ],
            [
             0.5555555555555556,
             "#d8576b"
            ],
            [
             0.6666666666666666,
             "#ed7953"
            ],
            [
             0.7777777777777778,
             "#fb9f3a"
            ],
            [
             0.8888888888888888,
             "#fdca26"
            ],
            [
             1,
             "#f0f921"
            ]
           ]
          },
          "colorway": [
           "#636efa",
           "#EF553B",
           "#00cc96",
           "#ab63fa",
           "#FFA15A",
           "#19d3f3",
           "#FF6692",
           "#B6E880",
           "#FF97FF",
           "#FECB52"
          ],
          "font": {
           "color": "#2a3f5f"
          },
          "geo": {
           "bgcolor": "white",
           "lakecolor": "white",
           "landcolor": "#E5ECF6",
           "showlakes": true,
           "showland": true,
           "subunitcolor": "white"
          },
          "hoverlabel": {
           "align": "left"
          },
          "hovermode": "closest",
          "mapbox": {
           "style": "light"
          },
          "paper_bgcolor": "white",
          "plot_bgcolor": "#E5ECF6",
          "polar": {
           "angularaxis": {
            "gridcolor": "white",
            "linecolor": "white",
            "ticks": ""
           },
           "bgcolor": "#E5ECF6",
           "radialaxis": {
            "gridcolor": "white",
            "linecolor": "white",
            "ticks": ""
           }
          },
          "scene": {
           "xaxis": {
            "backgroundcolor": "#E5ECF6",
            "gridcolor": "white",
            "gridwidth": 2,
            "linecolor": "white",
            "showbackground": true,
            "ticks": "",
            "zerolinecolor": "white"
           },
           "yaxis": {
            "backgroundcolor": "#E5ECF6",
            "gridcolor": "white",
            "gridwidth": 2,
            "linecolor": "white",
            "showbackground": true,
            "ticks": "",
            "zerolinecolor": "white"
           },
           "zaxis": {
            "backgroundcolor": "#E5ECF6",
            "gridcolor": "white",
            "gridwidth": 2,
            "linecolor": "white",
            "showbackground": true,
            "ticks": "",
            "zerolinecolor": "white"
           }
          },
          "shapedefaults": {
           "line": {
            "color": "#2a3f5f"
           }
          },
          "ternary": {
           "aaxis": {
            "gridcolor": "white",
            "linecolor": "white",
            "ticks": ""
           },
           "baxis": {
            "gridcolor": "white",
            "linecolor": "white",
            "ticks": ""
           },
           "bgcolor": "#E5ECF6",
           "caxis": {
            "gridcolor": "white",
            "linecolor": "white",
            "ticks": ""
           }
          },
          "title": {
           "x": 0.05
          },
          "xaxis": {
           "automargin": true,
           "gridcolor": "white",
           "linecolor": "white",
           "ticks": "",
           "title": {
            "standoff": 15
           },
           "zerolinecolor": "white",
           "zerolinewidth": 2
          },
          "yaxis": {
           "automargin": true,
           "gridcolor": "white",
           "linecolor": "white",
           "ticks": "",
           "title": {
            "standoff": 15
           },
           "zerolinecolor": "white",
           "zerolinewidth": 2
          }
         }
        },
        "title": {
         "text": "Top 10 Countries (Last 10 Years)"
        },
        "xaxis": {
         "anchor": "y",
         "domain": [
          0,
          1
         ],
         "title": {
          "text": "Average Spend Per Capita (USD)"
         }
        },
        "yaxis": {
         "anchor": "x",
         "domain": [
          0,
          1
         ],
         "title": {
          "text": "Country"
         }
        }
       }
      }
     },
     "metadata": {},
     "output_type": "display_data"
    },
    {
     "data": {
      "application/vnd.plotly.v1+json": {
       "config": {
        "plotlyServerURL": "https://plot.ly"
       },
       "data": [
        {
         "alignmentgroup": "True",
         "hovertemplate": "USD_CAP=%{marker.color}<br>LOCATION=%{y}<extra></extra>",
         "legendgroup": "",
         "marker": {
          "color": [
           158.3838888888889,
           161.38400000000001,
           249.16444444444446,
           255.5038,
           315.9446666666667,
           340.91525,
           343.2373,
           383.1347777777778,
           383.4131111111111,
           409.1771
          ],
          "coloraxis": "coloraxis",
          "pattern": {
           "shape": ""
          }
         },
         "name": "",
         "offsetgroup": "",
         "orientation": "h",
         "showlegend": false,
         "textposition": "auto",
         "type": "bar",
         "x": [
          158.3838888888889,
          161.38400000000001,
          249.16444444444446,
          255.5038,
          315.9446666666667,
          340.91525,
          343.2373,
          383.1347777777778,
          383.4131111111111,
          409.1771
         ],
         "xaxis": "x",
         "y": [
          "CRI",
          "COL",
          "MEX",
          "BRA",
          "CHL",
          "ISR",
          "DNK",
          "EST",
          "HRV",
          "NLD"
         ],
         "yaxis": "y"
        }
       ],
       "layout": {
        "barmode": "relative",
        "coloraxis": {
         "colorbar": {
          "title": {
           "text": "USD_CAP"
          }
         },
         "colorscale": [
          [
           0,
           "#1b3d1b"
          ],
          [
           0.25,
           "#2e6b2e"
          ],
          [
           0.5,
           "#4c8c4c"
          ],
          [
           0.75,
           "#6ea06e"
          ],
          [
           1,
           "#8fb88f"
          ]
         ]
        },
        "legend": {
         "tracegroupgap": 0
        },
        "margin": {
         "t": 60
        },
        "template": {
         "data": {
          "bar": [
           {
            "error_x": {
             "color": "#2a3f5f"
            },
            "error_y": {
             "color": "#2a3f5f"
            },
            "marker": {
             "line": {
              "color": "#E5ECF6",
              "width": 0.5
             },
             "pattern": {
              "fillmode": "overlay",
              "size": 10,
              "solidity": 0.2
             }
            },
            "type": "bar"
           }
          ],
          "barpolar": [
           {
            "marker": {
             "line": {
              "color": "#E5ECF6",
              "width": 0.5
             },
             "pattern": {
              "fillmode": "overlay",
              "size": 10,
              "solidity": 0.2
             }
            },
            "type": "barpolar"
           }
          ],
          "carpet": [
           {
            "aaxis": {
             "endlinecolor": "#2a3f5f",
             "gridcolor": "white",
             "linecolor": "white",
             "minorgridcolor": "white",
             "startlinecolor": "#2a3f5f"
            },
            "baxis": {
             "endlinecolor": "#2a3f5f",
             "gridcolor": "white",
             "linecolor": "white",
             "minorgridcolor": "white",
             "startlinecolor": "#2a3f5f"
            },
            "type": "carpet"
           }
          ],
          "choropleth": [
           {
            "colorbar": {
             "outlinewidth": 0,
             "ticks": ""
            },
            "type": "choropleth"
           }
          ],
          "contour": [
           {
            "colorbar": {
             "outlinewidth": 0,
             "ticks": ""
            },
            "colorscale": [
             [
              0,
              "#0d0887"
             ],
             [
              0.1111111111111111,
              "#46039f"
             ],
             [
              0.2222222222222222,
              "#7201a8"
             ],
             [
              0.3333333333333333,
              "#9c179e"
             ],
             [
              0.4444444444444444,
              "#bd3786"
             ],
             [
              0.5555555555555556,
              "#d8576b"
             ],
             [
              0.6666666666666666,
              "#ed7953"
             ],
             [
              0.7777777777777778,
              "#fb9f3a"
             ],
             [
              0.8888888888888888,
              "#fdca26"
             ],
             [
              1,
              "#f0f921"
             ]
            ],
            "type": "contour"
           }
          ],
          "contourcarpet": [
           {
            "colorbar": {
             "outlinewidth": 0,
             "ticks": ""
            },
            "type": "contourcarpet"
           }
          ],
          "heatmap": [
           {
            "colorbar": {
             "outlinewidth": 0,
             "ticks": ""
            },
            "colorscale": [
             [
              0,
              "#0d0887"
             ],
             [
              0.1111111111111111,
              "#46039f"
             ],
             [
              0.2222222222222222,
              "#7201a8"
             ],
             [
              0.3333333333333333,
              "#9c179e"
             ],
             [
              0.4444444444444444,
              "#bd3786"
             ],
             [
              0.5555555555555556,
              "#d8576b"
             ],
             [
              0.6666666666666666,
              "#ed7953"
             ],
             [
              0.7777777777777778,
              "#fb9f3a"
             ],
             [
              0.8888888888888888,
              "#fdca26"
             ],
             [
              1,
              "#f0f921"
             ]
            ],
            "type": "heatmap"
           }
          ],
          "heatmapgl": [
           {
            "colorbar": {
             "outlinewidth": 0,
             "ticks": ""
            },
            "colorscale": [
             [
              0,
              "#0d0887"
             ],
             [
              0.1111111111111111,
              "#46039f"
             ],
             [
              0.2222222222222222,
              "#7201a8"
             ],
             [
              0.3333333333333333,
              "#9c179e"
             ],
             [
              0.4444444444444444,
              "#bd3786"
             ],
             [
              0.5555555555555556,
              "#d8576b"
             ],
             [
              0.6666666666666666,
              "#ed7953"
             ],
             [
              0.7777777777777778,
              "#fb9f3a"
             ],
             [
              0.8888888888888888,
              "#fdca26"
             ],
             [
              1,
              "#f0f921"
             ]
            ],
            "type": "heatmapgl"
           }
          ],
          "histogram": [
           {
            "marker": {
             "pattern": {
              "fillmode": "overlay",
              "size": 10,
              "solidity": 0.2
             }
            },
            "type": "histogram"
           }
          ],
          "histogram2d": [
           {
            "colorbar": {
             "outlinewidth": 0,
             "ticks": ""
            },
            "colorscale": [
             [
              0,
              "#0d0887"
             ],
             [
              0.1111111111111111,
              "#46039f"
             ],
             [
              0.2222222222222222,
              "#7201a8"
             ],
             [
              0.3333333333333333,
              "#9c179e"
             ],
             [
              0.4444444444444444,
              "#bd3786"
             ],
             [
              0.5555555555555556,
              "#d8576b"
             ],
             [
              0.6666666666666666,
              "#ed7953"
             ],
             [
              0.7777777777777778,
              "#fb9f3a"
             ],
             [
              0.8888888888888888,
              "#fdca26"
             ],
             [
              1,
              "#f0f921"
             ]
            ],
            "type": "histogram2d"
           }
          ],
          "histogram2dcontour": [
           {
            "colorbar": {
             "outlinewidth": 0,
             "ticks": ""
            },
            "colorscale": [
             [
              0,
              "#0d0887"
             ],
             [
              0.1111111111111111,
              "#46039f"
             ],
             [
              0.2222222222222222,
              "#7201a8"
             ],
             [
              0.3333333333333333,
              "#9c179e"
             ],
             [
              0.4444444444444444,
              "#bd3786"
             ],
             [
              0.5555555555555556,
              "#d8576b"
             ],
             [
              0.6666666666666666,
              "#ed7953"
             ],
             [
              0.7777777777777778,
              "#fb9f3a"
             ],
             [
              0.8888888888888888,
              "#fdca26"
             ],
             [
              1,
              "#f0f921"
             ]
            ],
            "type": "histogram2dcontour"
           }
          ],
          "mesh3d": [
           {
            "colorbar": {
             "outlinewidth": 0,
             "ticks": ""
            },
            "type": "mesh3d"
           }
          ],
          "parcoords": [
           {
            "line": {
             "colorbar": {
              "outlinewidth": 0,
              "ticks": ""
             }
            },
            "type": "parcoords"
           }
          ],
          "pie": [
           {
            "automargin": true,
            "type": "pie"
           }
          ],
          "scatter": [
           {
            "fillpattern": {
             "fillmode": "overlay",
             "size": 10,
             "solidity": 0.2
            },
            "type": "scatter"
           }
          ],
          "scatter3d": [
           {
            "line": {
             "colorbar": {
              "outlinewidth": 0,
              "ticks": ""
             }
            },
            "marker": {
             "colorbar": {
              "outlinewidth": 0,
              "ticks": ""
             }
            },
            "type": "scatter3d"
           }
          ],
          "scattercarpet": [
           {
            "marker": {
             "colorbar": {
              "outlinewidth": 0,
              "ticks": ""
             }
            },
            "type": "scattercarpet"
           }
          ],
          "scattergeo": [
           {
            "marker": {
             "colorbar": {
              "outlinewidth": 0,
              "ticks": ""
             }
            },
            "type": "scattergeo"
           }
          ],
          "scattergl": [
           {
            "marker": {
             "colorbar": {
              "outlinewidth": 0,
              "ticks": ""
             }
            },
            "type": "scattergl"
           }
          ],
          "scattermapbox": [
           {
            "marker": {
             "colorbar": {
              "outlinewidth": 0,
              "ticks": ""
             }
            },
            "type": "scattermapbox"
           }
          ],
          "scatterpolar": [
           {
            "marker": {
             "colorbar": {
              "outlinewidth": 0,
              "ticks": ""
             }
            },
            "type": "scatterpolar"
           }
          ],
          "scatterpolargl": [
           {
            "marker": {
             "colorbar": {
              "outlinewidth": 0,
              "ticks": ""
             }
            },
            "type": "scatterpolargl"
           }
          ],
          "scatterternary": [
           {
            "marker": {
             "colorbar": {
              "outlinewidth": 0,
              "ticks": ""
             }
            },
            "type": "scatterternary"
           }
          ],
          "surface": [
           {
            "colorbar": {
             "outlinewidth": 0,
             "ticks": ""
            },
            "colorscale": [
             [
              0,
              "#0d0887"
             ],
             [
              0.1111111111111111,
              "#46039f"
             ],
             [
              0.2222222222222222,
              "#7201a8"
             ],
             [
              0.3333333333333333,
              "#9c179e"
             ],
             [
              0.4444444444444444,
              "#bd3786"
             ],
             [
              0.5555555555555556,
              "#d8576b"
             ],
             [
              0.6666666666666666,
              "#ed7953"
             ],
             [
              0.7777777777777778,
              "#fb9f3a"
             ],
             [
              0.8888888888888888,
              "#fdca26"
             ],
             [
              1,
              "#f0f921"
             ]
            ],
            "type": "surface"
           }
          ],
          "table": [
           {
            "cells": {
             "fill": {
              "color": "#EBF0F8"
             },
             "line": {
              "color": "white"
             }
            },
            "header": {
             "fill": {
              "color": "#C8D4E3"
             },
             "line": {
              "color": "white"
             }
            },
            "type": "table"
           }
          ]
         },
         "layout": {
          "annotationdefaults": {
           "arrowcolor": "#2a3f5f",
           "arrowhead": 0,
           "arrowwidth": 1
          },
          "autotypenumbers": "strict",
          "coloraxis": {
           "colorbar": {
            "outlinewidth": 0,
            "ticks": ""
           }
          },
          "colorscale": {
           "diverging": [
            [
             0,
             "#8e0152"
            ],
            [
             0.1,
             "#c51b7d"
            ],
            [
             0.2,
             "#de77ae"
            ],
            [
             0.3,
             "#f1b6da"
            ],
            [
             0.4,
             "#fde0ef"
            ],
            [
             0.5,
             "#f7f7f7"
            ],
            [
             0.6,
             "#e6f5d0"
            ],
            [
             0.7,
             "#b8e186"
            ],
            [
             0.8,
             "#7fbc41"
            ],
            [
             0.9,
             "#4d9221"
            ],
            [
             1,
             "#276419"
            ]
           ],
           "sequential": [
            [
             0,
             "#0d0887"
            ],
            [
             0.1111111111111111,
             "#46039f"
            ],
            [
             0.2222222222222222,
             "#7201a8"
            ],
            [
             0.3333333333333333,
             "#9c179e"
            ],
            [
             0.4444444444444444,
             "#bd3786"
            ],
            [
             0.5555555555555556,
             "#d8576b"
            ],
            [
             0.6666666666666666,
             "#ed7953"
            ],
            [
             0.7777777777777778,
             "#fb9f3a"
            ],
            [
             0.8888888888888888,
             "#fdca26"
            ],
            [
             1,
             "#f0f921"
            ]
           ],
           "sequentialminus": [
            [
             0,
             "#0d0887"
            ],
            [
             0.1111111111111111,
             "#46039f"
            ],
            [
             0.2222222222222222,
             "#7201a8"
            ],
            [
             0.3333333333333333,
             "#9c179e"
            ],
            [
             0.4444444444444444,
             "#bd3786"
            ],
            [
             0.5555555555555556,
             "#d8576b"
            ],
            [
             0.6666666666666666,
             "#ed7953"
            ],
            [
             0.7777777777777778,
             "#fb9f3a"
            ],
            [
             0.8888888888888888,
             "#fdca26"
            ],
            [
             1,
             "#f0f921"
            ]
           ]
          },
          "colorway": [
           "#636efa",
           "#EF553B",
           "#00cc96",
           "#ab63fa",
           "#FFA15A",
           "#19d3f3",
           "#FF6692",
           "#B6E880",
           "#FF97FF",
           "#FECB52"
          ],
          "font": {
           "color": "#2a3f5f"
          },
          "geo": {
           "bgcolor": "white",
           "lakecolor": "white",
           "landcolor": "#E5ECF6",
           "showlakes": true,
           "showland": true,
           "subunitcolor": "white"
          },
          "hoverlabel": {
           "align": "left"
          },
          "hovermode": "closest",
          "mapbox": {
           "style": "light"
          },
          "paper_bgcolor": "white",
          "plot_bgcolor": "#E5ECF6",
          "polar": {
           "angularaxis": {
            "gridcolor": "white",
            "linecolor": "white",
            "ticks": ""
           },
           "bgcolor": "#E5ECF6",
           "radialaxis": {
            "gridcolor": "white",
            "linecolor": "white",
            "ticks": ""
           }
          },
          "scene": {
           "xaxis": {
            "backgroundcolor": "#E5ECF6",
            "gridcolor": "white",
            "gridwidth": 2,
            "linecolor": "white",
            "showbackground": true,
            "ticks": "",
            "zerolinecolor": "white"
           },
           "yaxis": {
            "backgroundcolor": "#E5ECF6",
            "gridcolor": "white",
            "gridwidth": 2,
            "linecolor": "white",
            "showbackground": true,
            "ticks": "",
            "zerolinecolor": "white"
           },
           "zaxis": {
            "backgroundcolor": "#E5ECF6",
            "gridcolor": "white",
            "gridwidth": 2,
            "linecolor": "white",
            "showbackground": true,
            "ticks": "",
            "zerolinecolor": "white"
           }
          },
          "shapedefaults": {
           "line": {
            "color": "#2a3f5f"
           }
          },
          "ternary": {
           "aaxis": {
            "gridcolor": "white",
            "linecolor": "white",
            "ticks": ""
           },
           "baxis": {
            "gridcolor": "white",
            "linecolor": "white",
            "ticks": ""
           },
           "bgcolor": "#E5ECF6",
           "caxis": {
            "gridcolor": "white",
            "linecolor": "white",
            "ticks": ""
           }
          },
          "title": {
           "x": 0.05
          },
          "xaxis": {
           "automargin": true,
           "gridcolor": "white",
           "linecolor": "white",
           "ticks": "",
           "title": {
            "standoff": 15
           },
           "zerolinecolor": "white",
           "zerolinewidth": 2
          },
          "yaxis": {
           "automargin": true,
           "gridcolor": "white",
           "linecolor": "white",
           "ticks": "",
           "title": {
            "standoff": 15
           },
           "zerolinecolor": "white",
           "zerolinewidth": 2
          }
         }
        },
        "title": {
         "text": "Bottom 10 Countries (Last 10 Years)"
        },
        "xaxis": {
         "anchor": "y",
         "domain": [
          0,
          1
         ],
         "title": {
          "text": "Average Spend Per Capita (USD)"
         }
        },
        "yaxis": {
         "anchor": "x",
         "domain": [
          0,
          1
         ],
         "title": {
          "text": "Country"
         }
        }
       }
      }
     },
     "metadata": {},
     "output_type": "display_data"
    }
   ],
   "source": [
    "import pandas as pd\n",
    "import numpy as np\n",
    "import matplotlib.pyplot as plt\n",
    "\n",
    "# Load Dataset\n",
    "file_path = r\"C:\\Users\\kaurp\\Team_2_Pharmaceutical_Drug_Spending_by_Countries\\flat-ui__data-Tue Mar 11 2025.csv\"\n",
    "data = pd.read_csv(file_path)\n",
    "\n",
    "# Divide into first 10 years and last 10 years\n",
    "first_10_years = data[data['TIME'].between(data['TIME'].min(), data['TIME'].min() + 9)]\n",
    "last_10_years = data[data['TIME'].between(data['TIME'].max() - 9, data['TIME'].max())]\n",
    "\n",
    "# Group by LOCATION and calculate average USD_CAP for each period\n",
    "first_avg_spend = first_10_years.groupby('LOCATION')['USD_CAP'].mean().reset_index()\n",
    "last_avg_spend = last_10_years.groupby('LOCATION')['USD_CAP'].mean().reset_index()\n",
    "\n",
    "# Detect and Handle Outliers\n",
    "def handle_outliers(df, column):\n",
    "    q1 = df[column].quantile(0.25)\n",
    "    q3 = df[column].quantile(0.75)\n",
    "    iqr = q3 - q1\n",
    "    lower_bound = q1 - 1.5 * iqr\n",
    "    upper_bound = q3 + 1.5 * iqr\n",
    "    df[column] = np.where(df[column] < lower_bound, lower_bound,\n",
    "                          np.where(df[column] > upper_bound, upper_bound, df[column]))\n",
    "    return df\n",
    "\n",
    "first_avg_spend = handle_outliers(first_avg_spend, 'USD_CAP')\n",
    "last_avg_spend = handle_outliers(last_avg_spend, 'USD_CAP')\n",
    "\n",
    "# Rank Top 10 and Bottom 10\n",
    "first_top_10 = first_avg_spend.nlargest(10, 'USD_CAP')\n",
    "first_bottom_10 = first_avg_spend.nsmallest(10, 'USD_CAP')\n",
    "\n",
    "last_top_10 = last_avg_spend.nlargest(10, 'USD_CAP')\n",
    "last_bottom_10 = last_avg_spend.nsmallest(10, 'USD_CAP')\n",
    "\n",
    "# Define color scale \n",
    "green_scale = ['#1b3d1b', '#2e6b2e', '#4c8c4c', '#6ea06e', '#8fb88f']\n",
    "\n",
    "# Interactive Plots\n",
    "def create_bar_chart(df, title):\n",
    "    fig = px.bar(df, x='USD_CAP', y='LOCATION', orientation='h',\n",
    "                 color='USD_CAP', color_continuous_scale=green_scale)\n",
    "    fig.update_layout(title=title, xaxis_title='Average Spend Per Capita (USD)', yaxis_title='Country')\n",
    "    fig.show()\n",
    "\n",
    "create_bar_chart(first_top_10, 'Top 10 Countries (First 10 Years)')\n",
    "create_bar_chart(first_bottom_10, 'Bottom 10 Countries (First 10 Years)')\n",
    "create_bar_chart(last_top_10, 'Top 10 Countries (Last 10 Years)')\n",
    "create_bar_chart(last_bottom_10, 'Bottom 10 Countries (Last 10 Years)')\n"
   ]
  },
  {
   "cell_type": "markdown",
   "metadata": {},
   "source": [
    "# Top 10 vs Bottom 10 Spenders – First 10 Years vs Last 10 Years\n",
    "Data Preparation: The dataset is divided into two time periods, First 10 years (earliest years in the dataset) and Last 10 years (most recent years).The data is grouped by country (LOCATION) and the average spending per capita (USD_CAP) is calculated for both periods. The Outliers are handled using the Interquartile Range (IQR) method to avoid skewed results. Values below the lower bound or above the upper bound are capped.\n",
    "\n",
    "Visualization: Four bar charts are generated: Top 10 spenders and bottom 10 spenders for both the first and last 10 years. The The graphs highlight the spending trends over time.\n",
    "\n",
    "Key Observations: \n",
    " Increased Spending Over Time: The top 10 spenders in the last 10 years show higher spending per capita compared to the first 10 years, indicating increased pharmaceutical investment. This suggests rising drug costs or improved healthcare access over time.\n",
    " Top & Bottom 10 Consistency:The top 10 spenders show some consistency, with four countries (Australia, Germany, France, and Canada) appearing in both periods.There is no overlap in the bottom 10 spenders, confirming that the lowest-spending countries vary significantly between the two periods. So it could be due to changing economic factors or changing healthcare investments in low spending countries \n",
    " Rising Pharmaceutical Costs Over Time: The last 10 years show generally higher average spending for both top and bottom spenders compared to the first 10 years, indicating inflation or increased healthcare investment over time."
   ]
  },
  {
   "cell_type": "code",
   "execution_count": 4,
   "metadata": {},
   "outputs": [
    {
     "name": "stdout",
     "output_type": "stream",
     "text": [
      "     LOCATION  TIME  PC_HEALTHXP  PC_GDP   USD_CAP  TOTAL_SPEND   Z_Score\n",
      "335       DEU  2021       13.866   1.793  1042.460     86728.58  3.114828\n",
      "1332      USA  2013       11.975   1.915  1020.541    322552.13  3.017873\n",
      "1333      USA  2014       12.527   2.029  1118.634    356157.77  3.451771\n",
      "1334      USA  2015       12.707   2.095  1189.437    381498.83  3.764956\n",
      "1335      USA  2016       12.263   2.060  1192.301    385198.78  3.777624\n",
      "1336      USA  2017       11.954   2.004  1200.769    390396.57  3.815081\n",
      "1337      USA  2018       11.766   1.957  1229.266    401771.09  3.941133\n",
      "1338      USA  2019       11.767   1.961  1277.032    419287.86  4.152418\n",
      "1339      USA  2020       11.037   2.070  1315.218    436030.19  4.321327\n",
      "1340      USA  2021       11.743   2.039  1432.309    475596.74  4.839259\n"
     ]
    }
   ],
   "source": [
    "from scipy.stats import zscore\n",
    "\n",
    "# Compute Z-scores\n",
    "data['Z_Score'] = zscore(data['USD_CAP'])  # Replace 'USD_CAP' with your desired column\n",
    "outliers = data[(data['Z_Score'] > 3) | (data['Z_Score'] < -3)]\n",
    "print(outliers)\n"
   ]
  },
  {
   "cell_type": "markdown",
   "metadata": {},
   "source": [
    "# Z Score to identify Outliers:\n",
    "The code calculates Z-scores for the 'USD_CAP' column and identifies outliers where the Z-score is above 3 or below -3.\n",
    "zscore() computes how far each value is from the mean in terms of standard deviations. Outliers are selected if their Z-scores are greater than 3 or less than -3.\n",
    "Key Observations: Z-Scores: All the rows listed have Z-scores above 3, indicating they are outliers (values significantly higher than the mean) \n",
    "These rows represent countries (like the USA) with exceptionally high USD capital expenditures relative to the dataset relative to the dataset's mean and standard deviation."
   ]
  },
  {
   "cell_type": "code",
   "execution_count": 5,
   "metadata": {},
   "outputs": [
    {
     "name": "stdout",
     "output_type": "stream",
     "text": [
      "     LOCATION  TIME  PC_HEALTHXP  PC_GDP   USD_CAP  TOTAL_SPEND   Z_Score\n",
      "335       DEU  2021       13.866   1.793  1042.460     86728.58  3.114828\n",
      "1333      USA  2014       12.527   2.029  1118.634    356157.77  3.451771\n",
      "1334      USA  2015       12.707   2.095  1189.437    381498.83  3.764956\n",
      "1335      USA  2016       12.263   2.060  1192.301    385198.78  3.777624\n",
      "1336      USA  2017       11.954   2.004  1200.769    390396.57  3.815081\n",
      "1337      USA  2018       11.766   1.957  1229.266    401771.09  3.941133\n",
      "1338      USA  2019       11.767   1.961  1277.032    419287.86  4.152418\n",
      "1339      USA  2020       11.037   2.070  1315.218    436030.19  4.321327\n",
      "1340      USA  2021       11.743   2.039  1432.309    475596.74  4.839259\n"
     ]
    }
   ],
   "source": [
    "Q1 = data['USD_CAP'].quantile(0.25)  # Replace 'USD_CAP' with your column\n",
    "Q3 = data['USD_CAP'].quantile(0.75)\n",
    "IQR = Q3 - Q1\n",
    "lower_bound = Q1 - 1.5 * IQR\n",
    "upper_bound = Q3 + 1.5 * IQR\n",
    "\n",
    "# Identify outliers\n",
    "outliers = data[(data['USD_CAP'] < lower_bound) | (data['USD_CAP'] > upper_bound)]\n",
    "print(outliers)\n"
   ]
  },
  {
   "cell_type": "markdown",
   "metadata": {},
   "source": [
    "# Interquartile Range (IQR) method to identify outliers:\n",
    "Quantiles: Q1 (25th percentile) and Q3 (75th percentile) are computed.\n",
    "IQR Calculation: IQR = Q3 - Q1, representing the spread of the middle 50% of the data\n",
    "Outlier Bounds: Outliers are values outside the range defined by 1.5 * IQR below Q1 or above Q3. Rows with values outside these bounds are filtered and displayed.\n",
    "Key Observations: \n",
    "Predicted Values: These are calculated based on model, offering estimates of 'USD_CAP'.\n",
    "Comparison: The predicted values seem lower than the actual 'USD_CAP' values in most cases, suggesting potential underestimation by the model."
   ]
  },
  {
   "cell_type": "code",
   "execution_count": 6,
   "metadata": {},
   "outputs": [
    {
     "data": {
      "application/vnd.plotly.v1+json": {
       "config": {
        "plotlyServerURL": "https://plot.ly"
       },
       "data": [
        {
         "alignmentgroup": "True",
         "hovertemplate": "USD_CAP=%{y}<extra></extra>",
         "legendgroup": "",
         "marker": {
          "color": "#4c8c4c"
         },
         "name": "",
         "notched": false,
         "offsetgroup": "",
         "orientation": "v",
         "showlegend": false,
         "type": "box",
         "x0": " ",
         "xaxis": "x",
         "y": [
          33.99,
          34.184,
          37.956,
          45.338,
          44.363,
          44.34,
          45.407,
          48.127,
          47.307,
          54.875,
          62.73,
          65.245,
          72.629,
          76.085,
          81.784,
          86.545,
          90.907,
          100.971,
          111.925,
          122.156,
          134.997,
          148.927,
          164.472,
          181.941,
          196.205,
          215.33,
          232.169,
          259.041,
          287.245,
          338.103,
          367.853,
          381.433,
          406.438,
          441.202,
          437.125,
          457.715,
          486.408,
          516.333,
          530.969,
          561.659,
          583.222,
          589.993,
          586.402,
          569.455,
          594.233,
          650.539,
          622.908,
          619.256,
          617.729,
          680.868,
          150.163,
          158.596,
          168.787,
          180.292,
          190.767,
          199.061,
          212.567,
          253.988,
          287.561,
          322.489,
          357.062,
          368.742,
          407.91,
          435.142,
          453.933,
          460.159,
          482.397,
          511.897,
          538.527,
          505.931,
          520.448,
          534.067,
          553.478,
          566.622,
          589.981,
          607.648,
          621.653,
          642.378,
          659.52,
          665.852,
          711.325,
          764.767,
          42.05,
          46.626,
          51.474,
          61.827,
          68.928,
          73.393,
          72.63,
          81.649,
          89.427,
          97.873,
          102.927,
          107.311,
          114.228,
          122.594,
          121.765,
          135.801,
          148.417,
          161.07,
          183.216,
          195.372,
          202.058,
          221.636,
          248.41,
          276.285,
          283.138,
          301.872,
          302.676,
          317.541,
          504.999,
          528.023,
          526.39,
          524.904,
          549.591,
          526.611,
          526.238,
          540.994,
          551.654,
          541.621,
          556.791,
          561.59,
          591.141,
          603.742,
          592.17,
          601.265,
          613.639,
          615.681,
          649.344,
          231.652,
          233.474,
          243.791,
          267.287,
          275.732,
          308.211,
          474.182,
          432.714,
          491.214,
          516.436,
          587.206,
          625.801,
          625.647,
          616.927,
          692.585,
          758.71,
          248.338,
          244.67,
          250.063,
          261.617,
          272.831,
          32.684,
          36.13,
          37.076,
          40.128,
          42.13,
          45.427,
          48.668,
          51.69,
          55.495,
          62.866,
          70.739,
          84.104,
          90.358,
          97.554,
          107.828,
          122.028,
          137.551,
          150.106,
          166.34,
          184.661,
          202.518,
          219.057,
          241.917,
          258.297,
          267.114,
          285.008,
          291.519,
          319.143,
          345.516,
          369.052,
          406.817,
          444.045,
          480.949,
          520.034,
          561.774,
          594.446,
          625.283,
          657.556,
          674.417,
          692.029,
          755.74,
          755.06,
          756.825,
          754.272,
          754.336,
          774.778,
          838.504,
          849.457,
          850.075,
          827.573,
          836.93,
          865.337,
          914.325,
          530.899,
          539.795,
          566.963,
          595.626,
          611.906,
          636.994,
          676.592,
          687.401,
          703.786,
          716.538,
          761.87,
          803.203,
          320.69,
          298.149,
          328.995,
          144.302,
          154.548,
          159.429,
          171.109,
          177.532,
          175.759,
          175.023,
          167.223,
          193.603,
          201.037,
          192.399,
          110.724,
          143.799,
          141.242,
          133.065,
          142.363,
          312.892,
          316.318,
          325.949,
          333.753,
          360.638,
          379.08,
          369.053,
          333.517,
          322.562,
          320.284,
          331.247,
          340.102,
          383.794,
          426.097,
          440.257,
          474.21,
          431.324,
          440.737,
          578.65,
          118.867,
          94.247,
          114.227,
          147.174,
          204.86,
          228.554,
          237.604,
          236.938,
          222.991,
          229.864,
          253.005,
          289.845,
          317.795,
          351.182,
          375.84,
          391.508,
          366.301,
          368.845,
          381.104,
          453.587,
          431.282,
          435.792,
          453.465,
          454.121,
          465.57,
          468.988,
          496.858,
          509.941,
          510.498,
          516.51,
          579.669,
          574.76,
          42.897,
          48.392,
          53.476,
          58.791,
          67.371,
          76.314,
          84.135,
          89.661,
          101.799,
          111.144,
          126.192,
          141.852,
          146.128,
          156.959,
          170.747,
          185.72,
          199.065,
          215.973,
          236.538,
          236.529,
          253.628,
          310.196,
          280.891,
          292.926,
          309.583,
          333.769,
          335.385,
          357.933,
          377.398,
          407.469,
          441.874,
          483.022,
          493.455,
          475.303,
          518.404,
          533.928,
          574.357,
          606.585,
          632.661,
          663.249,
          652.43,
          670.593,
          693.51,
          739.786,
          761.448,
          819.478,
          850.084,
          891.861,
          880.199,
          947.679,
          1042.46,
          50.227,
          53.591,
          59.177,
          64.287,
          67.987,
          75.963,
          84.952,
          86.179,
          96.266,
          95.463,
          109.862,
          120.869,
          126.264,
          143.142,
          154.562,
          160.002,
          166.166,
          175.836,
          198.446,
          197.474,
          212.719,
          222.095,
          255.15,
          251.656,
          260.561,
          258.681,
          286.756,
          316.624,
          314.596,
          305.733,
          336.878,
          327.597,
          320.08,
          308.592,
          310.753,
          316.719,
          321.823,
          332.76,
          341.553,
          353.819,
          372.045,
          372.623,
          401.686,
          72.028,
          77.447,
          86.325,
          86.813,
          82.612,
          93.576,
          92.704,
          100.816,
          117.334,
          134.069,
          152.479,
          222.776,
          239.197,
          262.641,
          282.031,
          303.135,
          334.654,
          358.995,
          408.498,
          431.589,
          438.984,
          441.063,
          450.565,
          449.583,
          467.136,
          472.568,
          466.75,
          446.39,
          431.254,
          449.956,
          446.084,
          461.926,
          499.864,
          510.509,
          521.52,
          520.4,
          560.405,
          594.795,
          101.901,
          123.756,
          139.139,
          169.659,
          179.993,
          208.687,
          205.453,
          199.165,
          226.421,
          242.689,
          261.29,
          278.947,
          278.915,
          305.288,
          316.199,
          327.705,
          340.315,
          385.885,
          386.474,
          410.725,
          407.201,
          421.946,
          451.763,
          20.985,
          24.95,
          28.063,
          29.563,
          32.696,
          36.768,
          40.974,
          44.422,
          48.256,
          52.02,
          55.273,
          60.427,
          63.251,
          70.139,
          75.603,
          81.96,
          87.041,
          95.322,
          102.523,
          111.299,
          124.446,
          139.657,
          148.99,
          155.151,
          167.29,
          192.792,
          210.958,
          224.894,
          223.195,
          250.551,
          282.198,
          306.595,
          344.581,
          354.069,
          388.045,
          405.017,
          389.562,
          425.837,
          457.118,
          445,
          446.764,
          448.472,
          460.321,
          472.552,
          467.218,
          484.533,
          515.993,
          515.952,
          536.801,
          541.881,
          567.335,
          591.864,
          46.908,
          75.415,
          108.14,
          165.96,
          252.162,
          275.805,
          290.913,
          315.667,
          325.216,
          323.389,
          330.285,
          345.815,
          368.527,
          398.617,
          454.16,
          498.362,
          541.758,
          536.658,
          559.044,
          573.536,
          581.556,
          594.425,
          606.492,
          609.668,
          621.644,
          622.837,
          619.827,
          676.497,
          680.255,
          673.38,
          695.401,
          705.241,
          698.524,
          696.842,
          743.835,
          765.575,
          19.614,
          21.457,
          23.051,
          24.357,
          29.428,
          28.643,
          32.064,
          35.612,
          40.438,
          44.467,
          52.095,
          58.075,
          64.976,
          71.72,
          79.042,
          82.486,
          87.199,
          91.868,
          100.894,
          109.306,
          113.364,
          123.888,
          140.457,
          154.532,
          168.843,
          176.424,
          193.853,
          449.818,
          456.257,
          458.246,
          471.393,
          474.684,
          471.311,
          481.75,
          528.752,
          517.288,
          95.012,
          104.155,
          115.601,
          135.989,
          158.029,
          173.091,
          190.818,
          194.263,
          206.003,
          217.478,
          192.313,
          209.652,
          281.854,
          324.459,
          389.24,
          503.399,
          519.224,
          547.175,
          615.122,
          651.201,
          734.77,
          748.159,
          749.826,
          709.328,
          622.251,
          572.577,
          567.977,
          578.16,
          631.254,
          647.113,
          632.89,
          666.093,
          750.761,
          740.123,
          449.42,
          465.814,
          349.071,
          318.187,
          320.895,
          362.974,
          380.543,
          385.931,
          413.623,
          450.481,
          469.013,
          177.438,
          180.992,
          198.823,
          220.826,
          183.099,
          188.948,
          192.992,
          295.567,
          337.883,
          376.61,
          402.121,
          457.642,
          483.381,
          452.144,
          476.311,
          490.503,
          554.391,
          614.461,
          575.517,
          551.813,
          561.219,
          563.595,
          589.379,
          554.629,
          563.842,
          574.811,
          621.505,
          632.293,
          37.2,
          38.899,
          41.409,
          48.617,
          52.105,
          55.666,
          51.754,
          54.485,
          54.89,
          59.536,
          63.928,
          68.507,
          73.839,
          79.803,
          91.092,
          96.086,
          100.722,
          109.326,
          118.811,
          125.914,
          136.152,
          152.74,
          161.814,
          184.401,
          209.317,
          259.398,
          308.097,
          357.489,
          389.095,
          439.097,
          478.63,
          527.657,
          553.508,
          581.225,
          583.463,
          600.152,
          588.288,
          616.252,
          568.401,
          542.059,
          548.009,
          578.508,
          589.555,
          593.089,
          572.237,
          611.829,
          625.365,
          28.437,
          38.402,
          43.415,
          42.803,
          46.62,
          58.281,
          56.601,
          65.76,
          80.924,
          92.839,
          120.025,
          128.115,
          149.004,
          179.242,
          164.259,
          182.192,
          206.045,
          225.963,
          234.682,
          239.008,
          220.216,
          212.391,
          221.745,
          216.987,
          235.052,
          249.758,
          269.332,
          312.746,
          338.45,
          370.923,
          424.768,
          427.571,
          470.918,
          484.45,
          509.515,
          482.889,
          492.809,
          494.023,
          537.29,
          554.651,
          531.339,
          517.476,
          509.66,
          486.27,
          466.895,
          472.054,
          455.666,
          450.201,
          455.714,
          478.53,
          529.272,
          604.981,
          632.479,
          232.584,
          252.131,
          247.078,
          267.541,
          268.492,
          279.705,
          294.604,
          290.03,
          287.708,
          309.568,
          329.683,
          333.69,
          364.146,
          360.875,
          451.622,
          242.881,
          261.488,
          273.02,
          290.283,
          301.412,
          284.56,
          284.259,
          286.138,
          305.288,
          333.384,
          358.5,
          381.619,
          429.62,
          471.653,
          501.305,
          489.341,
          514.622,
          510.092,
          535.788,
          539.188,
          562.602,
          557.06,
          582.095,
          574.551,
          510.916,
          519.224,
          516.479,
          551.703,
          577.766,
          594.489,
          625.637,
          651.265,
          662.612,
          691.708,
          748.081,
          113.323,
          145.151,
          147.09,
          162.442,
          185.826,
          199.967,
          227.937,
          233.282,
          266.744,
          275.869,
          296.49,
          299.07,
          297.368,
          302.192,
          298.214,
          281.881,
          302.756,
          340.098,
          366.913,
          384.942,
          428.518,
          448.278,
          489.158,
          506.852,
          537.234,
          557.041,
          623.452,
          648.83,
          707.419,
          749.96,
          812.268,
          813.859,
          891.136,
          797.703,
          806.324,
          810.493,
          954.452,
          835.93,
          3.976,
          3.628,
          3.754,
          3.853,
          3.826,
          6.505,
          7.968,
          8.546,
          11.123,
          16.948,
          19.307,
          23.16,
          25.939,
          29.488,
          31.634,
          35.477,
          39.33,
          44.306,
          52.782,
          67.744,
          75.144,
          79.721,
          85.532,
          93.46,
          101.429,
          115.405,
          130.478,
          135.67,
          128.674,
          147.512,
          175.568,
          221.635,
          236.974,
          269.091,
          286.454,
          308.164,
          351.33,
          381.905,
          399.108,
          427.538,
          464.663,
          477.438,
          484.619,
          473.375,
          480.067,
          519.359,
          554.942,
          574.407,
          618.331,
          641.797,
          722.445,
          740.501,
          803.251,
          267.716,
          304.161,
          313.348,
          329.984,
          351.979,
          352.772,
          366.467,
          386.597,
          453.815,
          468.395,
          495.942,
          515.108,
          570.369,
          535.543,
          528.595,
          602.343,
          622.44,
          654.752,
          60.128,
          63.006,
          74.606,
          83.703,
          93.153,
          102.724,
          103.473,
          106.374,
          115.811,
          128.669,
          144.592,
          164.381,
          183.43,
          207.18,
          220.448,
          232.561,
          227.52,
          252.509,
          255.563,
          287.122,
          298.88,
          338.318,
          376.489,
          407.024,
          462.209,
          483.735,
          497.269,
          498.272,
          525.621,
          542.908,
          555.407,
          563.008,
          543.835,
          428.823,
          554.233,
          565.568,
          550.605,
          548.094,
          565.786,
          570.39,
          596.77,
          570.325,
          610.829,
          683.994,
          706.372,
          188.585,
          189.344,
          217.575,
          299.618,
          240.268,
          245.2,
          277.587,
          281.155,
          295.051,
          323.219,
          346.969,
          388.369,
          456.477,
          459.41,
          492.906,
          479.593,
          509.939,
          523.942,
          90.205,
          103.114,
          112.922,
          129.947,
          247.284,
          269.151,
          274.714,
          285.489,
          295.376,
          298.247,
          295.992,
          227.703,
          206.052,
          227.68,
          226.219,
          227.957,
          240.501,
          250.617,
          252.536,
          254.189,
          247.519,
          263.922,
          279.02,
          516.201,
          575.784,
          570.587,
          622.204,
          633.735,
          817.212,
          947.614,
          36.08,
          38.209,
          41.167,
          44.807,
          46.871,
          49.722,
          54.18,
          58.294,
          63.144,
          67.711,
          74.904,
          77.52,
          87.005,
          93.786,
          103.232,
          113.058,
          120.049,
          126.614,
          142.348,
          152.244,
          174.608,
          190.046,
          192.769,
          203.723,
          211.859,
          216.569,
          258.031,
          283.513,
          318.355,
          339.924,
          376.751,
          376.391,
          390.264,
          399.59,
          408.591,
          444.177,
          436.684,
          425.964,
          423.464,
          426.645,
          390.837,
          377.565,
          370.976,
          380.966,
          392.751,
          398.395,
          404.562,
          411.939,
          426.507,
          456.017,
          472.093,
          13.208,
          14.239,
          14.915,
          16.755,
          19.766,
          23.276,
          25.372,
          26.816,
          27.906,
          30.409,
          67.039,
          73.48,
          80.154,
          86.599,
          91.848,
          96.851,
          101.53,
          107.108,
          83.498,
          90.746,
          104.245,
          115.539,
          123.026,
          162.161,
          155.02,
          168.364,
          186.204,
          211.798,
          227.099,
          241.838,
          285.304,
          293.627,
          340.848,
          340.564,
          367.833,
          361.461,
          366.17,
          369.924,
          366.041,
          355.65,
          365.574,
          397.13,
          402.861,
          416.312,
          427.469,
          439.572,
          446.702,
          476.049,
          474.604,
          453.009,
          472.666,
          513.409,
          25.961,
          43.188,
          59.362,
          61.063,
          68.07,
          75.853,
          80.094,
          80.634,
          96.564,
          112.83,
          125.741,
          136.465,
          140.639,
          150.424,
          159.495,
          174.078,
          197.089,
          193.03,
          195.076,
          203.749,
          223.715,
          234.745,
          275.817,
          264.084,
          228.42,
          246.776,
          259.635,
          248.394,
          260.35,
          278.92,
          300.86,
          322.516,
          346.358,
          361.408,
          351.322,
          362.625,
          362.176,
          385.842,
          411.073,
          419.371,
          438.06,
          439.759,
          451.159,
          479.358,
          6.345,
          32.726,
          43.584,
          47.875,
          53.603,
          56.307,
          59.903,
          62.09,
          64.674,
          96.461,
          106.653,
          125.428,
          133.84,
          140.35,
          159.532,
          181.97,
          200.361,
          215.912,
          224.556,
          245.113,
          267.414,
          282.889,
          288.408,
          354.319,
          379.443,
          409.288,
          423.655,
          460.771,
          478.311,
          495.923,
          505.755,
          512.518,
          501.813,
          495.787,
          450.09,
          413.738,
          402.222,
          403.211,
          418.613,
          434.328,
          436.34,
          459.974,
          476.286,
          524.715,
          558.506,
          89.719,
          142.581,
          153.445,
          161.701,
          181.785,
          215.627,
          209.121,
          242.137,
          320.393,
          323.816,
          406.056,
          369.803,
          363.502,
          388.742,
          367.124,
          409.492,
          475.315,
          508.626,
          569.563,
          229.096,
          239.524,
          263.001,
          326.289,
          352.728,
          376.255,
          396.543,
          417.939,
          465.38,
          508.8,
          532.417,
          587.244,
          567.145,
          556.726,
          571.491,
          543.317,
          553.2,
          542.415,
          521.065,
          512.545,
          516.996,
          504.235,
          530.716,
          383.621,
          378.946,
          394.479,
          404.794,
          420.082,
          414.8,
          438.139,
          447.479,
          458.749,
          464.769,
          489.476,
          501.439,
          463.397,
          470.778,
          500.273,
          521.07,
          546.854,
          559.466,
          599.589,
          644.19,
          20.855,
          23.808,
          28.143,
          33.528,
          37.792,
          42.964,
          45.505,
          49.96,
          52.146,
          57.024,
          62.649,
          67.801,
          74.714,
          78.556,
          80.359,
          85.978,
          91.642,
          100.65,
          98.83,
          121.532,
          128.534,
          135.518,
          155.381,
          170.571,
          187.679,
          206.178,
          241.058,
          222.756,
          258.376,
          286.758,
          318.668,
          356.468,
          394.618,
          386.867,
          398.142,
          398.239,
          427.008,
          448.046,
          474.447,
          474.24,
          466.014,
          467.145,
          484.705,
          475.572,
          487.696,
          504.915,
          524.404,
          512.816,
          537.282,
          517.451,
          554.039,
          576.078,
          9.685,
          10.331,
          10.565,
          10.054,
          9.674,
          11.917,
          13.239,
          33.578,
          56.802,
          100.909,
          120.135,
          171.834,
          189.545,
          209.722,
          235.469,
          251.462,
          257.468,
          265.437,
          276.718,
          300.923,
          330.937,
          363.952,
          402.545,
          463.851,
          521.677,
          584.779,
          652.646,
          723.841,
          779.91,
          826.029,
          894.044,
          933.087,
          952.447,
          984.105,
          986.63,
          1004.205,
          1013.8,
          1020.541,
          1118.634,
          1189.437,
          1192.301,
          1200.769,
          1229.266,
          1277.032,
          1315.218,
          1432.309
         ],
         "y0": " ",
         "yaxis": "y"
        }
       ],
       "layout": {
        "boxmode": "group",
        "legend": {
         "tracegroupgap": 0
        },
        "template": {
         "data": {
          "bar": [
           {
            "error_x": {
             "color": "#2a3f5f"
            },
            "error_y": {
             "color": "#2a3f5f"
            },
            "marker": {
             "line": {
              "color": "#E5ECF6",
              "width": 0.5
             },
             "pattern": {
              "fillmode": "overlay",
              "size": 10,
              "solidity": 0.2
             }
            },
            "type": "bar"
           }
          ],
          "barpolar": [
           {
            "marker": {
             "line": {
              "color": "#E5ECF6",
              "width": 0.5
             },
             "pattern": {
              "fillmode": "overlay",
              "size": 10,
              "solidity": 0.2
             }
            },
            "type": "barpolar"
           }
          ],
          "carpet": [
           {
            "aaxis": {
             "endlinecolor": "#2a3f5f",
             "gridcolor": "white",
             "linecolor": "white",
             "minorgridcolor": "white",
             "startlinecolor": "#2a3f5f"
            },
            "baxis": {
             "endlinecolor": "#2a3f5f",
             "gridcolor": "white",
             "linecolor": "white",
             "minorgridcolor": "white",
             "startlinecolor": "#2a3f5f"
            },
            "type": "carpet"
           }
          ],
          "choropleth": [
           {
            "colorbar": {
             "outlinewidth": 0,
             "ticks": ""
            },
            "type": "choropleth"
           }
          ],
          "contour": [
           {
            "colorbar": {
             "outlinewidth": 0,
             "ticks": ""
            },
            "colorscale": [
             [
              0,
              "#0d0887"
             ],
             [
              0.1111111111111111,
              "#46039f"
             ],
             [
              0.2222222222222222,
              "#7201a8"
             ],
             [
              0.3333333333333333,
              "#9c179e"
             ],
             [
              0.4444444444444444,
              "#bd3786"
             ],
             [
              0.5555555555555556,
              "#d8576b"
             ],
             [
              0.6666666666666666,
              "#ed7953"
             ],
             [
              0.7777777777777778,
              "#fb9f3a"
             ],
             [
              0.8888888888888888,
              "#fdca26"
             ],
             [
              1,
              "#f0f921"
             ]
            ],
            "type": "contour"
           }
          ],
          "contourcarpet": [
           {
            "colorbar": {
             "outlinewidth": 0,
             "ticks": ""
            },
            "type": "contourcarpet"
           }
          ],
          "heatmap": [
           {
            "colorbar": {
             "outlinewidth": 0,
             "ticks": ""
            },
            "colorscale": [
             [
              0,
              "#0d0887"
             ],
             [
              0.1111111111111111,
              "#46039f"
             ],
             [
              0.2222222222222222,
              "#7201a8"
             ],
             [
              0.3333333333333333,
              "#9c179e"
             ],
             [
              0.4444444444444444,
              "#bd3786"
             ],
             [
              0.5555555555555556,
              "#d8576b"
             ],
             [
              0.6666666666666666,
              "#ed7953"
             ],
             [
              0.7777777777777778,
              "#fb9f3a"
             ],
             [
              0.8888888888888888,
              "#fdca26"
             ],
             [
              1,
              "#f0f921"
             ]
            ],
            "type": "heatmap"
           }
          ],
          "heatmapgl": [
           {
            "colorbar": {
             "outlinewidth": 0,
             "ticks": ""
            },
            "colorscale": [
             [
              0,
              "#0d0887"
             ],
             [
              0.1111111111111111,
              "#46039f"
             ],
             [
              0.2222222222222222,
              "#7201a8"
             ],
             [
              0.3333333333333333,
              "#9c179e"
             ],
             [
              0.4444444444444444,
              "#bd3786"
             ],
             [
              0.5555555555555556,
              "#d8576b"
             ],
             [
              0.6666666666666666,
              "#ed7953"
             ],
             [
              0.7777777777777778,
              "#fb9f3a"
             ],
             [
              0.8888888888888888,
              "#fdca26"
             ],
             [
              1,
              "#f0f921"
             ]
            ],
            "type": "heatmapgl"
           }
          ],
          "histogram": [
           {
            "marker": {
             "pattern": {
              "fillmode": "overlay",
              "size": 10,
              "solidity": 0.2
             }
            },
            "type": "histogram"
           }
          ],
          "histogram2d": [
           {
            "colorbar": {
             "outlinewidth": 0,
             "ticks": ""
            },
            "colorscale": [
             [
              0,
              "#0d0887"
             ],
             [
              0.1111111111111111,
              "#46039f"
             ],
             [
              0.2222222222222222,
              "#7201a8"
             ],
             [
              0.3333333333333333,
              "#9c179e"
             ],
             [
              0.4444444444444444,
              "#bd3786"
             ],
             [
              0.5555555555555556,
              "#d8576b"
             ],
             [
              0.6666666666666666,
              "#ed7953"
             ],
             [
              0.7777777777777778,
              "#fb9f3a"
             ],
             [
              0.8888888888888888,
              "#fdca26"
             ],
             [
              1,
              "#f0f921"
             ]
            ],
            "type": "histogram2d"
           }
          ],
          "histogram2dcontour": [
           {
            "colorbar": {
             "outlinewidth": 0,
             "ticks": ""
            },
            "colorscale": [
             [
              0,
              "#0d0887"
             ],
             [
              0.1111111111111111,
              "#46039f"
             ],
             [
              0.2222222222222222,
              "#7201a8"
             ],
             [
              0.3333333333333333,
              "#9c179e"
             ],
             [
              0.4444444444444444,
              "#bd3786"
             ],
             [
              0.5555555555555556,
              "#d8576b"
             ],
             [
              0.6666666666666666,
              "#ed7953"
             ],
             [
              0.7777777777777778,
              "#fb9f3a"
             ],
             [
              0.8888888888888888,
              "#fdca26"
             ],
             [
              1,
              "#f0f921"
             ]
            ],
            "type": "histogram2dcontour"
           }
          ],
          "mesh3d": [
           {
            "colorbar": {
             "outlinewidth": 0,
             "ticks": ""
            },
            "type": "mesh3d"
           }
          ],
          "parcoords": [
           {
            "line": {
             "colorbar": {
              "outlinewidth": 0,
              "ticks": ""
             }
            },
            "type": "parcoords"
           }
          ],
          "pie": [
           {
            "automargin": true,
            "type": "pie"
           }
          ],
          "scatter": [
           {
            "fillpattern": {
             "fillmode": "overlay",
             "size": 10,
             "solidity": 0.2
            },
            "type": "scatter"
           }
          ],
          "scatter3d": [
           {
            "line": {
             "colorbar": {
              "outlinewidth": 0,
              "ticks": ""
             }
            },
            "marker": {
             "colorbar": {
              "outlinewidth": 0,
              "ticks": ""
             }
            },
            "type": "scatter3d"
           }
          ],
          "scattercarpet": [
           {
            "marker": {
             "colorbar": {
              "outlinewidth": 0,
              "ticks": ""
             }
            },
            "type": "scattercarpet"
           }
          ],
          "scattergeo": [
           {
            "marker": {
             "colorbar": {
              "outlinewidth": 0,
              "ticks": ""
             }
            },
            "type": "scattergeo"
           }
          ],
          "scattergl": [
           {
            "marker": {
             "colorbar": {
              "outlinewidth": 0,
              "ticks": ""
             }
            },
            "type": "scattergl"
           }
          ],
          "scattermapbox": [
           {
            "marker": {
             "colorbar": {
              "outlinewidth": 0,
              "ticks": ""
             }
            },
            "type": "scattermapbox"
           }
          ],
          "scatterpolar": [
           {
            "marker": {
             "colorbar": {
              "outlinewidth": 0,
              "ticks": ""
             }
            },
            "type": "scatterpolar"
           }
          ],
          "scatterpolargl": [
           {
            "marker": {
             "colorbar": {
              "outlinewidth": 0,
              "ticks": ""
             }
            },
            "type": "scatterpolargl"
           }
          ],
          "scatterternary": [
           {
            "marker": {
             "colorbar": {
              "outlinewidth": 0,
              "ticks": ""
             }
            },
            "type": "scatterternary"
           }
          ],
          "surface": [
           {
            "colorbar": {
             "outlinewidth": 0,
             "ticks": ""
            },
            "colorscale": [
             [
              0,
              "#0d0887"
             ],
             [
              0.1111111111111111,
              "#46039f"
             ],
             [
              0.2222222222222222,
              "#7201a8"
             ],
             [
              0.3333333333333333,
              "#9c179e"
             ],
             [
              0.4444444444444444,
              "#bd3786"
             ],
             [
              0.5555555555555556,
              "#d8576b"
             ],
             [
              0.6666666666666666,
              "#ed7953"
             ],
             [
              0.7777777777777778,
              "#fb9f3a"
             ],
             [
              0.8888888888888888,
              "#fdca26"
             ],
             [
              1,
              "#f0f921"
             ]
            ],
            "type": "surface"
           }
          ],
          "table": [
           {
            "cells": {
             "fill": {
              "color": "#EBF0F8"
             },
             "line": {
              "color": "white"
             }
            },
            "header": {
             "fill": {
              "color": "#C8D4E3"
             },
             "line": {
              "color": "white"
             }
            },
            "type": "table"
           }
          ]
         },
         "layout": {
          "annotationdefaults": {
           "arrowcolor": "#2a3f5f",
           "arrowhead": 0,
           "arrowwidth": 1
          },
          "autotypenumbers": "strict",
          "coloraxis": {
           "colorbar": {
            "outlinewidth": 0,
            "ticks": ""
           }
          },
          "colorscale": {
           "diverging": [
            [
             0,
             "#8e0152"
            ],
            [
             0.1,
             "#c51b7d"
            ],
            [
             0.2,
             "#de77ae"
            ],
            [
             0.3,
             "#f1b6da"
            ],
            [
             0.4,
             "#fde0ef"
            ],
            [
             0.5,
             "#f7f7f7"
            ],
            [
             0.6,
             "#e6f5d0"
            ],
            [
             0.7,
             "#b8e186"
            ],
            [
             0.8,
             "#7fbc41"
            ],
            [
             0.9,
             "#4d9221"
            ],
            [
             1,
             "#276419"
            ]
           ],
           "sequential": [
            [
             0,
             "#0d0887"
            ],
            [
             0.1111111111111111,
             "#46039f"
            ],
            [
             0.2222222222222222,
             "#7201a8"
            ],
            [
             0.3333333333333333,
             "#9c179e"
            ],
            [
             0.4444444444444444,
             "#bd3786"
            ],
            [
             0.5555555555555556,
             "#d8576b"
            ],
            [
             0.6666666666666666,
             "#ed7953"
            ],
            [
             0.7777777777777778,
             "#fb9f3a"
            ],
            [
             0.8888888888888888,
             "#fdca26"
            ],
            [
             1,
             "#f0f921"
            ]
           ],
           "sequentialminus": [
            [
             0,
             "#0d0887"
            ],
            [
             0.1111111111111111,
             "#46039f"
            ],
            [
             0.2222222222222222,
             "#7201a8"
            ],
            [
             0.3333333333333333,
             "#9c179e"
            ],
            [
             0.4444444444444444,
             "#bd3786"
            ],
            [
             0.5555555555555556,
             "#d8576b"
            ],
            [
             0.6666666666666666,
             "#ed7953"
            ],
            [
             0.7777777777777778,
             "#fb9f3a"
            ],
            [
             0.8888888888888888,
             "#fdca26"
            ],
            [
             1,
             "#f0f921"
            ]
           ]
          },
          "colorway": [
           "#636efa",
           "#EF553B",
           "#00cc96",
           "#ab63fa",
           "#FFA15A",
           "#19d3f3",
           "#FF6692",
           "#B6E880",
           "#FF97FF",
           "#FECB52"
          ],
          "font": {
           "color": "#2a3f5f"
          },
          "geo": {
           "bgcolor": "white",
           "lakecolor": "white",
           "landcolor": "#E5ECF6",
           "showlakes": true,
           "showland": true,
           "subunitcolor": "white"
          },
          "hoverlabel": {
           "align": "left"
          },
          "hovermode": "closest",
          "mapbox": {
           "style": "light"
          },
          "paper_bgcolor": "white",
          "plot_bgcolor": "#E5ECF6",
          "polar": {
           "angularaxis": {
            "gridcolor": "white",
            "linecolor": "white",
            "ticks": ""
           },
           "bgcolor": "#E5ECF6",
           "radialaxis": {
            "gridcolor": "white",
            "linecolor": "white",
            "ticks": ""
           }
          },
          "scene": {
           "xaxis": {
            "backgroundcolor": "#E5ECF6",
            "gridcolor": "white",
            "gridwidth": 2,
            "linecolor": "white",
            "showbackground": true,
            "ticks": "",
            "zerolinecolor": "white"
           },
           "yaxis": {
            "backgroundcolor": "#E5ECF6",
            "gridcolor": "white",
            "gridwidth": 2,
            "linecolor": "white",
            "showbackground": true,
            "ticks": "",
            "zerolinecolor": "white"
           },
           "zaxis": {
            "backgroundcolor": "#E5ECF6",
            "gridcolor": "white",
            "gridwidth": 2,
            "linecolor": "white",
            "showbackground": true,
            "ticks": "",
            "zerolinecolor": "white"
           }
          },
          "shapedefaults": {
           "line": {
            "color": "#2a3f5f"
           }
          },
          "ternary": {
           "aaxis": {
            "gridcolor": "white",
            "linecolor": "white",
            "ticks": ""
           },
           "baxis": {
            "gridcolor": "white",
            "linecolor": "white",
            "ticks": ""
           },
           "bgcolor": "#E5ECF6",
           "caxis": {
            "gridcolor": "white",
            "linecolor": "white",
            "ticks": ""
           }
          },
          "title": {
           "x": 0.05
          },
          "xaxis": {
           "automargin": true,
           "gridcolor": "white",
           "linecolor": "white",
           "ticks": "",
           "title": {
            "standoff": 15
           },
           "zerolinecolor": "white",
           "zerolinewidth": 2
          },
          "yaxis": {
           "automargin": true,
           "gridcolor": "white",
           "linecolor": "white",
           "ticks": "",
           "title": {
            "standoff": 15
           },
           "zerolinecolor": "white",
           "zerolinewidth": 2
          }
         }
        },
        "title": {
         "text": "Boxplot of USD_CAP"
        },
        "xaxis": {
         "anchor": "y",
         "domain": [
          0,
          1
         ]
        },
        "yaxis": {
         "anchor": "x",
         "domain": [
          0,
          1
         ],
         "title": {
          "text": "USD_CAP"
         }
        }
       }
      }
     },
     "metadata": {},
     "output_type": "display_data"
    }
   ],
   "source": [
    "import plotly.express as px\n",
    "\n",
    "# Define your custom green color scale\n",
    "green_scale = ['#1b3d1b', '#2e6b2e', '#4c8c4c', '#6ea06e', '#8fb88f']\n",
    "\n",
    "# Create an interactive boxplot\n",
    "fig = px.box(data, y='USD_CAP', title='Boxplot of USD_CAP')\n",
    "\n",
    "# Update the boxplot color with your green scale\n",
    "fig.update_traces(marker=dict(color=green_scale[2]))  # Using a mid-tone green from your scale\n",
    "\n",
    "# Show the plot\n",
    "fig.show()\n"
   ]
  },
  {
   "cell_type": "markdown",
   "metadata": {},
   "source": [
    "This code creates a boxplot for the 'USD_CAP' column A boxplot is generated to visualize the distribution, median and potential outliers of 'USD_CAP'\n",
    "\n",
    "Key Observations: \n",
    " Min and Lower Fence: 3.628, suggesting potential outliers below this value.\n",
    " Q1: Q1 is 144.52, which represents the 25th percentile of the data, indicating that 25% of the values fall below this threshold.\n",
    " Median: The median is 317.795, meaning that 50% of the values lie below this point, closer to Q1, indicating a slight lower skew\n",
    " Third Quartile (Q3): Q3 is 496.96, which means 75% of the values lie below this threshold. The interquartile range (IQR) is Q3 - Q1 = 352.44, indicating the spread of the middle 50% of the data.\n",
    " Upper Fence: The upper fence is 1020.541, which is the threshold for identifying high outliers. Values above this value are considered extreme."
   ]
  },
  {
   "cell_type": "code",
   "execution_count": 7,
   "metadata": {},
   "outputs": [
    {
     "data": {
      "application/vnd.plotly.v1+json": {
       "config": {
        "plotlyServerURL": "https://plot.ly"
       },
       "data": [
        {
         "hovertemplate": "PC_GDP=%{x}<br>USD_CAP=%{y}<extra></extra>",
         "legendgroup": "",
         "marker": {
          "color": "#4c8c4c",
          "size": 5,
          "symbol": "circle"
         },
         "mode": "markers",
         "name": "",
         "showlegend": false,
         "type": "scattergl",
         "x": [
          0.726,
          0.685,
          0.681,
          0.754,
          0.682,
          0.63,
          0.612,
          0.591,
          0.523,
          0.539,
          0.547,
          0.564,
          0.58,
          0.569,
          0.579,
          0.599,
          0.582,
          0.595,
          0.623,
          0.677,
          0.74,
          0.779,
          0.82,
          0.86,
          0.883,
          0.925,
          0.951,
          1.018,
          1.074,
          1.192,
          1.233,
          1.211,
          1.242,
          1.266,
          1.213,
          1.219,
          1.224,
          1.271,
          1.327,
          1.316,
          1.307,
          1.328,
          1.255,
          1.229,
          1.267,
          1.303,
          1.243,
          1.2,
          1.231,
          1.278,
          0.782,
          0.778,
          0.799,
          0.838,
          0.85,
          0.851,
          0.874,
          1.007,
          1.084,
          1.168,
          1.172,
          1.196,
          1.236,
          1.299,
          1.292,
          1.274,
          1.265,
          1.286,
          1.306,
          1.265,
          1.249,
          1.232,
          1.23,
          1.223,
          1.259,
          1.274,
          1.239,
          1.255,
          1.237,
          1.241,
          1.381,
          1.383,
          1.084,
          1.115,
          1.132,
          1.206,
          1.19,
          1.214,
          1.087,
          1.139,
          1.141,
          1.112,
          1.074,
          1.058,
          1.051,
          1.09,
          1.023,
          1.079,
          1.108,
          1.142,
          1.18,
          1.153,
          1.109,
          1.163,
          1.244,
          1.354,
          1.32,
          1.358,
          1.338,
          1.343,
          1.594,
          1.596,
          1.564,
          1.5,
          1.518,
          1.425,
          1.463,
          1.412,
          1.41,
          1.341,
          1.326,
          1.297,
          1.325,
          1.3,
          1.243,
          1.22,
          1.221,
          1.251,
          1.191,
          2.664,
          2.454,
          2.362,
          2.402,
          2.173,
          2.219,
          2.846,
          2.494,
          2.68,
          2.657,
          2.739,
          2.77,
          2.595,
          2.436,
          2.766,
          2.618,
          1.626,
          1.674,
          1.702,
          1.723,
          1.751,
          0.749,
          0.751,
          0.706,
          0.671,
          0.606,
          0.605,
          0.582,
          0.577,
          0.573,
          0.577,
          0.584,
          0.633,
          0.68,
          0.701,
          0.717,
          0.76,
          0.839,
          0.856,
          0.881,
          0.929,
          0.996,
          1.098,
          1.186,
          1.229,
          1.203,
          1.225,
          1.215,
          1.269,
          1.342,
          1.349,
          1.369,
          1.459,
          1.544,
          1.608,
          1.631,
          1.632,
          1.675,
          1.674,
          1.683,
          1.88,
          1.946,
          1.858,
          1.835,
          1.774,
          1.706,
          1.796,
          1.834,
          1.791,
          1.737,
          1.744,
          1.856,
          1.7,
          1.614,
          1.045,
          1.037,
          1.053,
          1.062,
          1.066,
          1.097,
          1.136,
          1.165,
          1.148,
          1.182,
          1.273,
          1.25,
          1.307,
          1.2,
          1.148,
          1.094,
          1.125,
          1.159,
          1.17,
          1.196,
          1.212,
          1.118,
          1.037,
          1.13,
          1.104,
          0.996,
          0.54,
          0.685,
          0.655,
          0.644,
          0.645,
          1.259,
          1.197,
          1.187,
          1.151,
          1.121,
          1.118,
          1.153,
          1.045,
          1.026,
          1.052,
          1.138,
          1.162,
          1.25,
          1.239,
          1.207,
          1.238,
          1.095,
          1.187,
          1.413,
          0.899,
          0.827,
          0.98,
          1.189,
          1.548,
          1.612,
          1.545,
          1.525,
          1.403,
          1.393,
          1.406,
          1.465,
          1.549,
          1.644,
          1.63,
          1.63,
          1.447,
          1.33,
          1.323,
          1.605,
          1.481,
          1.479,
          1.514,
          1.432,
          1.379,
          1.326,
          1.322,
          1.267,
          1.219,
          1.2,
          1.404,
          1.267,
          0.971,
          1.004,
          1.032,
          1.044,
          1.094,
          1.149,
          1.144,
          1.104,
          1.123,
          1.096,
          1.125,
          1.174,
          1.151,
          1.168,
          1.19,
          1.213,
          1.203,
          1.237,
          1.267,
          1.195,
          1.181,
          1.382,
          1.237,
          1.236,
          1.256,
          1.322,
          1.306,
          1.357,
          1.372,
          1.392,
          1.457,
          1.518,
          1.542,
          1.422,
          1.558,
          1.524,
          1.539,
          1.572,
          1.71,
          1.664,
          1.54,
          1.534,
          1.54,
          1.583,
          1.608,
          1.624,
          1.612,
          1.628,
          1.607,
          1.732,
          1.793,
          0.53,
          0.527,
          0.534,
          0.539,
          0.528,
          0.546,
          0.563,
          0.555,
          0.6,
          0.566,
          0.613,
          0.647,
          0.646,
          0.72,
          0.731,
          0.725,
          0.718,
          0.72,
          0.783,
          0.755,
          0.735,
          0.759,
          0.819,
          0.823,
          0.804,
          0.78,
          0.799,
          0.829,
          0.792,
          0.813,
          0.836,
          0.798,
          0.76,
          0.704,
          0.697,
          0.693,
          0.673,
          0.657,
          0.65,
          0.67,
          0.69,
          0.633,
          0.607,
          1.08,
          1.093,
          1.15,
          1.101,
          0.99,
          1.058,
          0.981,
          0.978,
          1.036,
          1.081,
          1.129,
          1.39,
          1.43,
          1.479,
          1.493,
          1.528,
          1.493,
          1.486,
          1.54,
          1.62,
          1.584,
          1.541,
          1.473,
          1.433,
          1.465,
          1.569,
          1.555,
          1.497,
          1.447,
          1.475,
          1.418,
          1.395,
          1.42,
          1.376,
          1.369,
          1.349,
          1.621,
          1.563,
          1.133,
          1.177,
          1.22,
          1.277,
          1.249,
          1.312,
          1.168,
          1.002,
          0.991,
          1.074,
          1.309,
          1.294,
          1.156,
          1.175,
          1.163,
          1.145,
          1.165,
          1.234,
          1.158,
          1.163,
          1.132,
          1.171,
          1.101,
          0.69,
          0.763,
          0.775,
          0.719,
          0.691,
          0.728,
          0.764,
          0.786,
          0.778,
          0.718,
          0.664,
          0.658,
          0.637,
          0.662,
          0.662,
          0.677,
          0.681,
          0.694,
          0.668,
          0.662,
          0.715,
          0.86,
          0.951,
          0.991,
          1,
          1.053,
          1.112,
          1.087,
          0.999,
          1.058,
          1.066,
          1.121,
          1.194,
          1.234,
          1.262,
          1.304,
          1.172,
          1.146,
          1.176,
          1.242,
          1.192,
          1.15,
          1.165,
          1.178,
          1.155,
          1.171,
          1.179,
          1.117,
          1.121,
          1.134,
          1.184,
          1.155,
          1.27,
          1.277,
          1.108,
          1.272,
          1.382,
          1.455,
          1.488,
          1.594,
          1.582,
          1.521,
          1.505,
          1.509,
          1.533,
          1.584,
          1.62,
          1.682,
          1.723,
          1.77,
          1.792,
          1.795,
          1.753,
          1.709,
          1.708,
          1.773,
          1.725,
          1.674,
          1.629,
          1.698,
          1.696,
          1.651,
          1.621,
          1.6,
          1.536,
          1.497,
          1.655,
          1.543,
          0.628,
          0.642,
          0.638,
          0.603,
          0.695,
          0.627,
          0.649,
          0.662,
          0.665,
          0.646,
          0.685,
          0.707,
          0.742,
          0.76,
          0.794,
          0.771,
          0.772,
          0.749,
          0.746,
          0.744,
          0.737,
          0.806,
          0.896,
          0.932,
          0.969,
          0.896,
          0.916,
          1.214,
          1.201,
          1.183,
          1.164,
          1.128,
          1.095,
          1.093,
          1.286,
          1.17,
          0.844,
          0.851,
          0.907,
          1.012,
          1.154,
          1.257,
          1.335,
          1.3,
          1.315,
          1.298,
          1.097,
          1.171,
          1.439,
          1.524,
          1.643,
          2.076,
          2,
          2.136,
          2.206,
          2.255,
          2.433,
          2.573,
          2.761,
          2.848,
          2.588,
          2.314,
          2.229,
          2.239,
          2.362,
          2.339,
          2.22,
          2.324,
          2.87,
          2.481,
          2.23,
          2.255,
          1.629,
          1.459,
          1.41,
          1.457,
          1.437,
          1.384,
          1.377,
          1.613,
          1.458,
          1.912,
          1.975,
          2.121,
          2.241,
          1.796,
          1.812,
          1.742,
          2.026,
          2.061,
          2.241,
          2.258,
          2.497,
          2.488,
          2.278,
          2.262,
          2.373,
          2.478,
          2.619,
          2.414,
          2.192,
          2.122,
          2.043,
          2.06,
          1.871,
          1.761,
          1.723,
          1.87,
          1.697,
          0.974,
          0.958,
          0.904,
          0.918,
          0.897,
          0.879,
          0.747,
          0.734,
          0.706,
          0.717,
          0.721,
          0.745,
          0.745,
          0.738,
          0.749,
          0.717,
          0.728,
          0.752,
          0.763,
          0.759,
          0.735,
          0.764,
          0.734,
          0.744,
          0.78,
          0.836,
          0.923,
          0.986,
          1.057,
          1.13,
          1.182,
          1.238,
          1.277,
          1.456,
          1.593,
          1.559,
          1.49,
          1.502,
          1.362,
          1.232,
          0.933,
          0.949,
          0.897,
          0.836,
          0.772,
          0.809,
          0.717,
          0.798,
          0.882,
          0.891,
          0.759,
          0.72,
          0.916,
          0.786,
          0.763,
          0.818,
          0.862,
          0.981,
          0.939,
          1.017,
          1.261,
          1.114,
          1.177,
          1.191,
          1.135,
          1.171,
          1.196,
          1.041,
          0.974,
          1.042,
          1.011,
          1.038,
          1.084,
          1.13,
          1.203,
          1.227,
          1.274,
          1.422,
          1.36,
          1.449,
          1.517,
          1.457,
          1.317,
          1.242,
          1.159,
          1.241,
          1.398,
          1.361,
          1.281,
          1.227,
          1.136,
          1.067,
          1.02,
          0.938,
          0.905,
          0.901,
          0.951,
          1.099,
          1.153,
          1.02,
          0.895,
          0.911,
          0.917,
          0.969,
          0.938,
          0.919,
          0.924,
          0.902,
          0.906,
          0.941,
          0.927,
          0.912,
          0.957,
          0.955,
          1.211,
          1.534,
          1.545,
          1.498,
          1.512,
          1.524,
          1.438,
          1.39,
          1.338,
          1.387,
          1.455,
          1.496,
          1.549,
          1.601,
          1.696,
          1.72,
          1.674,
          1.714,
          1.699,
          1.698,
          1.627,
          1.637,
          1.698,
          1.672,
          1.627,
          1.461,
          1.497,
          1.508,
          1.582,
          1.54,
          1.528,
          1.554,
          1.581,
          1.699,
          1.606,
          1.57,
          1.295,
          1.214,
          1.142,
          1.188,
          1.271,
          1.238,
          1.293,
          1.213,
          1.297,
          1.302,
          1.383,
          1.361,
          1.299,
          1.265,
          1.226,
          1.168,
          1.246,
          1.295,
          1.365,
          1.37,
          1.462,
          1.466,
          1.516,
          1.521,
          1.554,
          1.61,
          1.88,
          1.855,
          1.983,
          2.016,
          2.013,
          2.017,
          2.121,
          1.979,
          1.947,
          1.911,
          2.271,
          1.991,
          0.539,
          0.448,
          0.418,
          0.357,
          0.308,
          0.475,
          0.489,
          0.451,
          0.501,
          0.659,
          0.724,
          0.768,
          0.76,
          0.736,
          0.692,
          0.704,
          0.676,
          0.658,
          0.675,
          0.789,
          0.766,
          0.731,
          0.733,
          0.74,
          0.736,
          0.756,
          0.805,
          0.799,
          0.809,
          0.856,
          0.944,
          1.139,
          1.114,
          1.223,
          1.217,
          1.254,
          1.36,
          1.361,
          1.385,
          1.468,
          1.464,
          1.459,
          1.435,
          1.389,
          1.393,
          1.388,
          1.441,
          1.452,
          1.51,
          1.594,
          1.68,
          1.65,
          1.709,
          1.869,
          1.94,
          1.811,
          1.641,
          1.645,
          1.964,
          1.821,
          1.689,
          1.816,
          1.726,
          1.724,
          1.744,
          1.805,
          1.552,
          1.44,
          1.57,
          1.618,
          1.535,
          0.71,
          0.719,
          0.754,
          0.751,
          0.749,
          0.774,
          0.729,
          0.707,
          0.713,
          0.755,
          0.762,
          0.819,
          0.813,
          0.802,
          0.793,
          0.764,
          0.646,
          0.664,
          0.642,
          0.67,
          0.67,
          0.672,
          0.654,
          0.699,
          0.735,
          0.763,
          0.758,
          0.727,
          0.677,
          0.657,
          0.637,
          0.685,
          0.644,
          0.528,
          0.663,
          0.639,
          0.612,
          0.594,
          0.588,
          0.587,
          0.595,
          0.58,
          0.62,
          0.618,
          0.599,
          1.469,
          1.315,
          1.322,
          1.522,
          1.2,
          1.485,
          1.573,
          1.494,
          1.381,
          1.422,
          1.473,
          1.563,
          1.735,
          1.635,
          1.639,
          1.566,
          1.657,
          1.518,
          0.832,
          0.887,
          0.959,
          1.098,
          2.087,
          2.087,
          2.078,
          1.964,
          1.956,
          1.889,
          1.989,
          1.462,
          1.247,
          1.325,
          1.311,
          1.279,
          1.295,
          1.262,
          1.253,
          1.219,
          1.207,
          1.339,
          1.343,
          1.574,
          1.593,
          1.482,
          1.487,
          1.439,
          1.8,
          2.36,
          0.653,
          0.629,
          0.601,
          0.609,
          0.581,
          0.568,
          0.564,
          0.559,
          0.548,
          0.553,
          0.591,
          0.584,
          0.606,
          0.628,
          0.661,
          0.701,
          0.698,
          0.682,
          0.711,
          0.727,
          0.811,
          0.861,
          0.839,
          0.847,
          0.839,
          0.808,
          0.907,
          0.935,
          0.927,
          0.95,
          0.988,
          1.03,
          1.017,
          1.014,
          0.969,
          0.986,
          0.925,
          0.96,
          0.961,
          0.956,
          0.861,
          0.812,
          0.794,
          0.798,
          0.793,
          0.767,
          0.739,
          0.74,
          0.772,
          0.764,
          0.716,
          0.342,
          0.338,
          0.332,
          0.338,
          0.346,
          0.369,
          0.366,
          0.353,
          0.338,
          0.322,
          0.596,
          0.59,
          0.614,
          0.621,
          0.599,
          0.584,
          0.622,
          0.635,
          0.485,
          0.498,
          0.542,
          0.573,
          0.593,
          0.745,
          0.677,
          0.692,
          0.694,
          0.746,
          0.808,
          0.809,
          0.787,
          0.8,
          0.903,
          0.908,
          0.885,
          0.802,
          0.728,
          0.688,
          0.629,
          0.687,
          0.678,
          0.699,
          0.674,
          0.673,
          0.695,
          0.773,
          0.797,
          0.781,
          0.728,
          0.73,
          0.808,
          0.723,
          0.572,
          0.644,
          0.684,
          0.62,
          0.658,
          0.671,
          0.66,
          0.65,
          0.73,
          0.819,
          0.865,
          0.895,
          0.916,
          0.999,
          1.028,
          1.03,
          1.099,
          1.027,
          1.002,
          1.019,
          0.851,
          0.885,
          0.977,
          0.866,
          1.79,
          1.88,
          1.819,
          1.728,
          1.672,
          1.559,
          1.569,
          1.619,
          1.574,
          1.518,
          1.394,
          1.406,
          1.357,
          1.359,
          1.379,
          1.338,
          1.313,
          1.273,
          1.282,
          1.224,
          0.322,
          0.846,
          1.021,
          1.026,
          1.005,
          0.978,
          0.965,
          0.969,
          1.019,
          1.393,
          1.365,
          1.462,
          1.397,
          1.344,
          1.396,
          1.497,
          1.568,
          1.691,
          1.673,
          1.748,
          1.835,
          1.833,
          1.783,
          1.855,
          1.915,
          1.955,
          2.011,
          2.106,
          2.114,
          2.07,
          2.034,
          2.006,
          2.023,
          1.928,
          1.782,
          1.65,
          1.511,
          1.485,
          1.48,
          1.449,
          1.397,
          1.381,
          1.406,
          1.65,
          1.624,
          1.101,
          1.48,
          1.564,
          1.419,
          1.334,
          1.298,
          1.311,
          1.395,
          1.721,
          1.641,
          2.05,
          1.775,
          1.652,
          1.579,
          1.347,
          1.362,
          1.473,
          1.544,
          1.548,
          1.926,
          1.839,
          1.848,
          2.07,
          2.192,
          2.212,
          2.193,
          2.132,
          2.108,
          2.098,
          2.339,
          2.238,
          2.096,
          2,
          1.989,
          1.861,
          1.817,
          1.854,
          1.783,
          1.701,
          1.691,
          1.691,
          1.631,
          1.772,
          1.718,
          1.686,
          1.704,
          1.654,
          1.508,
          1.498,
          1.687,
          1.694,
          1.669,
          1.755,
          1.756,
          1.576,
          1.555,
          1.549,
          1.506,
          1.486,
          1.476,
          1.628,
          1.572,
          0.416,
          0.455,
          0.506,
          0.554,
          0.555,
          0.552,
          0.547,
          0.576,
          0.565,
          0.548,
          0.539,
          0.549,
          0.578,
          0.579,
          0.547,
          0.556,
          0.557,
          0.578,
          0.532,
          0.608,
          0.617,
          0.654,
          0.75,
          0.858,
          0.9,
          0.931,
          1.055,
          0.94,
          1.042,
          1.072,
          1.063,
          1.174,
          1.228,
          1.202,
          1.167,
          1.155,
          1.142,
          1.111,
          1.14,
          1.205,
          1.13,
          1.091,
          1.112,
          1.096,
          1.097,
          1.09,
          1.11,
          1.06,
          1.085,
          1.04,
          1.095,
          1.04,
          0.276,
          0.277,
          0.261,
          0.231,
          0.207,
          0.227,
          0.253,
          0.539,
          0.829,
          1.218,
          1.279,
          0.857,
          0.885,
          0.918,
          0.986,
          1.033,
          1.013,
          1.006,
          0.999,
          1.049,
          1.104,
          1.157,
          1.225,
          1.344,
          1.436,
          1.575,
          1.718,
          1.833,
          1.869,
          1.872,
          1.931,
          1.942,
          1.961,
          2.085,
          2.028,
          2.006,
          1.958,
          1.915,
          2.029,
          2.095,
          2.06,
          2.004,
          1.957,
          1.961,
          2.07,
          2.039
         ],
         "xaxis": "x",
         "y": [
          33.99,
          34.184,
          37.956,
          45.338,
          44.363,
          44.34,
          45.407,
          48.127,
          47.307,
          54.875,
          62.73,
          65.245,
          72.629,
          76.085,
          81.784,
          86.545,
          90.907,
          100.971,
          111.925,
          122.156,
          134.997,
          148.927,
          164.472,
          181.941,
          196.205,
          215.33,
          232.169,
          259.041,
          287.245,
          338.103,
          367.853,
          381.433,
          406.438,
          441.202,
          437.125,
          457.715,
          486.408,
          516.333,
          530.969,
          561.659,
          583.222,
          589.993,
          586.402,
          569.455,
          594.233,
          650.539,
          622.908,
          619.256,
          617.729,
          680.868,
          150.163,
          158.596,
          168.787,
          180.292,
          190.767,
          199.061,
          212.567,
          253.988,
          287.561,
          322.489,
          357.062,
          368.742,
          407.91,
          435.142,
          453.933,
          460.159,
          482.397,
          511.897,
          538.527,
          505.931,
          520.448,
          534.067,
          553.478,
          566.622,
          589.981,
          607.648,
          621.653,
          642.378,
          659.52,
          665.852,
          711.325,
          764.767,
          42.05,
          46.626,
          51.474,
          61.827,
          68.928,
          73.393,
          72.63,
          81.649,
          89.427,
          97.873,
          102.927,
          107.311,
          114.228,
          122.594,
          121.765,
          135.801,
          148.417,
          161.07,
          183.216,
          195.372,
          202.058,
          221.636,
          248.41,
          276.285,
          283.138,
          301.872,
          302.676,
          317.541,
          504.999,
          528.023,
          526.39,
          524.904,
          549.591,
          526.611,
          526.238,
          540.994,
          551.654,
          541.621,
          556.791,
          561.59,
          591.141,
          603.742,
          592.17,
          601.265,
          613.639,
          615.681,
          649.344,
          231.652,
          233.474,
          243.791,
          267.287,
          275.732,
          308.211,
          474.182,
          432.714,
          491.214,
          516.436,
          587.206,
          625.801,
          625.647,
          616.927,
          692.585,
          758.71,
          248.338,
          244.67,
          250.063,
          261.617,
          272.831,
          32.684,
          36.13,
          37.076,
          40.128,
          42.13,
          45.427,
          48.668,
          51.69,
          55.495,
          62.866,
          70.739,
          84.104,
          90.358,
          97.554,
          107.828,
          122.028,
          137.551,
          150.106,
          166.34,
          184.661,
          202.518,
          219.057,
          241.917,
          258.297,
          267.114,
          285.008,
          291.519,
          319.143,
          345.516,
          369.052,
          406.817,
          444.045,
          480.949,
          520.034,
          561.774,
          594.446,
          625.283,
          657.556,
          674.417,
          692.029,
          755.74,
          755.06,
          756.825,
          754.272,
          754.336,
          774.778,
          838.504,
          849.457,
          850.075,
          827.573,
          836.93,
          865.337,
          914.325,
          530.899,
          539.795,
          566.963,
          595.626,
          611.906,
          636.994,
          676.592,
          687.401,
          703.786,
          716.538,
          761.87,
          803.203,
          320.69,
          298.149,
          328.995,
          144.302,
          154.548,
          159.429,
          171.109,
          177.532,
          175.759,
          175.023,
          167.223,
          193.603,
          201.037,
          192.399,
          110.724,
          143.799,
          141.242,
          133.065,
          142.363,
          312.892,
          316.318,
          325.949,
          333.753,
          360.638,
          379.08,
          369.053,
          333.517,
          322.562,
          320.284,
          331.247,
          340.102,
          383.794,
          426.097,
          440.257,
          474.21,
          431.324,
          440.737,
          578.65,
          118.867,
          94.247,
          114.227,
          147.174,
          204.86,
          228.554,
          237.604,
          236.938,
          222.991,
          229.864,
          253.005,
          289.845,
          317.795,
          351.182,
          375.84,
          391.508,
          366.301,
          368.845,
          381.104,
          453.587,
          431.282,
          435.792,
          453.465,
          454.121,
          465.57,
          468.988,
          496.858,
          509.941,
          510.498,
          516.51,
          579.669,
          574.76,
          42.897,
          48.392,
          53.476,
          58.791,
          67.371,
          76.314,
          84.135,
          89.661,
          101.799,
          111.144,
          126.192,
          141.852,
          146.128,
          156.959,
          170.747,
          185.72,
          199.065,
          215.973,
          236.538,
          236.529,
          253.628,
          310.196,
          280.891,
          292.926,
          309.583,
          333.769,
          335.385,
          357.933,
          377.398,
          407.469,
          441.874,
          483.022,
          493.455,
          475.303,
          518.404,
          533.928,
          574.357,
          606.585,
          632.661,
          663.249,
          652.43,
          670.593,
          693.51,
          739.786,
          761.448,
          819.478,
          850.084,
          891.861,
          880.199,
          947.679,
          1042.46,
          50.227,
          53.591,
          59.177,
          64.287,
          67.987,
          75.963,
          84.952,
          86.179,
          96.266,
          95.463,
          109.862,
          120.869,
          126.264,
          143.142,
          154.562,
          160.002,
          166.166,
          175.836,
          198.446,
          197.474,
          212.719,
          222.095,
          255.15,
          251.656,
          260.561,
          258.681,
          286.756,
          316.624,
          314.596,
          305.733,
          336.878,
          327.597,
          320.08,
          308.592,
          310.753,
          316.719,
          321.823,
          332.76,
          341.553,
          353.819,
          372.045,
          372.623,
          401.686,
          72.028,
          77.447,
          86.325,
          86.813,
          82.612,
          93.576,
          92.704,
          100.816,
          117.334,
          134.069,
          152.479,
          222.776,
          239.197,
          262.641,
          282.031,
          303.135,
          334.654,
          358.995,
          408.498,
          431.589,
          438.984,
          441.063,
          450.565,
          449.583,
          467.136,
          472.568,
          466.75,
          446.39,
          431.254,
          449.956,
          446.084,
          461.926,
          499.864,
          510.509,
          521.52,
          520.4,
          560.405,
          594.795,
          101.901,
          123.756,
          139.139,
          169.659,
          179.993,
          208.687,
          205.453,
          199.165,
          226.421,
          242.689,
          261.29,
          278.947,
          278.915,
          305.288,
          316.199,
          327.705,
          340.315,
          385.885,
          386.474,
          410.725,
          407.201,
          421.946,
          451.763,
          20.985,
          24.95,
          28.063,
          29.563,
          32.696,
          36.768,
          40.974,
          44.422,
          48.256,
          52.02,
          55.273,
          60.427,
          63.251,
          70.139,
          75.603,
          81.96,
          87.041,
          95.322,
          102.523,
          111.299,
          124.446,
          139.657,
          148.99,
          155.151,
          167.29,
          192.792,
          210.958,
          224.894,
          223.195,
          250.551,
          282.198,
          306.595,
          344.581,
          354.069,
          388.045,
          405.017,
          389.562,
          425.837,
          457.118,
          445,
          446.764,
          448.472,
          460.321,
          472.552,
          467.218,
          484.533,
          515.993,
          515.952,
          536.801,
          541.881,
          567.335,
          591.864,
          46.908,
          75.415,
          108.14,
          165.96,
          252.162,
          275.805,
          290.913,
          315.667,
          325.216,
          323.389,
          330.285,
          345.815,
          368.527,
          398.617,
          454.16,
          498.362,
          541.758,
          536.658,
          559.044,
          573.536,
          581.556,
          594.425,
          606.492,
          609.668,
          621.644,
          622.837,
          619.827,
          676.497,
          680.255,
          673.38,
          695.401,
          705.241,
          698.524,
          696.842,
          743.835,
          765.575,
          19.614,
          21.457,
          23.051,
          24.357,
          29.428,
          28.643,
          32.064,
          35.612,
          40.438,
          44.467,
          52.095,
          58.075,
          64.976,
          71.72,
          79.042,
          82.486,
          87.199,
          91.868,
          100.894,
          109.306,
          113.364,
          123.888,
          140.457,
          154.532,
          168.843,
          176.424,
          193.853,
          449.818,
          456.257,
          458.246,
          471.393,
          474.684,
          471.311,
          481.75,
          528.752,
          517.288,
          95.012,
          104.155,
          115.601,
          135.989,
          158.029,
          173.091,
          190.818,
          194.263,
          206.003,
          217.478,
          192.313,
          209.652,
          281.854,
          324.459,
          389.24,
          503.399,
          519.224,
          547.175,
          615.122,
          651.201,
          734.77,
          748.159,
          749.826,
          709.328,
          622.251,
          572.577,
          567.977,
          578.16,
          631.254,
          647.113,
          632.89,
          666.093,
          750.761,
          740.123,
          449.42,
          465.814,
          349.071,
          318.187,
          320.895,
          362.974,
          380.543,
          385.931,
          413.623,
          450.481,
          469.013,
          177.438,
          180.992,
          198.823,
          220.826,
          183.099,
          188.948,
          192.992,
          295.567,
          337.883,
          376.61,
          402.121,
          457.642,
          483.381,
          452.144,
          476.311,
          490.503,
          554.391,
          614.461,
          575.517,
          551.813,
          561.219,
          563.595,
          589.379,
          554.629,
          563.842,
          574.811,
          621.505,
          632.293,
          37.2,
          38.899,
          41.409,
          48.617,
          52.105,
          55.666,
          51.754,
          54.485,
          54.89,
          59.536,
          63.928,
          68.507,
          73.839,
          79.803,
          91.092,
          96.086,
          100.722,
          109.326,
          118.811,
          125.914,
          136.152,
          152.74,
          161.814,
          184.401,
          209.317,
          259.398,
          308.097,
          357.489,
          389.095,
          439.097,
          478.63,
          527.657,
          553.508,
          581.225,
          583.463,
          600.152,
          588.288,
          616.252,
          568.401,
          542.059,
          548.009,
          578.508,
          589.555,
          593.089,
          572.237,
          611.829,
          625.365,
          28.437,
          38.402,
          43.415,
          42.803,
          46.62,
          58.281,
          56.601,
          65.76,
          80.924,
          92.839,
          120.025,
          128.115,
          149.004,
          179.242,
          164.259,
          182.192,
          206.045,
          225.963,
          234.682,
          239.008,
          220.216,
          212.391,
          221.745,
          216.987,
          235.052,
          249.758,
          269.332,
          312.746,
          338.45,
          370.923,
          424.768,
          427.571,
          470.918,
          484.45,
          509.515,
          482.889,
          492.809,
          494.023,
          537.29,
          554.651,
          531.339,
          517.476,
          509.66,
          486.27,
          466.895,
          472.054,
          455.666,
          450.201,
          455.714,
          478.53,
          529.272,
          604.981,
          632.479,
          232.584,
          252.131,
          247.078,
          267.541,
          268.492,
          279.705,
          294.604,
          290.03,
          287.708,
          309.568,
          329.683,
          333.69,
          364.146,
          360.875,
          451.622,
          242.881,
          261.488,
          273.02,
          290.283,
          301.412,
          284.56,
          284.259,
          286.138,
          305.288,
          333.384,
          358.5,
          381.619,
          429.62,
          471.653,
          501.305,
          489.341,
          514.622,
          510.092,
          535.788,
          539.188,
          562.602,
          557.06,
          582.095,
          574.551,
          510.916,
          519.224,
          516.479,
          551.703,
          577.766,
          594.489,
          625.637,
          651.265,
          662.612,
          691.708,
          748.081,
          113.323,
          145.151,
          147.09,
          162.442,
          185.826,
          199.967,
          227.937,
          233.282,
          266.744,
          275.869,
          296.49,
          299.07,
          297.368,
          302.192,
          298.214,
          281.881,
          302.756,
          340.098,
          366.913,
          384.942,
          428.518,
          448.278,
          489.158,
          506.852,
          537.234,
          557.041,
          623.452,
          648.83,
          707.419,
          749.96,
          812.268,
          813.859,
          891.136,
          797.703,
          806.324,
          810.493,
          954.452,
          835.93,
          3.976,
          3.628,
          3.754,
          3.853,
          3.826,
          6.505,
          7.968,
          8.546,
          11.123,
          16.948,
          19.307,
          23.16,
          25.939,
          29.488,
          31.634,
          35.477,
          39.33,
          44.306,
          52.782,
          67.744,
          75.144,
          79.721,
          85.532,
          93.46,
          101.429,
          115.405,
          130.478,
          135.67,
          128.674,
          147.512,
          175.568,
          221.635,
          236.974,
          269.091,
          286.454,
          308.164,
          351.33,
          381.905,
          399.108,
          427.538,
          464.663,
          477.438,
          484.619,
          473.375,
          480.067,
          519.359,
          554.942,
          574.407,
          618.331,
          641.797,
          722.445,
          740.501,
          803.251,
          267.716,
          304.161,
          313.348,
          329.984,
          351.979,
          352.772,
          366.467,
          386.597,
          453.815,
          468.395,
          495.942,
          515.108,
          570.369,
          535.543,
          528.595,
          602.343,
          622.44,
          654.752,
          60.128,
          63.006,
          74.606,
          83.703,
          93.153,
          102.724,
          103.473,
          106.374,
          115.811,
          128.669,
          144.592,
          164.381,
          183.43,
          207.18,
          220.448,
          232.561,
          227.52,
          252.509,
          255.563,
          287.122,
          298.88,
          338.318,
          376.489,
          407.024,
          462.209,
          483.735,
          497.269,
          498.272,
          525.621,
          542.908,
          555.407,
          563.008,
          543.835,
          428.823,
          554.233,
          565.568,
          550.605,
          548.094,
          565.786,
          570.39,
          596.77,
          570.325,
          610.829,
          683.994,
          706.372,
          188.585,
          189.344,
          217.575,
          299.618,
          240.268,
          245.2,
          277.587,
          281.155,
          295.051,
          323.219,
          346.969,
          388.369,
          456.477,
          459.41,
          492.906,
          479.593,
          509.939,
          523.942,
          90.205,
          103.114,
          112.922,
          129.947,
          247.284,
          269.151,
          274.714,
          285.489,
          295.376,
          298.247,
          295.992,
          227.703,
          206.052,
          227.68,
          226.219,
          227.957,
          240.501,
          250.617,
          252.536,
          254.189,
          247.519,
          263.922,
          279.02,
          516.201,
          575.784,
          570.587,
          622.204,
          633.735,
          817.212,
          947.614,
          36.08,
          38.209,
          41.167,
          44.807,
          46.871,
          49.722,
          54.18,
          58.294,
          63.144,
          67.711,
          74.904,
          77.52,
          87.005,
          93.786,
          103.232,
          113.058,
          120.049,
          126.614,
          142.348,
          152.244,
          174.608,
          190.046,
          192.769,
          203.723,
          211.859,
          216.569,
          258.031,
          283.513,
          318.355,
          339.924,
          376.751,
          376.391,
          390.264,
          399.59,
          408.591,
          444.177,
          436.684,
          425.964,
          423.464,
          426.645,
          390.837,
          377.565,
          370.976,
          380.966,
          392.751,
          398.395,
          404.562,
          411.939,
          426.507,
          456.017,
          472.093,
          13.208,
          14.239,
          14.915,
          16.755,
          19.766,
          23.276,
          25.372,
          26.816,
          27.906,
          30.409,
          67.039,
          73.48,
          80.154,
          86.599,
          91.848,
          96.851,
          101.53,
          107.108,
          83.498,
          90.746,
          104.245,
          115.539,
          123.026,
          162.161,
          155.02,
          168.364,
          186.204,
          211.798,
          227.099,
          241.838,
          285.304,
          293.627,
          340.848,
          340.564,
          367.833,
          361.461,
          366.17,
          369.924,
          366.041,
          355.65,
          365.574,
          397.13,
          402.861,
          416.312,
          427.469,
          439.572,
          446.702,
          476.049,
          474.604,
          453.009,
          472.666,
          513.409,
          25.961,
          43.188,
          59.362,
          61.063,
          68.07,
          75.853,
          80.094,
          80.634,
          96.564,
          112.83,
          125.741,
          136.465,
          140.639,
          150.424,
          159.495,
          174.078,
          197.089,
          193.03,
          195.076,
          203.749,
          223.715,
          234.745,
          275.817,
          264.084,
          228.42,
          246.776,
          259.635,
          248.394,
          260.35,
          278.92,
          300.86,
          322.516,
          346.358,
          361.408,
          351.322,
          362.625,
          362.176,
          385.842,
          411.073,
          419.371,
          438.06,
          439.759,
          451.159,
          479.358,
          6.345,
          32.726,
          43.584,
          47.875,
          53.603,
          56.307,
          59.903,
          62.09,
          64.674,
          96.461,
          106.653,
          125.428,
          133.84,
          140.35,
          159.532,
          181.97,
          200.361,
          215.912,
          224.556,
          245.113,
          267.414,
          282.889,
          288.408,
          354.319,
          379.443,
          409.288,
          423.655,
          460.771,
          478.311,
          495.923,
          505.755,
          512.518,
          501.813,
          495.787,
          450.09,
          413.738,
          402.222,
          403.211,
          418.613,
          434.328,
          436.34,
          459.974,
          476.286,
          524.715,
          558.506,
          89.719,
          142.581,
          153.445,
          161.701,
          181.785,
          215.627,
          209.121,
          242.137,
          320.393,
          323.816,
          406.056,
          369.803,
          363.502,
          388.742,
          367.124,
          409.492,
          475.315,
          508.626,
          569.563,
          229.096,
          239.524,
          263.001,
          326.289,
          352.728,
          376.255,
          396.543,
          417.939,
          465.38,
          508.8,
          532.417,
          587.244,
          567.145,
          556.726,
          571.491,
          543.317,
          553.2,
          542.415,
          521.065,
          512.545,
          516.996,
          504.235,
          530.716,
          383.621,
          378.946,
          394.479,
          404.794,
          420.082,
          414.8,
          438.139,
          447.479,
          458.749,
          464.769,
          489.476,
          501.439,
          463.397,
          470.778,
          500.273,
          521.07,
          546.854,
          559.466,
          599.589,
          644.19,
          20.855,
          23.808,
          28.143,
          33.528,
          37.792,
          42.964,
          45.505,
          49.96,
          52.146,
          57.024,
          62.649,
          67.801,
          74.714,
          78.556,
          80.359,
          85.978,
          91.642,
          100.65,
          98.83,
          121.532,
          128.534,
          135.518,
          155.381,
          170.571,
          187.679,
          206.178,
          241.058,
          222.756,
          258.376,
          286.758,
          318.668,
          356.468,
          394.618,
          386.867,
          398.142,
          398.239,
          427.008,
          448.046,
          474.447,
          474.24,
          466.014,
          467.145,
          484.705,
          475.572,
          487.696,
          504.915,
          524.404,
          512.816,
          537.282,
          517.451,
          554.039,
          576.078,
          9.685,
          10.331,
          10.565,
          10.054,
          9.674,
          11.917,
          13.239,
          33.578,
          56.802,
          100.909,
          120.135,
          171.834,
          189.545,
          209.722,
          235.469,
          251.462,
          257.468,
          265.437,
          276.718,
          300.923,
          330.937,
          363.952,
          402.545,
          463.851,
          521.677,
          584.779,
          652.646,
          723.841,
          779.91,
          826.029,
          894.044,
          933.087,
          952.447,
          984.105,
          986.63,
          1004.205,
          1013.8,
          1020.541,
          1118.634,
          1189.437,
          1192.301,
          1200.769,
          1229.266,
          1277.032,
          1315.218,
          1432.309
         ],
         "yaxis": "y"
        }
       ],
       "layout": {
        "legend": {
         "tracegroupgap": 0
        },
        "template": {
         "data": {
          "bar": [
           {
            "error_x": {
             "color": "#2a3f5f"
            },
            "error_y": {
             "color": "#2a3f5f"
            },
            "marker": {
             "line": {
              "color": "#E5ECF6",
              "width": 0.5
             },
             "pattern": {
              "fillmode": "overlay",
              "size": 10,
              "solidity": 0.2
             }
            },
            "type": "bar"
           }
          ],
          "barpolar": [
           {
            "marker": {
             "line": {
              "color": "#E5ECF6",
              "width": 0.5
             },
             "pattern": {
              "fillmode": "overlay",
              "size": 10,
              "solidity": 0.2
             }
            },
            "type": "barpolar"
           }
          ],
          "carpet": [
           {
            "aaxis": {
             "endlinecolor": "#2a3f5f",
             "gridcolor": "white",
             "linecolor": "white",
             "minorgridcolor": "white",
             "startlinecolor": "#2a3f5f"
            },
            "baxis": {
             "endlinecolor": "#2a3f5f",
             "gridcolor": "white",
             "linecolor": "white",
             "minorgridcolor": "white",
             "startlinecolor": "#2a3f5f"
            },
            "type": "carpet"
           }
          ],
          "choropleth": [
           {
            "colorbar": {
             "outlinewidth": 0,
             "ticks": ""
            },
            "type": "choropleth"
           }
          ],
          "contour": [
           {
            "colorbar": {
             "outlinewidth": 0,
             "ticks": ""
            },
            "colorscale": [
             [
              0,
              "#0d0887"
             ],
             [
              0.1111111111111111,
              "#46039f"
             ],
             [
              0.2222222222222222,
              "#7201a8"
             ],
             [
              0.3333333333333333,
              "#9c179e"
             ],
             [
              0.4444444444444444,
              "#bd3786"
             ],
             [
              0.5555555555555556,
              "#d8576b"
             ],
             [
              0.6666666666666666,
              "#ed7953"
             ],
             [
              0.7777777777777778,
              "#fb9f3a"
             ],
             [
              0.8888888888888888,
              "#fdca26"
             ],
             [
              1,
              "#f0f921"
             ]
            ],
            "type": "contour"
           }
          ],
          "contourcarpet": [
           {
            "colorbar": {
             "outlinewidth": 0,
             "ticks": ""
            },
            "type": "contourcarpet"
           }
          ],
          "heatmap": [
           {
            "colorbar": {
             "outlinewidth": 0,
             "ticks": ""
            },
            "colorscale": [
             [
              0,
              "#0d0887"
             ],
             [
              0.1111111111111111,
              "#46039f"
             ],
             [
              0.2222222222222222,
              "#7201a8"
             ],
             [
              0.3333333333333333,
              "#9c179e"
             ],
             [
              0.4444444444444444,
              "#bd3786"
             ],
             [
              0.5555555555555556,
              "#d8576b"
             ],
             [
              0.6666666666666666,
              "#ed7953"
             ],
             [
              0.7777777777777778,
              "#fb9f3a"
             ],
             [
              0.8888888888888888,
              "#fdca26"
             ],
             [
              1,
              "#f0f921"
             ]
            ],
            "type": "heatmap"
           }
          ],
          "heatmapgl": [
           {
            "colorbar": {
             "outlinewidth": 0,
             "ticks": ""
            },
            "colorscale": [
             [
              0,
              "#0d0887"
             ],
             [
              0.1111111111111111,
              "#46039f"
             ],
             [
              0.2222222222222222,
              "#7201a8"
             ],
             [
              0.3333333333333333,
              "#9c179e"
             ],
             [
              0.4444444444444444,
              "#bd3786"
             ],
             [
              0.5555555555555556,
              "#d8576b"
             ],
             [
              0.6666666666666666,
              "#ed7953"
             ],
             [
              0.7777777777777778,
              "#fb9f3a"
             ],
             [
              0.8888888888888888,
              "#fdca26"
             ],
             [
              1,
              "#f0f921"
             ]
            ],
            "type": "heatmapgl"
           }
          ],
          "histogram": [
           {
            "marker": {
             "pattern": {
              "fillmode": "overlay",
              "size": 10,
              "solidity": 0.2
             }
            },
            "type": "histogram"
           }
          ],
          "histogram2d": [
           {
            "colorbar": {
             "outlinewidth": 0,
             "ticks": ""
            },
            "colorscale": [
             [
              0,
              "#0d0887"
             ],
             [
              0.1111111111111111,
              "#46039f"
             ],
             [
              0.2222222222222222,
              "#7201a8"
             ],
             [
              0.3333333333333333,
              "#9c179e"
             ],
             [
              0.4444444444444444,
              "#bd3786"
             ],
             [
              0.5555555555555556,
              "#d8576b"
             ],
             [
              0.6666666666666666,
              "#ed7953"
             ],
             [
              0.7777777777777778,
              "#fb9f3a"
             ],
             [
              0.8888888888888888,
              "#fdca26"
             ],
             [
              1,
              "#f0f921"
             ]
            ],
            "type": "histogram2d"
           }
          ],
          "histogram2dcontour": [
           {
            "colorbar": {
             "outlinewidth": 0,
             "ticks": ""
            },
            "colorscale": [
             [
              0,
              "#0d0887"
             ],
             [
              0.1111111111111111,
              "#46039f"
             ],
             [
              0.2222222222222222,
              "#7201a8"
             ],
             [
              0.3333333333333333,
              "#9c179e"
             ],
             [
              0.4444444444444444,
              "#bd3786"
             ],
             [
              0.5555555555555556,
              "#d8576b"
             ],
             [
              0.6666666666666666,
              "#ed7953"
             ],
             [
              0.7777777777777778,
              "#fb9f3a"
             ],
             [
              0.8888888888888888,
              "#fdca26"
             ],
             [
              1,
              "#f0f921"
             ]
            ],
            "type": "histogram2dcontour"
           }
          ],
          "mesh3d": [
           {
            "colorbar": {
             "outlinewidth": 0,
             "ticks": ""
            },
            "type": "mesh3d"
           }
          ],
          "parcoords": [
           {
            "line": {
             "colorbar": {
              "outlinewidth": 0,
              "ticks": ""
             }
            },
            "type": "parcoords"
           }
          ],
          "pie": [
           {
            "automargin": true,
            "type": "pie"
           }
          ],
          "scatter": [
           {
            "fillpattern": {
             "fillmode": "overlay",
             "size": 10,
             "solidity": 0.2
            },
            "type": "scatter"
           }
          ],
          "scatter3d": [
           {
            "line": {
             "colorbar": {
              "outlinewidth": 0,
              "ticks": ""
             }
            },
            "marker": {
             "colorbar": {
              "outlinewidth": 0,
              "ticks": ""
             }
            },
            "type": "scatter3d"
           }
          ],
          "scattercarpet": [
           {
            "marker": {
             "colorbar": {
              "outlinewidth": 0,
              "ticks": ""
             }
            },
            "type": "scattercarpet"
           }
          ],
          "scattergeo": [
           {
            "marker": {
             "colorbar": {
              "outlinewidth": 0,
              "ticks": ""
             }
            },
            "type": "scattergeo"
           }
          ],
          "scattergl": [
           {
            "marker": {
             "colorbar": {
              "outlinewidth": 0,
              "ticks": ""
             }
            },
            "type": "scattergl"
           }
          ],
          "scattermapbox": [
           {
            "marker": {
             "colorbar": {
              "outlinewidth": 0,
              "ticks": ""
             }
            },
            "type": "scattermapbox"
           }
          ],
          "scatterpolar": [
           {
            "marker": {
             "colorbar": {
              "outlinewidth": 0,
              "ticks": ""
             }
            },
            "type": "scatterpolar"
           }
          ],
          "scatterpolargl": [
           {
            "marker": {
             "colorbar": {
              "outlinewidth": 0,
              "ticks": ""
             }
            },
            "type": "scatterpolargl"
           }
          ],
          "scatterternary": [
           {
            "marker": {
             "colorbar": {
              "outlinewidth": 0,
              "ticks": ""
             }
            },
            "type": "scatterternary"
           }
          ],
          "surface": [
           {
            "colorbar": {
             "outlinewidth": 0,
             "ticks": ""
            },
            "colorscale": [
             [
              0,
              "#0d0887"
             ],
             [
              0.1111111111111111,
              "#46039f"
             ],
             [
              0.2222222222222222,
              "#7201a8"
             ],
             [
              0.3333333333333333,
              "#9c179e"
             ],
             [
              0.4444444444444444,
              "#bd3786"
             ],
             [
              0.5555555555555556,
              "#d8576b"
             ],
             [
              0.6666666666666666,
              "#ed7953"
             ],
             [
              0.7777777777777778,
              "#fb9f3a"
             ],
             [
              0.8888888888888888,
              "#fdca26"
             ],
             [
              1,
              "#f0f921"
             ]
            ],
            "type": "surface"
           }
          ],
          "table": [
           {
            "cells": {
             "fill": {
              "color": "#EBF0F8"
             },
             "line": {
              "color": "white"
             }
            },
            "header": {
             "fill": {
              "color": "#C8D4E3"
             },
             "line": {
              "color": "white"
             }
            },
            "type": "table"
           }
          ]
         },
         "layout": {
          "annotationdefaults": {
           "arrowcolor": "#2a3f5f",
           "arrowhead": 0,
           "arrowwidth": 1
          },
          "autotypenumbers": "strict",
          "coloraxis": {
           "colorbar": {
            "outlinewidth": 0,
            "ticks": ""
           }
          },
          "colorscale": {
           "diverging": [
            [
             0,
             "#8e0152"
            ],
            [
             0.1,
             "#c51b7d"
            ],
            [
             0.2,
             "#de77ae"
            ],
            [
             0.3,
             "#f1b6da"
            ],
            [
             0.4,
             "#fde0ef"
            ],
            [
             0.5,
             "#f7f7f7"
            ],
            [
             0.6,
             "#e6f5d0"
            ],
            [
             0.7,
             "#b8e186"
            ],
            [
             0.8,
             "#7fbc41"
            ],
            [
             0.9,
             "#4d9221"
            ],
            [
             1,
             "#276419"
            ]
           ],
           "sequential": [
            [
             0,
             "#0d0887"
            ],
            [
             0.1111111111111111,
             "#46039f"
            ],
            [
             0.2222222222222222,
             "#7201a8"
            ],
            [
             0.3333333333333333,
             "#9c179e"
            ],
            [
             0.4444444444444444,
             "#bd3786"
            ],
            [
             0.5555555555555556,
             "#d8576b"
            ],
            [
             0.6666666666666666,
             "#ed7953"
            ],
            [
             0.7777777777777778,
             "#fb9f3a"
            ],
            [
             0.8888888888888888,
             "#fdca26"
            ],
            [
             1,
             "#f0f921"
            ]
           ],
           "sequentialminus": [
            [
             0,
             "#0d0887"
            ],
            [
             0.1111111111111111,
             "#46039f"
            ],
            [
             0.2222222222222222,
             "#7201a8"
            ],
            [
             0.3333333333333333,
             "#9c179e"
            ],
            [
             0.4444444444444444,
             "#bd3786"
            ],
            [
             0.5555555555555556,
             "#d8576b"
            ],
            [
             0.6666666666666666,
             "#ed7953"
            ],
            [
             0.7777777777777778,
             "#fb9f3a"
            ],
            [
             0.8888888888888888,
             "#fdca26"
            ],
            [
             1,
             "#f0f921"
            ]
           ]
          },
          "colorway": [
           "#636efa",
           "#EF553B",
           "#00cc96",
           "#ab63fa",
           "#FFA15A",
           "#19d3f3",
           "#FF6692",
           "#B6E880",
           "#FF97FF",
           "#FECB52"
          ],
          "font": {
           "color": "#2a3f5f"
          },
          "geo": {
           "bgcolor": "white",
           "lakecolor": "white",
           "landcolor": "#E5ECF6",
           "showlakes": true,
           "showland": true,
           "subunitcolor": "white"
          },
          "hoverlabel": {
           "align": "left"
          },
          "hovermode": "closest",
          "mapbox": {
           "style": "light"
          },
          "paper_bgcolor": "white",
          "plot_bgcolor": "#E5ECF6",
          "polar": {
           "angularaxis": {
            "gridcolor": "white",
            "linecolor": "white",
            "ticks": ""
           },
           "bgcolor": "#E5ECF6",
           "radialaxis": {
            "gridcolor": "white",
            "linecolor": "white",
            "ticks": ""
           }
          },
          "scene": {
           "xaxis": {
            "backgroundcolor": "#E5ECF6",
            "gridcolor": "white",
            "gridwidth": 2,
            "linecolor": "white",
            "showbackground": true,
            "ticks": "",
            "zerolinecolor": "white"
           },
           "yaxis": {
            "backgroundcolor": "#E5ECF6",
            "gridcolor": "white",
            "gridwidth": 2,
            "linecolor": "white",
            "showbackground": true,
            "ticks": "",
            "zerolinecolor": "white"
           },
           "zaxis": {
            "backgroundcolor": "#E5ECF6",
            "gridcolor": "white",
            "gridwidth": 2,
            "linecolor": "white",
            "showbackground": true,
            "ticks": "",
            "zerolinecolor": "white"
           }
          },
          "shapedefaults": {
           "line": {
            "color": "#2a3f5f"
           }
          },
          "ternary": {
           "aaxis": {
            "gridcolor": "white",
            "linecolor": "white",
            "ticks": ""
           },
           "baxis": {
            "gridcolor": "white",
            "linecolor": "white",
            "ticks": ""
           },
           "bgcolor": "#E5ECF6",
           "caxis": {
            "gridcolor": "white",
            "linecolor": "white",
            "ticks": ""
           }
          },
          "title": {
           "x": 0.05
          },
          "xaxis": {
           "automargin": true,
           "gridcolor": "white",
           "linecolor": "white",
           "ticks": "",
           "title": {
            "standoff": 15
           },
           "zerolinecolor": "white",
           "zerolinewidth": 2
          },
          "yaxis": {
           "automargin": true,
           "gridcolor": "white",
           "linecolor": "white",
           "ticks": "",
           "title": {
            "standoff": 15
           },
           "zerolinecolor": "white",
           "zerolinewidth": 2
          }
         }
        },
        "title": {
         "text": "Scatter Plot: PC_GDP vs USD_CAP"
        },
        "xaxis": {
         "anchor": "y",
         "domain": [
          0,
          1
         ],
         "title": {
          "text": "PC_GDP"
         }
        },
        "yaxis": {
         "anchor": "x",
         "domain": [
          0,
          1
         ],
         "title": {
          "text": "USD_CAP"
         }
        }
       }
      }
     },
     "metadata": {},
     "output_type": "display_data"
    }
   ],
   "source": [
    "import plotly.express as px\n",
    "\n",
    "# Define custom green color scale\n",
    "green_scale = ['#1b3d1b', '#2e6b2e', '#4c8c4c', '#6ea06e', '#8fb88f']\n",
    "\n",
    "# Create an interactive scatter plot\n",
    "fig = px.scatter(data, x='PC_GDP', y='USD_CAP', title='Scatter Plot: PC_GDP vs USD_CAP')\n",
    "\n",
    "# Apply the green color scheme and adjust marker size\n",
    "fig.update_traces(marker=dict(color=green_scale[2], size=5))  # Smaller markers\n",
    "\n",
    "# Show the plot\n",
    "fig.show()\n"
   ]
  },
  {
   "cell_type": "markdown",
   "metadata": {},
   "source": [
    "# Scatter Plot: PC_GDP vs USD_CAP\n",
    "The above code is used to create an interactive scatter plot that helps visualize the relationship between PC_GDP and USD_CAP (USD Capital).\n",
    "X-axis (PC_GDP): Shows the per capita GDP of different countries or regions.\n",
    "Y-axis (USD_CAP): Shows the USD capital for these countries or regions.\n",
    "Markers: Each point represents a country/region, with its position determined by its PC_GDP and USD_CAP values.\n",
    "\n",
    "Key Observations: The scatter plot reveals a general positive trend between PC_GDP and USD_CAP, indicating that higher GDP per capita is associated with higher capital expenditure.\n",
    "Outliers are primarily concentrated at higher PC_GDP values (around 1.5 to 2.0), with significantly higher USD_CAP values compared to the rest of the data.\n",
    "These outliers correspond to specific years and locations (e.g., USA in recent years), suggesting unique economic conditions or policies that result in exceptionally high capital expenditure."
   ]
  },
  {
   "cell_type": "code",
   "execution_count": 8,
   "metadata": {},
   "outputs": [
    {
     "name": "stdout",
     "output_type": "stream",
     "text": [
      "     LOCATION  TIME  PC_HEALTHXP  PC_GDP   USD_CAP  TOTAL_SPEND   Z_Score  \\\n",
      "129       BGR  2003       37.000   2.664   231.652      1801.17 -0.471644   \n",
      "130       BGR  2004       35.617   2.454   233.474      1801.69 -0.463585   \n",
      "131       BGR  2005       34.274   2.362   243.791      1867.19 -0.417949   \n",
      "132       BGR  2006       36.808   2.402   267.287      2031.65 -0.314018   \n",
      "135       BGR  2012       37.745   2.846   474.182      3464.32  0.601147   \n",
      "...       ...   ...          ...     ...       ...          ...       ...   \n",
      "1336      USA  2017       11.954   2.004  1200.769    390396.57  3.815081   \n",
      "1337      USA  2018       11.766   1.957  1229.266    401771.09  3.941133   \n",
      "1338      USA  2019       11.767   1.961  1277.032    419287.86  4.152418   \n",
      "1339      USA  2020       11.037   2.070  1315.218    436030.19  4.321327   \n",
      "1340      USA  2021       11.743   2.039  1432.309    475596.74  4.839259   \n",
      "\n",
      "      Anomaly  \n",
      "129        -1  \n",
      "130        -1  \n",
      "131        -1  \n",
      "132        -1  \n",
      "135        -1  \n",
      "...       ...  \n",
      "1336       -1  \n",
      "1337       -1  \n",
      "1338       -1  \n",
      "1339       -1  \n",
      "1340       -1  \n",
      "\n",
      "[67 rows x 8 columns]\n"
     ]
    }
   ],
   "source": [
    "from sklearn.ensemble import IsolationForest\n",
    "\n",
    "# Fit Isolation Forest\n",
    "model = IsolationForest(contamination=0.05)  # 5% of data as outliers\n",
    "data['Anomaly'] = model.fit_predict(data[['USD_CAP', 'PC_GDP']])  # Include relevant columns\n",
    "outliers = data[data['Anomaly'] == -1]\n",
    "print(outliers)\n"
   ]
  },
  {
   "cell_type": "markdown",
   "metadata": {},
   "source": [
    "This code creates an IsolationForest model & sets the contamination parameter to 0.05, meaning the model will assume that 5% of the data are outliers. This helps the model focus on detecting those outlier. fit_predict fits the Isolation Forest model to the specified features (USD_CAP and PC_GDP in this case) and predicts whether each data point is an anomaly (-1) or not (1) and adding  new column 'Anomaly' to the dataset, with values of -1 indicating an outlier and 1 indicating a normal point. It filters the dataset to select the rows where the 'Anomaly' column is -1, which corresponds to outliers detected by the model.\n",
    "\n",
    "Key Observations: \n",
    " Outlier Identification: The rows with Anomaly = -1 show the detected outliers. These points can be anomalies based on USD_CAP and PC_GDP values.\n",
    " Z-Scores: These outliers tend to have extreme Z-scores, indicating that they are far from the mean.\n",
    " This is useful for identifying unusual or extreme cases in the dataset that could distort analysis and predictive models."
   ]
  },
  {
   "cell_type": "code",
   "execution_count": 11,
   "metadata": {},
   "outputs": [
    {
     "name": "stdout",
     "output_type": "stream",
     "text": [
      "Outliers detected:\n",
      "     LOCATION  TIME  PC_HEALTHXP  PC_GDP   USD_CAP  TOTAL_SPEND\n",
      "335       DEU  2021       13.866   1.793  1042.460     86728.58\n",
      "1333      USA  2014       12.527   2.029  1118.634    356157.77\n",
      "1334      USA  2015       12.707   2.095  1189.437    381498.83\n",
      "1335      USA  2016       12.263   2.060  1192.301    385198.78\n",
      "1336      USA  2017       11.954   2.004  1200.769    390396.57\n",
      "1337      USA  2018       11.766   1.957  1229.266    401771.09\n",
      "1338      USA  2019       11.767   1.961  1277.032    419287.86\n",
      "1339      USA  2020       11.037   2.070  1315.218    436030.19\n",
      "1340      USA  2021       11.743   2.039  1432.309    475596.74\n"
     ]
    },
    {
     "data": {
      "application/vnd.plotly.v1+json": {
       "config": {
        "plotlyServerURL": "https://plot.ly"
       },
       "data": [
        {
         "alignmentgroup": "True",
         "hovertemplate": "USD_CAP=%{y}<extra></extra>",
         "legendgroup": "",
         "marker": {
          "color": "#6ea06e"
         },
         "name": "",
         "notched": false,
         "offsetgroup": "",
         "orientation": "v",
         "showlegend": false,
         "type": "box",
         "x0": " ",
         "xaxis": "x",
         "y": [
          33.99,
          34.184,
          37.956,
          45.338,
          44.363,
          44.34,
          45.407,
          48.127,
          47.307,
          54.875,
          62.73,
          65.245,
          72.629,
          76.085,
          81.784,
          86.545,
          90.907,
          100.971,
          111.925,
          122.156,
          134.997,
          148.927,
          164.472,
          181.941,
          196.205,
          215.33,
          232.169,
          259.041,
          287.245,
          338.103,
          367.853,
          381.433,
          406.438,
          441.202,
          437.125,
          457.715,
          486.408,
          516.333,
          530.969,
          561.659,
          583.222,
          589.993,
          586.402,
          569.455,
          594.233,
          650.539,
          622.908,
          619.256,
          617.729,
          680.868,
          150.163,
          158.596,
          168.787,
          180.292,
          190.767,
          199.061,
          212.567,
          253.988,
          287.561,
          322.489,
          357.062,
          368.742,
          407.91,
          435.142,
          453.933,
          460.159,
          482.397,
          511.897,
          538.527,
          505.931,
          520.448,
          534.067,
          553.478,
          566.622,
          589.981,
          607.648,
          621.653,
          642.378,
          659.52,
          665.852,
          711.325,
          764.767,
          42.05,
          46.626,
          51.474,
          61.827,
          68.928,
          73.393,
          72.63,
          81.649,
          89.427,
          97.873,
          102.927,
          107.311,
          114.228,
          122.594,
          121.765,
          135.801,
          148.417,
          161.07,
          183.216,
          195.372,
          202.058,
          221.636,
          248.41,
          276.285,
          283.138,
          301.872,
          302.676,
          317.541,
          504.999,
          528.023,
          526.39,
          524.904,
          549.591,
          526.611,
          526.238,
          540.994,
          551.654,
          541.621,
          556.791,
          561.59,
          591.141,
          603.742,
          592.17,
          601.265,
          613.639,
          615.681,
          649.344,
          231.652,
          233.474,
          243.791,
          267.287,
          275.732,
          308.211,
          474.182,
          432.714,
          491.214,
          516.436,
          587.206,
          625.801,
          625.647,
          616.927,
          692.585,
          758.71,
          248.338,
          244.67,
          250.063,
          261.617,
          272.831,
          32.684,
          36.13,
          37.076,
          40.128,
          42.13,
          45.427,
          48.668,
          51.69,
          55.495,
          62.866,
          70.739,
          84.104,
          90.358,
          97.554,
          107.828,
          122.028,
          137.551,
          150.106,
          166.34,
          184.661,
          202.518,
          219.057,
          241.917,
          258.297,
          267.114,
          285.008,
          291.519,
          319.143,
          345.516,
          369.052,
          406.817,
          444.045,
          480.949,
          520.034,
          561.774,
          594.446,
          625.283,
          657.556,
          674.417,
          692.029,
          755.74,
          755.06,
          756.825,
          754.272,
          754.336,
          774.778,
          838.504,
          849.457,
          850.075,
          827.573,
          836.93,
          865.337,
          914.325,
          530.899,
          539.795,
          566.963,
          595.626,
          611.906,
          636.994,
          676.592,
          687.401,
          703.786,
          716.538,
          761.87,
          803.203,
          320.69,
          298.149,
          328.995,
          144.302,
          154.548,
          159.429,
          171.109,
          177.532,
          175.759,
          175.023,
          167.223,
          193.603,
          201.037,
          192.399,
          110.724,
          143.799,
          141.242,
          133.065,
          142.363,
          312.892,
          316.318,
          325.949,
          333.753,
          360.638,
          379.08,
          369.053,
          333.517,
          322.562,
          320.284,
          331.247,
          340.102,
          383.794,
          426.097,
          440.257,
          474.21,
          431.324,
          440.737,
          578.65,
          118.867,
          94.247,
          114.227,
          147.174,
          204.86,
          228.554,
          237.604,
          236.938,
          222.991,
          229.864,
          253.005,
          289.845,
          317.795,
          351.182,
          375.84,
          391.508,
          366.301,
          368.845,
          381.104,
          453.587,
          431.282,
          435.792,
          453.465,
          454.121,
          465.57,
          468.988,
          496.858,
          509.941,
          510.498,
          516.51,
          579.669,
          574.76,
          42.897,
          48.392,
          53.476,
          58.791,
          67.371,
          76.314,
          84.135,
          89.661,
          101.799,
          111.144,
          126.192,
          141.852,
          146.128,
          156.959,
          170.747,
          185.72,
          199.065,
          215.973,
          236.538,
          236.529,
          253.628,
          310.196,
          280.891,
          292.926,
          309.583,
          333.769,
          335.385,
          357.933,
          377.398,
          407.469,
          441.874,
          483.022,
          493.455,
          475.303,
          518.404,
          533.928,
          574.357,
          606.585,
          632.661,
          663.249,
          652.43,
          670.593,
          693.51,
          739.786,
          761.448,
          819.478,
          850.084,
          891.861,
          880.199,
          947.679,
          1042.46,
          50.227,
          53.591,
          59.177,
          64.287,
          67.987,
          75.963,
          84.952,
          86.179,
          96.266,
          95.463,
          109.862,
          120.869,
          126.264,
          143.142,
          154.562,
          160.002,
          166.166,
          175.836,
          198.446,
          197.474,
          212.719,
          222.095,
          255.15,
          251.656,
          260.561,
          258.681,
          286.756,
          316.624,
          314.596,
          305.733,
          336.878,
          327.597,
          320.08,
          308.592,
          310.753,
          316.719,
          321.823,
          332.76,
          341.553,
          353.819,
          372.045,
          372.623,
          401.686,
          72.028,
          77.447,
          86.325,
          86.813,
          82.612,
          93.576,
          92.704,
          100.816,
          117.334,
          134.069,
          152.479,
          222.776,
          239.197,
          262.641,
          282.031,
          303.135,
          334.654,
          358.995,
          408.498,
          431.589,
          438.984,
          441.063,
          450.565,
          449.583,
          467.136,
          472.568,
          466.75,
          446.39,
          431.254,
          449.956,
          446.084,
          461.926,
          499.864,
          510.509,
          521.52,
          520.4,
          560.405,
          594.795,
          101.901,
          123.756,
          139.139,
          169.659,
          179.993,
          208.687,
          205.453,
          199.165,
          226.421,
          242.689,
          261.29,
          278.947,
          278.915,
          305.288,
          316.199,
          327.705,
          340.315,
          385.885,
          386.474,
          410.725,
          407.201,
          421.946,
          451.763,
          20.985,
          24.95,
          28.063,
          29.563,
          32.696,
          36.768,
          40.974,
          44.422,
          48.256,
          52.02,
          55.273,
          60.427,
          63.251,
          70.139,
          75.603,
          81.96,
          87.041,
          95.322,
          102.523,
          111.299,
          124.446,
          139.657,
          148.99,
          155.151,
          167.29,
          192.792,
          210.958,
          224.894,
          223.195,
          250.551,
          282.198,
          306.595,
          344.581,
          354.069,
          388.045,
          405.017,
          389.562,
          425.837,
          457.118,
          445,
          446.764,
          448.472,
          460.321,
          472.552,
          467.218,
          484.533,
          515.993,
          515.952,
          536.801,
          541.881,
          567.335,
          591.864,
          46.908,
          75.415,
          108.14,
          165.96,
          252.162,
          275.805,
          290.913,
          315.667,
          325.216,
          323.389,
          330.285,
          345.815,
          368.527,
          398.617,
          454.16,
          498.362,
          541.758,
          536.658,
          559.044,
          573.536,
          581.556,
          594.425,
          606.492,
          609.668,
          621.644,
          622.837,
          619.827,
          676.497,
          680.255,
          673.38,
          695.401,
          705.241,
          698.524,
          696.842,
          743.835,
          765.575,
          19.614,
          21.457,
          23.051,
          24.357,
          29.428,
          28.643,
          32.064,
          35.612,
          40.438,
          44.467,
          52.095,
          58.075,
          64.976,
          71.72,
          79.042,
          82.486,
          87.199,
          91.868,
          100.894,
          109.306,
          113.364,
          123.888,
          140.457,
          154.532,
          168.843,
          176.424,
          193.853,
          449.818,
          456.257,
          458.246,
          471.393,
          474.684,
          471.311,
          481.75,
          528.752,
          517.288,
          95.012,
          104.155,
          115.601,
          135.989,
          158.029,
          173.091,
          190.818,
          194.263,
          206.003,
          217.478,
          192.313,
          209.652,
          281.854,
          324.459,
          389.24,
          503.399,
          519.224,
          547.175,
          615.122,
          651.201,
          734.77,
          748.159,
          749.826,
          709.328,
          622.251,
          572.577,
          567.977,
          578.16,
          631.254,
          647.113,
          632.89,
          666.093,
          750.761,
          740.123,
          449.42,
          465.814,
          349.071,
          318.187,
          320.895,
          362.974,
          380.543,
          385.931,
          413.623,
          450.481,
          469.013,
          177.438,
          180.992,
          198.823,
          220.826,
          183.099,
          188.948,
          192.992,
          295.567,
          337.883,
          376.61,
          402.121,
          457.642,
          483.381,
          452.144,
          476.311,
          490.503,
          554.391,
          614.461,
          575.517,
          551.813,
          561.219,
          563.595,
          589.379,
          554.629,
          563.842,
          574.811,
          621.505,
          632.293,
          37.2,
          38.899,
          41.409,
          48.617,
          52.105,
          55.666,
          51.754,
          54.485,
          54.89,
          59.536,
          63.928,
          68.507,
          73.839,
          79.803,
          91.092,
          96.086,
          100.722,
          109.326,
          118.811,
          125.914,
          136.152,
          152.74,
          161.814,
          184.401,
          209.317,
          259.398,
          308.097,
          357.489,
          389.095,
          439.097,
          478.63,
          527.657,
          553.508,
          581.225,
          583.463,
          600.152,
          588.288,
          616.252,
          568.401,
          542.059,
          548.009,
          578.508,
          589.555,
          593.089,
          572.237,
          611.829,
          625.365,
          28.437,
          38.402,
          43.415,
          42.803,
          46.62,
          58.281,
          56.601,
          65.76,
          80.924,
          92.839,
          120.025,
          128.115,
          149.004,
          179.242,
          164.259,
          182.192,
          206.045,
          225.963,
          234.682,
          239.008,
          220.216,
          212.391,
          221.745,
          216.987,
          235.052,
          249.758,
          269.332,
          312.746,
          338.45,
          370.923,
          424.768,
          427.571,
          470.918,
          484.45,
          509.515,
          482.889,
          492.809,
          494.023,
          537.29,
          554.651,
          531.339,
          517.476,
          509.66,
          486.27,
          466.895,
          472.054,
          455.666,
          450.201,
          455.714,
          478.53,
          529.272,
          604.981,
          632.479,
          232.584,
          252.131,
          247.078,
          267.541,
          268.492,
          279.705,
          294.604,
          290.03,
          287.708,
          309.568,
          329.683,
          333.69,
          364.146,
          360.875,
          451.622,
          242.881,
          261.488,
          273.02,
          290.283,
          301.412,
          284.56,
          284.259,
          286.138,
          305.288,
          333.384,
          358.5,
          381.619,
          429.62,
          471.653,
          501.305,
          489.341,
          514.622,
          510.092,
          535.788,
          539.188,
          562.602,
          557.06,
          582.095,
          574.551,
          510.916,
          519.224,
          516.479,
          551.703,
          577.766,
          594.489,
          625.637,
          651.265,
          662.612,
          691.708,
          748.081,
          113.323,
          145.151,
          147.09,
          162.442,
          185.826,
          199.967,
          227.937,
          233.282,
          266.744,
          275.869,
          296.49,
          299.07,
          297.368,
          302.192,
          298.214,
          281.881,
          302.756,
          340.098,
          366.913,
          384.942,
          428.518,
          448.278,
          489.158,
          506.852,
          537.234,
          557.041,
          623.452,
          648.83,
          707.419,
          749.96,
          812.268,
          813.859,
          891.136,
          797.703,
          806.324,
          810.493,
          954.452,
          835.93,
          3.976,
          3.628,
          3.754,
          3.853,
          3.826,
          6.505,
          7.968,
          8.546,
          11.123,
          16.948,
          19.307,
          23.16,
          25.939,
          29.488,
          31.634,
          35.477,
          39.33,
          44.306,
          52.782,
          67.744,
          75.144,
          79.721,
          85.532,
          93.46,
          101.429,
          115.405,
          130.478,
          135.67,
          128.674,
          147.512,
          175.568,
          221.635,
          236.974,
          269.091,
          286.454,
          308.164,
          351.33,
          381.905,
          399.108,
          427.538,
          464.663,
          477.438,
          484.619,
          473.375,
          480.067,
          519.359,
          554.942,
          574.407,
          618.331,
          641.797,
          722.445,
          740.501,
          803.251,
          267.716,
          304.161,
          313.348,
          329.984,
          351.979,
          352.772,
          366.467,
          386.597,
          453.815,
          468.395,
          495.942,
          515.108,
          570.369,
          535.543,
          528.595,
          602.343,
          622.44,
          654.752,
          60.128,
          63.006,
          74.606,
          83.703,
          93.153,
          102.724,
          103.473,
          106.374,
          115.811,
          128.669,
          144.592,
          164.381,
          183.43,
          207.18,
          220.448,
          232.561,
          227.52,
          252.509,
          255.563,
          287.122,
          298.88,
          338.318,
          376.489,
          407.024,
          462.209,
          483.735,
          497.269,
          498.272,
          525.621,
          542.908,
          555.407,
          563.008,
          543.835,
          428.823,
          554.233,
          565.568,
          550.605,
          548.094,
          565.786,
          570.39,
          596.77,
          570.325,
          610.829,
          683.994,
          706.372,
          188.585,
          189.344,
          217.575,
          299.618,
          240.268,
          245.2,
          277.587,
          281.155,
          295.051,
          323.219,
          346.969,
          388.369,
          456.477,
          459.41,
          492.906,
          479.593,
          509.939,
          523.942,
          90.205,
          103.114,
          112.922,
          129.947,
          247.284,
          269.151,
          274.714,
          285.489,
          295.376,
          298.247,
          295.992,
          227.703,
          206.052,
          227.68,
          226.219,
          227.957,
          240.501,
          250.617,
          252.536,
          254.189,
          247.519,
          263.922,
          279.02,
          516.201,
          575.784,
          570.587,
          622.204,
          633.735,
          817.212,
          947.614,
          36.08,
          38.209,
          41.167,
          44.807,
          46.871,
          49.722,
          54.18,
          58.294,
          63.144,
          67.711,
          74.904,
          77.52,
          87.005,
          93.786,
          103.232,
          113.058,
          120.049,
          126.614,
          142.348,
          152.244,
          174.608,
          190.046,
          192.769,
          203.723,
          211.859,
          216.569,
          258.031,
          283.513,
          318.355,
          339.924,
          376.751,
          376.391,
          390.264,
          399.59,
          408.591,
          444.177,
          436.684,
          425.964,
          423.464,
          426.645,
          390.837,
          377.565,
          370.976,
          380.966,
          392.751,
          398.395,
          404.562,
          411.939,
          426.507,
          456.017,
          472.093,
          13.208,
          14.239,
          14.915,
          16.755,
          19.766,
          23.276,
          25.372,
          26.816,
          27.906,
          30.409,
          67.039,
          73.48,
          80.154,
          86.599,
          91.848,
          96.851,
          101.53,
          107.108,
          83.498,
          90.746,
          104.245,
          115.539,
          123.026,
          162.161,
          155.02,
          168.364,
          186.204,
          211.798,
          227.099,
          241.838,
          285.304,
          293.627,
          340.848,
          340.564,
          367.833,
          361.461,
          366.17,
          369.924,
          366.041,
          355.65,
          365.574,
          397.13,
          402.861,
          416.312,
          427.469,
          439.572,
          446.702,
          476.049,
          474.604,
          453.009,
          472.666,
          513.409,
          25.961,
          43.188,
          59.362,
          61.063,
          68.07,
          75.853,
          80.094,
          80.634,
          96.564,
          112.83,
          125.741,
          136.465,
          140.639,
          150.424,
          159.495,
          174.078,
          197.089,
          193.03,
          195.076,
          203.749,
          223.715,
          234.745,
          275.817,
          264.084,
          228.42,
          246.776,
          259.635,
          248.394,
          260.35,
          278.92,
          300.86,
          322.516,
          346.358,
          361.408,
          351.322,
          362.625,
          362.176,
          385.842,
          411.073,
          419.371,
          438.06,
          439.759,
          451.159,
          479.358,
          6.345,
          32.726,
          43.584,
          47.875,
          53.603,
          56.307,
          59.903,
          62.09,
          64.674,
          96.461,
          106.653,
          125.428,
          133.84,
          140.35,
          159.532,
          181.97,
          200.361,
          215.912,
          224.556,
          245.113,
          267.414,
          282.889,
          288.408,
          354.319,
          379.443,
          409.288,
          423.655,
          460.771,
          478.311,
          495.923,
          505.755,
          512.518,
          501.813,
          495.787,
          450.09,
          413.738,
          402.222,
          403.211,
          418.613,
          434.328,
          436.34,
          459.974,
          476.286,
          524.715,
          558.506,
          89.719,
          142.581,
          153.445,
          161.701,
          181.785,
          215.627,
          209.121,
          242.137,
          320.393,
          323.816,
          406.056,
          369.803,
          363.502,
          388.742,
          367.124,
          409.492,
          475.315,
          508.626,
          569.563,
          229.096,
          239.524,
          263.001,
          326.289,
          352.728,
          376.255,
          396.543,
          417.939,
          465.38,
          508.8,
          532.417,
          587.244,
          567.145,
          556.726,
          571.491,
          543.317,
          553.2,
          542.415,
          521.065,
          512.545,
          516.996,
          504.235,
          530.716,
          383.621,
          378.946,
          394.479,
          404.794,
          420.082,
          414.8,
          438.139,
          447.479,
          458.749,
          464.769,
          489.476,
          501.439,
          463.397,
          470.778,
          500.273,
          521.07,
          546.854,
          559.466,
          599.589,
          644.19,
          20.855,
          23.808,
          28.143,
          33.528,
          37.792,
          42.964,
          45.505,
          49.96,
          52.146,
          57.024,
          62.649,
          67.801,
          74.714,
          78.556,
          80.359,
          85.978,
          91.642,
          100.65,
          98.83,
          121.532,
          128.534,
          135.518,
          155.381,
          170.571,
          187.679,
          206.178,
          241.058,
          222.756,
          258.376,
          286.758,
          318.668,
          356.468,
          394.618,
          386.867,
          398.142,
          398.239,
          427.008,
          448.046,
          474.447,
          474.24,
          466.014,
          467.145,
          484.705,
          475.572,
          487.696,
          504.915,
          524.404,
          512.816,
          537.282,
          517.451,
          554.039,
          576.078,
          9.685,
          10.331,
          10.565,
          10.054,
          9.674,
          11.917,
          13.239,
          33.578,
          56.802,
          100.909,
          120.135,
          171.834,
          189.545,
          209.722,
          235.469,
          251.462,
          257.468,
          265.437,
          276.718,
          300.923,
          330.937,
          363.952,
          402.545,
          463.851,
          521.677,
          584.779,
          652.646,
          723.841,
          779.91,
          826.029,
          894.044,
          933.087,
          952.447,
          984.105,
          986.63,
          1004.205,
          1013.8,
          1020.541,
          1118.634,
          1189.437,
          1192.301,
          1200.769,
          1229.266,
          1277.032,
          1315.218,
          1432.309
         ],
         "y0": " ",
         "yaxis": "y"
        }
       ],
       "layout": {
        "boxmode": "group",
        "legend": {
         "tracegroupgap": 0
        },
        "template": {
         "data": {
          "bar": [
           {
            "error_x": {
             "color": "#2a3f5f"
            },
            "error_y": {
             "color": "#2a3f5f"
            },
            "marker": {
             "line": {
              "color": "#E5ECF6",
              "width": 0.5
             },
             "pattern": {
              "fillmode": "overlay",
              "size": 10,
              "solidity": 0.2
             }
            },
            "type": "bar"
           }
          ],
          "barpolar": [
           {
            "marker": {
             "line": {
              "color": "#E5ECF6",
              "width": 0.5
             },
             "pattern": {
              "fillmode": "overlay",
              "size": 10,
              "solidity": 0.2
             }
            },
            "type": "barpolar"
           }
          ],
          "carpet": [
           {
            "aaxis": {
             "endlinecolor": "#2a3f5f",
             "gridcolor": "white",
             "linecolor": "white",
             "minorgridcolor": "white",
             "startlinecolor": "#2a3f5f"
            },
            "baxis": {
             "endlinecolor": "#2a3f5f",
             "gridcolor": "white",
             "linecolor": "white",
             "minorgridcolor": "white",
             "startlinecolor": "#2a3f5f"
            },
            "type": "carpet"
           }
          ],
          "choropleth": [
           {
            "colorbar": {
             "outlinewidth": 0,
             "ticks": ""
            },
            "type": "choropleth"
           }
          ],
          "contour": [
           {
            "colorbar": {
             "outlinewidth": 0,
             "ticks": ""
            },
            "colorscale": [
             [
              0,
              "#0d0887"
             ],
             [
              0.1111111111111111,
              "#46039f"
             ],
             [
              0.2222222222222222,
              "#7201a8"
             ],
             [
              0.3333333333333333,
              "#9c179e"
             ],
             [
              0.4444444444444444,
              "#bd3786"
             ],
             [
              0.5555555555555556,
              "#d8576b"
             ],
             [
              0.6666666666666666,
              "#ed7953"
             ],
             [
              0.7777777777777778,
              "#fb9f3a"
             ],
             [
              0.8888888888888888,
              "#fdca26"
             ],
             [
              1,
              "#f0f921"
             ]
            ],
            "type": "contour"
           }
          ],
          "contourcarpet": [
           {
            "colorbar": {
             "outlinewidth": 0,
             "ticks": ""
            },
            "type": "contourcarpet"
           }
          ],
          "heatmap": [
           {
            "colorbar": {
             "outlinewidth": 0,
             "ticks": ""
            },
            "colorscale": [
             [
              0,
              "#0d0887"
             ],
             [
              0.1111111111111111,
              "#46039f"
             ],
             [
              0.2222222222222222,
              "#7201a8"
             ],
             [
              0.3333333333333333,
              "#9c179e"
             ],
             [
              0.4444444444444444,
              "#bd3786"
             ],
             [
              0.5555555555555556,
              "#d8576b"
             ],
             [
              0.6666666666666666,
              "#ed7953"
             ],
             [
              0.7777777777777778,
              "#fb9f3a"
             ],
             [
              0.8888888888888888,
              "#fdca26"
             ],
             [
              1,
              "#f0f921"
             ]
            ],
            "type": "heatmap"
           }
          ],
          "heatmapgl": [
           {
            "colorbar": {
             "outlinewidth": 0,
             "ticks": ""
            },
            "colorscale": [
             [
              0,
              "#0d0887"
             ],
             [
              0.1111111111111111,
              "#46039f"
             ],
             [
              0.2222222222222222,
              "#7201a8"
             ],
             [
              0.3333333333333333,
              "#9c179e"
             ],
             [
              0.4444444444444444,
              "#bd3786"
             ],
             [
              0.5555555555555556,
              "#d8576b"
             ],
             [
              0.6666666666666666,
              "#ed7953"
             ],
             [
              0.7777777777777778,
              "#fb9f3a"
             ],
             [
              0.8888888888888888,
              "#fdca26"
             ],
             [
              1,
              "#f0f921"
             ]
            ],
            "type": "heatmapgl"
           }
          ],
          "histogram": [
           {
            "marker": {
             "pattern": {
              "fillmode": "overlay",
              "size": 10,
              "solidity": 0.2
             }
            },
            "type": "histogram"
           }
          ],
          "histogram2d": [
           {
            "colorbar": {
             "outlinewidth": 0,
             "ticks": ""
            },
            "colorscale": [
             [
              0,
              "#0d0887"
             ],
             [
              0.1111111111111111,
              "#46039f"
             ],
             [
              0.2222222222222222,
              "#7201a8"
             ],
             [
              0.3333333333333333,
              "#9c179e"
             ],
             [
              0.4444444444444444,
              "#bd3786"
             ],
             [
              0.5555555555555556,
              "#d8576b"
             ],
             [
              0.6666666666666666,
              "#ed7953"
             ],
             [
              0.7777777777777778,
              "#fb9f3a"
             ],
             [
              0.8888888888888888,
              "#fdca26"
             ],
             [
              1,
              "#f0f921"
             ]
            ],
            "type": "histogram2d"
           }
          ],
          "histogram2dcontour": [
           {
            "colorbar": {
             "outlinewidth": 0,
             "ticks": ""
            },
            "colorscale": [
             [
              0,
              "#0d0887"
             ],
             [
              0.1111111111111111,
              "#46039f"
             ],
             [
              0.2222222222222222,
              "#7201a8"
             ],
             [
              0.3333333333333333,
              "#9c179e"
             ],
             [
              0.4444444444444444,
              "#bd3786"
             ],
             [
              0.5555555555555556,
              "#d8576b"
             ],
             [
              0.6666666666666666,
              "#ed7953"
             ],
             [
              0.7777777777777778,
              "#fb9f3a"
             ],
             [
              0.8888888888888888,
              "#fdca26"
             ],
             [
              1,
              "#f0f921"
             ]
            ],
            "type": "histogram2dcontour"
           }
          ],
          "mesh3d": [
           {
            "colorbar": {
             "outlinewidth": 0,
             "ticks": ""
            },
            "type": "mesh3d"
           }
          ],
          "parcoords": [
           {
            "line": {
             "colorbar": {
              "outlinewidth": 0,
              "ticks": ""
             }
            },
            "type": "parcoords"
           }
          ],
          "pie": [
           {
            "automargin": true,
            "type": "pie"
           }
          ],
          "scatter": [
           {
            "fillpattern": {
             "fillmode": "overlay",
             "size": 10,
             "solidity": 0.2
            },
            "type": "scatter"
           }
          ],
          "scatter3d": [
           {
            "line": {
             "colorbar": {
              "outlinewidth": 0,
              "ticks": ""
             }
            },
            "marker": {
             "colorbar": {
              "outlinewidth": 0,
              "ticks": ""
             }
            },
            "type": "scatter3d"
           }
          ],
          "scattercarpet": [
           {
            "marker": {
             "colorbar": {
              "outlinewidth": 0,
              "ticks": ""
             }
            },
            "type": "scattercarpet"
           }
          ],
          "scattergeo": [
           {
            "marker": {
             "colorbar": {
              "outlinewidth": 0,
              "ticks": ""
             }
            },
            "type": "scattergeo"
           }
          ],
          "scattergl": [
           {
            "marker": {
             "colorbar": {
              "outlinewidth": 0,
              "ticks": ""
             }
            },
            "type": "scattergl"
           }
          ],
          "scattermapbox": [
           {
            "marker": {
             "colorbar": {
              "outlinewidth": 0,
              "ticks": ""
             }
            },
            "type": "scattermapbox"
           }
          ],
          "scatterpolar": [
           {
            "marker": {
             "colorbar": {
              "outlinewidth": 0,
              "ticks": ""
             }
            },
            "type": "scatterpolar"
           }
          ],
          "scatterpolargl": [
           {
            "marker": {
             "colorbar": {
              "outlinewidth": 0,
              "ticks": ""
             }
            },
            "type": "scatterpolargl"
           }
          ],
          "scatterternary": [
           {
            "marker": {
             "colorbar": {
              "outlinewidth": 0,
              "ticks": ""
             }
            },
            "type": "scatterternary"
           }
          ],
          "surface": [
           {
            "colorbar": {
             "outlinewidth": 0,
             "ticks": ""
            },
            "colorscale": [
             [
              0,
              "#0d0887"
             ],
             [
              0.1111111111111111,
              "#46039f"
             ],
             [
              0.2222222222222222,
              "#7201a8"
             ],
             [
              0.3333333333333333,
              "#9c179e"
             ],
             [
              0.4444444444444444,
              "#bd3786"
             ],
             [
              0.5555555555555556,
              "#d8576b"
             ],
             [
              0.6666666666666666,
              "#ed7953"
             ],
             [
              0.7777777777777778,
              "#fb9f3a"
             ],
             [
              0.8888888888888888,
              "#fdca26"
             ],
             [
              1,
              "#f0f921"
             ]
            ],
            "type": "surface"
           }
          ],
          "table": [
           {
            "cells": {
             "fill": {
              "color": "#EBF0F8"
             },
             "line": {
              "color": "white"
             }
            },
            "header": {
             "fill": {
              "color": "#C8D4E3"
             },
             "line": {
              "color": "white"
             }
            },
            "type": "table"
           }
          ]
         },
         "layout": {
          "annotationdefaults": {
           "arrowcolor": "#2a3f5f",
           "arrowhead": 0,
           "arrowwidth": 1
          },
          "autotypenumbers": "strict",
          "coloraxis": {
           "colorbar": {
            "outlinewidth": 0,
            "ticks": ""
           }
          },
          "colorscale": {
           "diverging": [
            [
             0,
             "#8e0152"
            ],
            [
             0.1,
             "#c51b7d"
            ],
            [
             0.2,
             "#de77ae"
            ],
            [
             0.3,
             "#f1b6da"
            ],
            [
             0.4,
             "#fde0ef"
            ],
            [
             0.5,
             "#f7f7f7"
            ],
            [
             0.6,
             "#e6f5d0"
            ],
            [
             0.7,
             "#b8e186"
            ],
            [
             0.8,
             "#7fbc41"
            ],
            [
             0.9,
             "#4d9221"
            ],
            [
             1,
             "#276419"
            ]
           ],
           "sequential": [
            [
             0,
             "#0d0887"
            ],
            [
             0.1111111111111111,
             "#46039f"
            ],
            [
             0.2222222222222222,
             "#7201a8"
            ],
            [
             0.3333333333333333,
             "#9c179e"
            ],
            [
             0.4444444444444444,
             "#bd3786"
            ],
            [
             0.5555555555555556,
             "#d8576b"
            ],
            [
             0.6666666666666666,
             "#ed7953"
            ],
            [
             0.7777777777777778,
             "#fb9f3a"
            ],
            [
             0.8888888888888888,
             "#fdca26"
            ],
            [
             1,
             "#f0f921"
            ]
           ],
           "sequentialminus": [
            [
             0,
             "#0d0887"
            ],
            [
             0.1111111111111111,
             "#46039f"
            ],
            [
             0.2222222222222222,
             "#7201a8"
            ],
            [
             0.3333333333333333,
             "#9c179e"
            ],
            [
             0.4444444444444444,
             "#bd3786"
            ],
            [
             0.5555555555555556,
             "#d8576b"
            ],
            [
             0.6666666666666666,
             "#ed7953"
            ],
            [
             0.7777777777777778,
             "#fb9f3a"
            ],
            [
             0.8888888888888888,
             "#fdca26"
            ],
            [
             1,
             "#f0f921"
            ]
           ]
          },
          "colorway": [
           "#636efa",
           "#EF553B",
           "#00cc96",
           "#ab63fa",
           "#FFA15A",
           "#19d3f3",
           "#FF6692",
           "#B6E880",
           "#FF97FF",
           "#FECB52"
          ],
          "font": {
           "color": "#2a3f5f"
          },
          "geo": {
           "bgcolor": "white",
           "lakecolor": "white",
           "landcolor": "#E5ECF6",
           "showlakes": true,
           "showland": true,
           "subunitcolor": "white"
          },
          "hoverlabel": {
           "align": "left"
          },
          "hovermode": "closest",
          "mapbox": {
           "style": "light"
          },
          "paper_bgcolor": "white",
          "plot_bgcolor": "#E5ECF6",
          "polar": {
           "angularaxis": {
            "gridcolor": "white",
            "linecolor": "white",
            "ticks": ""
           },
           "bgcolor": "#E5ECF6",
           "radialaxis": {
            "gridcolor": "white",
            "linecolor": "white",
            "ticks": ""
           }
          },
          "scene": {
           "xaxis": {
            "backgroundcolor": "#E5ECF6",
            "gridcolor": "white",
            "gridwidth": 2,
            "linecolor": "white",
            "showbackground": true,
            "ticks": "",
            "zerolinecolor": "white"
           },
           "yaxis": {
            "backgroundcolor": "#E5ECF6",
            "gridcolor": "white",
            "gridwidth": 2,
            "linecolor": "white",
            "showbackground": true,
            "ticks": "",
            "zerolinecolor": "white"
           },
           "zaxis": {
            "backgroundcolor": "#E5ECF6",
            "gridcolor": "white",
            "gridwidth": 2,
            "linecolor": "white",
            "showbackground": true,
            "ticks": "",
            "zerolinecolor": "white"
           }
          },
          "shapedefaults": {
           "line": {
            "color": "#2a3f5f"
           }
          },
          "ternary": {
           "aaxis": {
            "gridcolor": "white",
            "linecolor": "white",
            "ticks": ""
           },
           "baxis": {
            "gridcolor": "white",
            "linecolor": "white",
            "ticks": ""
           },
           "bgcolor": "#E5ECF6",
           "caxis": {
            "gridcolor": "white",
            "linecolor": "white",
            "ticks": ""
           }
          },
          "title": {
           "x": 0.05
          },
          "xaxis": {
           "automargin": true,
           "gridcolor": "white",
           "linecolor": "white",
           "ticks": "",
           "title": {
            "standoff": 15
           },
           "zerolinecolor": "white",
           "zerolinewidth": 2
          },
          "yaxis": {
           "automargin": true,
           "gridcolor": "white",
           "linecolor": "white",
           "ticks": "",
           "title": {
            "standoff": 15
           },
           "zerolinecolor": "white",
           "zerolinewidth": 2
          }
         }
        },
        "title": {
         "text": "Boxplot of USD_CAP with Outliers"
        },
        "xaxis": {
         "anchor": "y",
         "domain": [
          0,
          1
         ]
        },
        "yaxis": {
         "anchor": "x",
         "domain": [
          0,
          1
         ],
         "title": {
          "text": "USD_CAP"
         }
        }
       }
      }
     },
     "metadata": {},
     "output_type": "display_data"
    },
    {
     "data": {
      "application/vnd.plotly.v1+json": {
       "config": {
        "plotlyServerURL": "https://plot.ly"
       },
       "data": [
        {
         "marker": {
          "color": "#4c8c4c",
          "opacity": 0.7
         },
         "mode": "markers",
         "name": "Data Points",
         "type": "scatter",
         "x": [
          0.726,
          0.685,
          0.681,
          0.754,
          0.682,
          0.63,
          0.612,
          0.591,
          0.523,
          0.539,
          0.547,
          0.564,
          0.58,
          0.569,
          0.579,
          0.599,
          0.582,
          0.595,
          0.623,
          0.677,
          0.74,
          0.779,
          0.82,
          0.86,
          0.883,
          0.925,
          0.951,
          1.018,
          1.074,
          1.192,
          1.233,
          1.211,
          1.242,
          1.266,
          1.213,
          1.219,
          1.224,
          1.271,
          1.327,
          1.316,
          1.307,
          1.328,
          1.255,
          1.229,
          1.267,
          1.303,
          1.243,
          1.2,
          1.231,
          1.278,
          0.782,
          0.778,
          0.799,
          0.838,
          0.85,
          0.851,
          0.874,
          1.007,
          1.084,
          1.168,
          1.172,
          1.196,
          1.236,
          1.299,
          1.292,
          1.274,
          1.265,
          1.286,
          1.306,
          1.265,
          1.249,
          1.232,
          1.23,
          1.223,
          1.259,
          1.274,
          1.239,
          1.255,
          1.237,
          1.241,
          1.381,
          1.383,
          1.084,
          1.115,
          1.132,
          1.206,
          1.19,
          1.214,
          1.087,
          1.139,
          1.141,
          1.112,
          1.074,
          1.058,
          1.051,
          1.09,
          1.023,
          1.079,
          1.108,
          1.142,
          1.18,
          1.153,
          1.109,
          1.163,
          1.244,
          1.354,
          1.32,
          1.358,
          1.338,
          1.343,
          1.594,
          1.596,
          1.564,
          1.5,
          1.518,
          1.425,
          1.463,
          1.412,
          1.41,
          1.341,
          1.326,
          1.297,
          1.325,
          1.3,
          1.243,
          1.22,
          1.221,
          1.251,
          1.191,
          2.664,
          2.454,
          2.362,
          2.402,
          2.173,
          2.219,
          2.846,
          2.494,
          2.68,
          2.657,
          2.739,
          2.77,
          2.595,
          2.436,
          2.766,
          2.618,
          1.626,
          1.674,
          1.702,
          1.723,
          1.751,
          0.749,
          0.751,
          0.706,
          0.671,
          0.606,
          0.605,
          0.582,
          0.577,
          0.573,
          0.577,
          0.584,
          0.633,
          0.68,
          0.701,
          0.717,
          0.76,
          0.839,
          0.856,
          0.881,
          0.929,
          0.996,
          1.098,
          1.186,
          1.229,
          1.203,
          1.225,
          1.215,
          1.269,
          1.342,
          1.349,
          1.369,
          1.459,
          1.544,
          1.608,
          1.631,
          1.632,
          1.675,
          1.674,
          1.683,
          1.88,
          1.946,
          1.858,
          1.835,
          1.774,
          1.706,
          1.796,
          1.834,
          1.791,
          1.737,
          1.744,
          1.856,
          1.7,
          1.614,
          1.045,
          1.037,
          1.053,
          1.062,
          1.066,
          1.097,
          1.136,
          1.165,
          1.148,
          1.182,
          1.273,
          1.25,
          1.307,
          1.2,
          1.148,
          1.094,
          1.125,
          1.159,
          1.17,
          1.196,
          1.212,
          1.118,
          1.037,
          1.13,
          1.104,
          0.996,
          0.54,
          0.685,
          0.655,
          0.644,
          0.645,
          1.259,
          1.197,
          1.187,
          1.151,
          1.121,
          1.118,
          1.153,
          1.045,
          1.026,
          1.052,
          1.138,
          1.162,
          1.25,
          1.239,
          1.207,
          1.238,
          1.095,
          1.187,
          1.413,
          0.899,
          0.827,
          0.98,
          1.189,
          1.548,
          1.612,
          1.545,
          1.525,
          1.403,
          1.393,
          1.406,
          1.465,
          1.549,
          1.644,
          1.63,
          1.63,
          1.447,
          1.33,
          1.323,
          1.605,
          1.481,
          1.479,
          1.514,
          1.432,
          1.379,
          1.326,
          1.322,
          1.267,
          1.219,
          1.2,
          1.404,
          1.267,
          0.971,
          1.004,
          1.032,
          1.044,
          1.094,
          1.149,
          1.144,
          1.104,
          1.123,
          1.096,
          1.125,
          1.174,
          1.151,
          1.168,
          1.19,
          1.213,
          1.203,
          1.237,
          1.267,
          1.195,
          1.181,
          1.382,
          1.237,
          1.236,
          1.256,
          1.322,
          1.306,
          1.357,
          1.372,
          1.392,
          1.457,
          1.518,
          1.542,
          1.422,
          1.558,
          1.524,
          1.539,
          1.572,
          1.71,
          1.664,
          1.54,
          1.534,
          1.54,
          1.583,
          1.608,
          1.624,
          1.612,
          1.628,
          1.607,
          1.732,
          1.793,
          0.53,
          0.527,
          0.534,
          0.539,
          0.528,
          0.546,
          0.563,
          0.555,
          0.6,
          0.566,
          0.613,
          0.647,
          0.646,
          0.72,
          0.731,
          0.725,
          0.718,
          0.72,
          0.783,
          0.755,
          0.735,
          0.759,
          0.819,
          0.823,
          0.804,
          0.78,
          0.799,
          0.829,
          0.792,
          0.813,
          0.836,
          0.798,
          0.76,
          0.704,
          0.697,
          0.693,
          0.673,
          0.657,
          0.65,
          0.67,
          0.69,
          0.633,
          0.607,
          1.08,
          1.093,
          1.15,
          1.101,
          0.99,
          1.058,
          0.981,
          0.978,
          1.036,
          1.081,
          1.129,
          1.39,
          1.43,
          1.479,
          1.493,
          1.528,
          1.493,
          1.486,
          1.54,
          1.62,
          1.584,
          1.541,
          1.473,
          1.433,
          1.465,
          1.569,
          1.555,
          1.497,
          1.447,
          1.475,
          1.418,
          1.395,
          1.42,
          1.376,
          1.369,
          1.349,
          1.621,
          1.563,
          1.133,
          1.177,
          1.22,
          1.277,
          1.249,
          1.312,
          1.168,
          1.002,
          0.991,
          1.074,
          1.309,
          1.294,
          1.156,
          1.175,
          1.163,
          1.145,
          1.165,
          1.234,
          1.158,
          1.163,
          1.132,
          1.171,
          1.101,
          0.69,
          0.763,
          0.775,
          0.719,
          0.691,
          0.728,
          0.764,
          0.786,
          0.778,
          0.718,
          0.664,
          0.658,
          0.637,
          0.662,
          0.662,
          0.677,
          0.681,
          0.694,
          0.668,
          0.662,
          0.715,
          0.86,
          0.951,
          0.991,
          1,
          1.053,
          1.112,
          1.087,
          0.999,
          1.058,
          1.066,
          1.121,
          1.194,
          1.234,
          1.262,
          1.304,
          1.172,
          1.146,
          1.176,
          1.242,
          1.192,
          1.15,
          1.165,
          1.178,
          1.155,
          1.171,
          1.179,
          1.117,
          1.121,
          1.134,
          1.184,
          1.155,
          1.27,
          1.277,
          1.108,
          1.272,
          1.382,
          1.455,
          1.488,
          1.594,
          1.582,
          1.521,
          1.505,
          1.509,
          1.533,
          1.584,
          1.62,
          1.682,
          1.723,
          1.77,
          1.792,
          1.795,
          1.753,
          1.709,
          1.708,
          1.773,
          1.725,
          1.674,
          1.629,
          1.698,
          1.696,
          1.651,
          1.621,
          1.6,
          1.536,
          1.497,
          1.655,
          1.543,
          0.628,
          0.642,
          0.638,
          0.603,
          0.695,
          0.627,
          0.649,
          0.662,
          0.665,
          0.646,
          0.685,
          0.707,
          0.742,
          0.76,
          0.794,
          0.771,
          0.772,
          0.749,
          0.746,
          0.744,
          0.737,
          0.806,
          0.896,
          0.932,
          0.969,
          0.896,
          0.916,
          1.214,
          1.201,
          1.183,
          1.164,
          1.128,
          1.095,
          1.093,
          1.286,
          1.17,
          0.844,
          0.851,
          0.907,
          1.012,
          1.154,
          1.257,
          1.335,
          1.3,
          1.315,
          1.298,
          1.097,
          1.171,
          1.439,
          1.524,
          1.643,
          2.076,
          2,
          2.136,
          2.206,
          2.255,
          2.433,
          2.573,
          2.761,
          2.848,
          2.588,
          2.314,
          2.229,
          2.239,
          2.362,
          2.339,
          2.22,
          2.324,
          2.87,
          2.481,
          2.23,
          2.255,
          1.629,
          1.459,
          1.41,
          1.457,
          1.437,
          1.384,
          1.377,
          1.613,
          1.458,
          1.912,
          1.975,
          2.121,
          2.241,
          1.796,
          1.812,
          1.742,
          2.026,
          2.061,
          2.241,
          2.258,
          2.497,
          2.488,
          2.278,
          2.262,
          2.373,
          2.478,
          2.619,
          2.414,
          2.192,
          2.122,
          2.043,
          2.06,
          1.871,
          1.761,
          1.723,
          1.87,
          1.697,
          0.974,
          0.958,
          0.904,
          0.918,
          0.897,
          0.879,
          0.747,
          0.734,
          0.706,
          0.717,
          0.721,
          0.745,
          0.745,
          0.738,
          0.749,
          0.717,
          0.728,
          0.752,
          0.763,
          0.759,
          0.735,
          0.764,
          0.734,
          0.744,
          0.78,
          0.836,
          0.923,
          0.986,
          1.057,
          1.13,
          1.182,
          1.238,
          1.277,
          1.456,
          1.593,
          1.559,
          1.49,
          1.502,
          1.362,
          1.232,
          0.933,
          0.949,
          0.897,
          0.836,
          0.772,
          0.809,
          0.717,
          0.798,
          0.882,
          0.891,
          0.759,
          0.72,
          0.916,
          0.786,
          0.763,
          0.818,
          0.862,
          0.981,
          0.939,
          1.017,
          1.261,
          1.114,
          1.177,
          1.191,
          1.135,
          1.171,
          1.196,
          1.041,
          0.974,
          1.042,
          1.011,
          1.038,
          1.084,
          1.13,
          1.203,
          1.227,
          1.274,
          1.422,
          1.36,
          1.449,
          1.517,
          1.457,
          1.317,
          1.242,
          1.159,
          1.241,
          1.398,
          1.361,
          1.281,
          1.227,
          1.136,
          1.067,
          1.02,
          0.938,
          0.905,
          0.901,
          0.951,
          1.099,
          1.153,
          1.02,
          0.895,
          0.911,
          0.917,
          0.969,
          0.938,
          0.919,
          0.924,
          0.902,
          0.906,
          0.941,
          0.927,
          0.912,
          0.957,
          0.955,
          1.211,
          1.534,
          1.545,
          1.498,
          1.512,
          1.524,
          1.438,
          1.39,
          1.338,
          1.387,
          1.455,
          1.496,
          1.549,
          1.601,
          1.696,
          1.72,
          1.674,
          1.714,
          1.699,
          1.698,
          1.627,
          1.637,
          1.698,
          1.672,
          1.627,
          1.461,
          1.497,
          1.508,
          1.582,
          1.54,
          1.528,
          1.554,
          1.581,
          1.699,
          1.606,
          1.57,
          1.295,
          1.214,
          1.142,
          1.188,
          1.271,
          1.238,
          1.293,
          1.213,
          1.297,
          1.302,
          1.383,
          1.361,
          1.299,
          1.265,
          1.226,
          1.168,
          1.246,
          1.295,
          1.365,
          1.37,
          1.462,
          1.466,
          1.516,
          1.521,
          1.554,
          1.61,
          1.88,
          1.855,
          1.983,
          2.016,
          2.013,
          2.017,
          2.121,
          1.979,
          1.947,
          1.911,
          2.271,
          1.991,
          0.539,
          0.448,
          0.418,
          0.357,
          0.308,
          0.475,
          0.489,
          0.451,
          0.501,
          0.659,
          0.724,
          0.768,
          0.76,
          0.736,
          0.692,
          0.704,
          0.676,
          0.658,
          0.675,
          0.789,
          0.766,
          0.731,
          0.733,
          0.74,
          0.736,
          0.756,
          0.805,
          0.799,
          0.809,
          0.856,
          0.944,
          1.139,
          1.114,
          1.223,
          1.217,
          1.254,
          1.36,
          1.361,
          1.385,
          1.468,
          1.464,
          1.459,
          1.435,
          1.389,
          1.393,
          1.388,
          1.441,
          1.452,
          1.51,
          1.594,
          1.68,
          1.65,
          1.709,
          1.869,
          1.94,
          1.811,
          1.641,
          1.645,
          1.964,
          1.821,
          1.689,
          1.816,
          1.726,
          1.724,
          1.744,
          1.805,
          1.552,
          1.44,
          1.57,
          1.618,
          1.535,
          0.71,
          0.719,
          0.754,
          0.751,
          0.749,
          0.774,
          0.729,
          0.707,
          0.713,
          0.755,
          0.762,
          0.819,
          0.813,
          0.802,
          0.793,
          0.764,
          0.646,
          0.664,
          0.642,
          0.67,
          0.67,
          0.672,
          0.654,
          0.699,
          0.735,
          0.763,
          0.758,
          0.727,
          0.677,
          0.657,
          0.637,
          0.685,
          0.644,
          0.528,
          0.663,
          0.639,
          0.612,
          0.594,
          0.588,
          0.587,
          0.595,
          0.58,
          0.62,
          0.618,
          0.599,
          1.469,
          1.315,
          1.322,
          1.522,
          1.2,
          1.485,
          1.573,
          1.494,
          1.381,
          1.422,
          1.473,
          1.563,
          1.735,
          1.635,
          1.639,
          1.566,
          1.657,
          1.518,
          0.832,
          0.887,
          0.959,
          1.098,
          2.087,
          2.087,
          2.078,
          1.964,
          1.956,
          1.889,
          1.989,
          1.462,
          1.247,
          1.325,
          1.311,
          1.279,
          1.295,
          1.262,
          1.253,
          1.219,
          1.207,
          1.339,
          1.343,
          1.574,
          1.593,
          1.482,
          1.487,
          1.439,
          1.8,
          2.36,
          0.653,
          0.629,
          0.601,
          0.609,
          0.581,
          0.568,
          0.564,
          0.559,
          0.548,
          0.553,
          0.591,
          0.584,
          0.606,
          0.628,
          0.661,
          0.701,
          0.698,
          0.682,
          0.711,
          0.727,
          0.811,
          0.861,
          0.839,
          0.847,
          0.839,
          0.808,
          0.907,
          0.935,
          0.927,
          0.95,
          0.988,
          1.03,
          1.017,
          1.014,
          0.969,
          0.986,
          0.925,
          0.96,
          0.961,
          0.956,
          0.861,
          0.812,
          0.794,
          0.798,
          0.793,
          0.767,
          0.739,
          0.74,
          0.772,
          0.764,
          0.716,
          0.342,
          0.338,
          0.332,
          0.338,
          0.346,
          0.369,
          0.366,
          0.353,
          0.338,
          0.322,
          0.596,
          0.59,
          0.614,
          0.621,
          0.599,
          0.584,
          0.622,
          0.635,
          0.485,
          0.498,
          0.542,
          0.573,
          0.593,
          0.745,
          0.677,
          0.692,
          0.694,
          0.746,
          0.808,
          0.809,
          0.787,
          0.8,
          0.903,
          0.908,
          0.885,
          0.802,
          0.728,
          0.688,
          0.629,
          0.687,
          0.678,
          0.699,
          0.674,
          0.673,
          0.695,
          0.773,
          0.797,
          0.781,
          0.728,
          0.73,
          0.808,
          0.723,
          0.572,
          0.644,
          0.684,
          0.62,
          0.658,
          0.671,
          0.66,
          0.65,
          0.73,
          0.819,
          0.865,
          0.895,
          0.916,
          0.999,
          1.028,
          1.03,
          1.099,
          1.027,
          1.002,
          1.019,
          0.851,
          0.885,
          0.977,
          0.866,
          1.79,
          1.88,
          1.819,
          1.728,
          1.672,
          1.559,
          1.569,
          1.619,
          1.574,
          1.518,
          1.394,
          1.406,
          1.357,
          1.359,
          1.379,
          1.338,
          1.313,
          1.273,
          1.282,
          1.224,
          0.322,
          0.846,
          1.021,
          1.026,
          1.005,
          0.978,
          0.965,
          0.969,
          1.019,
          1.393,
          1.365,
          1.462,
          1.397,
          1.344,
          1.396,
          1.497,
          1.568,
          1.691,
          1.673,
          1.748,
          1.835,
          1.833,
          1.783,
          1.855,
          1.915,
          1.955,
          2.011,
          2.106,
          2.114,
          2.07,
          2.034,
          2.006,
          2.023,
          1.928,
          1.782,
          1.65,
          1.511,
          1.485,
          1.48,
          1.449,
          1.397,
          1.381,
          1.406,
          1.65,
          1.624,
          1.101,
          1.48,
          1.564,
          1.419,
          1.334,
          1.298,
          1.311,
          1.395,
          1.721,
          1.641,
          2.05,
          1.775,
          1.652,
          1.579,
          1.347,
          1.362,
          1.473,
          1.544,
          1.548,
          1.926,
          1.839,
          1.848,
          2.07,
          2.192,
          2.212,
          2.193,
          2.132,
          2.108,
          2.098,
          2.339,
          2.238,
          2.096,
          2,
          1.989,
          1.861,
          1.817,
          1.854,
          1.783,
          1.701,
          1.691,
          1.691,
          1.631,
          1.772,
          1.718,
          1.686,
          1.704,
          1.654,
          1.508,
          1.498,
          1.687,
          1.694,
          1.669,
          1.755,
          1.756,
          1.576,
          1.555,
          1.549,
          1.506,
          1.486,
          1.476,
          1.628,
          1.572,
          0.416,
          0.455,
          0.506,
          0.554,
          0.555,
          0.552,
          0.547,
          0.576,
          0.565,
          0.548,
          0.539,
          0.549,
          0.578,
          0.579,
          0.547,
          0.556,
          0.557,
          0.578,
          0.532,
          0.608,
          0.617,
          0.654,
          0.75,
          0.858,
          0.9,
          0.931,
          1.055,
          0.94,
          1.042,
          1.072,
          1.063,
          1.174,
          1.228,
          1.202,
          1.167,
          1.155,
          1.142,
          1.111,
          1.14,
          1.205,
          1.13,
          1.091,
          1.112,
          1.096,
          1.097,
          1.09,
          1.11,
          1.06,
          1.085,
          1.04,
          1.095,
          1.04,
          0.276,
          0.277,
          0.261,
          0.231,
          0.207,
          0.227,
          0.253,
          0.539,
          0.829,
          1.218,
          1.279,
          0.857,
          0.885,
          0.918,
          0.986,
          1.033,
          1.013,
          1.006,
          0.999,
          1.049,
          1.104,
          1.157,
          1.225,
          1.344,
          1.436,
          1.575,
          1.718,
          1.833,
          1.869,
          1.872,
          1.931,
          1.942,
          1.961,
          2.085,
          2.028,
          2.006,
          1.958,
          1.915,
          2.029,
          2.095,
          2.06,
          2.004,
          1.957,
          1.961,
          2.07,
          2.039
         ],
         "y": [
          33.99,
          34.184,
          37.956,
          45.338,
          44.363,
          44.34,
          45.407,
          48.127,
          47.307,
          54.875,
          62.73,
          65.245,
          72.629,
          76.085,
          81.784,
          86.545,
          90.907,
          100.971,
          111.925,
          122.156,
          134.997,
          148.927,
          164.472,
          181.941,
          196.205,
          215.33,
          232.169,
          259.041,
          287.245,
          338.103,
          367.853,
          381.433,
          406.438,
          441.202,
          437.125,
          457.715,
          486.408,
          516.333,
          530.969,
          561.659,
          583.222,
          589.993,
          586.402,
          569.455,
          594.233,
          650.539,
          622.908,
          619.256,
          617.729,
          680.868,
          150.163,
          158.596,
          168.787,
          180.292,
          190.767,
          199.061,
          212.567,
          253.988,
          287.561,
          322.489,
          357.062,
          368.742,
          407.91,
          435.142,
          453.933,
          460.159,
          482.397,
          511.897,
          538.527,
          505.931,
          520.448,
          534.067,
          553.478,
          566.622,
          589.981,
          607.648,
          621.653,
          642.378,
          659.52,
          665.852,
          711.325,
          764.767,
          42.05,
          46.626,
          51.474,
          61.827,
          68.928,
          73.393,
          72.63,
          81.649,
          89.427,
          97.873,
          102.927,
          107.311,
          114.228,
          122.594,
          121.765,
          135.801,
          148.417,
          161.07,
          183.216,
          195.372,
          202.058,
          221.636,
          248.41,
          276.285,
          283.138,
          301.872,
          302.676,
          317.541,
          504.999,
          528.023,
          526.39,
          524.904,
          549.591,
          526.611,
          526.238,
          540.994,
          551.654,
          541.621,
          556.791,
          561.59,
          591.141,
          603.742,
          592.17,
          601.265,
          613.639,
          615.681,
          649.344,
          231.652,
          233.474,
          243.791,
          267.287,
          275.732,
          308.211,
          474.182,
          432.714,
          491.214,
          516.436,
          587.206,
          625.801,
          625.647,
          616.927,
          692.585,
          758.71,
          248.338,
          244.67,
          250.063,
          261.617,
          272.831,
          32.684,
          36.13,
          37.076,
          40.128,
          42.13,
          45.427,
          48.668,
          51.69,
          55.495,
          62.866,
          70.739,
          84.104,
          90.358,
          97.554,
          107.828,
          122.028,
          137.551,
          150.106,
          166.34,
          184.661,
          202.518,
          219.057,
          241.917,
          258.297,
          267.114,
          285.008,
          291.519,
          319.143,
          345.516,
          369.052,
          406.817,
          444.045,
          480.949,
          520.034,
          561.774,
          594.446,
          625.283,
          657.556,
          674.417,
          692.029,
          755.74,
          755.06,
          756.825,
          754.272,
          754.336,
          774.778,
          838.504,
          849.457,
          850.075,
          827.573,
          836.93,
          865.337,
          914.325,
          530.899,
          539.795,
          566.963,
          595.626,
          611.906,
          636.994,
          676.592,
          687.401,
          703.786,
          716.538,
          761.87,
          803.203,
          320.69,
          298.149,
          328.995,
          144.302,
          154.548,
          159.429,
          171.109,
          177.532,
          175.759,
          175.023,
          167.223,
          193.603,
          201.037,
          192.399,
          110.724,
          143.799,
          141.242,
          133.065,
          142.363,
          312.892,
          316.318,
          325.949,
          333.753,
          360.638,
          379.08,
          369.053,
          333.517,
          322.562,
          320.284,
          331.247,
          340.102,
          383.794,
          426.097,
          440.257,
          474.21,
          431.324,
          440.737,
          578.65,
          118.867,
          94.247,
          114.227,
          147.174,
          204.86,
          228.554,
          237.604,
          236.938,
          222.991,
          229.864,
          253.005,
          289.845,
          317.795,
          351.182,
          375.84,
          391.508,
          366.301,
          368.845,
          381.104,
          453.587,
          431.282,
          435.792,
          453.465,
          454.121,
          465.57,
          468.988,
          496.858,
          509.941,
          510.498,
          516.51,
          579.669,
          574.76,
          42.897,
          48.392,
          53.476,
          58.791,
          67.371,
          76.314,
          84.135,
          89.661,
          101.799,
          111.144,
          126.192,
          141.852,
          146.128,
          156.959,
          170.747,
          185.72,
          199.065,
          215.973,
          236.538,
          236.529,
          253.628,
          310.196,
          280.891,
          292.926,
          309.583,
          333.769,
          335.385,
          357.933,
          377.398,
          407.469,
          441.874,
          483.022,
          493.455,
          475.303,
          518.404,
          533.928,
          574.357,
          606.585,
          632.661,
          663.249,
          652.43,
          670.593,
          693.51,
          739.786,
          761.448,
          819.478,
          850.084,
          891.861,
          880.199,
          947.679,
          1042.46,
          50.227,
          53.591,
          59.177,
          64.287,
          67.987,
          75.963,
          84.952,
          86.179,
          96.266,
          95.463,
          109.862,
          120.869,
          126.264,
          143.142,
          154.562,
          160.002,
          166.166,
          175.836,
          198.446,
          197.474,
          212.719,
          222.095,
          255.15,
          251.656,
          260.561,
          258.681,
          286.756,
          316.624,
          314.596,
          305.733,
          336.878,
          327.597,
          320.08,
          308.592,
          310.753,
          316.719,
          321.823,
          332.76,
          341.553,
          353.819,
          372.045,
          372.623,
          401.686,
          72.028,
          77.447,
          86.325,
          86.813,
          82.612,
          93.576,
          92.704,
          100.816,
          117.334,
          134.069,
          152.479,
          222.776,
          239.197,
          262.641,
          282.031,
          303.135,
          334.654,
          358.995,
          408.498,
          431.589,
          438.984,
          441.063,
          450.565,
          449.583,
          467.136,
          472.568,
          466.75,
          446.39,
          431.254,
          449.956,
          446.084,
          461.926,
          499.864,
          510.509,
          521.52,
          520.4,
          560.405,
          594.795,
          101.901,
          123.756,
          139.139,
          169.659,
          179.993,
          208.687,
          205.453,
          199.165,
          226.421,
          242.689,
          261.29,
          278.947,
          278.915,
          305.288,
          316.199,
          327.705,
          340.315,
          385.885,
          386.474,
          410.725,
          407.201,
          421.946,
          451.763,
          20.985,
          24.95,
          28.063,
          29.563,
          32.696,
          36.768,
          40.974,
          44.422,
          48.256,
          52.02,
          55.273,
          60.427,
          63.251,
          70.139,
          75.603,
          81.96,
          87.041,
          95.322,
          102.523,
          111.299,
          124.446,
          139.657,
          148.99,
          155.151,
          167.29,
          192.792,
          210.958,
          224.894,
          223.195,
          250.551,
          282.198,
          306.595,
          344.581,
          354.069,
          388.045,
          405.017,
          389.562,
          425.837,
          457.118,
          445,
          446.764,
          448.472,
          460.321,
          472.552,
          467.218,
          484.533,
          515.993,
          515.952,
          536.801,
          541.881,
          567.335,
          591.864,
          46.908,
          75.415,
          108.14,
          165.96,
          252.162,
          275.805,
          290.913,
          315.667,
          325.216,
          323.389,
          330.285,
          345.815,
          368.527,
          398.617,
          454.16,
          498.362,
          541.758,
          536.658,
          559.044,
          573.536,
          581.556,
          594.425,
          606.492,
          609.668,
          621.644,
          622.837,
          619.827,
          676.497,
          680.255,
          673.38,
          695.401,
          705.241,
          698.524,
          696.842,
          743.835,
          765.575,
          19.614,
          21.457,
          23.051,
          24.357,
          29.428,
          28.643,
          32.064,
          35.612,
          40.438,
          44.467,
          52.095,
          58.075,
          64.976,
          71.72,
          79.042,
          82.486,
          87.199,
          91.868,
          100.894,
          109.306,
          113.364,
          123.888,
          140.457,
          154.532,
          168.843,
          176.424,
          193.853,
          449.818,
          456.257,
          458.246,
          471.393,
          474.684,
          471.311,
          481.75,
          528.752,
          517.288,
          95.012,
          104.155,
          115.601,
          135.989,
          158.029,
          173.091,
          190.818,
          194.263,
          206.003,
          217.478,
          192.313,
          209.652,
          281.854,
          324.459,
          389.24,
          503.399,
          519.224,
          547.175,
          615.122,
          651.201,
          734.77,
          748.159,
          749.826,
          709.328,
          622.251,
          572.577,
          567.977,
          578.16,
          631.254,
          647.113,
          632.89,
          666.093,
          750.761,
          740.123,
          449.42,
          465.814,
          349.071,
          318.187,
          320.895,
          362.974,
          380.543,
          385.931,
          413.623,
          450.481,
          469.013,
          177.438,
          180.992,
          198.823,
          220.826,
          183.099,
          188.948,
          192.992,
          295.567,
          337.883,
          376.61,
          402.121,
          457.642,
          483.381,
          452.144,
          476.311,
          490.503,
          554.391,
          614.461,
          575.517,
          551.813,
          561.219,
          563.595,
          589.379,
          554.629,
          563.842,
          574.811,
          621.505,
          632.293,
          37.2,
          38.899,
          41.409,
          48.617,
          52.105,
          55.666,
          51.754,
          54.485,
          54.89,
          59.536,
          63.928,
          68.507,
          73.839,
          79.803,
          91.092,
          96.086,
          100.722,
          109.326,
          118.811,
          125.914,
          136.152,
          152.74,
          161.814,
          184.401,
          209.317,
          259.398,
          308.097,
          357.489,
          389.095,
          439.097,
          478.63,
          527.657,
          553.508,
          581.225,
          583.463,
          600.152,
          588.288,
          616.252,
          568.401,
          542.059,
          548.009,
          578.508,
          589.555,
          593.089,
          572.237,
          611.829,
          625.365,
          28.437,
          38.402,
          43.415,
          42.803,
          46.62,
          58.281,
          56.601,
          65.76,
          80.924,
          92.839,
          120.025,
          128.115,
          149.004,
          179.242,
          164.259,
          182.192,
          206.045,
          225.963,
          234.682,
          239.008,
          220.216,
          212.391,
          221.745,
          216.987,
          235.052,
          249.758,
          269.332,
          312.746,
          338.45,
          370.923,
          424.768,
          427.571,
          470.918,
          484.45,
          509.515,
          482.889,
          492.809,
          494.023,
          537.29,
          554.651,
          531.339,
          517.476,
          509.66,
          486.27,
          466.895,
          472.054,
          455.666,
          450.201,
          455.714,
          478.53,
          529.272,
          604.981,
          632.479,
          232.584,
          252.131,
          247.078,
          267.541,
          268.492,
          279.705,
          294.604,
          290.03,
          287.708,
          309.568,
          329.683,
          333.69,
          364.146,
          360.875,
          451.622,
          242.881,
          261.488,
          273.02,
          290.283,
          301.412,
          284.56,
          284.259,
          286.138,
          305.288,
          333.384,
          358.5,
          381.619,
          429.62,
          471.653,
          501.305,
          489.341,
          514.622,
          510.092,
          535.788,
          539.188,
          562.602,
          557.06,
          582.095,
          574.551,
          510.916,
          519.224,
          516.479,
          551.703,
          577.766,
          594.489,
          625.637,
          651.265,
          662.612,
          691.708,
          748.081,
          113.323,
          145.151,
          147.09,
          162.442,
          185.826,
          199.967,
          227.937,
          233.282,
          266.744,
          275.869,
          296.49,
          299.07,
          297.368,
          302.192,
          298.214,
          281.881,
          302.756,
          340.098,
          366.913,
          384.942,
          428.518,
          448.278,
          489.158,
          506.852,
          537.234,
          557.041,
          623.452,
          648.83,
          707.419,
          749.96,
          812.268,
          813.859,
          891.136,
          797.703,
          806.324,
          810.493,
          954.452,
          835.93,
          3.976,
          3.628,
          3.754,
          3.853,
          3.826,
          6.505,
          7.968,
          8.546,
          11.123,
          16.948,
          19.307,
          23.16,
          25.939,
          29.488,
          31.634,
          35.477,
          39.33,
          44.306,
          52.782,
          67.744,
          75.144,
          79.721,
          85.532,
          93.46,
          101.429,
          115.405,
          130.478,
          135.67,
          128.674,
          147.512,
          175.568,
          221.635,
          236.974,
          269.091,
          286.454,
          308.164,
          351.33,
          381.905,
          399.108,
          427.538,
          464.663,
          477.438,
          484.619,
          473.375,
          480.067,
          519.359,
          554.942,
          574.407,
          618.331,
          641.797,
          722.445,
          740.501,
          803.251,
          267.716,
          304.161,
          313.348,
          329.984,
          351.979,
          352.772,
          366.467,
          386.597,
          453.815,
          468.395,
          495.942,
          515.108,
          570.369,
          535.543,
          528.595,
          602.343,
          622.44,
          654.752,
          60.128,
          63.006,
          74.606,
          83.703,
          93.153,
          102.724,
          103.473,
          106.374,
          115.811,
          128.669,
          144.592,
          164.381,
          183.43,
          207.18,
          220.448,
          232.561,
          227.52,
          252.509,
          255.563,
          287.122,
          298.88,
          338.318,
          376.489,
          407.024,
          462.209,
          483.735,
          497.269,
          498.272,
          525.621,
          542.908,
          555.407,
          563.008,
          543.835,
          428.823,
          554.233,
          565.568,
          550.605,
          548.094,
          565.786,
          570.39,
          596.77,
          570.325,
          610.829,
          683.994,
          706.372,
          188.585,
          189.344,
          217.575,
          299.618,
          240.268,
          245.2,
          277.587,
          281.155,
          295.051,
          323.219,
          346.969,
          388.369,
          456.477,
          459.41,
          492.906,
          479.593,
          509.939,
          523.942,
          90.205,
          103.114,
          112.922,
          129.947,
          247.284,
          269.151,
          274.714,
          285.489,
          295.376,
          298.247,
          295.992,
          227.703,
          206.052,
          227.68,
          226.219,
          227.957,
          240.501,
          250.617,
          252.536,
          254.189,
          247.519,
          263.922,
          279.02,
          516.201,
          575.784,
          570.587,
          622.204,
          633.735,
          817.212,
          947.614,
          36.08,
          38.209,
          41.167,
          44.807,
          46.871,
          49.722,
          54.18,
          58.294,
          63.144,
          67.711,
          74.904,
          77.52,
          87.005,
          93.786,
          103.232,
          113.058,
          120.049,
          126.614,
          142.348,
          152.244,
          174.608,
          190.046,
          192.769,
          203.723,
          211.859,
          216.569,
          258.031,
          283.513,
          318.355,
          339.924,
          376.751,
          376.391,
          390.264,
          399.59,
          408.591,
          444.177,
          436.684,
          425.964,
          423.464,
          426.645,
          390.837,
          377.565,
          370.976,
          380.966,
          392.751,
          398.395,
          404.562,
          411.939,
          426.507,
          456.017,
          472.093,
          13.208,
          14.239,
          14.915,
          16.755,
          19.766,
          23.276,
          25.372,
          26.816,
          27.906,
          30.409,
          67.039,
          73.48,
          80.154,
          86.599,
          91.848,
          96.851,
          101.53,
          107.108,
          83.498,
          90.746,
          104.245,
          115.539,
          123.026,
          162.161,
          155.02,
          168.364,
          186.204,
          211.798,
          227.099,
          241.838,
          285.304,
          293.627,
          340.848,
          340.564,
          367.833,
          361.461,
          366.17,
          369.924,
          366.041,
          355.65,
          365.574,
          397.13,
          402.861,
          416.312,
          427.469,
          439.572,
          446.702,
          476.049,
          474.604,
          453.009,
          472.666,
          513.409,
          25.961,
          43.188,
          59.362,
          61.063,
          68.07,
          75.853,
          80.094,
          80.634,
          96.564,
          112.83,
          125.741,
          136.465,
          140.639,
          150.424,
          159.495,
          174.078,
          197.089,
          193.03,
          195.076,
          203.749,
          223.715,
          234.745,
          275.817,
          264.084,
          228.42,
          246.776,
          259.635,
          248.394,
          260.35,
          278.92,
          300.86,
          322.516,
          346.358,
          361.408,
          351.322,
          362.625,
          362.176,
          385.842,
          411.073,
          419.371,
          438.06,
          439.759,
          451.159,
          479.358,
          6.345,
          32.726,
          43.584,
          47.875,
          53.603,
          56.307,
          59.903,
          62.09,
          64.674,
          96.461,
          106.653,
          125.428,
          133.84,
          140.35,
          159.532,
          181.97,
          200.361,
          215.912,
          224.556,
          245.113,
          267.414,
          282.889,
          288.408,
          354.319,
          379.443,
          409.288,
          423.655,
          460.771,
          478.311,
          495.923,
          505.755,
          512.518,
          501.813,
          495.787,
          450.09,
          413.738,
          402.222,
          403.211,
          418.613,
          434.328,
          436.34,
          459.974,
          476.286,
          524.715,
          558.506,
          89.719,
          142.581,
          153.445,
          161.701,
          181.785,
          215.627,
          209.121,
          242.137,
          320.393,
          323.816,
          406.056,
          369.803,
          363.502,
          388.742,
          367.124,
          409.492,
          475.315,
          508.626,
          569.563,
          229.096,
          239.524,
          263.001,
          326.289,
          352.728,
          376.255,
          396.543,
          417.939,
          465.38,
          508.8,
          532.417,
          587.244,
          567.145,
          556.726,
          571.491,
          543.317,
          553.2,
          542.415,
          521.065,
          512.545,
          516.996,
          504.235,
          530.716,
          383.621,
          378.946,
          394.479,
          404.794,
          420.082,
          414.8,
          438.139,
          447.479,
          458.749,
          464.769,
          489.476,
          501.439,
          463.397,
          470.778,
          500.273,
          521.07,
          546.854,
          559.466,
          599.589,
          644.19,
          20.855,
          23.808,
          28.143,
          33.528,
          37.792,
          42.964,
          45.505,
          49.96,
          52.146,
          57.024,
          62.649,
          67.801,
          74.714,
          78.556,
          80.359,
          85.978,
          91.642,
          100.65,
          98.83,
          121.532,
          128.534,
          135.518,
          155.381,
          170.571,
          187.679,
          206.178,
          241.058,
          222.756,
          258.376,
          286.758,
          318.668,
          356.468,
          394.618,
          386.867,
          398.142,
          398.239,
          427.008,
          448.046,
          474.447,
          474.24,
          466.014,
          467.145,
          484.705,
          475.572,
          487.696,
          504.915,
          524.404,
          512.816,
          537.282,
          517.451,
          554.039,
          576.078,
          9.685,
          10.331,
          10.565,
          10.054,
          9.674,
          11.917,
          13.239,
          33.578,
          56.802,
          100.909,
          120.135,
          171.834,
          189.545,
          209.722,
          235.469,
          251.462,
          257.468,
          265.437,
          276.718,
          300.923,
          330.937,
          363.952,
          402.545,
          463.851,
          521.677,
          584.779,
          652.646,
          723.841,
          779.91,
          826.029,
          894.044,
          933.087,
          952.447,
          984.105,
          986.63,
          1004.205,
          1013.8,
          1020.541,
          1118.634,
          1189.437,
          1192.301,
          1200.769,
          1229.266,
          1277.032,
          1315.218,
          1432.309
         ]
        },
        {
         "marker": {
          "color": "red",
          "opacity": 0.7,
          "size": 10
         },
         "mode": "markers",
         "name": "Outliers",
         "type": "scatter",
         "x": [
          1.793,
          2.029,
          2.095,
          2.06,
          2.004,
          1.957,
          1.961,
          2.07,
          2.039
         ],
         "y": [
          1042.46,
          1118.634,
          1189.437,
          1192.301,
          1200.769,
          1229.266,
          1277.032,
          1315.218,
          1432.309
         ]
        }
       ],
       "layout": {
        "showlegend": true,
        "template": {
         "data": {
          "bar": [
           {
            "error_x": {
             "color": "#2a3f5f"
            },
            "error_y": {
             "color": "#2a3f5f"
            },
            "marker": {
             "line": {
              "color": "#E5ECF6",
              "width": 0.5
             },
             "pattern": {
              "fillmode": "overlay",
              "size": 10,
              "solidity": 0.2
             }
            },
            "type": "bar"
           }
          ],
          "barpolar": [
           {
            "marker": {
             "line": {
              "color": "#E5ECF6",
              "width": 0.5
             },
             "pattern": {
              "fillmode": "overlay",
              "size": 10,
              "solidity": 0.2
             }
            },
            "type": "barpolar"
           }
          ],
          "carpet": [
           {
            "aaxis": {
             "endlinecolor": "#2a3f5f",
             "gridcolor": "white",
             "linecolor": "white",
             "minorgridcolor": "white",
             "startlinecolor": "#2a3f5f"
            },
            "baxis": {
             "endlinecolor": "#2a3f5f",
             "gridcolor": "white",
             "linecolor": "white",
             "minorgridcolor": "white",
             "startlinecolor": "#2a3f5f"
            },
            "type": "carpet"
           }
          ],
          "choropleth": [
           {
            "colorbar": {
             "outlinewidth": 0,
             "ticks": ""
            },
            "type": "choropleth"
           }
          ],
          "contour": [
           {
            "colorbar": {
             "outlinewidth": 0,
             "ticks": ""
            },
            "colorscale": [
             [
              0,
              "#0d0887"
             ],
             [
              0.1111111111111111,
              "#46039f"
             ],
             [
              0.2222222222222222,
              "#7201a8"
             ],
             [
              0.3333333333333333,
              "#9c179e"
             ],
             [
              0.4444444444444444,
              "#bd3786"
             ],
             [
              0.5555555555555556,
              "#d8576b"
             ],
             [
              0.6666666666666666,
              "#ed7953"
             ],
             [
              0.7777777777777778,
              "#fb9f3a"
             ],
             [
              0.8888888888888888,
              "#fdca26"
             ],
             [
              1,
              "#f0f921"
             ]
            ],
            "type": "contour"
           }
          ],
          "contourcarpet": [
           {
            "colorbar": {
             "outlinewidth": 0,
             "ticks": ""
            },
            "type": "contourcarpet"
           }
          ],
          "heatmap": [
           {
            "colorbar": {
             "outlinewidth": 0,
             "ticks": ""
            },
            "colorscale": [
             [
              0,
              "#0d0887"
             ],
             [
              0.1111111111111111,
              "#46039f"
             ],
             [
              0.2222222222222222,
              "#7201a8"
             ],
             [
              0.3333333333333333,
              "#9c179e"
             ],
             [
              0.4444444444444444,
              "#bd3786"
             ],
             [
              0.5555555555555556,
              "#d8576b"
             ],
             [
              0.6666666666666666,
              "#ed7953"
             ],
             [
              0.7777777777777778,
              "#fb9f3a"
             ],
             [
              0.8888888888888888,
              "#fdca26"
             ],
             [
              1,
              "#f0f921"
             ]
            ],
            "type": "heatmap"
           }
          ],
          "heatmapgl": [
           {
            "colorbar": {
             "outlinewidth": 0,
             "ticks": ""
            },
            "colorscale": [
             [
              0,
              "#0d0887"
             ],
             [
              0.1111111111111111,
              "#46039f"
             ],
             [
              0.2222222222222222,
              "#7201a8"
             ],
             [
              0.3333333333333333,
              "#9c179e"
             ],
             [
              0.4444444444444444,
              "#bd3786"
             ],
             [
              0.5555555555555556,
              "#d8576b"
             ],
             [
              0.6666666666666666,
              "#ed7953"
             ],
             [
              0.7777777777777778,
              "#fb9f3a"
             ],
             [
              0.8888888888888888,
              "#fdca26"
             ],
             [
              1,
              "#f0f921"
             ]
            ],
            "type": "heatmapgl"
           }
          ],
          "histogram": [
           {
            "marker": {
             "pattern": {
              "fillmode": "overlay",
              "size": 10,
              "solidity": 0.2
             }
            },
            "type": "histogram"
           }
          ],
          "histogram2d": [
           {
            "colorbar": {
             "outlinewidth": 0,
             "ticks": ""
            },
            "colorscale": [
             [
              0,
              "#0d0887"
             ],
             [
              0.1111111111111111,
              "#46039f"
             ],
             [
              0.2222222222222222,
              "#7201a8"
             ],
             [
              0.3333333333333333,
              "#9c179e"
             ],
             [
              0.4444444444444444,
              "#bd3786"
             ],
             [
              0.5555555555555556,
              "#d8576b"
             ],
             [
              0.6666666666666666,
              "#ed7953"
             ],
             [
              0.7777777777777778,
              "#fb9f3a"
             ],
             [
              0.8888888888888888,
              "#fdca26"
             ],
             [
              1,
              "#f0f921"
             ]
            ],
            "type": "histogram2d"
           }
          ],
          "histogram2dcontour": [
           {
            "colorbar": {
             "outlinewidth": 0,
             "ticks": ""
            },
            "colorscale": [
             [
              0,
              "#0d0887"
             ],
             [
              0.1111111111111111,
              "#46039f"
             ],
             [
              0.2222222222222222,
              "#7201a8"
             ],
             [
              0.3333333333333333,
              "#9c179e"
             ],
             [
              0.4444444444444444,
              "#bd3786"
             ],
             [
              0.5555555555555556,
              "#d8576b"
             ],
             [
              0.6666666666666666,
              "#ed7953"
             ],
             [
              0.7777777777777778,
              "#fb9f3a"
             ],
             [
              0.8888888888888888,
              "#fdca26"
             ],
             [
              1,
              "#f0f921"
             ]
            ],
            "type": "histogram2dcontour"
           }
          ],
          "mesh3d": [
           {
            "colorbar": {
             "outlinewidth": 0,
             "ticks": ""
            },
            "type": "mesh3d"
           }
          ],
          "parcoords": [
           {
            "line": {
             "colorbar": {
              "outlinewidth": 0,
              "ticks": ""
             }
            },
            "type": "parcoords"
           }
          ],
          "pie": [
           {
            "automargin": true,
            "type": "pie"
           }
          ],
          "scatter": [
           {
            "fillpattern": {
             "fillmode": "overlay",
             "size": 10,
             "solidity": 0.2
            },
            "type": "scatter"
           }
          ],
          "scatter3d": [
           {
            "line": {
             "colorbar": {
              "outlinewidth": 0,
              "ticks": ""
             }
            },
            "marker": {
             "colorbar": {
              "outlinewidth": 0,
              "ticks": ""
             }
            },
            "type": "scatter3d"
           }
          ],
          "scattercarpet": [
           {
            "marker": {
             "colorbar": {
              "outlinewidth": 0,
              "ticks": ""
             }
            },
            "type": "scattercarpet"
           }
          ],
          "scattergeo": [
           {
            "marker": {
             "colorbar": {
              "outlinewidth": 0,
              "ticks": ""
             }
            },
            "type": "scattergeo"
           }
          ],
          "scattergl": [
           {
            "marker": {
             "colorbar": {
              "outlinewidth": 0,
              "ticks": ""
             }
            },
            "type": "scattergl"
           }
          ],
          "scattermapbox": [
           {
            "marker": {
             "colorbar": {
              "outlinewidth": 0,
              "ticks": ""
             }
            },
            "type": "scattermapbox"
           }
          ],
          "scatterpolar": [
           {
            "marker": {
             "colorbar": {
              "outlinewidth": 0,
              "ticks": ""
             }
            },
            "type": "scatterpolar"
           }
          ],
          "scatterpolargl": [
           {
            "marker": {
             "colorbar": {
              "outlinewidth": 0,
              "ticks": ""
             }
            },
            "type": "scatterpolargl"
           }
          ],
          "scatterternary": [
           {
            "marker": {
             "colorbar": {
              "outlinewidth": 0,
              "ticks": ""
             }
            },
            "type": "scatterternary"
           }
          ],
          "surface": [
           {
            "colorbar": {
             "outlinewidth": 0,
             "ticks": ""
            },
            "colorscale": [
             [
              0,
              "#0d0887"
             ],
             [
              0.1111111111111111,
              "#46039f"
             ],
             [
              0.2222222222222222,
              "#7201a8"
             ],
             [
              0.3333333333333333,
              "#9c179e"
             ],
             [
              0.4444444444444444,
              "#bd3786"
             ],
             [
              0.5555555555555556,
              "#d8576b"
             ],
             [
              0.6666666666666666,
              "#ed7953"
             ],
             [
              0.7777777777777778,
              "#fb9f3a"
             ],
             [
              0.8888888888888888,
              "#fdca26"
             ],
             [
              1,
              "#f0f921"
             ]
            ],
            "type": "surface"
           }
          ],
          "table": [
           {
            "cells": {
             "fill": {
              "color": "#EBF0F8"
             },
             "line": {
              "color": "white"
             }
            },
            "header": {
             "fill": {
              "color": "#C8D4E3"
             },
             "line": {
              "color": "white"
             }
            },
            "type": "table"
           }
          ]
         },
         "layout": {
          "annotationdefaults": {
           "arrowcolor": "#2a3f5f",
           "arrowhead": 0,
           "arrowwidth": 1
          },
          "autotypenumbers": "strict",
          "coloraxis": {
           "colorbar": {
            "outlinewidth": 0,
            "ticks": ""
           }
          },
          "colorscale": {
           "diverging": [
            [
             0,
             "#8e0152"
            ],
            [
             0.1,
             "#c51b7d"
            ],
            [
             0.2,
             "#de77ae"
            ],
            [
             0.3,
             "#f1b6da"
            ],
            [
             0.4,
             "#fde0ef"
            ],
            [
             0.5,
             "#f7f7f7"
            ],
            [
             0.6,
             "#e6f5d0"
            ],
            [
             0.7,
             "#b8e186"
            ],
            [
             0.8,
             "#7fbc41"
            ],
            [
             0.9,
             "#4d9221"
            ],
            [
             1,
             "#276419"
            ]
           ],
           "sequential": [
            [
             0,
             "#0d0887"
            ],
            [
             0.1111111111111111,
             "#46039f"
            ],
            [
             0.2222222222222222,
             "#7201a8"
            ],
            [
             0.3333333333333333,
             "#9c179e"
            ],
            [
             0.4444444444444444,
             "#bd3786"
            ],
            [
             0.5555555555555556,
             "#d8576b"
            ],
            [
             0.6666666666666666,
             "#ed7953"
            ],
            [
             0.7777777777777778,
             "#fb9f3a"
            ],
            [
             0.8888888888888888,
             "#fdca26"
            ],
            [
             1,
             "#f0f921"
            ]
           ],
           "sequentialminus": [
            [
             0,
             "#0d0887"
            ],
            [
             0.1111111111111111,
             "#46039f"
            ],
            [
             0.2222222222222222,
             "#7201a8"
            ],
            [
             0.3333333333333333,
             "#9c179e"
            ],
            [
             0.4444444444444444,
             "#bd3786"
            ],
            [
             0.5555555555555556,
             "#d8576b"
            ],
            [
             0.6666666666666666,
             "#ed7953"
            ],
            [
             0.7777777777777778,
             "#fb9f3a"
            ],
            [
             0.8888888888888888,
             "#fdca26"
            ],
            [
             1,
             "#f0f921"
            ]
           ]
          },
          "colorway": [
           "#636efa",
           "#EF553B",
           "#00cc96",
           "#ab63fa",
           "#FFA15A",
           "#19d3f3",
           "#FF6692",
           "#B6E880",
           "#FF97FF",
           "#FECB52"
          ],
          "font": {
           "color": "#2a3f5f"
          },
          "geo": {
           "bgcolor": "white",
           "lakecolor": "white",
           "landcolor": "#E5ECF6",
           "showlakes": true,
           "showland": true,
           "subunitcolor": "white"
          },
          "hoverlabel": {
           "align": "left"
          },
          "hovermode": "closest",
          "mapbox": {
           "style": "light"
          },
          "paper_bgcolor": "white",
          "plot_bgcolor": "#E5ECF6",
          "polar": {
           "angularaxis": {
            "gridcolor": "white",
            "linecolor": "white",
            "ticks": ""
           },
           "bgcolor": "#E5ECF6",
           "radialaxis": {
            "gridcolor": "white",
            "linecolor": "white",
            "ticks": ""
           }
          },
          "scene": {
           "xaxis": {
            "backgroundcolor": "#E5ECF6",
            "gridcolor": "white",
            "gridwidth": 2,
            "linecolor": "white",
            "showbackground": true,
            "ticks": "",
            "zerolinecolor": "white"
           },
           "yaxis": {
            "backgroundcolor": "#E5ECF6",
            "gridcolor": "white",
            "gridwidth": 2,
            "linecolor": "white",
            "showbackground": true,
            "ticks": "",
            "zerolinecolor": "white"
           },
           "zaxis": {
            "backgroundcolor": "#E5ECF6",
            "gridcolor": "white",
            "gridwidth": 2,
            "linecolor": "white",
            "showbackground": true,
            "ticks": "",
            "zerolinecolor": "white"
           }
          },
          "shapedefaults": {
           "line": {
            "color": "#2a3f5f"
           }
          },
          "ternary": {
           "aaxis": {
            "gridcolor": "white",
            "linecolor": "white",
            "ticks": ""
           },
           "baxis": {
            "gridcolor": "white",
            "linecolor": "white",
            "ticks": ""
           },
           "bgcolor": "#E5ECF6",
           "caxis": {
            "gridcolor": "white",
            "linecolor": "white",
            "ticks": ""
           }
          },
          "title": {
           "x": 0.05
          },
          "xaxis": {
           "automargin": true,
           "gridcolor": "white",
           "linecolor": "white",
           "ticks": "",
           "title": {
            "standoff": 15
           },
           "zerolinecolor": "white",
           "zerolinewidth": 2
          },
          "yaxis": {
           "automargin": true,
           "gridcolor": "white",
           "linecolor": "white",
           "ticks": "",
           "title": {
            "standoff": 15
           },
           "zerolinecolor": "white",
           "zerolinewidth": 2
          }
         }
        },
        "title": {
         "text": "Scatter Plot: PC_GDP vs USD_CAP (Outliers Highlighted)"
        },
        "xaxis": {
         "title": {
          "text": "PC_GDP"
         }
        },
        "yaxis": {
         "title": {
          "text": "USD_CAP"
         }
        }
       }
      }
     },
     "metadata": {},
     "output_type": "display_data"
    }
   ],
   "source": [
    "import pandas as pd\n",
    "import numpy as np\n",
    "import plotly.express as px\n",
    "import plotly.graph_objects as go\n",
    "\n",
    "# Load Dataset\n",
    "file_path = r\"C:\\Users\\kaurp\\Team_2_Pharmaceutical_Drug_Spending_by_Countries\\flat-ui__data-Tue Mar 11 2025.csv\"\n",
    "data = pd.read_csv(file_path)\n",
    "\n",
    "# Detect Outliers Using IQR\n",
    "def detect_outliers_iqr(df, column):\n",
    "    Q1 = df[column].quantile(0.25)\n",
    "    Q3 = df[column].quantile(0.75)\n",
    "    IQR = Q3 - Q1\n",
    "    lower_bound = Q1 - 1.5 * IQR\n",
    "    upper_bound = Q3 + 1.5 * IQR\n",
    "    return df[(df[column] < lower_bound) | (df[column] > upper_bound)]\n",
    "\n",
    "# Identify Outliers\n",
    "outliers = detect_outliers_iqr(data, 'USD_CAP')  # Replace 'USD_CAP' with your desired column\n",
    "print(\"Outliers detected:\")\n",
    "print(outliers)\n",
    "\n",
    "# Define custom green color scale\n",
    "green_scale = ['#1b3d1b', '#2e6b2e', '#4c8c4c', '#6ea06e', '#8fb88f']\n",
    "\n",
    "# Interactive Boxplot\n",
    "fig_box = px.box(data, y='USD_CAP', title='Boxplot of USD_CAP with Outliers', \n",
    "                 color_discrete_sequence=[green_scale[3]])  # Set color to middle green from the scale\n",
    "fig_box.show()\n",
    "\n",
    "# Interactive Scatter Plot\n",
    "fig_scatter = go.Figure()\n",
    "\n",
    "# Regular data points with custom green color scale (light green)\n",
    "fig_scatter.add_trace(go.Scatter(\n",
    "    x=data['PC_GDP'], y=data['USD_CAP'],\n",
    "    mode='markers', name='Data Points', \n",
    "    marker=dict(color=green_scale[2], opacity=0.7)\n",
    "))\n",
    "\n",
    "# Outliers with red color\n",
    "fig_scatter.add_trace(go.Scatter(\n",
    "    x=outliers['PC_GDP'], y=outliers['USD_CAP'],\n",
    "    mode='markers', name='Outliers', \n",
    "    marker=dict(color='red', opacity=0.7, size=10)\n",
    "))\n",
    "\n",
    "fig_scatter.update_layout(\n",
    "    title='Scatter Plot: PC_GDP vs USD_CAP (Outliers Highlighted)',\n",
    "    xaxis_title='PC_GDP',\n",
    "    yaxis_title='USD_CAP',\n",
    "    showlegend=True\n",
    ")\n",
    "\n",
    "fig_scatter.show()\n"
   ]
  },
  {
   "cell_type": "markdown",
   "metadata": {},
   "source": [
    "We are using the detect_outliers_iqr to computes the IQR for the specified column (USD_CAP in this case). Outliers are identified as data points falling outside the range defined by 1.5 * IQR from the Q1 (25th percentile) and Q3 (75th percentile). The function returns the rows that are outliers based on the IQR method. The outliers variable stores the rows in data where the USD_CAP values fall outside the IQR range. This identifies data points that deviate significantly from the norm, ensuring accurate analysis by eliminating skewed results.\n",
    "For Visualization, A boxplot is plotted to show the distribution of the USD_CAP values. The boxplot helps to visualize the spread, median, and any potential outliers in the USD_CAP data and also scatter plot is created to visualize the relationship between PC_GDP (x-axis) and USD_CAP (y-axis). The regular data points are shown in the scatter plot, while the detected outliers are highlighted in red.\n",
    "\n",
    "Key Observations: \n",
    "Boxplot of USD_CAP with Outliers:\n",
    " The boxplot shows the distribution of USD_CAP with a clear indication of outliers.\n",
    " The interquartile range (IQR)( Q3-Q1) is relatively compact, suggesting that most data points are clustered around the median.\n",
    " Outliers are visible above the upper whisker, indicating unusually high USD_CAP values that deviate significantly from the rest of the data.\n",
    "Scatter Plot: PC_GDP vs USD_CAP (Outliers Highlighted):\n",
    " The scatter plot reveals a general positive trend between PC_GDP and USD_CAP, indicating that higher GDP per capita is associated with higher capital expenditure.\n",
    " Outliers, highlighted in red, are primarily concentrated at higher PC_GDP values (around 1.5 to 2.0), with significantly higher USD_CAP values compared to the rest of the data.\n",
    " These outliers correspond to specific years and locations (e.g., USA in recent years), suggesting unique economic conditions or policies that result in exceptionally high capital expenditure."
   ]
  }
 ],
 "metadata": {
  "kernelspec": {
   "display_name": "Python 3",
   "language": "python",
   "name": "python3"
  },
  "language_info": {
   "codemirror_mode": {
    "name": "ipython",
    "version": 3
   },
   "file_extension": ".py",
   "mimetype": "text/x-python",
   "name": "python",
   "nbconvert_exporter": "python",
   "pygments_lexer": "ipython3",
   "version": "3.9.15"
  }
 },
 "nbformat": 4,
 "nbformat_minor": 2
}
